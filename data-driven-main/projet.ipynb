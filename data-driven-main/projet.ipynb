{
 "cells": [
  {
   "cell_type": "code",
   "execution_count": 1,
   "id": "initial_id",
   "metadata": {
    "ExecuteTime": {
     "end_time": "2025-10-17T12:23:05.829455Z",
     "start_time": "2025-10-17T12:22:44.951378Z"
    }
   },
   "outputs": [
    {
     "data": {
      "text/html": [
       "<div>\n",
       "<style scoped>\n",
       "    .dataframe tbody tr th:only-of-type {\n",
       "        vertical-align: middle;\n",
       "    }\n",
       "\n",
       "    .dataframe tbody tr th {\n",
       "        vertical-align: top;\n",
       "    }\n",
       "\n",
       "    .dataframe thead th {\n",
       "        text-align: right;\n",
       "    }\n",
       "</style>\n",
       "<table border=\"1\" class=\"dataframe\">\n",
       "  <thead>\n",
       "    <tr style=\"text-align: right;\">\n",
       "      <th></th>\n",
       "      <th>0a. Has committed ESBs?</th>\n",
       "      <th>1a. State</th>\n",
       "      <th>1b. Local Education Agency (LEA) or entity name</th>\n",
       "      <th>1c. LEA ID</th>\n",
       "      <th>1d. Street address 1</th>\n",
       "      <th>1e. Street address 2</th>\n",
       "      <th>1f. City</th>\n",
       "      <th>1g. State</th>\n",
       "      <th>1h. ZIP code</th>\n",
       "      <th>1i. Website</th>\n",
       "      <th>...</th>\n",
       "      <th>5m. Quartile: average rate of asthma</th>\n",
       "      <th>5n. Qualified for American Rescue Plan funding?</th>\n",
       "      <th>5o. EPA 2022 Clean School Bus Rebate Program prioritized school district?</th>\n",
       "      <th>5p. EPA 2023 Clean School Bus Grant &amp; Rebate Programs prioritized school district?</th>\n",
       "      <th>5q. WRI Priority Outreach District (POD)?</th>\n",
       "      <th>6a. Has any expression of interest in ESBs?</th>\n",
       "      <th>6b. ARP 2021 waitlist position</th>\n",
       "      <th>6c. DERA school bus rebates 2020 waitlist position</th>\n",
       "      <th>6d. DERA school bus rebates 2021 waitlist position</th>\n",
       "      <th>6e. Applied for ESB funding but not awarded</th>\n",
       "    </tr>\n",
       "  </thead>\n",
       "  <tbody>\n",
       "    <tr>\n",
       "      <th>0</th>\n",
       "      <td>yes</td>\n",
       "      <td>SOUTH CAROLINA</td>\n",
       "      <td>Abbeville 60</td>\n",
       "      <td>4500690</td>\n",
       "      <td>400 Greenville Street</td>\n",
       "      <td>NaN</td>\n",
       "      <td>Abbeville</td>\n",
       "      <td>SC</td>\n",
       "      <td>29620.0</td>\n",
       "      <td>http://www.acsdsc.org/</td>\n",
       "      <td>...</td>\n",
       "      <td>3.0</td>\n",
       "      <td>No</td>\n",
       "      <td>Yes</td>\n",
       "      <td>No</td>\n",
       "      <td>False</td>\n",
       "      <td>1.0</td>\n",
       "      <td>NaN</td>\n",
       "      <td>NaN</td>\n",
       "      <td>NaN</td>\n",
       "      <td>NaN</td>\n",
       "    </tr>\n",
       "    <tr>\n",
       "      <th>1</th>\n",
       "      <td>yes</td>\n",
       "      <td>MISSISSIPPI</td>\n",
       "      <td>ABERDEEN SCHOOL DIST</td>\n",
       "      <td>2800360</td>\n",
       "      <td>1100 W Commerce</td>\n",
       "      <td>NaN</td>\n",
       "      <td>Aberdeen</td>\n",
       "      <td>MS</td>\n",
       "      <td>39730.0</td>\n",
       "      <td>http://www.asdms.us</td>\n",
       "      <td>...</td>\n",
       "      <td>4.0</td>\n",
       "      <td>No</td>\n",
       "      <td>Yes</td>\n",
       "      <td>Yes</td>\n",
       "      <td>True</td>\n",
       "      <td>1.0</td>\n",
       "      <td>NaN</td>\n",
       "      <td>NaN</td>\n",
       "      <td>NaN</td>\n",
       "      <td>NaN</td>\n",
       "    </tr>\n",
       "    <tr>\n",
       "      <th>2</th>\n",
       "      <td>no</td>\n",
       "      <td>ALABAMA</td>\n",
       "      <td>Alabama Youth Services</td>\n",
       "      <td>100002</td>\n",
       "      <td>1000 Industrial School Road</td>\n",
       "      <td>NaN</td>\n",
       "      <td>Mt Meigs</td>\n",
       "      <td>AL</td>\n",
       "      <td>36057.0</td>\n",
       "      <td>http://www.dys.alabama.gov/school-district.html</td>\n",
       "      <td>...</td>\n",
       "      <td>NaN</td>\n",
       "      <td>No</td>\n",
       "      <td>No</td>\n",
       "      <td>No</td>\n",
       "      <td>False</td>\n",
       "      <td>1.0</td>\n",
       "      <td>NaN</td>\n",
       "      <td>NaN</td>\n",
       "      <td>NaN</td>\n",
       "      <td>NaN</td>\n",
       "    </tr>\n",
       "    <tr>\n",
       "      <th>3</th>\n",
       "      <td>yes</td>\n",
       "      <td>ILLINOIS</td>\n",
       "      <td>A-C Central CUSD 262</td>\n",
       "      <td>1700105</td>\n",
       "      <td>PO Box 260</td>\n",
       "      <td>NaN</td>\n",
       "      <td>Ashland</td>\n",
       "      <td>IL</td>\n",
       "      <td>62612.0</td>\n",
       "      <td>http://www.a-ccentral.com</td>\n",
       "      <td>...</td>\n",
       "      <td>2.0</td>\n",
       "      <td>No</td>\n",
       "      <td>Yes</td>\n",
       "      <td>No</td>\n",
       "      <td>False</td>\n",
       "      <td>1.0</td>\n",
       "      <td>NaN</td>\n",
       "      <td>NaN</td>\n",
       "      <td>NaN</td>\n",
       "      <td>NaN</td>\n",
       "    </tr>\n",
       "    <tr>\n",
       "      <th>4</th>\n",
       "      <td>no</td>\n",
       "      <td>ALABAMA</td>\n",
       "      <td>Marshall County</td>\n",
       "      <td>100006</td>\n",
       "      <td>12380 US Highway 431 S</td>\n",
       "      <td>NaN</td>\n",
       "      <td>Guntersville</td>\n",
       "      <td>AL</td>\n",
       "      <td>35976.0</td>\n",
       "      <td>http://www.marshallk12.org</td>\n",
       "      <td>...</td>\n",
       "      <td>3.0</td>\n",
       "      <td>No</td>\n",
       "      <td>Yes</td>\n",
       "      <td>Yes</td>\n",
       "      <td>False</td>\n",
       "      <td>1.0</td>\n",
       "      <td>NaN</td>\n",
       "      <td>NaN</td>\n",
       "      <td>NaN</td>\n",
       "      <td>NaN</td>\n",
       "    </tr>\n",
       "    <tr>\n",
       "      <th>...</th>\n",
       "      <td>...</td>\n",
       "      <td>...</td>\n",
       "      <td>...</td>\n",
       "      <td>...</td>\n",
       "      <td>...</td>\n",
       "      <td>...</td>\n",
       "      <td>...</td>\n",
       "      <td>...</td>\n",
       "      <td>...</td>\n",
       "      <td>...</td>\n",
       "      <td>...</td>\n",
       "      <td>...</td>\n",
       "      <td>...</td>\n",
       "      <td>...</td>\n",
       "      <td>...</td>\n",
       "      <td>...</td>\n",
       "      <td>...</td>\n",
       "      <td>...</td>\n",
       "      <td>...</td>\n",
       "      <td>...</td>\n",
       "      <td>...</td>\n",
       "    </tr>\n",
       "    <tr>\n",
       "      <th>19512</th>\n",
       "      <td>yes</td>\n",
       "      <td>OHIO</td>\n",
       "      <td>Zenith Academy East</td>\n",
       "      <td>3901396</td>\n",
       "      <td>2261 S Hamilton Rd</td>\n",
       "      <td>NaN</td>\n",
       "      <td>Columbus</td>\n",
       "      <td>OH</td>\n",
       "      <td>43232.0</td>\n",
       "      <td>http://zenithacademy.org/zae.html</td>\n",
       "      <td>...</td>\n",
       "      <td>NaN</td>\n",
       "      <td>No</td>\n",
       "      <td>No</td>\n",
       "      <td>No</td>\n",
       "      <td>False</td>\n",
       "      <td>1.0</td>\n",
       "      <td>NaN</td>\n",
       "      <td>NaN</td>\n",
       "      <td>NaN</td>\n",
       "      <td>2022 CSBP rebate</td>\n",
       "    </tr>\n",
       "    <tr>\n",
       "      <th>19513</th>\n",
       "      <td>yes</td>\n",
       "      <td>OHIO</td>\n",
       "      <td>Zenith Academy West</td>\n",
       "      <td>3901576</td>\n",
       "      <td>3385 South Blvd</td>\n",
       "      <td>NaN</td>\n",
       "      <td>Columbus</td>\n",
       "      <td>OH</td>\n",
       "      <td>43204.0</td>\n",
       "      <td>http://zenithacademy.org/zaw.html</td>\n",
       "      <td>...</td>\n",
       "      <td>NaN</td>\n",
       "      <td>No</td>\n",
       "      <td>No</td>\n",
       "      <td>No</td>\n",
       "      <td>False</td>\n",
       "      <td>1.0</td>\n",
       "      <td>NaN</td>\n",
       "      <td>NaN</td>\n",
       "      <td>NaN</td>\n",
       "      <td>NaN</td>\n",
       "    </tr>\n",
       "    <tr>\n",
       "      <th>19514</th>\n",
       "      <td>yes</td>\n",
       "      <td>ILLINOIS</td>\n",
       "      <td>Zion-Benton Twp HSD 126</td>\n",
       "      <td>1743890</td>\n",
       "      <td>3901 21st St</td>\n",
       "      <td>NaN</td>\n",
       "      <td>Zion</td>\n",
       "      <td>IL</td>\n",
       "      <td>60099.0</td>\n",
       "      <td>http://www.zbths.org</td>\n",
       "      <td>...</td>\n",
       "      <td>3.0</td>\n",
       "      <td>No</td>\n",
       "      <td>No</td>\n",
       "      <td>No</td>\n",
       "      <td>True</td>\n",
       "      <td>1.0</td>\n",
       "      <td>NaN</td>\n",
       "      <td>NaN</td>\n",
       "      <td>NaN</td>\n",
       "      <td>NaN</td>\n",
       "    </tr>\n",
       "    <tr>\n",
       "      <th>19515</th>\n",
       "      <td>yes</td>\n",
       "      <td>CALIFORNIA</td>\n",
       "      <td>Zum Services</td>\n",
       "      <td>06ZUMSE</td>\n",
       "      <td>4919 Tidewater Ave</td>\n",
       "      <td>NaN</td>\n",
       "      <td>Oakland</td>\n",
       "      <td>CA</td>\n",
       "      <td>94601.0</td>\n",
       "      <td>www.ridezum.com</td>\n",
       "      <td>...</td>\n",
       "      <td>NaN</td>\n",
       "      <td>No</td>\n",
       "      <td>No</td>\n",
       "      <td>No</td>\n",
       "      <td>Unknown</td>\n",
       "      <td>1.0</td>\n",
       "      <td>NaN</td>\n",
       "      <td>NaN</td>\n",
       "      <td>NaN</td>\n",
       "      <td>NaN</td>\n",
       "    </tr>\n",
       "    <tr>\n",
       "      <th>19516</th>\n",
       "      <td>NaN</td>\n",
       "      <td>NaN</td>\n",
       "      <td>NaN</td>\n",
       "      <td>NaN</td>\n",
       "      <td>NaN</td>\n",
       "      <td>NaN</td>\n",
       "      <td>NaN</td>\n",
       "      <td>NaN</td>\n",
       "      <td>NaN</td>\n",
       "      <td>NaN</td>\n",
       "      <td>...</td>\n",
       "      <td>NaN</td>\n",
       "      <td>NaN</td>\n",
       "      <td>NaN</td>\n",
       "      <td>NaN</td>\n",
       "      <td>NaN</td>\n",
       "      <td>NaN</td>\n",
       "      <td>NaN</td>\n",
       "      <td>NaN</td>\n",
       "      <td>NaN</td>\n",
       "      <td>NaN</td>\n",
       "    </tr>\n",
       "  </tbody>\n",
       "</table>\n",
       "<p>19517 rows × 87 columns</p>\n",
       "</div>"
      ],
      "text/plain": [
       "      0a. Has committed ESBs?       1a. State  \\\n",
       "0                         yes  SOUTH CAROLINA   \n",
       "1                         yes     MISSISSIPPI   \n",
       "2                          no         ALABAMA   \n",
       "3                         yes        ILLINOIS   \n",
       "4                          no         ALABAMA   \n",
       "...                       ...             ...   \n",
       "19512                     yes            OHIO   \n",
       "19513                     yes            OHIO   \n",
       "19514                     yes        ILLINOIS   \n",
       "19515                     yes      CALIFORNIA   \n",
       "19516                     NaN             NaN   \n",
       "\n",
       "      1b. Local Education Agency (LEA) or entity name 1c. LEA ID  \\\n",
       "0                                        Abbeville 60    4500690   \n",
       "1                                ABERDEEN SCHOOL DIST    2800360   \n",
       "2                              Alabama Youth Services     100002   \n",
       "3                                A-C Central CUSD 262    1700105   \n",
       "4                                     Marshall County     100006   \n",
       "...                                               ...        ...   \n",
       "19512                             Zenith Academy East    3901396   \n",
       "19513                             Zenith Academy West    3901576   \n",
       "19514                         Zion-Benton Twp HSD 126    1743890   \n",
       "19515                                    Zum Services    06ZUMSE   \n",
       "19516                                             NaN        NaN   \n",
       "\n",
       "              1d. Street address 1 1e. Street address 2      1f. City  \\\n",
       "0            400 Greenville Street                  NaN     Abbeville   \n",
       "1                  1100 W Commerce                  NaN      Aberdeen   \n",
       "2      1000 Industrial School Road                  NaN      Mt Meigs   \n",
       "3                       PO Box 260                  NaN       Ashland   \n",
       "4           12380 US Highway 431 S                  NaN  Guntersville   \n",
       "...                            ...                  ...           ...   \n",
       "19512           2261 S Hamilton Rd                  NaN      Columbus   \n",
       "19513              3385 South Blvd                  NaN      Columbus   \n",
       "19514                 3901 21st St                  NaN          Zion   \n",
       "19515           4919 Tidewater Ave                  NaN       Oakland   \n",
       "19516                          NaN                  NaN           NaN   \n",
       "\n",
       "      1g. State  1h. ZIP code  \\\n",
       "0            SC       29620.0   \n",
       "1            MS       39730.0   \n",
       "2            AL       36057.0   \n",
       "3            IL       62612.0   \n",
       "4            AL       35976.0   \n",
       "...         ...           ...   \n",
       "19512        OH       43232.0   \n",
       "19513        OH       43204.0   \n",
       "19514        IL       60099.0   \n",
       "19515        CA       94601.0   \n",
       "19516       NaN           NaN   \n",
       "\n",
       "                                           1i. Website  ...  \\\n",
       "0                               http://www.acsdsc.org/  ...   \n",
       "1                                  http://www.asdms.us  ...   \n",
       "2      http://www.dys.alabama.gov/school-district.html  ...   \n",
       "3                            http://www.a-ccentral.com  ...   \n",
       "4                           http://www.marshallk12.org  ...   \n",
       "...                                                ...  ...   \n",
       "19512                http://zenithacademy.org/zae.html  ...   \n",
       "19513                http://zenithacademy.org/zaw.html  ...   \n",
       "19514                             http://www.zbths.org  ...   \n",
       "19515                                  www.ridezum.com  ...   \n",
       "19516                                              NaN  ...   \n",
       "\n",
       "      5m. Quartile: average rate of asthma  \\\n",
       "0                                      3.0   \n",
       "1                                      4.0   \n",
       "2                                      NaN   \n",
       "3                                      2.0   \n",
       "4                                      3.0   \n",
       "...                                    ...   \n",
       "19512                                  NaN   \n",
       "19513                                  NaN   \n",
       "19514                                  3.0   \n",
       "19515                                  NaN   \n",
       "19516                                  NaN   \n",
       "\n",
       "       5n. Qualified for American Rescue Plan funding?   \\\n",
       "0                                                    No   \n",
       "1                                                    No   \n",
       "2                                                    No   \n",
       "3                                                    No   \n",
       "4                                                    No   \n",
       "...                                                 ...   \n",
       "19512                                                No   \n",
       "19513                                                No   \n",
       "19514                                                No   \n",
       "19515                                                No   \n",
       "19516                                               NaN   \n",
       "\n",
       "      5o. EPA 2022 Clean School Bus Rebate Program prioritized school district?  \\\n",
       "0                                                    Yes                          \n",
       "1                                                    Yes                          \n",
       "2                                                     No                          \n",
       "3                                                    Yes                          \n",
       "4                                                    Yes                          \n",
       "...                                                  ...                          \n",
       "19512                                                 No                          \n",
       "19513                                                 No                          \n",
       "19514                                                 No                          \n",
       "19515                                                 No                          \n",
       "19516                                                NaN                          \n",
       "\n",
       "       5p. EPA 2023 Clean School Bus Grant & Rebate Programs prioritized school district?  \\\n",
       "0                                                     No                                    \n",
       "1                                                    Yes                                    \n",
       "2                                                     No                                    \n",
       "3                                                     No                                    \n",
       "4                                                    Yes                                    \n",
       "...                                                  ...                                    \n",
       "19512                                                 No                                    \n",
       "19513                                                 No                                    \n",
       "19514                                                 No                                    \n",
       "19515                                                 No                                    \n",
       "19516                                                NaN                                    \n",
       "\n",
       "       5q. WRI Priority Outreach District (POD)?  \\\n",
       "0                                          False   \n",
       "1                                           True   \n",
       "2                                          False   \n",
       "3                                          False   \n",
       "4                                          False   \n",
       "...                                          ...   \n",
       "19512                                      False   \n",
       "19513                                      False   \n",
       "19514                                       True   \n",
       "19515                                    Unknown   \n",
       "19516                                        NaN   \n",
       "\n",
       "      6a. Has any expression of interest in ESBs?  \\\n",
       "0                                             1.0   \n",
       "1                                             1.0   \n",
       "2                                             1.0   \n",
       "3                                             1.0   \n",
       "4                                             1.0   \n",
       "...                                           ...   \n",
       "19512                                         1.0   \n",
       "19513                                         1.0   \n",
       "19514                                         1.0   \n",
       "19515                                         1.0   \n",
       "19516                                         NaN   \n",
       "\n",
       "      6b. ARP 2021 waitlist position  \\\n",
       "0                                NaN   \n",
       "1                                NaN   \n",
       "2                                NaN   \n",
       "3                                NaN   \n",
       "4                                NaN   \n",
       "...                              ...   \n",
       "19512                            NaN   \n",
       "19513                            NaN   \n",
       "19514                            NaN   \n",
       "19515                            NaN   \n",
       "19516                            NaN   \n",
       "\n",
       "      6c. DERA school bus rebates 2020 waitlist position  \\\n",
       "0                                                    NaN   \n",
       "1                                                    NaN   \n",
       "2                                                    NaN   \n",
       "3                                                    NaN   \n",
       "4                                                    NaN   \n",
       "...                                                  ...   \n",
       "19512                                                NaN   \n",
       "19513                                                NaN   \n",
       "19514                                                NaN   \n",
       "19515                                                NaN   \n",
       "19516                                                NaN   \n",
       "\n",
       "      6d. DERA school bus rebates 2021 waitlist position  \\\n",
       "0                                                    NaN   \n",
       "1                                                    NaN   \n",
       "2                                                    NaN   \n",
       "3                                                    NaN   \n",
       "4                                                    NaN   \n",
       "...                                                  ...   \n",
       "19512                                                NaN   \n",
       "19513                                                NaN   \n",
       "19514                                                NaN   \n",
       "19515                                                NaN   \n",
       "19516                                                NaN   \n",
       "\n",
       "       6e. Applied for ESB funding but not awarded  \n",
       "0                                              NaN  \n",
       "1                                              NaN  \n",
       "2                                              NaN  \n",
       "3                                              NaN  \n",
       "4                                              NaN  \n",
       "...                                            ...  \n",
       "19512                             2022 CSBP rebate  \n",
       "19513                                          NaN  \n",
       "19514                                          NaN  \n",
       "19515                                          NaN  \n",
       "19516                                          NaN  \n",
       "\n",
       "[19517 rows x 87 columns]"
      ]
     },
     "execution_count": 1,
     "metadata": {},
     "output_type": "execute_result"
    }
   ],
   "source": [
    "import pandas as pd\n",
    "df_district=pd.read_excel(\"ESB_adoption_dataset_v9_update_june_2025.xlsx\",sheet_name=\"1. District-level data\")\n",
    "df_district"
   ]
  },
  {
   "cell_type": "code",
   "execution_count": 3,
   "id": "dc2093eb72c8f39a",
   "metadata": {
    "ExecuteTime": {
     "end_time": "2025-10-17T12:23:05.844102Z",
     "start_time": "2025-10-17T12:23:05.831559Z"
    },
    "collapsed": false,
    "jupyter": {
     "outputs_hidden": false
    }
   },
   "outputs": [
    {
     "data": {
      "text/plain": [
       "Index(['0a. Has committed ESBs?', '1a. State',\n",
       "       '1b. Local Education Agency (LEA) or entity name', '1c. LEA ID',\n",
       "       '1d. Street address 1', '1e. Street address 2', '1f. City', '1g. State',\n",
       "       '1h. ZIP code', '1i. Website', '1j. Has LEA ID?',\n",
       "       '1k. LEA type (number)', '1l. LEA type (name)',\n",
       "       '1m. Supervisory union LEA ID', '1n. Locale (full number)',\n",
       "       '1o. Locale broad type (number)', '1p. Locale broad type (name)',\n",
       "       '1q. Census Region', '1r. Census Division', '1s. Latitude',\n",
       "       '1t. Longitude ', '2a. Total number of buses',\n",
       "       '2b. Contractor used for some or all of buses?',\n",
       "       '3a. Number of ESBs committed ',\n",
       "       '3b. Number of delivered or operating ESBs',\n",
       "       '3c. Number of ESBs awarded', '3d. Number of ESBs ordered',\n",
       "       '3e. Number of ESBs delivered', '3f. Number of ESBs operating',\n",
       "       '3g. Number of batches', '3h. Size of batch 1', '3h. Size of batch 2',\n",
       "       '3h. Size of batch 3', '3h. Size of batch 4', '3h. Size of batch 5',\n",
       "       '3i. Percent of fleet that is electric',\n",
       "       '3j. Government agency involved (non-funding)',\n",
       "       '3k. Utility/energy company involved 1',\n",
       "       '3k. Utility/energy company involved 2',\n",
       "       '3k. Utility/energy company involved 3', '3l. Other groups involved 1',\n",
       "       '3l. Other groups involved 2', '3l. Other groups involved 3',\n",
       "       '3m. Other notes', '4a. Tribal school district?',\n",
       "       '4b. Number of students in district',\n",
       "       '4c. Number of schools in district',\n",
       "       '4d. Percentage of schools in district that are Title I schoolwide eligible',\n",
       "       '4e. Percentage of students in district eligible for free or reduced price lunch',\n",
       "       '4f. Median household income',\n",
       "       '4g. Percent of population below the poverty level',\n",
       "       '4h. Percent one race: White ',\n",
       "       '4i. Percent race alone or multiracial: White',\n",
       "       '4j. Percent one race: Black or African American ',\n",
       "       '4k. Percent race alone or multiracial: Black or African American',\n",
       "       '4l. Percent one race: American Indian and Alaska Native ',\n",
       "       '4m. Percent race alone or multiracial: American Indian and Alaska Native',\n",
       "       '4n. Percent one race: Asian ',\n",
       "       '4o. Percent race alone or multiracial: Asian',\n",
       "       '4p. Percent one race: Native Hawaiian and Other Pacific Islander ',\n",
       "       '4q. Percent race alone or multiracial: Native Hawaiian and Other Pacific Islander',\n",
       "       '4r. Percent one race: some other race ',\n",
       "       '4s. Percent race alone or multiracial: Some other race',\n",
       "       '4t. Percent two or more races',\n",
       "       '4u. Percent Hispanic or Latino (of any race) ', '5a. EPA Region',\n",
       "       '5b. Percent non-white and/or Hispanic',\n",
       "       '5c. Quartile: percent non-white and/or Hispanic',\n",
       "       '5d. Percent low-income (200% of federal poverty level)',\n",
       "       '5e. Quartile: percent low-income', '5f. PM2.5 concentration',\n",
       "       '5g. Quartile: PM2.5 concentration', '5h. Ozone concentration',\n",
       "       '5i. Quartile: ozone concentration',\n",
       "       '5j. Percent of school children with a disability',\n",
       "       '5k. Quartile: percent of school children with a disability',\n",
       "       '5l. Average rate of asthma among adults aged 18 and older',\n",
       "       '5m. Quartile: average rate of asthma',\n",
       "       '5n. Qualified for American Rescue Plan funding? ',\n",
       "       '5o. EPA 2022 Clean School Bus Rebate Program prioritized school district?',\n",
       "       '5p. EPA 2023 Clean School Bus Grant & Rebate Programs prioritized school district?',\n",
       "       '5q. WRI Priority Outreach District (POD)?',\n",
       "       '6a. Has any expression of interest in ESBs?',\n",
       "       '6b. ARP 2021 waitlist position',\n",
       "       '6c. DERA school bus rebates 2020 waitlist position',\n",
       "       '6d. DERA school bus rebates 2021 waitlist position',\n",
       "       '6e. Applied for ESB funding but not awarded'],\n",
       "      dtype='object')"
      ]
     },
     "execution_count": 3,
     "metadata": {},
     "output_type": "execute_result"
    }
   ],
   "source": [
    "df_district.columns"
   ]
  },
  {
   "cell_type": "code",
   "execution_count": 5,
   "id": "a22b65547cb23196",
   "metadata": {
    "ExecuteTime": {
     "end_time": "2025-10-17T12:23:05.859660Z",
     "start_time": "2025-10-17T12:23:05.846611Z"
    },
    "collapsed": false,
    "jupyter": {
     "outputs_hidden": false
    }
   },
   "outputs": [],
   "source": [
    "totals = {\n",
    "    \"Total committed ESBs\": df_district[\"3a. Number of ESBs committed \"].sum(),\n",
    "    \"Awarded ESBs\": df_district[\"3c. Number of ESBs awarded\"].sum(),\n",
    "    \"Ordered ESBs\": df_district[\"3d. Number of ESBs ordered\"].sum(),\n",
    "    \"Delivered or operating ESBs\": df_district[\"3b. Number of delivered or operating ESBs\"].sum(),\n",
    "    \"Students riding ESBs\": df_district[\"4b. Number of students in district\"].sum()\n",
    "}"
   ]
  },
  {
   "cell_type": "code",
   "execution_count": 7,
   "id": "7efc825a6544c55a",
   "metadata": {
    "ExecuteTime": {
     "end_time": "2025-10-17T12:31:08.578986Z",
     "start_time": "2025-10-17T12:30:49.999938Z"
    },
    "collapsed": false,
    "jupyter": {
     "outputs_hidden": false
    }
   },
   "outputs": [
    {
     "data": {
      "application/vnd.plotly.v1+json": {
       "config": {
        "plotlyServerURL": "https://plot.ly"
       },
       "data": [
        {
         "marker": {
          "opacity": 0
         },
         "mode": "markers",
         "type": "scatter",
         "x": [
          0
         ],
         "y": [
          0
         ]
        }
       ],
       "layout": {
        "annotations": [
         {
          "font": {
           "color": "white",
           "family": "Arial Black",
           "size": 22
          },
          "showarrow": false,
          "text": "12 549",
          "x": 0.55,
          "y": 0.58
         },
         {
          "font": {
           "color": "white",
           "size": 12
          },
          "showarrow": false,
          "text": "Total committed ESBs",
          "x": 0.55,
          "y": 0.22
         },
         {
          "font": {
           "color": "white",
           "family": "Arial Black",
           "size": 22
          },
          "showarrow": false,
          "text": "6 219",
          "x": 1.8,
          "y": 0.58
         },
         {
          "font": {
           "color": "white",
           "size": 12
          },
          "showarrow": false,
          "text": "Awarded ESBs",
          "x": 1.8,
          "y": 0.22
         },
         {
          "font": {
           "color": "white",
           "family": "Arial Black",
           "size": 22
          },
          "showarrow": false,
          "text": "1 416",
          "x": 3.05,
          "y": 0.58
         },
         {
          "font": {
           "color": "white",
           "size": 12
          },
          "showarrow": false,
          "text": "Ordered ESBs",
          "x": 3.05,
          "y": 0.22
         },
         {
          "font": {
           "color": "white",
           "family": "Arial Black",
           "size": 22
          },
          "showarrow": false,
          "text": "4 914",
          "x": 4.3,
          "y": 0.58
         },
         {
          "font": {
           "color": "white",
           "size": 12
          },
          "showarrow": false,
          "text": "Delivered or operating ESBs",
          "x": 4.3,
          "y": 0.22
         },
         {
          "font": {
           "color": "white",
           "family": "Arial Black",
           "size": 22
          },
          "showarrow": false,
          "text": "332 168",
          "x": 5.55,
          "y": 0.58
         },
         {
          "font": {
           "color": "white",
           "size": 12
          },
          "showarrow": false,
          "text": "Students riding ESBs",
          "x": 5.55,
          "y": 0.22
         }
        ],
        "autosize": true,
        "margin": {
         "b": 20,
         "l": 20,
         "r": 20,
         "t": 50
        },
        "paper_bgcolor": "white",
        "plot_bgcolor": "white",
        "shapes": [
         {
          "fillcolor": "#9e1b1f",
          "line": {
           "color": "rgba(0, 0, 0, 0)"
          },
          "type": "rect",
          "x0": 0,
          "x1": 1.1,
          "y0": 0,
          "y1": 1
         },
         {
          "fillcolor": "#9e1b1f",
          "line": {
           "color": "rgba(0, 0, 0, 0)"
          },
          "type": "circle",
          "x0": -0.05,
          "x1": 0.15,
          "y0": -0.05,
          "y1": 1.05
         },
         {
          "fillcolor": "#9e1b1f",
          "line": {
           "color": "rgba(0, 0, 0, 0)"
          },
          "type": "circle",
          "x0": 0.95,
          "x1": 1.15,
          "y0": -0.05,
          "y1": 1.05
         },
         {
          "fillcolor": "#0f7c89",
          "line": {
           "color": "rgba(0, 0, 0, 0)"
          },
          "type": "rect",
          "x0": 1.25,
          "x1": 2.35,
          "y0": 0,
          "y1": 1
         },
         {
          "fillcolor": "#0f7c89",
          "line": {
           "color": "rgba(0, 0, 0, 0)"
          },
          "type": "circle",
          "x0": 1.2,
          "x1": 1.4,
          "y0": -0.05,
          "y1": 1.05
         },
         {
          "fillcolor": "#0f7c89",
          "line": {
           "color": "rgba(0, 0, 0, 0)"
          },
          "type": "circle",
          "x0": 2.2,
          "x1": 2.4,
          "y0": -0.05,
          "y1": 1.05
         },
         {
          "fillcolor": "#2f9150",
          "line": {
           "color": "rgba(0, 0, 0, 0)"
          },
          "type": "rect",
          "x0": 2.5,
          "x1": 3.6,
          "y0": 0,
          "y1": 1
         },
         {
          "fillcolor": "#2f9150",
          "line": {
           "color": "rgba(0, 0, 0, 0)"
          },
          "type": "circle",
          "x0": 2.45,
          "x1": 2.65,
          "y0": -0.05,
          "y1": 1.05
         },
         {
          "fillcolor": "#2f9150",
          "line": {
           "color": "rgba(0, 0, 0, 0)"
          },
          "type": "circle",
          "x0": 3.45,
          "x1": 3.65,
          "y0": -0.05,
          "y1": 1.05
         },
         {
          "fillcolor": "#3352a3",
          "line": {
           "color": "rgba(0, 0, 0, 0)"
          },
          "type": "rect",
          "x0": 3.75,
          "x1": 4.85,
          "y0": 0,
          "y1": 1
         },
         {
          "fillcolor": "#3352a3",
          "line": {
           "color": "rgba(0, 0, 0, 0)"
          },
          "type": "circle",
          "x0": 3.7,
          "x1": 3.9,
          "y0": -0.05,
          "y1": 1.05
         },
         {
          "fillcolor": "#3352a3",
          "line": {
           "color": "rgba(0, 0, 0, 0)"
          },
          "type": "circle",
          "x0": 4.7,
          "x1": 4.9,
          "y0": -0.05,
          "y1": 1.05
         },
         {
          "fillcolor": "#8a1a7a",
          "line": {
           "color": "rgba(0, 0, 0, 0)"
          },
          "type": "rect",
          "x0": 5,
          "x1": 6.1,
          "y0": 0,
          "y1": 1
         },
         {
          "fillcolor": "#8a1a7a",
          "line": {
           "color": "rgba(0, 0, 0, 0)"
          },
          "type": "circle",
          "x0": 4.95,
          "x1": 5.15,
          "y0": -0.05,
          "y1": 1.05
         },
         {
          "fillcolor": "#8a1a7a",
          "line": {
           "color": "rgba(0, 0, 0, 0)"
          },
          "type": "circle",
          "x0": 5.95,
          "x1": 6.15,
          "y0": -0.05,
          "y1": 1.05
         }
        ],
        "template": {
         "data": {
          "bar": [
           {
            "error_x": {
             "color": "#2a3f5f"
            },
            "error_y": {
             "color": "#2a3f5f"
            },
            "marker": {
             "line": {
              "color": "#E5ECF6",
              "width": 0.5
             },
             "pattern": {
              "fillmode": "overlay",
              "size": 10,
              "solidity": 0.2
             }
            },
            "type": "bar"
           }
          ],
          "barpolar": [
           {
            "marker": {
             "line": {
              "color": "#E5ECF6",
              "width": 0.5
             },
             "pattern": {
              "fillmode": "overlay",
              "size": 10,
              "solidity": 0.2
             }
            },
            "type": "barpolar"
           }
          ],
          "carpet": [
           {
            "aaxis": {
             "endlinecolor": "#2a3f5f",
             "gridcolor": "white",
             "linecolor": "white",
             "minorgridcolor": "white",
             "startlinecolor": "#2a3f5f"
            },
            "baxis": {
             "endlinecolor": "#2a3f5f",
             "gridcolor": "white",
             "linecolor": "white",
             "minorgridcolor": "white",
             "startlinecolor": "#2a3f5f"
            },
            "type": "carpet"
           }
          ],
          "choropleth": [
           {
            "colorbar": {
             "outlinewidth": 0,
             "ticks": ""
            },
            "type": "choropleth"
           }
          ],
          "contour": [
           {
            "colorbar": {
             "outlinewidth": 0,
             "ticks": ""
            },
            "colorscale": [
             [
              0,
              "#0d0887"
             ],
             [
              0.1111111111111111,
              "#46039f"
             ],
             [
              0.2222222222222222,
              "#7201a8"
             ],
             [
              0.3333333333333333,
              "#9c179e"
             ],
             [
              0.4444444444444444,
              "#bd3786"
             ],
             [
              0.5555555555555556,
              "#d8576b"
             ],
             [
              0.6666666666666666,
              "#ed7953"
             ],
             [
              0.7777777777777778,
              "#fb9f3a"
             ],
             [
              0.8888888888888888,
              "#fdca26"
             ],
             [
              1,
              "#f0f921"
             ]
            ],
            "type": "contour"
           }
          ],
          "contourcarpet": [
           {
            "colorbar": {
             "outlinewidth": 0,
             "ticks": ""
            },
            "type": "contourcarpet"
           }
          ],
          "heatmap": [
           {
            "colorbar": {
             "outlinewidth": 0,
             "ticks": ""
            },
            "colorscale": [
             [
              0,
              "#0d0887"
             ],
             [
              0.1111111111111111,
              "#46039f"
             ],
             [
              0.2222222222222222,
              "#7201a8"
             ],
             [
              0.3333333333333333,
              "#9c179e"
             ],
             [
              0.4444444444444444,
              "#bd3786"
             ],
             [
              0.5555555555555556,
              "#d8576b"
             ],
             [
              0.6666666666666666,
              "#ed7953"
             ],
             [
              0.7777777777777778,
              "#fb9f3a"
             ],
             [
              0.8888888888888888,
              "#fdca26"
             ],
             [
              1,
              "#f0f921"
             ]
            ],
            "type": "heatmap"
           }
          ],
          "histogram": [
           {
            "marker": {
             "pattern": {
              "fillmode": "overlay",
              "size": 10,
              "solidity": 0.2
             }
            },
            "type": "histogram"
           }
          ],
          "histogram2d": [
           {
            "colorbar": {
             "outlinewidth": 0,
             "ticks": ""
            },
            "colorscale": [
             [
              0,
              "#0d0887"
             ],
             [
              0.1111111111111111,
              "#46039f"
             ],
             [
              0.2222222222222222,
              "#7201a8"
             ],
             [
              0.3333333333333333,
              "#9c179e"
             ],
             [
              0.4444444444444444,
              "#bd3786"
             ],
             [
              0.5555555555555556,
              "#d8576b"
             ],
             [
              0.6666666666666666,
              "#ed7953"
             ],
             [
              0.7777777777777778,
              "#fb9f3a"
             ],
             [
              0.8888888888888888,
              "#fdca26"
             ],
             [
              1,
              "#f0f921"
             ]
            ],
            "type": "histogram2d"
           }
          ],
          "histogram2dcontour": [
           {
            "colorbar": {
             "outlinewidth": 0,
             "ticks": ""
            },
            "colorscale": [
             [
              0,
              "#0d0887"
             ],
             [
              0.1111111111111111,
              "#46039f"
             ],
             [
              0.2222222222222222,
              "#7201a8"
             ],
             [
              0.3333333333333333,
              "#9c179e"
             ],
             [
              0.4444444444444444,
              "#bd3786"
             ],
             [
              0.5555555555555556,
              "#d8576b"
             ],
             [
              0.6666666666666666,
              "#ed7953"
             ],
             [
              0.7777777777777778,
              "#fb9f3a"
             ],
             [
              0.8888888888888888,
              "#fdca26"
             ],
             [
              1,
              "#f0f921"
             ]
            ],
            "type": "histogram2dcontour"
           }
          ],
          "mesh3d": [
           {
            "colorbar": {
             "outlinewidth": 0,
             "ticks": ""
            },
            "type": "mesh3d"
           }
          ],
          "parcoords": [
           {
            "line": {
             "colorbar": {
              "outlinewidth": 0,
              "ticks": ""
             }
            },
            "type": "parcoords"
           }
          ],
          "pie": [
           {
            "automargin": true,
            "type": "pie"
           }
          ],
          "scatter": [
           {
            "fillpattern": {
             "fillmode": "overlay",
             "size": 10,
             "solidity": 0.2
            },
            "type": "scatter"
           }
          ],
          "scatter3d": [
           {
            "line": {
             "colorbar": {
              "outlinewidth": 0,
              "ticks": ""
             }
            },
            "marker": {
             "colorbar": {
              "outlinewidth": 0,
              "ticks": ""
             }
            },
            "type": "scatter3d"
           }
          ],
          "scattercarpet": [
           {
            "marker": {
             "colorbar": {
              "outlinewidth": 0,
              "ticks": ""
             }
            },
            "type": "scattercarpet"
           }
          ],
          "scattergeo": [
           {
            "marker": {
             "colorbar": {
              "outlinewidth": 0,
              "ticks": ""
             }
            },
            "type": "scattergeo"
           }
          ],
          "scattergl": [
           {
            "marker": {
             "colorbar": {
              "outlinewidth": 0,
              "ticks": ""
             }
            },
            "type": "scattergl"
           }
          ],
          "scattermap": [
           {
            "marker": {
             "colorbar": {
              "outlinewidth": 0,
              "ticks": ""
             }
            },
            "type": "scattermap"
           }
          ],
          "scattermapbox": [
           {
            "marker": {
             "colorbar": {
              "outlinewidth": 0,
              "ticks": ""
             }
            },
            "type": "scattermapbox"
           }
          ],
          "scatterpolar": [
           {
            "marker": {
             "colorbar": {
              "outlinewidth": 0,
              "ticks": ""
             }
            },
            "type": "scatterpolar"
           }
          ],
          "scatterpolargl": [
           {
            "marker": {
             "colorbar": {
              "outlinewidth": 0,
              "ticks": ""
             }
            },
            "type": "scatterpolargl"
           }
          ],
          "scatterternary": [
           {
            "marker": {
             "colorbar": {
              "outlinewidth": 0,
              "ticks": ""
             }
            },
            "type": "scatterternary"
           }
          ],
          "surface": [
           {
            "colorbar": {
             "outlinewidth": 0,
             "ticks": ""
            },
            "colorscale": [
             [
              0,
              "#0d0887"
             ],
             [
              0.1111111111111111,
              "#46039f"
             ],
             [
              0.2222222222222222,
              "#7201a8"
             ],
             [
              0.3333333333333333,
              "#9c179e"
             ],
             [
              0.4444444444444444,
              "#bd3786"
             ],
             [
              0.5555555555555556,
              "#d8576b"
             ],
             [
              0.6666666666666666,
              "#ed7953"
             ],
             [
              0.7777777777777778,
              "#fb9f3a"
             ],
             [
              0.8888888888888888,
              "#fdca26"
             ],
             [
              1,
              "#f0f921"
             ]
            ],
            "type": "surface"
           }
          ],
          "table": [
           {
            "cells": {
             "fill": {
              "color": "#EBF0F8"
             },
             "line": {
              "color": "white"
             }
            },
            "header": {
             "fill": {
              "color": "#C8D4E3"
             },
             "line": {
              "color": "white"
             }
            },
            "type": "table"
           }
          ]
         },
         "layout": {
          "annotationdefaults": {
           "arrowcolor": "#2a3f5f",
           "arrowhead": 0,
           "arrowwidth": 1
          },
          "autotypenumbers": "strict",
          "coloraxis": {
           "colorbar": {
            "outlinewidth": 0,
            "ticks": ""
           }
          },
          "colorscale": {
           "diverging": [
            [
             0,
             "#8e0152"
            ],
            [
             0.1,
             "#c51b7d"
            ],
            [
             0.2,
             "#de77ae"
            ],
            [
             0.3,
             "#f1b6da"
            ],
            [
             0.4,
             "#fde0ef"
            ],
            [
             0.5,
             "#f7f7f7"
            ],
            [
             0.6,
             "#e6f5d0"
            ],
            [
             0.7,
             "#b8e186"
            ],
            [
             0.8,
             "#7fbc41"
            ],
            [
             0.9,
             "#4d9221"
            ],
            [
             1,
             "#276419"
            ]
           ],
           "sequential": [
            [
             0,
             "#0d0887"
            ],
            [
             0.1111111111111111,
             "#46039f"
            ],
            [
             0.2222222222222222,
             "#7201a8"
            ],
            [
             0.3333333333333333,
             "#9c179e"
            ],
            [
             0.4444444444444444,
             "#bd3786"
            ],
            [
             0.5555555555555556,
             "#d8576b"
            ],
            [
             0.6666666666666666,
             "#ed7953"
            ],
            [
             0.7777777777777778,
             "#fb9f3a"
            ],
            [
             0.8888888888888888,
             "#fdca26"
            ],
            [
             1,
             "#f0f921"
            ]
           ],
           "sequentialminus": [
            [
             0,
             "#0d0887"
            ],
            [
             0.1111111111111111,
             "#46039f"
            ],
            [
             0.2222222222222222,
             "#7201a8"
            ],
            [
             0.3333333333333333,
             "#9c179e"
            ],
            [
             0.4444444444444444,
             "#bd3786"
            ],
            [
             0.5555555555555556,
             "#d8576b"
            ],
            [
             0.6666666666666666,
             "#ed7953"
            ],
            [
             0.7777777777777778,
             "#fb9f3a"
            ],
            [
             0.8888888888888888,
             "#fdca26"
            ],
            [
             1,
             "#f0f921"
            ]
           ]
          },
          "colorway": [
           "#636efa",
           "#EF553B",
           "#00cc96",
           "#ab63fa",
           "#FFA15A",
           "#19d3f3",
           "#FF6692",
           "#B6E880",
           "#FF97FF",
           "#FECB52"
          ],
          "font": {
           "color": "#2a3f5f"
          },
          "geo": {
           "bgcolor": "white",
           "lakecolor": "white",
           "landcolor": "#E5ECF6",
           "showlakes": true,
           "showland": true,
           "subunitcolor": "white"
          },
          "hoverlabel": {
           "align": "left"
          },
          "hovermode": "closest",
          "mapbox": {
           "style": "light"
          },
          "paper_bgcolor": "white",
          "plot_bgcolor": "#E5ECF6",
          "polar": {
           "angularaxis": {
            "gridcolor": "white",
            "linecolor": "white",
            "ticks": ""
           },
           "bgcolor": "#E5ECF6",
           "radialaxis": {
            "gridcolor": "white",
            "linecolor": "white",
            "ticks": ""
           }
          },
          "scene": {
           "xaxis": {
            "backgroundcolor": "#E5ECF6",
            "gridcolor": "white",
            "gridwidth": 2,
            "linecolor": "white",
            "showbackground": true,
            "ticks": "",
            "zerolinecolor": "white"
           },
           "yaxis": {
            "backgroundcolor": "#E5ECF6",
            "gridcolor": "white",
            "gridwidth": 2,
            "linecolor": "white",
            "showbackground": true,
            "ticks": "",
            "zerolinecolor": "white"
           },
           "zaxis": {
            "backgroundcolor": "#E5ECF6",
            "gridcolor": "white",
            "gridwidth": 2,
            "linecolor": "white",
            "showbackground": true,
            "ticks": "",
            "zerolinecolor": "white"
           }
          },
          "shapedefaults": {
           "line": {
            "color": "#2a3f5f"
           }
          },
          "ternary": {
           "aaxis": {
            "gridcolor": "white",
            "linecolor": "white",
            "ticks": ""
           },
           "baxis": {
            "gridcolor": "white",
            "linecolor": "white",
            "ticks": ""
           },
           "bgcolor": "#E5ECF6",
           "caxis": {
            "gridcolor": "white",
            "linecolor": "white",
            "ticks": ""
           }
          },
          "title": {
           "x": 0.05
          },
          "xaxis": {
           "automargin": true,
           "gridcolor": "white",
           "linecolor": "white",
           "ticks": "",
           "title": {
            "standoff": 15
           },
           "zerolinecolor": "white",
           "zerolinewidth": 2
          },
          "yaxis": {
           "automargin": true,
           "gridcolor": "white",
           "linecolor": "white",
           "ticks": "",
           "title": {
            "standoff": 15
           },
           "zerolinecolor": "white",
           "zerolinewidth": 2
          }
         }
        },
        "title": {
         "text": "Committed electric school buses, by adoption status (by State)",
         "x": 0.02,
         "y": 0.97
        },
        "updatemenus": [
         {
          "bgcolor": "white",
          "bordercolor": "#ddd",
          "buttons": [
           {
            "args": [
             {
              "visible": [
               true
              ]
             },
             {
              "annotations": [
               {
                "font": {
                 "color": "white",
                 "family": "Arial Black",
                 "size": 22
                },
                "showarrow": false,
                "text": "12 549",
                "x": 0.55,
                "y": 0.58
               },
               {
                "font": {
                 "color": "white",
                 "size": 12
                },
                "showarrow": false,
                "text": "Total committed ESBs",
                "x": 0.55,
                "y": 0.22
               },
               {
                "font": {
                 "color": "white",
                 "family": "Arial Black",
                 "size": 22
                },
                "showarrow": false,
                "text": "6 219",
                "x": 1.8,
                "y": 0.58
               },
               {
                "font": {
                 "color": "white",
                 "size": 12
                },
                "showarrow": false,
                "text": "Awarded ESBs",
                "x": 1.8,
                "y": 0.22
               },
               {
                "font": {
                 "color": "white",
                 "family": "Arial Black",
                 "size": 22
                },
                "showarrow": false,
                "text": "1 416",
                "x": 3.05,
                "y": 0.58
               },
               {
                "font": {
                 "color": "white",
                 "size": 12
                },
                "showarrow": false,
                "text": "Ordered ESBs",
                "x": 3.05,
                "y": 0.22
               },
               {
                "font": {
                 "color": "white",
                 "family": "Arial Black",
                 "size": 22
                },
                "showarrow": false,
                "text": "4 914",
                "x": 4.3,
                "y": 0.58
               },
               {
                "font": {
                 "color": "white",
                 "size": 12
                },
                "showarrow": false,
                "text": "Delivered or operating ESBs",
                "x": 4.3,
                "y": 0.22
               },
               {
                "font": {
                 "color": "white",
                 "family": "Arial Black",
                 "size": 22
                },
                "showarrow": false,
                "text": "332 168",
                "x": 5.55,
                "y": 0.58
               },
               {
                "font": {
                 "color": "white",
                 "size": 12
                },
                "showarrow": false,
                "text": "Students riding ESBs",
                "x": 5.55,
                "y": 0.22
               }
              ],
              "shapes": [
               {
                "fillcolor": "#9e1b1f",
                "line": {
                 "color": "rgba(0, 0, 0, 0)"
                },
                "type": "rect",
                "x0": 0,
                "x1": 1.1,
                "y0": 0,
                "y1": 1
               },
               {
                "fillcolor": "#9e1b1f",
                "line": {
                 "color": "rgba(0, 0, 0, 0)"
                },
                "type": "circle",
                "x0": -0.05,
                "x1": 0.15,
                "y0": -0.05,
                "y1": 1.05
               },
               {
                "fillcolor": "#9e1b1f",
                "line": {
                 "color": "rgba(0, 0, 0, 0)"
                },
                "type": "circle",
                "x0": 0.95,
                "x1": 1.15,
                "y0": -0.05,
                "y1": 1.05
               },
               {
                "fillcolor": "#0f7c89",
                "line": {
                 "color": "rgba(0, 0, 0, 0)"
                },
                "type": "rect",
                "x0": 1.25,
                "x1": 2.35,
                "y0": 0,
                "y1": 1
               },
               {
                "fillcolor": "#0f7c89",
                "line": {
                 "color": "rgba(0, 0, 0, 0)"
                },
                "type": "circle",
                "x0": 1.2,
                "x1": 1.4,
                "y0": -0.05,
                "y1": 1.05
               },
               {
                "fillcolor": "#0f7c89",
                "line": {
                 "color": "rgba(0, 0, 0, 0)"
                },
                "type": "circle",
                "x0": 2.2,
                "x1": 2.4,
                "y0": -0.05,
                "y1": 1.05
               },
               {
                "fillcolor": "#2f9150",
                "line": {
                 "color": "rgba(0, 0, 0, 0)"
                },
                "type": "rect",
                "x0": 2.5,
                "x1": 3.6,
                "y0": 0,
                "y1": 1
               },
               {
                "fillcolor": "#2f9150",
                "line": {
                 "color": "rgba(0, 0, 0, 0)"
                },
                "type": "circle",
                "x0": 2.45,
                "x1": 2.65,
                "y0": -0.05,
                "y1": 1.05
               },
               {
                "fillcolor": "#2f9150",
                "line": {
                 "color": "rgba(0, 0, 0, 0)"
                },
                "type": "circle",
                "x0": 3.45,
                "x1": 3.65,
                "y0": -0.05,
                "y1": 1.05
               },
               {
                "fillcolor": "#3352a3",
                "line": {
                 "color": "rgba(0, 0, 0, 0)"
                },
                "type": "rect",
                "x0": 3.75,
                "x1": 4.85,
                "y0": 0,
                "y1": 1
               },
               {
                "fillcolor": "#3352a3",
                "line": {
                 "color": "rgba(0, 0, 0, 0)"
                },
                "type": "circle",
                "x0": 3.7,
                "x1": 3.9,
                "y0": -0.05,
                "y1": 1.05
               },
               {
                "fillcolor": "#3352a3",
                "line": {
                 "color": "rgba(0, 0, 0, 0)"
                },
                "type": "circle",
                "x0": 4.7,
                "x1": 4.9,
                "y0": -0.05,
                "y1": 1.05
               },
               {
                "fillcolor": "#8a1a7a",
                "line": {
                 "color": "rgba(0, 0, 0, 0)"
                },
                "type": "rect",
                "x0": 5,
                "x1": 6.1,
                "y0": 0,
                "y1": 1
               },
               {
                "fillcolor": "#8a1a7a",
                "line": {
                 "color": "rgba(0, 0, 0, 0)"
                },
                "type": "circle",
                "x0": 4.95,
                "x1": 5.15,
                "y0": -0.05,
                "y1": 1.05
               },
               {
                "fillcolor": "#8a1a7a",
                "line": {
                 "color": "rgba(0, 0, 0, 0)"
                },
                "type": "circle",
                "x0": 5.95,
                "x1": 6.15,
                "y0": -0.05,
                "y1": 1.05
               }
              ],
              "title": {
               "text": "Committed electric school buses, by adoption status — All states"
              }
             }
            ],
            "label": "All states",
            "method": "update"
           },
           {
            "args": [
             {
              "visible": [
               true
              ]
             },
             {
              "annotations": [
               {
                "font": {
                 "color": "white",
                 "family": "Arial Black",
                 "size": 22
                },
                "showarrow": false,
                "text": "95",
                "x": 0.55,
                "y": 0.58
               },
               {
                "font": {
                 "color": "white",
                 "size": 12
                },
                "showarrow": false,
                "text": "Total committed ESBs",
                "x": 0.55,
                "y": 0.22
               },
               {
                "font": {
                 "color": "white",
                 "family": "Arial Black",
                 "size": 22
                },
                "showarrow": false,
                "text": "64",
                "x": 1.8,
                "y": 0.58
               },
               {
                "font": {
                 "color": "white",
                 "size": 12
                },
                "showarrow": false,
                "text": "Awarded ESBs",
                "x": 1.8,
                "y": 0.22
               },
               {
                "font": {
                 "color": "white",
                 "family": "Arial Black",
                 "size": 22
                },
                "showarrow": false,
                "text": "0",
                "x": 3.05,
                "y": 0.58
               },
               {
                "font": {
                 "color": "white",
                 "size": 12
                },
                "showarrow": false,
                "text": "Ordered ESBs",
                "x": 3.05,
                "y": 0.22
               },
               {
                "font": {
                 "color": "white",
                 "family": "Arial Black",
                 "size": 22
                },
                "showarrow": false,
                "text": "31",
                "x": 4.3,
                "y": 0.58
               },
               {
                "font": {
                 "color": "white",
                 "size": 12
                },
                "showarrow": false,
                "text": "Delivered or operating ESBs",
                "x": 4.3,
                "y": 0.22
               },
               {
                "font": {
                 "color": "white",
                 "family": "Arial Black",
                 "size": 22
                },
                "showarrow": false,
                "text": "2 480",
                "x": 5.55,
                "y": 0.58
               },
               {
                "font": {
                 "color": "white",
                 "size": 12
                },
                "showarrow": false,
                "text": "Students riding ESBs",
                "x": 5.55,
                "y": 0.22
               }
              ],
              "shapes": [
               {
                "fillcolor": "#9e1b1f",
                "line": {
                 "color": "rgba(0, 0, 0, 0)"
                },
                "type": "rect",
                "x0": 0,
                "x1": 1.1,
                "y0": 0,
                "y1": 1
               },
               {
                "fillcolor": "#9e1b1f",
                "line": {
                 "color": "rgba(0, 0, 0, 0)"
                },
                "type": "circle",
                "x0": -0.05,
                "x1": 0.15,
                "y0": -0.05,
                "y1": 1.05
               },
               {
                "fillcolor": "#9e1b1f",
                "line": {
                 "color": "rgba(0, 0, 0, 0)"
                },
                "type": "circle",
                "x0": 0.95,
                "x1": 1.15,
                "y0": -0.05,
                "y1": 1.05
               },
               {
                "fillcolor": "#0f7c89",
                "line": {
                 "color": "rgba(0, 0, 0, 0)"
                },
                "type": "rect",
                "x0": 1.25,
                "x1": 2.35,
                "y0": 0,
                "y1": 1
               },
               {
                "fillcolor": "#0f7c89",
                "line": {
                 "color": "rgba(0, 0, 0, 0)"
                },
                "type": "circle",
                "x0": 1.2,
                "x1": 1.4,
                "y0": -0.05,
                "y1": 1.05
               },
               {
                "fillcolor": "#0f7c89",
                "line": {
                 "color": "rgba(0, 0, 0, 0)"
                },
                "type": "circle",
                "x0": 2.2,
                "x1": 2.4,
                "y0": -0.05,
                "y1": 1.05
               },
               {
                "fillcolor": "#2f9150",
                "line": {
                 "color": "rgba(0, 0, 0, 0)"
                },
                "type": "rect",
                "x0": 2.5,
                "x1": 3.6,
                "y0": 0,
                "y1": 1
               },
               {
                "fillcolor": "#2f9150",
                "line": {
                 "color": "rgba(0, 0, 0, 0)"
                },
                "type": "circle",
                "x0": 2.45,
                "x1": 2.65,
                "y0": -0.05,
                "y1": 1.05
               },
               {
                "fillcolor": "#2f9150",
                "line": {
                 "color": "rgba(0, 0, 0, 0)"
                },
                "type": "circle",
                "x0": 3.45,
                "x1": 3.65,
                "y0": -0.05,
                "y1": 1.05
               },
               {
                "fillcolor": "#3352a3",
                "line": {
                 "color": "rgba(0, 0, 0, 0)"
                },
                "type": "rect",
                "x0": 3.75,
                "x1": 4.85,
                "y0": 0,
                "y1": 1
               },
               {
                "fillcolor": "#3352a3",
                "line": {
                 "color": "rgba(0, 0, 0, 0)"
                },
                "type": "circle",
                "x0": 3.7,
                "x1": 3.9,
                "y0": -0.05,
                "y1": 1.05
               },
               {
                "fillcolor": "#3352a3",
                "line": {
                 "color": "rgba(0, 0, 0, 0)"
                },
                "type": "circle",
                "x0": 4.7,
                "x1": 4.9,
                "y0": -0.05,
                "y1": 1.05
               },
               {
                "fillcolor": "#8a1a7a",
                "line": {
                 "color": "rgba(0, 0, 0, 0)"
                },
                "type": "rect",
                "x0": 5,
                "x1": 6.1,
                "y0": 0,
                "y1": 1
               },
               {
                "fillcolor": "#8a1a7a",
                "line": {
                 "color": "rgba(0, 0, 0, 0)"
                },
                "type": "circle",
                "x0": 4.95,
                "x1": 5.15,
                "y0": -0.05,
                "y1": 1.05
               },
               {
                "fillcolor": "#8a1a7a",
                "line": {
                 "color": "rgba(0, 0, 0, 0)"
                },
                "type": "circle",
                "x0": 5.95,
                "x1": 6.15,
                "y0": -0.05,
                "y1": 1.05
               }
              ],
              "title": {
               "text": "Committed electric school buses, by adoption status — ALABAMA"
              }
             }
            ],
            "label": "ALABAMA",
            "method": "update"
           },
           {
            "args": [
             {
              "visible": [
               true
              ]
             },
             {
              "annotations": [
               {
                "font": {
                 "color": "white",
                 "family": "Arial Black",
                 "size": 22
                },
                "showarrow": false,
                "text": "1",
                "x": 0.55,
                "y": 0.58
               },
               {
                "font": {
                 "color": "white",
                 "size": 12
                },
                "showarrow": false,
                "text": "Total committed ESBs",
                "x": 0.55,
                "y": 0.22
               },
               {
                "font": {
                 "color": "white",
                 "family": "Arial Black",
                 "size": 22
                },
                "showarrow": false,
                "text": "0",
                "x": 1.8,
                "y": 0.58
               },
               {
                "font": {
                 "color": "white",
                 "size": 12
                },
                "showarrow": false,
                "text": "Awarded ESBs",
                "x": 1.8,
                "y": 0.22
               },
               {
                "font": {
                 "color": "white",
                 "family": "Arial Black",
                 "size": 22
                },
                "showarrow": false,
                "text": "0",
                "x": 3.05,
                "y": 0.58
               },
               {
                "font": {
                 "color": "white",
                 "size": 12
                },
                "showarrow": false,
                "text": "Ordered ESBs",
                "x": 3.05,
                "y": 0.22
               },
               {
                "font": {
                 "color": "white",
                 "family": "Arial Black",
                 "size": 22
                },
                "showarrow": false,
                "text": "1",
                "x": 4.3,
                "y": 0.58
               },
               {
                "font": {
                 "color": "white",
                 "size": 12
                },
                "showarrow": false,
                "text": "Delivered or operating ESBs",
                "x": 4.3,
                "y": 0.22
               },
               {
                "font": {
                 "color": "white",
                 "family": "Arial Black",
                 "size": 22
                },
                "showarrow": false,
                "text": "39",
                "x": 5.55,
                "y": 0.58
               },
               {
                "font": {
                 "color": "white",
                 "size": 12
                },
                "showarrow": false,
                "text": "Students riding ESBs",
                "x": 5.55,
                "y": 0.22
               }
              ],
              "shapes": [
               {
                "fillcolor": "#9e1b1f",
                "line": {
                 "color": "rgba(0, 0, 0, 0)"
                },
                "type": "rect",
                "x0": 0,
                "x1": 1.1,
                "y0": 0,
                "y1": 1
               },
               {
                "fillcolor": "#9e1b1f",
                "line": {
                 "color": "rgba(0, 0, 0, 0)"
                },
                "type": "circle",
                "x0": -0.05,
                "x1": 0.15,
                "y0": -0.05,
                "y1": 1.05
               },
               {
                "fillcolor": "#9e1b1f",
                "line": {
                 "color": "rgba(0, 0, 0, 0)"
                },
                "type": "circle",
                "x0": 0.95,
                "x1": 1.15,
                "y0": -0.05,
                "y1": 1.05
               },
               {
                "fillcolor": "#0f7c89",
                "line": {
                 "color": "rgba(0, 0, 0, 0)"
                },
                "type": "rect",
                "x0": 1.25,
                "x1": 2.35,
                "y0": 0,
                "y1": 1
               },
               {
                "fillcolor": "#0f7c89",
                "line": {
                 "color": "rgba(0, 0, 0, 0)"
                },
                "type": "circle",
                "x0": 1.2,
                "x1": 1.4,
                "y0": -0.05,
                "y1": 1.05
               },
               {
                "fillcolor": "#0f7c89",
                "line": {
                 "color": "rgba(0, 0, 0, 0)"
                },
                "type": "circle",
                "x0": 2.2,
                "x1": 2.4,
                "y0": -0.05,
                "y1": 1.05
               },
               {
                "fillcolor": "#2f9150",
                "line": {
                 "color": "rgba(0, 0, 0, 0)"
                },
                "type": "rect",
                "x0": 2.5,
                "x1": 3.6,
                "y0": 0,
                "y1": 1
               },
               {
                "fillcolor": "#2f9150",
                "line": {
                 "color": "rgba(0, 0, 0, 0)"
                },
                "type": "circle",
                "x0": 2.45,
                "x1": 2.65,
                "y0": -0.05,
                "y1": 1.05
               },
               {
                "fillcolor": "#2f9150",
                "line": {
                 "color": "rgba(0, 0, 0, 0)"
                },
                "type": "circle",
                "x0": 3.45,
                "x1": 3.65,
                "y0": -0.05,
                "y1": 1.05
               },
               {
                "fillcolor": "#3352a3",
                "line": {
                 "color": "rgba(0, 0, 0, 0)"
                },
                "type": "rect",
                "x0": 3.75,
                "x1": 4.85,
                "y0": 0,
                "y1": 1
               },
               {
                "fillcolor": "#3352a3",
                "line": {
                 "color": "rgba(0, 0, 0, 0)"
                },
                "type": "circle",
                "x0": 3.7,
                "x1": 3.9,
                "y0": -0.05,
                "y1": 1.05
               },
               {
                "fillcolor": "#3352a3",
                "line": {
                 "color": "rgba(0, 0, 0, 0)"
                },
                "type": "circle",
                "x0": 4.7,
                "x1": 4.9,
                "y0": -0.05,
                "y1": 1.05
               },
               {
                "fillcolor": "#8a1a7a",
                "line": {
                 "color": "rgba(0, 0, 0, 0)"
                },
                "type": "rect",
                "x0": 5,
                "x1": 6.1,
                "y0": 0,
                "y1": 1
               },
               {
                "fillcolor": "#8a1a7a",
                "line": {
                 "color": "rgba(0, 0, 0, 0)"
                },
                "type": "circle",
                "x0": 4.95,
                "x1": 5.15,
                "y0": -0.05,
                "y1": 1.05
               },
               {
                "fillcolor": "#8a1a7a",
                "line": {
                 "color": "rgba(0, 0, 0, 0)"
                },
                "type": "circle",
                "x0": 5.95,
                "x1": 6.15,
                "y0": -0.05,
                "y1": 1.05
               }
              ],
              "title": {
               "text": "Committed electric school buses, by adoption status — ALASKA"
              }
             }
            ],
            "label": "ALASKA",
            "method": "update"
           },
           {
            "args": [
             {
              "visible": [
               true
              ]
             },
             {
              "annotations": [
               {
                "font": {
                 "color": "white",
                 "family": "Arial Black",
                 "size": 22
                },
                "showarrow": false,
                "text": "8",
                "x": 0.55,
                "y": 0.58
               },
               {
                "font": {
                 "color": "white",
                 "size": 12
                },
                "showarrow": false,
                "text": "Total committed ESBs",
                "x": 0.55,
                "y": 0.22
               },
               {
                "font": {
                 "color": "white",
                 "family": "Arial Black",
                 "size": 22
                },
                "showarrow": false,
                "text": "7",
                "x": 1.8,
                "y": 0.58
               },
               {
                "font": {
                 "color": "white",
                 "size": 12
                },
                "showarrow": false,
                "text": "Awarded ESBs",
                "x": 1.8,
                "y": 0.22
               },
               {
                "font": {
                 "color": "white",
                 "family": "Arial Black",
                 "size": 22
                },
                "showarrow": false,
                "text": "0",
                "x": 3.05,
                "y": 0.58
               },
               {
                "font": {
                 "color": "white",
                 "size": 12
                },
                "showarrow": false,
                "text": "Ordered ESBs",
                "x": 3.05,
                "y": 0.22
               },
               {
                "font": {
                 "color": "white",
                 "family": "Arial Black",
                 "size": 22
                },
                "showarrow": false,
                "text": "1",
                "x": 4.3,
                "y": 0.58
               },
               {
                "font": {
                 "color": "white",
                 "size": 12
                },
                "showarrow": false,
                "text": "Delivered or operating ESBs",
                "x": 4.3,
                "y": 0.22
               },
               {
                "font": {
                 "color": "white",
                 "family": "Arial Black",
                 "size": 22
                },
                "showarrow": false,
                "text": "65",
                "x": 5.55,
                "y": 0.58
               },
               {
                "font": {
                 "color": "white",
                 "size": 12
                },
                "showarrow": false,
                "text": "Students riding ESBs",
                "x": 5.55,
                "y": 0.22
               }
              ],
              "shapes": [
               {
                "fillcolor": "#9e1b1f",
                "line": {
                 "color": "rgba(0, 0, 0, 0)"
                },
                "type": "rect",
                "x0": 0,
                "x1": 1.1,
                "y0": 0,
                "y1": 1
               },
               {
                "fillcolor": "#9e1b1f",
                "line": {
                 "color": "rgba(0, 0, 0, 0)"
                },
                "type": "circle",
                "x0": -0.05,
                "x1": 0.15,
                "y0": -0.05,
                "y1": 1.05
               },
               {
                "fillcolor": "#9e1b1f",
                "line": {
                 "color": "rgba(0, 0, 0, 0)"
                },
                "type": "circle",
                "x0": 0.95,
                "x1": 1.15,
                "y0": -0.05,
                "y1": 1.05
               },
               {
                "fillcolor": "#0f7c89",
                "line": {
                 "color": "rgba(0, 0, 0, 0)"
                },
                "type": "rect",
                "x0": 1.25,
                "x1": 2.35,
                "y0": 0,
                "y1": 1
               },
               {
                "fillcolor": "#0f7c89",
                "line": {
                 "color": "rgba(0, 0, 0, 0)"
                },
                "type": "circle",
                "x0": 1.2,
                "x1": 1.4,
                "y0": -0.05,
                "y1": 1.05
               },
               {
                "fillcolor": "#0f7c89",
                "line": {
                 "color": "rgba(0, 0, 0, 0)"
                },
                "type": "circle",
                "x0": 2.2,
                "x1": 2.4,
                "y0": -0.05,
                "y1": 1.05
               },
               {
                "fillcolor": "#2f9150",
                "line": {
                 "color": "rgba(0, 0, 0, 0)"
                },
                "type": "rect",
                "x0": 2.5,
                "x1": 3.6,
                "y0": 0,
                "y1": 1
               },
               {
                "fillcolor": "#2f9150",
                "line": {
                 "color": "rgba(0, 0, 0, 0)"
                },
                "type": "circle",
                "x0": 2.45,
                "x1": 2.65,
                "y0": -0.05,
                "y1": 1.05
               },
               {
                "fillcolor": "#2f9150",
                "line": {
                 "color": "rgba(0, 0, 0, 0)"
                },
                "type": "circle",
                "x0": 3.45,
                "x1": 3.65,
                "y0": -0.05,
                "y1": 1.05
               },
               {
                "fillcolor": "#3352a3",
                "line": {
                 "color": "rgba(0, 0, 0, 0)"
                },
                "type": "rect",
                "x0": 3.75,
                "x1": 4.85,
                "y0": 0,
                "y1": 1
               },
               {
                "fillcolor": "#3352a3",
                "line": {
                 "color": "rgba(0, 0, 0, 0)"
                },
                "type": "circle",
                "x0": 3.7,
                "x1": 3.9,
                "y0": -0.05,
                "y1": 1.05
               },
               {
                "fillcolor": "#3352a3",
                "line": {
                 "color": "rgba(0, 0, 0, 0)"
                },
                "type": "circle",
                "x0": 4.7,
                "x1": 4.9,
                "y0": -0.05,
                "y1": 1.05
               },
               {
                "fillcolor": "#8a1a7a",
                "line": {
                 "color": "rgba(0, 0, 0, 0)"
                },
                "type": "rect",
                "x0": 5,
                "x1": 6.1,
                "y0": 0,
                "y1": 1
               },
               {
                "fillcolor": "#8a1a7a",
                "line": {
                 "color": "rgba(0, 0, 0, 0)"
                },
                "type": "circle",
                "x0": 4.95,
                "x1": 5.15,
                "y0": -0.05,
                "y1": 1.05
               },
               {
                "fillcolor": "#8a1a7a",
                "line": {
                 "color": "rgba(0, 0, 0, 0)"
                },
                "type": "circle",
                "x0": 5.95,
                "x1": 6.15,
                "y0": -0.05,
                "y1": 1.05
               }
              ],
              "title": {
               "text": "Committed electric school buses, by adoption status — AMERICAN SAMOA"
              }
             }
            ],
            "label": "AMERICAN SAMOA",
            "method": "update"
           },
           {
            "args": [
             {
              "visible": [
               true
              ]
             },
             {
              "annotations": [
               {
                "font": {
                 "color": "white",
                 "family": "Arial Black",
                 "size": 22
                },
                "showarrow": false,
                "text": "189",
                "x": 0.55,
                "y": 0.58
               },
               {
                "font": {
                 "color": "white",
                 "size": 12
                },
                "showarrow": false,
                "text": "Total committed ESBs",
                "x": 0.55,
                "y": 0.22
               },
               {
                "font": {
                 "color": "white",
                 "family": "Arial Black",
                 "size": 22
                },
                "showarrow": false,
                "text": "141",
                "x": 1.8,
                "y": 0.58
               },
               {
                "font": {
                 "color": "white",
                 "size": 12
                },
                "showarrow": false,
                "text": "Awarded ESBs",
                "x": 1.8,
                "y": 0.22
               },
               {
                "font": {
                 "color": "white",
                 "family": "Arial Black",
                 "size": 22
                },
                "showarrow": false,
                "text": "16",
                "x": 3.05,
                "y": 0.58
               },
               {
                "font": {
                 "color": "white",
                 "size": 12
                },
                "showarrow": false,
                "text": "Ordered ESBs",
                "x": 3.05,
                "y": 0.22
               },
               {
                "font": {
                 "color": "white",
                 "family": "Arial Black",
                 "size": 22
                },
                "showarrow": false,
                "text": "32",
                "x": 4.3,
                "y": 0.58
               },
               {
                "font": {
                 "color": "white",
                 "size": 12
                },
                "showarrow": false,
                "text": "Delivered or operating ESBs",
                "x": 4.3,
                "y": 0.22
               },
               {
                "font": {
                 "color": "white",
                 "family": "Arial Black",
                 "size": 22
                },
                "showarrow": false,
                "text": "1 870",
                "x": 5.55,
                "y": 0.58
               },
               {
                "font": {
                 "color": "white",
                 "size": 12
                },
                "showarrow": false,
                "text": "Students riding ESBs",
                "x": 5.55,
                "y": 0.22
               }
              ],
              "shapes": [
               {
                "fillcolor": "#9e1b1f",
                "line": {
                 "color": "rgba(0, 0, 0, 0)"
                },
                "type": "rect",
                "x0": 0,
                "x1": 1.1,
                "y0": 0,
                "y1": 1
               },
               {
                "fillcolor": "#9e1b1f",
                "line": {
                 "color": "rgba(0, 0, 0, 0)"
                },
                "type": "circle",
                "x0": -0.05,
                "x1": 0.15,
                "y0": -0.05,
                "y1": 1.05
               },
               {
                "fillcolor": "#9e1b1f",
                "line": {
                 "color": "rgba(0, 0, 0, 0)"
                },
                "type": "circle",
                "x0": 0.95,
                "x1": 1.15,
                "y0": -0.05,
                "y1": 1.05
               },
               {
                "fillcolor": "#0f7c89",
                "line": {
                 "color": "rgba(0, 0, 0, 0)"
                },
                "type": "rect",
                "x0": 1.25,
                "x1": 2.35,
                "y0": 0,
                "y1": 1
               },
               {
                "fillcolor": "#0f7c89",
                "line": {
                 "color": "rgba(0, 0, 0, 0)"
                },
                "type": "circle",
                "x0": 1.2,
                "x1": 1.4,
                "y0": -0.05,
                "y1": 1.05
               },
               {
                "fillcolor": "#0f7c89",
                "line": {
                 "color": "rgba(0, 0, 0, 0)"
                },
                "type": "circle",
                "x0": 2.2,
                "x1": 2.4,
                "y0": -0.05,
                "y1": 1.05
               },
               {
                "fillcolor": "#2f9150",
                "line": {
                 "color": "rgba(0, 0, 0, 0)"
                },
                "type": "rect",
                "x0": 2.5,
                "x1": 3.6,
                "y0": 0,
                "y1": 1
               },
               {
                "fillcolor": "#2f9150",
                "line": {
                 "color": "rgba(0, 0, 0, 0)"
                },
                "type": "circle",
                "x0": 2.45,
                "x1": 2.65,
                "y0": -0.05,
                "y1": 1.05
               },
               {
                "fillcolor": "#2f9150",
                "line": {
                 "color": "rgba(0, 0, 0, 0)"
                },
                "type": "circle",
                "x0": 3.45,
                "x1": 3.65,
                "y0": -0.05,
                "y1": 1.05
               },
               {
                "fillcolor": "#3352a3",
                "line": {
                 "color": "rgba(0, 0, 0, 0)"
                },
                "type": "rect",
                "x0": 3.75,
                "x1": 4.85,
                "y0": 0,
                "y1": 1
               },
               {
                "fillcolor": "#3352a3",
                "line": {
                 "color": "rgba(0, 0, 0, 0)"
                },
                "type": "circle",
                "x0": 3.7,
                "x1": 3.9,
                "y0": -0.05,
                "y1": 1.05
               },
               {
                "fillcolor": "#3352a3",
                "line": {
                 "color": "rgba(0, 0, 0, 0)"
                },
                "type": "circle",
                "x0": 4.7,
                "x1": 4.9,
                "y0": -0.05,
                "y1": 1.05
               },
               {
                "fillcolor": "#8a1a7a",
                "line": {
                 "color": "rgba(0, 0, 0, 0)"
                },
                "type": "rect",
                "x0": 5,
                "x1": 6.1,
                "y0": 0,
                "y1": 1
               },
               {
                "fillcolor": "#8a1a7a",
                "line": {
                 "color": "rgba(0, 0, 0, 0)"
                },
                "type": "circle",
                "x0": 4.95,
                "x1": 5.15,
                "y0": -0.05,
                "y1": 1.05
               },
               {
                "fillcolor": "#8a1a7a",
                "line": {
                 "color": "rgba(0, 0, 0, 0)"
                },
                "type": "circle",
                "x0": 5.95,
                "x1": 6.15,
                "y0": -0.05,
                "y1": 1.05
               }
              ],
              "title": {
               "text": "Committed electric school buses, by adoption status — ARIZONA"
              }
             }
            ],
            "label": "ARIZONA",
            "method": "update"
           },
           {
            "args": [
             {
              "visible": [
               true
              ]
             },
             {
              "annotations": [
               {
                "font": {
                 "color": "white",
                 "family": "Arial Black",
                 "size": 22
                },
                "showarrow": false,
                "text": "98",
                "x": 0.55,
                "y": 0.58
               },
               {
                "font": {
                 "color": "white",
                 "size": 12
                },
                "showarrow": false,
                "text": "Total committed ESBs",
                "x": 0.55,
                "y": 0.22
               },
               {
                "font": {
                 "color": "white",
                 "family": "Arial Black",
                 "size": 22
                },
                "showarrow": false,
                "text": "68",
                "x": 1.8,
                "y": 0.58
               },
               {
                "font": {
                 "color": "white",
                 "size": 12
                },
                "showarrow": false,
                "text": "Awarded ESBs",
                "x": 1.8,
                "y": 0.22
               },
               {
                "font": {
                 "color": "white",
                 "family": "Arial Black",
                 "size": 22
                },
                "showarrow": false,
                "text": "6",
                "x": 3.05,
                "y": 0.58
               },
               {
                "font": {
                 "color": "white",
                 "size": 12
                },
                "showarrow": false,
                "text": "Ordered ESBs",
                "x": 3.05,
                "y": 0.22
               },
               {
                "font": {
                 "color": "white",
                 "family": "Arial Black",
                 "size": 22
                },
                "showarrow": false,
                "text": "24",
                "x": 4.3,
                "y": 0.58
               },
               {
                "font": {
                 "color": "white",
                 "size": 12
                },
                "showarrow": false,
                "text": "Delivered or operating ESBs",
                "x": 4.3,
                "y": 0.22
               },
               {
                "font": {
                 "color": "white",
                 "family": "Arial Black",
                 "size": 22
                },
                "showarrow": false,
                "text": "1 373",
                "x": 5.55,
                "y": 0.58
               },
               {
                "font": {
                 "color": "white",
                 "size": 12
                },
                "showarrow": false,
                "text": "Students riding ESBs",
                "x": 5.55,
                "y": 0.22
               }
              ],
              "shapes": [
               {
                "fillcolor": "#9e1b1f",
                "line": {
                 "color": "rgba(0, 0, 0, 0)"
                },
                "type": "rect",
                "x0": 0,
                "x1": 1.1,
                "y0": 0,
                "y1": 1
               },
               {
                "fillcolor": "#9e1b1f",
                "line": {
                 "color": "rgba(0, 0, 0, 0)"
                },
                "type": "circle",
                "x0": -0.05,
                "x1": 0.15,
                "y0": -0.05,
                "y1": 1.05
               },
               {
                "fillcolor": "#9e1b1f",
                "line": {
                 "color": "rgba(0, 0, 0, 0)"
                },
                "type": "circle",
                "x0": 0.95,
                "x1": 1.15,
                "y0": -0.05,
                "y1": 1.05
               },
               {
                "fillcolor": "#0f7c89",
                "line": {
                 "color": "rgba(0, 0, 0, 0)"
                },
                "type": "rect",
                "x0": 1.25,
                "x1": 2.35,
                "y0": 0,
                "y1": 1
               },
               {
                "fillcolor": "#0f7c89",
                "line": {
                 "color": "rgba(0, 0, 0, 0)"
                },
                "type": "circle",
                "x0": 1.2,
                "x1": 1.4,
                "y0": -0.05,
                "y1": 1.05
               },
               {
                "fillcolor": "#0f7c89",
                "line": {
                 "color": "rgba(0, 0, 0, 0)"
                },
                "type": "circle",
                "x0": 2.2,
                "x1": 2.4,
                "y0": -0.05,
                "y1": 1.05
               },
               {
                "fillcolor": "#2f9150",
                "line": {
                 "color": "rgba(0, 0, 0, 0)"
                },
                "type": "rect",
                "x0": 2.5,
                "x1": 3.6,
                "y0": 0,
                "y1": 1
               },
               {
                "fillcolor": "#2f9150",
                "line": {
                 "color": "rgba(0, 0, 0, 0)"
                },
                "type": "circle",
                "x0": 2.45,
                "x1": 2.65,
                "y0": -0.05,
                "y1": 1.05
               },
               {
                "fillcolor": "#2f9150",
                "line": {
                 "color": "rgba(0, 0, 0, 0)"
                },
                "type": "circle",
                "x0": 3.45,
                "x1": 3.65,
                "y0": -0.05,
                "y1": 1.05
               },
               {
                "fillcolor": "#3352a3",
                "line": {
                 "color": "rgba(0, 0, 0, 0)"
                },
                "type": "rect",
                "x0": 3.75,
                "x1": 4.85,
                "y0": 0,
                "y1": 1
               },
               {
                "fillcolor": "#3352a3",
                "line": {
                 "color": "rgba(0, 0, 0, 0)"
                },
                "type": "circle",
                "x0": 3.7,
                "x1": 3.9,
                "y0": -0.05,
                "y1": 1.05
               },
               {
                "fillcolor": "#3352a3",
                "line": {
                 "color": "rgba(0, 0, 0, 0)"
                },
                "type": "circle",
                "x0": 4.7,
                "x1": 4.9,
                "y0": -0.05,
                "y1": 1.05
               },
               {
                "fillcolor": "#8a1a7a",
                "line": {
                 "color": "rgba(0, 0, 0, 0)"
                },
                "type": "rect",
                "x0": 5,
                "x1": 6.1,
                "y0": 0,
                "y1": 1
               },
               {
                "fillcolor": "#8a1a7a",
                "line": {
                 "color": "rgba(0, 0, 0, 0)"
                },
                "type": "circle",
                "x0": 4.95,
                "x1": 5.15,
                "y0": -0.05,
                "y1": 1.05
               },
               {
                "fillcolor": "#8a1a7a",
                "line": {
                 "color": "rgba(0, 0, 0, 0)"
                },
                "type": "circle",
                "x0": 5.95,
                "x1": 6.15,
                "y0": -0.05,
                "y1": 1.05
               }
              ],
              "title": {
               "text": "Committed electric school buses, by adoption status — ARKANSAS"
              }
             }
            ],
            "label": "ARKANSAS",
            "method": "update"
           },
           {
            "args": [
             {
              "visible": [
               true
              ]
             },
             {
              "annotations": [
               {
                "font": {
                 "color": "white",
                 "family": "Arial Black",
                 "size": 22
                },
                "showarrow": false,
                "text": "3 134",
                "x": 0.55,
                "y": 0.58
               },
               {
                "font": {
                 "color": "white",
                 "size": 12
                },
                "showarrow": false,
                "text": "Total committed ESBs",
                "x": 0.55,
                "y": 0.22
               },
               {
                "font": {
                 "color": "white",
                 "family": "Arial Black",
                 "size": 22
                },
                "showarrow": false,
                "text": "673",
                "x": 1.8,
                "y": 0.58
               },
               {
                "font": {
                 "color": "white",
                 "size": 12
                },
                "showarrow": false,
                "text": "Awarded ESBs",
                "x": 1.8,
                "y": 0.22
               },
               {
                "font": {
                 "color": "white",
                 "family": "Arial Black",
                 "size": 22
                },
                "showarrow": false,
                "text": "1 092",
                "x": 3.05,
                "y": 0.58
               },
               {
                "font": {
                 "color": "white",
                 "size": 12
                },
                "showarrow": false,
                "text": "Ordered ESBs",
                "x": 3.05,
                "y": 0.22
               },
               {
                "font": {
                 "color": "white",
                 "family": "Arial Black",
                 "size": 22
                },
                "showarrow": false,
                "text": "1 369",
                "x": 4.3,
                "y": 0.58
               },
               {
                "font": {
                 "color": "white",
                 "size": 12
                },
                "showarrow": false,
                "text": "Delivered or operating ESBs",
                "x": 4.3,
                "y": 0.22
               },
               {
                "font": {
                 "color": "white",
                 "family": "Arial Black",
                 "size": 22
                },
                "showarrow": false,
                "text": "101 029",
                "x": 5.55,
                "y": 0.58
               },
               {
                "font": {
                 "color": "white",
                 "size": 12
                },
                "showarrow": false,
                "text": "Students riding ESBs",
                "x": 5.55,
                "y": 0.22
               }
              ],
              "shapes": [
               {
                "fillcolor": "#9e1b1f",
                "line": {
                 "color": "rgba(0, 0, 0, 0)"
                },
                "type": "rect",
                "x0": 0,
                "x1": 1.1,
                "y0": 0,
                "y1": 1
               },
               {
                "fillcolor": "#9e1b1f",
                "line": {
                 "color": "rgba(0, 0, 0, 0)"
                },
                "type": "circle",
                "x0": -0.05,
                "x1": 0.15,
                "y0": -0.05,
                "y1": 1.05
               },
               {
                "fillcolor": "#9e1b1f",
                "line": {
                 "color": "rgba(0, 0, 0, 0)"
                },
                "type": "circle",
                "x0": 0.95,
                "x1": 1.15,
                "y0": -0.05,
                "y1": 1.05
               },
               {
                "fillcolor": "#0f7c89",
                "line": {
                 "color": "rgba(0, 0, 0, 0)"
                },
                "type": "rect",
                "x0": 1.25,
                "x1": 2.35,
                "y0": 0,
                "y1": 1
               },
               {
                "fillcolor": "#0f7c89",
                "line": {
                 "color": "rgba(0, 0, 0, 0)"
                },
                "type": "circle",
                "x0": 1.2,
                "x1": 1.4,
                "y0": -0.05,
                "y1": 1.05
               },
               {
                "fillcolor": "#0f7c89",
                "line": {
                 "color": "rgba(0, 0, 0, 0)"
                },
                "type": "circle",
                "x0": 2.2,
                "x1": 2.4,
                "y0": -0.05,
                "y1": 1.05
               },
               {
                "fillcolor": "#2f9150",
                "line": {
                 "color": "rgba(0, 0, 0, 0)"
                },
                "type": "rect",
                "x0": 2.5,
                "x1": 3.6,
                "y0": 0,
                "y1": 1
               },
               {
                "fillcolor": "#2f9150",
                "line": {
                 "color": "rgba(0, 0, 0, 0)"
                },
                "type": "circle",
                "x0": 2.45,
                "x1": 2.65,
                "y0": -0.05,
                "y1": 1.05
               },
               {
                "fillcolor": "#2f9150",
                "line": {
                 "color": "rgba(0, 0, 0, 0)"
                },
                "type": "circle",
                "x0": 3.45,
                "x1": 3.65,
                "y0": -0.05,
                "y1": 1.05
               },
               {
                "fillcolor": "#3352a3",
                "line": {
                 "color": "rgba(0, 0, 0, 0)"
                },
                "type": "rect",
                "x0": 3.75,
                "x1": 4.85,
                "y0": 0,
                "y1": 1
               },
               {
                "fillcolor": "#3352a3",
                "line": {
                 "color": "rgba(0, 0, 0, 0)"
                },
                "type": "circle",
                "x0": 3.7,
                "x1": 3.9,
                "y0": -0.05,
                "y1": 1.05
               },
               {
                "fillcolor": "#3352a3",
                "line": {
                 "color": "rgba(0, 0, 0, 0)"
                },
                "type": "circle",
                "x0": 4.7,
                "x1": 4.9,
                "y0": -0.05,
                "y1": 1.05
               },
               {
                "fillcolor": "#8a1a7a",
                "line": {
                 "color": "rgba(0, 0, 0, 0)"
                },
                "type": "rect",
                "x0": 5,
                "x1": 6.1,
                "y0": 0,
                "y1": 1
               },
               {
                "fillcolor": "#8a1a7a",
                "line": {
                 "color": "rgba(0, 0, 0, 0)"
                },
                "type": "circle",
                "x0": 4.95,
                "x1": 5.15,
                "y0": -0.05,
                "y1": 1.05
               },
               {
                "fillcolor": "#8a1a7a",
                "line": {
                 "color": "rgba(0, 0, 0, 0)"
                },
                "type": "circle",
                "x0": 5.95,
                "x1": 6.15,
                "y0": -0.05,
                "y1": 1.05
               }
              ],
              "title": {
               "text": "Committed electric school buses, by adoption status — CALIFORNIA"
              }
             }
            ],
            "label": "CALIFORNIA",
            "method": "update"
           },
           {
            "args": [
             {
              "visible": [
               true
              ]
             },
             {
              "annotations": [
               {
                "font": {
                 "color": "white",
                 "family": "Arial Black",
                 "size": 22
                },
                "showarrow": false,
                "text": "158",
                "x": 0.55,
                "y": 0.58
               },
               {
                "font": {
                 "color": "white",
                 "size": 12
                },
                "showarrow": false,
                "text": "Total committed ESBs",
                "x": 0.55,
                "y": 0.22
               },
               {
                "font": {
                 "color": "white",
                 "family": "Arial Black",
                 "size": 22
                },
                "showarrow": false,
                "text": "80",
                "x": 1.8,
                "y": 0.58
               },
               {
                "font": {
                 "color": "white",
                 "size": 12
                },
                "showarrow": false,
                "text": "Awarded ESBs",
                "x": 1.8,
                "y": 0.22
               },
               {
                "font": {
                 "color": "white",
                 "family": "Arial Black",
                 "size": 22
                },
                "showarrow": false,
                "text": "17",
                "x": 3.05,
                "y": 0.58
               },
               {
                "font": {
                 "color": "white",
                 "size": 12
                },
                "showarrow": false,
                "text": "Ordered ESBs",
                "x": 3.05,
                "y": 0.22
               },
               {
                "font": {
                 "color": "white",
                 "family": "Arial Black",
                 "size": 22
                },
                "showarrow": false,
                "text": "61",
                "x": 4.3,
                "y": 0.58
               },
               {
                "font": {
                 "color": "white",
                 "size": 12
                },
                "showarrow": false,
                "text": "Delivered or operating ESBs",
                "x": 4.3,
                "y": 0.22
               },
               {
                "font": {
                 "color": "white",
                 "family": "Arial Black",
                 "size": 22
                },
                "showarrow": false,
                "text": "4 344",
                "x": 5.55,
                "y": 0.58
               },
               {
                "font": {
                 "color": "white",
                 "size": 12
                },
                "showarrow": false,
                "text": "Students riding ESBs",
                "x": 5.55,
                "y": 0.22
               }
              ],
              "shapes": [
               {
                "fillcolor": "#9e1b1f",
                "line": {
                 "color": "rgba(0, 0, 0, 0)"
                },
                "type": "rect",
                "x0": 0,
                "x1": 1.1,
                "y0": 0,
                "y1": 1
               },
               {
                "fillcolor": "#9e1b1f",
                "line": {
                 "color": "rgba(0, 0, 0, 0)"
                },
                "type": "circle",
                "x0": -0.05,
                "x1": 0.15,
                "y0": -0.05,
                "y1": 1.05
               },
               {
                "fillcolor": "#9e1b1f",
                "line": {
                 "color": "rgba(0, 0, 0, 0)"
                },
                "type": "circle",
                "x0": 0.95,
                "x1": 1.15,
                "y0": -0.05,
                "y1": 1.05
               },
               {
                "fillcolor": "#0f7c89",
                "line": {
                 "color": "rgba(0, 0, 0, 0)"
                },
                "type": "rect",
                "x0": 1.25,
                "x1": 2.35,
                "y0": 0,
                "y1": 1
               },
               {
                "fillcolor": "#0f7c89",
                "line": {
                 "color": "rgba(0, 0, 0, 0)"
                },
                "type": "circle",
                "x0": 1.2,
                "x1": 1.4,
                "y0": -0.05,
                "y1": 1.05
               },
               {
                "fillcolor": "#0f7c89",
                "line": {
                 "color": "rgba(0, 0, 0, 0)"
                },
                "type": "circle",
                "x0": 2.2,
                "x1": 2.4,
                "y0": -0.05,
                "y1": 1.05
               },
               {
                "fillcolor": "#2f9150",
                "line": {
                 "color": "rgba(0, 0, 0, 0)"
                },
                "type": "rect",
                "x0": 2.5,
                "x1": 3.6,
                "y0": 0,
                "y1": 1
               },
               {
                "fillcolor": "#2f9150",
                "line": {
                 "color": "rgba(0, 0, 0, 0)"
                },
                "type": "circle",
                "x0": 2.45,
                "x1": 2.65,
                "y0": -0.05,
                "y1": 1.05
               },
               {
                "fillcolor": "#2f9150",
                "line": {
                 "color": "rgba(0, 0, 0, 0)"
                },
                "type": "circle",
                "x0": 3.45,
                "x1": 3.65,
                "y0": -0.05,
                "y1": 1.05
               },
               {
                "fillcolor": "#3352a3",
                "line": {
                 "color": "rgba(0, 0, 0, 0)"
                },
                "type": "rect",
                "x0": 3.75,
                "x1": 4.85,
                "y0": 0,
                "y1": 1
               },
               {
                "fillcolor": "#3352a3",
                "line": {
                 "color": "rgba(0, 0, 0, 0)"
                },
                "type": "circle",
                "x0": 3.7,
                "x1": 3.9,
                "y0": -0.05,
                "y1": 1.05
               },
               {
                "fillcolor": "#3352a3",
                "line": {
                 "color": "rgba(0, 0, 0, 0)"
                },
                "type": "circle",
                "x0": 4.7,
                "x1": 4.9,
                "y0": -0.05,
                "y1": 1.05
               },
               {
                "fillcolor": "#8a1a7a",
                "line": {
                 "color": "rgba(0, 0, 0, 0)"
                },
                "type": "rect",
                "x0": 5,
                "x1": 6.1,
                "y0": 0,
                "y1": 1
               },
               {
                "fillcolor": "#8a1a7a",
                "line": {
                 "color": "rgba(0, 0, 0, 0)"
                },
                "type": "circle",
                "x0": 4.95,
                "x1": 5.15,
                "y0": -0.05,
                "y1": 1.05
               },
               {
                "fillcolor": "#8a1a7a",
                "line": {
                 "color": "rgba(0, 0, 0, 0)"
                },
                "type": "circle",
                "x0": 5.95,
                "x1": 6.15,
                "y0": -0.05,
                "y1": 1.05
               }
              ],
              "title": {
               "text": "Committed electric school buses, by adoption status — COLORADO"
              }
             }
            ],
            "label": "COLORADO",
            "method": "update"
           },
           {
            "args": [
             {
              "visible": [
               true
              ]
             },
             {
              "annotations": [
               {
                "font": {
                 "color": "white",
                 "family": "Arial Black",
                 "size": 22
                },
                "showarrow": false,
                "text": "226",
                "x": 0.55,
                "y": 0.58
               },
               {
                "font": {
                 "color": "white",
                 "size": 12
                },
                "showarrow": false,
                "text": "Total committed ESBs",
                "x": 0.55,
                "y": 0.22
               },
               {
                "font": {
                 "color": "white",
                 "family": "Arial Black",
                 "size": 22
                },
                "showarrow": false,
                "text": "156",
                "x": 1.8,
                "y": 0.58
               },
               {
                "font": {
                 "color": "white",
                 "size": 12
                },
                "showarrow": false,
                "text": "Awarded ESBs",
                "x": 1.8,
                "y": 0.22
               },
               {
                "font": {
                 "color": "white",
                 "family": "Arial Black",
                 "size": 22
                },
                "showarrow": false,
                "text": "0",
                "x": 3.05,
                "y": 0.58
               },
               {
                "font": {
                 "color": "white",
                 "size": 12
                },
                "showarrow": false,
                "text": "Ordered ESBs",
                "x": 3.05,
                "y": 0.22
               },
               {
                "font": {
                 "color": "white",
                 "family": "Arial Black",
                 "size": 22
                },
                "showarrow": false,
                "text": "70",
                "x": 4.3,
                "y": 0.58
               },
               {
                "font": {
                 "color": "white",
                 "size": 12
                },
                "showarrow": false,
                "text": "Delivered or operating ESBs",
                "x": 4.3,
                "y": 0.22
               },
               {
                "font": {
                 "color": "white",
                 "family": "Arial Black",
                 "size": 22
                },
                "showarrow": false,
                "text": "4 555",
                "x": 5.55,
                "y": 0.58
               },
               {
                "font": {
                 "color": "white",
                 "size": 12
                },
                "showarrow": false,
                "text": "Students riding ESBs",
                "x": 5.55,
                "y": 0.22
               }
              ],
              "shapes": [
               {
                "fillcolor": "#9e1b1f",
                "line": {
                 "color": "rgba(0, 0, 0, 0)"
                },
                "type": "rect",
                "x0": 0,
                "x1": 1.1,
                "y0": 0,
                "y1": 1
               },
               {
                "fillcolor": "#9e1b1f",
                "line": {
                 "color": "rgba(0, 0, 0, 0)"
                },
                "type": "circle",
                "x0": -0.05,
                "x1": 0.15,
                "y0": -0.05,
                "y1": 1.05
               },
               {
                "fillcolor": "#9e1b1f",
                "line": {
                 "color": "rgba(0, 0, 0, 0)"
                },
                "type": "circle",
                "x0": 0.95,
                "x1": 1.15,
                "y0": -0.05,
                "y1": 1.05
               },
               {
                "fillcolor": "#0f7c89",
                "line": {
                 "color": "rgba(0, 0, 0, 0)"
                },
                "type": "rect",
                "x0": 1.25,
                "x1": 2.35,
                "y0": 0,
                "y1": 1
               },
               {
                "fillcolor": "#0f7c89",
                "line": {
                 "color": "rgba(0, 0, 0, 0)"
                },
                "type": "circle",
                "x0": 1.2,
                "x1": 1.4,
                "y0": -0.05,
                "y1": 1.05
               },
               {
                "fillcolor": "#0f7c89",
                "line": {
                 "color": "rgba(0, 0, 0, 0)"
                },
                "type": "circle",
                "x0": 2.2,
                "x1": 2.4,
                "y0": -0.05,
                "y1": 1.05
               },
               {
                "fillcolor": "#2f9150",
                "line": {
                 "color": "rgba(0, 0, 0, 0)"
                },
                "type": "rect",
                "x0": 2.5,
                "x1": 3.6,
                "y0": 0,
                "y1": 1
               },
               {
                "fillcolor": "#2f9150",
                "line": {
                 "color": "rgba(0, 0, 0, 0)"
                },
                "type": "circle",
                "x0": 2.45,
                "x1": 2.65,
                "y0": -0.05,
                "y1": 1.05
               },
               {
                "fillcolor": "#2f9150",
                "line": {
                 "color": "rgba(0, 0, 0, 0)"
                },
                "type": "circle",
                "x0": 3.45,
                "x1": 3.65,
                "y0": -0.05,
                "y1": 1.05
               },
               {
                "fillcolor": "#3352a3",
                "line": {
                 "color": "rgba(0, 0, 0, 0)"
                },
                "type": "rect",
                "x0": 3.75,
                "x1": 4.85,
                "y0": 0,
                "y1": 1
               },
               {
                "fillcolor": "#3352a3",
                "line": {
                 "color": "rgba(0, 0, 0, 0)"
                },
                "type": "circle",
                "x0": 3.7,
                "x1": 3.9,
                "y0": -0.05,
                "y1": 1.05
               },
               {
                "fillcolor": "#3352a3",
                "line": {
                 "color": "rgba(0, 0, 0, 0)"
                },
                "type": "circle",
                "x0": 4.7,
                "x1": 4.9,
                "y0": -0.05,
                "y1": 1.05
               },
               {
                "fillcolor": "#8a1a7a",
                "line": {
                 "color": "rgba(0, 0, 0, 0)"
                },
                "type": "rect",
                "x0": 5,
                "x1": 6.1,
                "y0": 0,
                "y1": 1
               },
               {
                "fillcolor": "#8a1a7a",
                "line": {
                 "color": "rgba(0, 0, 0, 0)"
                },
                "type": "circle",
                "x0": 4.95,
                "x1": 5.15,
                "y0": -0.05,
                "y1": 1.05
               },
               {
                "fillcolor": "#8a1a7a",
                "line": {
                 "color": "rgba(0, 0, 0, 0)"
                },
                "type": "circle",
                "x0": 5.95,
                "x1": 6.15,
                "y0": -0.05,
                "y1": 1.05
               }
              ],
              "title": {
               "text": "Committed electric school buses, by adoption status — CONNECTICUT"
              }
             }
            ],
            "label": "CONNECTICUT",
            "method": "update"
           },
           {
            "args": [
             {
              "visible": [
               true
              ]
             },
             {
              "annotations": [
               {
                "font": {
                 "color": "white",
                 "family": "Arial Black",
                 "size": 22
                },
                "showarrow": false,
                "text": "5",
                "x": 0.55,
                "y": 0.58
               },
               {
                "font": {
                 "color": "white",
                 "size": 12
                },
                "showarrow": false,
                "text": "Total committed ESBs",
                "x": 0.55,
                "y": 0.22
               },
               {
                "font": {
                 "color": "white",
                 "family": "Arial Black",
                 "size": 22
                },
                "showarrow": false,
                "text": "0",
                "x": 1.8,
                "y": 0.58
               },
               {
                "font": {
                 "color": "white",
                 "size": 12
                },
                "showarrow": false,
                "text": "Awarded ESBs",
                "x": 1.8,
                "y": 0.22
               },
               {
                "font": {
                 "color": "white",
                 "family": "Arial Black",
                 "size": 22
                },
                "showarrow": false,
                "text": "1",
                "x": 3.05,
                "y": 0.58
               },
               {
                "font": {
                 "color": "white",
                 "size": 12
                },
                "showarrow": false,
                "text": "Ordered ESBs",
                "x": 3.05,
                "y": 0.22
               },
               {
                "font": {
                 "color": "white",
                 "family": "Arial Black",
                 "size": 22
                },
                "showarrow": false,
                "text": "4",
                "x": 4.3,
                "y": 0.58
               },
               {
                "font": {
                 "color": "white",
                 "size": 12
                },
                "showarrow": false,
                "text": "Delivered or operating ESBs",
                "x": 4.3,
                "y": 0.22
               },
               {
                "font": {
                 "color": "white",
                 "family": "Arial Black",
                 "size": 22
                },
                "showarrow": false,
                "text": "305",
                "x": 5.55,
                "y": 0.58
               },
               {
                "font": {
                 "color": "white",
                 "size": 12
                },
                "showarrow": false,
                "text": "Students riding ESBs",
                "x": 5.55,
                "y": 0.22
               }
              ],
              "shapes": [
               {
                "fillcolor": "#9e1b1f",
                "line": {
                 "color": "rgba(0, 0, 0, 0)"
                },
                "type": "rect",
                "x0": 0,
                "x1": 1.1,
                "y0": 0,
                "y1": 1
               },
               {
                "fillcolor": "#9e1b1f",
                "line": {
                 "color": "rgba(0, 0, 0, 0)"
                },
                "type": "circle",
                "x0": -0.05,
                "x1": 0.15,
                "y0": -0.05,
                "y1": 1.05
               },
               {
                "fillcolor": "#9e1b1f",
                "line": {
                 "color": "rgba(0, 0, 0, 0)"
                },
                "type": "circle",
                "x0": 0.95,
                "x1": 1.15,
                "y0": -0.05,
                "y1": 1.05
               },
               {
                "fillcolor": "#0f7c89",
                "line": {
                 "color": "rgba(0, 0, 0, 0)"
                },
                "type": "rect",
                "x0": 1.25,
                "x1": 2.35,
                "y0": 0,
                "y1": 1
               },
               {
                "fillcolor": "#0f7c89",
                "line": {
                 "color": "rgba(0, 0, 0, 0)"
                },
                "type": "circle",
                "x0": 1.2,
                "x1": 1.4,
                "y0": -0.05,
                "y1": 1.05
               },
               {
                "fillcolor": "#0f7c89",
                "line": {
                 "color": "rgba(0, 0, 0, 0)"
                },
                "type": "circle",
                "x0": 2.2,
                "x1": 2.4,
                "y0": -0.05,
                "y1": 1.05
               },
               {
                "fillcolor": "#2f9150",
                "line": {
                 "color": "rgba(0, 0, 0, 0)"
                },
                "type": "rect",
                "x0": 2.5,
                "x1": 3.6,
                "y0": 0,
                "y1": 1
               },
               {
                "fillcolor": "#2f9150",
                "line": {
                 "color": "rgba(0, 0, 0, 0)"
                },
                "type": "circle",
                "x0": 2.45,
                "x1": 2.65,
                "y0": -0.05,
                "y1": 1.05
               },
               {
                "fillcolor": "#2f9150",
                "line": {
                 "color": "rgba(0, 0, 0, 0)"
                },
                "type": "circle",
                "x0": 3.45,
                "x1": 3.65,
                "y0": -0.05,
                "y1": 1.05
               },
               {
                "fillcolor": "#3352a3",
                "line": {
                 "color": "rgba(0, 0, 0, 0)"
                },
                "type": "rect",
                "x0": 3.75,
                "x1": 4.85,
                "y0": 0,
                "y1": 1
               },
               {
                "fillcolor": "#3352a3",
                "line": {
                 "color": "rgba(0, 0, 0, 0)"
                },
                "type": "circle",
                "x0": 3.7,
                "x1": 3.9,
                "y0": -0.05,
                "y1": 1.05
               },
               {
                "fillcolor": "#3352a3",
                "line": {
                 "color": "rgba(0, 0, 0, 0)"
                },
                "type": "circle",
                "x0": 4.7,
                "x1": 4.9,
                "y0": -0.05,
                "y1": 1.05
               },
               {
                "fillcolor": "#8a1a7a",
                "line": {
                 "color": "rgba(0, 0, 0, 0)"
                },
                "type": "rect",
                "x0": 5,
                "x1": 6.1,
                "y0": 0,
                "y1": 1
               },
               {
                "fillcolor": "#8a1a7a",
                "line": {
                 "color": "rgba(0, 0, 0, 0)"
                },
                "type": "circle",
                "x0": 4.95,
                "x1": 5.15,
                "y0": -0.05,
                "y1": 1.05
               },
               {
                "fillcolor": "#8a1a7a",
                "line": {
                 "color": "rgba(0, 0, 0, 0)"
                },
                "type": "circle",
                "x0": 5.95,
                "x1": 6.15,
                "y0": -0.05,
                "y1": 1.05
               }
              ],
              "title": {
               "text": "Committed electric school buses, by adoption status — DELAWARE"
              }
             }
            ],
            "label": "DELAWARE",
            "method": "update"
           },
           {
            "args": [
             {
              "visible": [
               true
              ]
             },
             {
              "annotations": [
               {
                "font": {
                 "color": "white",
                 "family": "Arial Black",
                 "size": 22
                },
                "showarrow": false,
                "text": "50",
                "x": 0.55,
                "y": 0.58
               },
               {
                "font": {
                 "color": "white",
                 "size": 12
                },
                "showarrow": false,
                "text": "Total committed ESBs",
                "x": 0.55,
                "y": 0.22
               },
               {
                "font": {
                 "color": "white",
                 "family": "Arial Black",
                 "size": 22
                },
                "showarrow": false,
                "text": "25",
                "x": 1.8,
                "y": 0.58
               },
               {
                "font": {
                 "color": "white",
                 "size": 12
                },
                "showarrow": false,
                "text": "Awarded ESBs",
                "x": 1.8,
                "y": 0.22
               },
               {
                "font": {
                 "color": "white",
                 "family": "Arial Black",
                 "size": 22
                },
                "showarrow": false,
                "text": "0",
                "x": 3.05,
                "y": 0.58
               },
               {
                "font": {
                 "color": "white",
                 "size": 12
                },
                "showarrow": false,
                "text": "Ordered ESBs",
                "x": 3.05,
                "y": 0.22
               },
               {
                "font": {
                 "color": "white",
                 "family": "Arial Black",
                 "size": 22
                },
                "showarrow": false,
                "text": "25",
                "x": 4.3,
                "y": 0.58
               },
               {
                "font": {
                 "color": "white",
                 "size": 12
                },
                "showarrow": false,
                "text": "Delivered or operating ESBs",
                "x": 4.3,
                "y": 0.22
               },
               {
                "font": {
                 "color": "white",
                 "family": "Arial Black",
                 "size": 22
                },
                "showarrow": false,
                "text": "73",
                "x": 5.55,
                "y": 0.58
               },
               {
                "font": {
                 "color": "white",
                 "size": 12
                },
                "showarrow": false,
                "text": "Students riding ESBs",
                "x": 5.55,
                "y": 0.22
               }
              ],
              "shapes": [
               {
                "fillcolor": "#9e1b1f",
                "line": {
                 "color": "rgba(0, 0, 0, 0)"
                },
                "type": "rect",
                "x0": 0,
                "x1": 1.1,
                "y0": 0,
                "y1": 1
               },
               {
                "fillcolor": "#9e1b1f",
                "line": {
                 "color": "rgba(0, 0, 0, 0)"
                },
                "type": "circle",
                "x0": -0.05,
                "x1": 0.15,
                "y0": -0.05,
                "y1": 1.05
               },
               {
                "fillcolor": "#9e1b1f",
                "line": {
                 "color": "rgba(0, 0, 0, 0)"
                },
                "type": "circle",
                "x0": 0.95,
                "x1": 1.15,
                "y0": -0.05,
                "y1": 1.05
               },
               {
                "fillcolor": "#0f7c89",
                "line": {
                 "color": "rgba(0, 0, 0, 0)"
                },
                "type": "rect",
                "x0": 1.25,
                "x1": 2.35,
                "y0": 0,
                "y1": 1
               },
               {
                "fillcolor": "#0f7c89",
                "line": {
                 "color": "rgba(0, 0, 0, 0)"
                },
                "type": "circle",
                "x0": 1.2,
                "x1": 1.4,
                "y0": -0.05,
                "y1": 1.05
               },
               {
                "fillcolor": "#0f7c89",
                "line": {
                 "color": "rgba(0, 0, 0, 0)"
                },
                "type": "circle",
                "x0": 2.2,
                "x1": 2.4,
                "y0": -0.05,
                "y1": 1.05
               },
               {
                "fillcolor": "#2f9150",
                "line": {
                 "color": "rgba(0, 0, 0, 0)"
                },
                "type": "rect",
                "x0": 2.5,
                "x1": 3.6,
                "y0": 0,
                "y1": 1
               },
               {
                "fillcolor": "#2f9150",
                "line": {
                 "color": "rgba(0, 0, 0, 0)"
                },
                "type": "circle",
                "x0": 2.45,
                "x1": 2.65,
                "y0": -0.05,
                "y1": 1.05
               },
               {
                "fillcolor": "#2f9150",
                "line": {
                 "color": "rgba(0, 0, 0, 0)"
                },
                "type": "circle",
                "x0": 3.45,
                "x1": 3.65,
                "y0": -0.05,
                "y1": 1.05
               },
               {
                "fillcolor": "#3352a3",
                "line": {
                 "color": "rgba(0, 0, 0, 0)"
                },
                "type": "rect",
                "x0": 3.75,
                "x1": 4.85,
                "y0": 0,
                "y1": 1
               },
               {
                "fillcolor": "#3352a3",
                "line": {
                 "color": "rgba(0, 0, 0, 0)"
                },
                "type": "circle",
                "x0": 3.7,
                "x1": 3.9,
                "y0": -0.05,
                "y1": 1.05
               },
               {
                "fillcolor": "#3352a3",
                "line": {
                 "color": "rgba(0, 0, 0, 0)"
                },
                "type": "circle",
                "x0": 4.7,
                "x1": 4.9,
                "y0": -0.05,
                "y1": 1.05
               },
               {
                "fillcolor": "#8a1a7a",
                "line": {
                 "color": "rgba(0, 0, 0, 0)"
                },
                "type": "rect",
                "x0": 5,
                "x1": 6.1,
                "y0": 0,
                "y1": 1
               },
               {
                "fillcolor": "#8a1a7a",
                "line": {
                 "color": "rgba(0, 0, 0, 0)"
                },
                "type": "circle",
                "x0": 4.95,
                "x1": 5.15,
                "y0": -0.05,
                "y1": 1.05
               },
               {
                "fillcolor": "#8a1a7a",
                "line": {
                 "color": "rgba(0, 0, 0, 0)"
                },
                "type": "circle",
                "x0": 5.95,
                "x1": 6.15,
                "y0": -0.05,
                "y1": 1.05
               }
              ],
              "title": {
               "text": "Committed electric school buses, by adoption status — DISTRICT OF COLUMBIA"
              }
             }
            ],
            "label": "DISTRICT OF COLUMBIA",
            "method": "update"
           },
           {
            "args": [
             {
              "visible": [
               true
              ]
             },
             {
              "annotations": [
               {
                "font": {
                 "color": "white",
                 "family": "Arial Black",
                 "size": 22
                },
                "showarrow": false,
                "text": "467",
                "x": 0.55,
                "y": 0.58
               },
               {
                "font": {
                 "color": "white",
                 "size": 12
                },
                "showarrow": false,
                "text": "Total committed ESBs",
                "x": 0.55,
                "y": 0.22
               },
               {
                "font": {
                 "color": "white",
                 "family": "Arial Black",
                 "size": 22
                },
                "showarrow": false,
                "text": "206",
                "x": 1.8,
                "y": 0.58
               },
               {
                "font": {
                 "color": "white",
                 "size": 12
                },
                "showarrow": false,
                "text": "Awarded ESBs",
                "x": 1.8,
                "y": 0.22
               },
               {
                "font": {
                 "color": "white",
                 "family": "Arial Black",
                 "size": 22
                },
                "showarrow": false,
                "text": "59",
                "x": 3.05,
                "y": 0.58
               },
               {
                "font": {
                 "color": "white",
                 "size": 12
                },
                "showarrow": false,
                "text": "Ordered ESBs",
                "x": 3.05,
                "y": 0.22
               },
               {
                "font": {
                 "color": "white",
                 "family": "Arial Black",
                 "size": 22
                },
                "showarrow": false,
                "text": "202",
                "x": 4.3,
                "y": 0.58
               },
               {
                "font": {
                 "color": "white",
                 "size": 12
                },
                "showarrow": false,
                "text": "Delivered or operating ESBs",
                "x": 4.3,
                "y": 0.22
               },
               {
                "font": {
                 "color": "white",
                 "family": "Arial Black",
                 "size": 22
                },
                "showarrow": false,
                "text": "15 940",
                "x": 5.55,
                "y": 0.58
               },
               {
                "font": {
                 "color": "white",
                 "size": 12
                },
                "showarrow": false,
                "text": "Students riding ESBs",
                "x": 5.55,
                "y": 0.22
               }
              ],
              "shapes": [
               {
                "fillcolor": "#9e1b1f",
                "line": {
                 "color": "rgba(0, 0, 0, 0)"
                },
                "type": "rect",
                "x0": 0,
                "x1": 1.1,
                "y0": 0,
                "y1": 1
               },
               {
                "fillcolor": "#9e1b1f",
                "line": {
                 "color": "rgba(0, 0, 0, 0)"
                },
                "type": "circle",
                "x0": -0.05,
                "x1": 0.15,
                "y0": -0.05,
                "y1": 1.05
               },
               {
                "fillcolor": "#9e1b1f",
                "line": {
                 "color": "rgba(0, 0, 0, 0)"
                },
                "type": "circle",
                "x0": 0.95,
                "x1": 1.15,
                "y0": -0.05,
                "y1": 1.05
               },
               {
                "fillcolor": "#0f7c89",
                "line": {
                 "color": "rgba(0, 0, 0, 0)"
                },
                "type": "rect",
                "x0": 1.25,
                "x1": 2.35,
                "y0": 0,
                "y1": 1
               },
               {
                "fillcolor": "#0f7c89",
                "line": {
                 "color": "rgba(0, 0, 0, 0)"
                },
                "type": "circle",
                "x0": 1.2,
                "x1": 1.4,
                "y0": -0.05,
                "y1": 1.05
               },
               {
                "fillcolor": "#0f7c89",
                "line": {
                 "color": "rgba(0, 0, 0, 0)"
                },
                "type": "circle",
                "x0": 2.2,
                "x1": 2.4,
                "y0": -0.05,
                "y1": 1.05
               },
               {
                "fillcolor": "#2f9150",
                "line": {
                 "color": "rgba(0, 0, 0, 0)"
                },
                "type": "rect",
                "x0": 2.5,
                "x1": 3.6,
                "y0": 0,
                "y1": 1
               },
               {
                "fillcolor": "#2f9150",
                "line": {
                 "color": "rgba(0, 0, 0, 0)"
                },
                "type": "circle",
                "x0": 2.45,
                "x1": 2.65,
                "y0": -0.05,
                "y1": 1.05
               },
               {
                "fillcolor": "#2f9150",
                "line": {
                 "color": "rgba(0, 0, 0, 0)"
                },
                "type": "circle",
                "x0": 3.45,
                "x1": 3.65,
                "y0": -0.05,
                "y1": 1.05
               },
               {
                "fillcolor": "#3352a3",
                "line": {
                 "color": "rgba(0, 0, 0, 0)"
                },
                "type": "rect",
                "x0": 3.75,
                "x1": 4.85,
                "y0": 0,
                "y1": 1
               },
               {
                "fillcolor": "#3352a3",
                "line": {
                 "color": "rgba(0, 0, 0, 0)"
                },
                "type": "circle",
                "x0": 3.7,
                "x1": 3.9,
                "y0": -0.05,
                "y1": 1.05
               },
               {
                "fillcolor": "#3352a3",
                "line": {
                 "color": "rgba(0, 0, 0, 0)"
                },
                "type": "circle",
                "x0": 4.7,
                "x1": 4.9,
                "y0": -0.05,
                "y1": 1.05
               },
               {
                "fillcolor": "#8a1a7a",
                "line": {
                 "color": "rgba(0, 0, 0, 0)"
                },
                "type": "rect",
                "x0": 5,
                "x1": 6.1,
                "y0": 0,
                "y1": 1
               },
               {
                "fillcolor": "#8a1a7a",
                "line": {
                 "color": "rgba(0, 0, 0, 0)"
                },
                "type": "circle",
                "x0": 4.95,
                "x1": 5.15,
                "y0": -0.05,
                "y1": 1.05
               },
               {
                "fillcolor": "#8a1a7a",
                "line": {
                 "color": "rgba(0, 0, 0, 0)"
                },
                "type": "circle",
                "x0": 5.95,
                "x1": 6.15,
                "y0": -0.05,
                "y1": 1.05
               }
              ],
              "title": {
               "text": "Committed electric school buses, by adoption status — FLORIDA"
              }
             }
            ],
            "label": "FLORIDA",
            "method": "update"
           },
           {
            "args": [
             {
              "visible": [
               true
              ]
             },
             {
              "annotations": [
               {
                "font": {
                 "color": "white",
                 "family": "Arial Black",
                 "size": 22
                },
                "showarrow": false,
                "text": "366",
                "x": 0.55,
                "y": 0.58
               },
               {
                "font": {
                 "color": "white",
                 "size": 12
                },
                "showarrow": false,
                "text": "Total committed ESBs",
                "x": 0.55,
                "y": 0.22
               },
               {
                "font": {
                 "color": "white",
                 "family": "Arial Black",
                 "size": 22
                },
                "showarrow": false,
                "text": "247",
                "x": 1.8,
                "y": 0.58
               },
               {
                "font": {
                 "color": "white",
                 "size": 12
                },
                "showarrow": false,
                "text": "Awarded ESBs",
                "x": 1.8,
                "y": 0.22
               },
               {
                "font": {
                 "color": "white",
                 "family": "Arial Black",
                 "size": 22
                },
                "showarrow": false,
                "text": "0",
                "x": 3.05,
                "y": 0.58
               },
               {
                "font": {
                 "color": "white",
                 "size": 12
                },
                "showarrow": false,
                "text": "Ordered ESBs",
                "x": 3.05,
                "y": 0.22
               },
               {
                "font": {
                 "color": "white",
                 "family": "Arial Black",
                 "size": 22
                },
                "showarrow": false,
                "text": "119",
                "x": 4.3,
                "y": 0.58
               },
               {
                "font": {
                 "color": "white",
                 "size": 12
                },
                "showarrow": false,
                "text": "Delivered or operating ESBs",
                "x": 4.3,
                "y": 0.22
               },
               {
                "font": {
                 "color": "white",
                 "family": "Arial Black",
                 "size": 22
                },
                "showarrow": false,
                "text": "8 026",
                "x": 5.55,
                "y": 0.58
               },
               {
                "font": {
                 "color": "white",
                 "size": 12
                },
                "showarrow": false,
                "text": "Students riding ESBs",
                "x": 5.55,
                "y": 0.22
               }
              ],
              "shapes": [
               {
                "fillcolor": "#9e1b1f",
                "line": {
                 "color": "rgba(0, 0, 0, 0)"
                },
                "type": "rect",
                "x0": 0,
                "x1": 1.1,
                "y0": 0,
                "y1": 1
               },
               {
                "fillcolor": "#9e1b1f",
                "line": {
                 "color": "rgba(0, 0, 0, 0)"
                },
                "type": "circle",
                "x0": -0.05,
                "x1": 0.15,
                "y0": -0.05,
                "y1": 1.05
               },
               {
                "fillcolor": "#9e1b1f",
                "line": {
                 "color": "rgba(0, 0, 0, 0)"
                },
                "type": "circle",
                "x0": 0.95,
                "x1": 1.15,
                "y0": -0.05,
                "y1": 1.05
               },
               {
                "fillcolor": "#0f7c89",
                "line": {
                 "color": "rgba(0, 0, 0, 0)"
                },
                "type": "rect",
                "x0": 1.25,
                "x1": 2.35,
                "y0": 0,
                "y1": 1
               },
               {
                "fillcolor": "#0f7c89",
                "line": {
                 "color": "rgba(0, 0, 0, 0)"
                },
                "type": "circle",
                "x0": 1.2,
                "x1": 1.4,
                "y0": -0.05,
                "y1": 1.05
               },
               {
                "fillcolor": "#0f7c89",
                "line": {
                 "color": "rgba(0, 0, 0, 0)"
                },
                "type": "circle",
                "x0": 2.2,
                "x1": 2.4,
                "y0": -0.05,
                "y1": 1.05
               },
               {
                "fillcolor": "#2f9150",
                "line": {
                 "color": "rgba(0, 0, 0, 0)"
                },
                "type": "rect",
                "x0": 2.5,
                "x1": 3.6,
                "y0": 0,
                "y1": 1
               },
               {
                "fillcolor": "#2f9150",
                "line": {
                 "color": "rgba(0, 0, 0, 0)"
                },
                "type": "circle",
                "x0": 2.45,
                "x1": 2.65,
                "y0": -0.05,
                "y1": 1.05
               },
               {
                "fillcolor": "#2f9150",
                "line": {
                 "color": "rgba(0, 0, 0, 0)"
                },
                "type": "circle",
                "x0": 3.45,
                "x1": 3.65,
                "y0": -0.05,
                "y1": 1.05
               },
               {
                "fillcolor": "#3352a3",
                "line": {
                 "color": "rgba(0, 0, 0, 0)"
                },
                "type": "rect",
                "x0": 3.75,
                "x1": 4.85,
                "y0": 0,
                "y1": 1
               },
               {
                "fillcolor": "#3352a3",
                "line": {
                 "color": "rgba(0, 0, 0, 0)"
                },
                "type": "circle",
                "x0": 3.7,
                "x1": 3.9,
                "y0": -0.05,
                "y1": 1.05
               },
               {
                "fillcolor": "#3352a3",
                "line": {
                 "color": "rgba(0, 0, 0, 0)"
                },
                "type": "circle",
                "x0": 4.7,
                "x1": 4.9,
                "y0": -0.05,
                "y1": 1.05
               },
               {
                "fillcolor": "#8a1a7a",
                "line": {
                 "color": "rgba(0, 0, 0, 0)"
                },
                "type": "rect",
                "x0": 5,
                "x1": 6.1,
                "y0": 0,
                "y1": 1
               },
               {
                "fillcolor": "#8a1a7a",
                "line": {
                 "color": "rgba(0, 0, 0, 0)"
                },
                "type": "circle",
                "x0": 4.95,
                "x1": 5.15,
                "y0": -0.05,
                "y1": 1.05
               },
               {
                "fillcolor": "#8a1a7a",
                "line": {
                 "color": "rgba(0, 0, 0, 0)"
                },
                "type": "circle",
                "x0": 5.95,
                "x1": 6.15,
                "y0": -0.05,
                "y1": 1.05
               }
              ],
              "title": {
               "text": "Committed electric school buses, by adoption status — GEORGIA"
              }
             }
            ],
            "label": "GEORGIA",
            "method": "update"
           },
           {
            "args": [
             {
              "visible": [
               true
              ]
             },
             {
              "annotations": [
               {
                "font": {
                 "color": "white",
                 "family": "Arial Black",
                 "size": 22
                },
                "showarrow": false,
                "text": "25",
                "x": 0.55,
                "y": 0.58
               },
               {
                "font": {
                 "color": "white",
                 "size": 12
                },
                "showarrow": false,
                "text": "Total committed ESBs",
                "x": 0.55,
                "y": 0.22
               },
               {
                "font": {
                 "color": "white",
                 "family": "Arial Black",
                 "size": 22
                },
                "showarrow": false,
                "text": "25",
                "x": 1.8,
                "y": 0.58
               },
               {
                "font": {
                 "color": "white",
                 "size": 12
                },
                "showarrow": false,
                "text": "Awarded ESBs",
                "x": 1.8,
                "y": 0.22
               },
               {
                "font": {
                 "color": "white",
                 "family": "Arial Black",
                 "size": 22
                },
                "showarrow": false,
                "text": "0",
                "x": 3.05,
                "y": 0.58
               },
               {
                "font": {
                 "color": "white",
                 "size": 12
                },
                "showarrow": false,
                "text": "Ordered ESBs",
                "x": 3.05,
                "y": 0.22
               },
               {
                "font": {
                 "color": "white",
                 "family": "Arial Black",
                 "size": 22
                },
                "showarrow": false,
                "text": "0",
                "x": 4.3,
                "y": 0.58
               },
               {
                "font": {
                 "color": "white",
                 "size": 12
                },
                "showarrow": false,
                "text": "Delivered or operating ESBs",
                "x": 4.3,
                "y": 0.22
               },
               {
                "font": {
                 "color": "white",
                 "family": "Arial Black",
                 "size": 22
                },
                "showarrow": false,
                "text": "0",
                "x": 5.55,
                "y": 0.58
               },
               {
                "font": {
                 "color": "white",
                 "size": 12
                },
                "showarrow": false,
                "text": "Students riding ESBs",
                "x": 5.55,
                "y": 0.22
               }
              ],
              "shapes": [
               {
                "fillcolor": "#9e1b1f",
                "line": {
                 "color": "rgba(0, 0, 0, 0)"
                },
                "type": "rect",
                "x0": 0,
                "x1": 1.1,
                "y0": 0,
                "y1": 1
               },
               {
                "fillcolor": "#9e1b1f",
                "line": {
                 "color": "rgba(0, 0, 0, 0)"
                },
                "type": "circle",
                "x0": -0.05,
                "x1": 0.15,
                "y0": -0.05,
                "y1": 1.05
               },
               {
                "fillcolor": "#9e1b1f",
                "line": {
                 "color": "rgba(0, 0, 0, 0)"
                },
                "type": "circle",
                "x0": 0.95,
                "x1": 1.15,
                "y0": -0.05,
                "y1": 1.05
               },
               {
                "fillcolor": "#0f7c89",
                "line": {
                 "color": "rgba(0, 0, 0, 0)"
                },
                "type": "rect",
                "x0": 1.25,
                "x1": 2.35,
                "y0": 0,
                "y1": 1
               },
               {
                "fillcolor": "#0f7c89",
                "line": {
                 "color": "rgba(0, 0, 0, 0)"
                },
                "type": "circle",
                "x0": 1.2,
                "x1": 1.4,
                "y0": -0.05,
                "y1": 1.05
               },
               {
                "fillcolor": "#0f7c89",
                "line": {
                 "color": "rgba(0, 0, 0, 0)"
                },
                "type": "circle",
                "x0": 2.2,
                "x1": 2.4,
                "y0": -0.05,
                "y1": 1.05
               },
               {
                "fillcolor": "#2f9150",
                "line": {
                 "color": "rgba(0, 0, 0, 0)"
                },
                "type": "rect",
                "x0": 2.5,
                "x1": 3.6,
                "y0": 0,
                "y1": 1
               },
               {
                "fillcolor": "#2f9150",
                "line": {
                 "color": "rgba(0, 0, 0, 0)"
                },
                "type": "circle",
                "x0": 2.45,
                "x1": 2.65,
                "y0": -0.05,
                "y1": 1.05
               },
               {
                "fillcolor": "#2f9150",
                "line": {
                 "color": "rgba(0, 0, 0, 0)"
                },
                "type": "circle",
                "x0": 3.45,
                "x1": 3.65,
                "y0": -0.05,
                "y1": 1.05
               },
               {
                "fillcolor": "#3352a3",
                "line": {
                 "color": "rgba(0, 0, 0, 0)"
                },
                "type": "rect",
                "x0": 3.75,
                "x1": 4.85,
                "y0": 0,
                "y1": 1
               },
               {
                "fillcolor": "#3352a3",
                "line": {
                 "color": "rgba(0, 0, 0, 0)"
                },
                "type": "circle",
                "x0": 3.7,
                "x1": 3.9,
                "y0": -0.05,
                "y1": 1.05
               },
               {
                "fillcolor": "#3352a3",
                "line": {
                 "color": "rgba(0, 0, 0, 0)"
                },
                "type": "circle",
                "x0": 4.7,
                "x1": 4.9,
                "y0": -0.05,
                "y1": 1.05
               },
               {
                "fillcolor": "#8a1a7a",
                "line": {
                 "color": "rgba(0, 0, 0, 0)"
                },
                "type": "rect",
                "x0": 5,
                "x1": 6.1,
                "y0": 0,
                "y1": 1
               },
               {
                "fillcolor": "#8a1a7a",
                "line": {
                 "color": "rgba(0, 0, 0, 0)"
                },
                "type": "circle",
                "x0": 4.95,
                "x1": 5.15,
                "y0": -0.05,
                "y1": 1.05
               },
               {
                "fillcolor": "#8a1a7a",
                "line": {
                 "color": "rgba(0, 0, 0, 0)"
                },
                "type": "circle",
                "x0": 5.95,
                "x1": 6.15,
                "y0": -0.05,
                "y1": 1.05
               }
              ],
              "title": {
               "text": "Committed electric school buses, by adoption status — GUAM"
              }
             }
            ],
            "label": "GUAM",
            "method": "update"
           },
           {
            "args": [
             {
              "visible": [
               true
              ]
             },
             {
              "annotations": [
               {
                "font": {
                 "color": "white",
                 "family": "Arial Black",
                 "size": 22
                },
                "showarrow": false,
                "text": "3",
                "x": 0.55,
                "y": 0.58
               },
               {
                "font": {
                 "color": "white",
                 "size": 12
                },
                "showarrow": false,
                "text": "Total committed ESBs",
                "x": 0.55,
                "y": 0.22
               },
               {
                "font": {
                 "color": "white",
                 "family": "Arial Black",
                 "size": 22
                },
                "showarrow": false,
                "text": "0",
                "x": 1.8,
                "y": 0.58
               },
               {
                "font": {
                 "color": "white",
                 "size": 12
                },
                "showarrow": false,
                "text": "Awarded ESBs",
                "x": 1.8,
                "y": 0.22
               },
               {
                "font": {
                 "color": "white",
                 "family": "Arial Black",
                 "size": 22
                },
                "showarrow": false,
                "text": "0",
                "x": 3.05,
                "y": 0.58
               },
               {
                "font": {
                 "color": "white",
                 "size": 12
                },
                "showarrow": false,
                "text": "Ordered ESBs",
                "x": 3.05,
                "y": 0.22
               },
               {
                "font": {
                 "color": "white",
                 "family": "Arial Black",
                 "size": 22
                },
                "showarrow": false,
                "text": "3",
                "x": 4.3,
                "y": 0.58
               },
               {
                "font": {
                 "color": "white",
                 "size": 12
                },
                "showarrow": false,
                "text": "Delivered or operating ESBs",
                "x": 4.3,
                "y": 0.22
               },
               {
                "font": {
                 "color": "white",
                 "family": "Arial Black",
                 "size": 22
                },
                "showarrow": false,
                "text": "195",
                "x": 5.55,
                "y": 0.58
               },
               {
                "font": {
                 "color": "white",
                 "size": 12
                },
                "showarrow": false,
                "text": "Students riding ESBs",
                "x": 5.55,
                "y": 0.22
               }
              ],
              "shapes": [
               {
                "fillcolor": "#9e1b1f",
                "line": {
                 "color": "rgba(0, 0, 0, 0)"
                },
                "type": "rect",
                "x0": 0,
                "x1": 1.1,
                "y0": 0,
                "y1": 1
               },
               {
                "fillcolor": "#9e1b1f",
                "line": {
                 "color": "rgba(0, 0, 0, 0)"
                },
                "type": "circle",
                "x0": -0.05,
                "x1": 0.15,
                "y0": -0.05,
                "y1": 1.05
               },
               {
                "fillcolor": "#9e1b1f",
                "line": {
                 "color": "rgba(0, 0, 0, 0)"
                },
                "type": "circle",
                "x0": 0.95,
                "x1": 1.15,
                "y0": -0.05,
                "y1": 1.05
               },
               {
                "fillcolor": "#0f7c89",
                "line": {
                 "color": "rgba(0, 0, 0, 0)"
                },
                "type": "rect",
                "x0": 1.25,
                "x1": 2.35,
                "y0": 0,
                "y1": 1
               },
               {
                "fillcolor": "#0f7c89",
                "line": {
                 "color": "rgba(0, 0, 0, 0)"
                },
                "type": "circle",
                "x0": 1.2,
                "x1": 1.4,
                "y0": -0.05,
                "y1": 1.05
               },
               {
                "fillcolor": "#0f7c89",
                "line": {
                 "color": "rgba(0, 0, 0, 0)"
                },
                "type": "circle",
                "x0": 2.2,
                "x1": 2.4,
                "y0": -0.05,
                "y1": 1.05
               },
               {
                "fillcolor": "#2f9150",
                "line": {
                 "color": "rgba(0, 0, 0, 0)"
                },
                "type": "rect",
                "x0": 2.5,
                "x1": 3.6,
                "y0": 0,
                "y1": 1
               },
               {
                "fillcolor": "#2f9150",
                "line": {
                 "color": "rgba(0, 0, 0, 0)"
                },
                "type": "circle",
                "x0": 2.45,
                "x1": 2.65,
                "y0": -0.05,
                "y1": 1.05
               },
               {
                "fillcolor": "#2f9150",
                "line": {
                 "color": "rgba(0, 0, 0, 0)"
                },
                "type": "circle",
                "x0": 3.45,
                "x1": 3.65,
                "y0": -0.05,
                "y1": 1.05
               },
               {
                "fillcolor": "#3352a3",
                "line": {
                 "color": "rgba(0, 0, 0, 0)"
                },
                "type": "rect",
                "x0": 3.75,
                "x1": 4.85,
                "y0": 0,
                "y1": 1
               },
               {
                "fillcolor": "#3352a3",
                "line": {
                 "color": "rgba(0, 0, 0, 0)"
                },
                "type": "circle",
                "x0": 3.7,
                "x1": 3.9,
                "y0": -0.05,
                "y1": 1.05
               },
               {
                "fillcolor": "#3352a3",
                "line": {
                 "color": "rgba(0, 0, 0, 0)"
                },
                "type": "circle",
                "x0": 4.7,
                "x1": 4.9,
                "y0": -0.05,
                "y1": 1.05
               },
               {
                "fillcolor": "#8a1a7a",
                "line": {
                 "color": "rgba(0, 0, 0, 0)"
                },
                "type": "rect",
                "x0": 5,
                "x1": 6.1,
                "y0": 0,
                "y1": 1
               },
               {
                "fillcolor": "#8a1a7a",
                "line": {
                 "color": "rgba(0, 0, 0, 0)"
                },
                "type": "circle",
                "x0": 4.95,
                "x1": 5.15,
                "y0": -0.05,
                "y1": 1.05
               },
               {
                "fillcolor": "#8a1a7a",
                "line": {
                 "color": "rgba(0, 0, 0, 0)"
                },
                "type": "circle",
                "x0": 5.95,
                "x1": 6.15,
                "y0": -0.05,
                "y1": 1.05
               }
              ],
              "title": {
               "text": "Committed electric school buses, by adoption status — HAWAII"
              }
             }
            ],
            "label": "HAWAII",
            "method": "update"
           },
           {
            "args": [
             {
              "visible": [
               true
              ]
             },
             {
              "annotations": [
               {
                "font": {
                 "color": "white",
                 "family": "Arial Black",
                 "size": 22
                },
                "showarrow": false,
                "text": "23",
                "x": 0.55,
                "y": 0.58
               },
               {
                "font": {
                 "color": "white",
                 "size": 12
                },
                "showarrow": false,
                "text": "Total committed ESBs",
                "x": 0.55,
                "y": 0.22
               },
               {
                "font": {
                 "color": "white",
                 "family": "Arial Black",
                 "size": 22
                },
                "showarrow": false,
                "text": "10",
                "x": 1.8,
                "y": 0.58
               },
               {
                "font": {
                 "color": "white",
                 "size": 12
                },
                "showarrow": false,
                "text": "Awarded ESBs",
                "x": 1.8,
                "y": 0.22
               },
               {
                "font": {
                 "color": "white",
                 "family": "Arial Black",
                 "size": 22
                },
                "showarrow": false,
                "text": "0",
                "x": 3.05,
                "y": 0.58
               },
               {
                "font": {
                 "color": "white",
                 "size": 12
                },
                "showarrow": false,
                "text": "Ordered ESBs",
                "x": 3.05,
                "y": 0.22
               },
               {
                "font": {
                 "color": "white",
                 "family": "Arial Black",
                 "size": 22
                },
                "showarrow": false,
                "text": "13",
                "x": 4.3,
                "y": 0.58
               },
               {
                "font": {
                 "color": "white",
                 "size": 12
                },
                "showarrow": false,
                "text": "Delivered or operating ESBs",
                "x": 4.3,
                "y": 0.22
               },
               {
                "font": {
                 "color": "white",
                 "family": "Arial Black",
                 "size": 22
                },
                "showarrow": false,
                "text": "915",
                "x": 5.55,
                "y": 0.58
               },
               {
                "font": {
                 "color": "white",
                 "size": 12
                },
                "showarrow": false,
                "text": "Students riding ESBs",
                "x": 5.55,
                "y": 0.22
               }
              ],
              "shapes": [
               {
                "fillcolor": "#9e1b1f",
                "line": {
                 "color": "rgba(0, 0, 0, 0)"
                },
                "type": "rect",
                "x0": 0,
                "x1": 1.1,
                "y0": 0,
                "y1": 1
               },
               {
                "fillcolor": "#9e1b1f",
                "line": {
                 "color": "rgba(0, 0, 0, 0)"
                },
                "type": "circle",
                "x0": -0.05,
                "x1": 0.15,
                "y0": -0.05,
                "y1": 1.05
               },
               {
                "fillcolor": "#9e1b1f",
                "line": {
                 "color": "rgba(0, 0, 0, 0)"
                },
                "type": "circle",
                "x0": 0.95,
                "x1": 1.15,
                "y0": -0.05,
                "y1": 1.05
               },
               {
                "fillcolor": "#0f7c89",
                "line": {
                 "color": "rgba(0, 0, 0, 0)"
                },
                "type": "rect",
                "x0": 1.25,
                "x1": 2.35,
                "y0": 0,
                "y1": 1
               },
               {
                "fillcolor": "#0f7c89",
                "line": {
                 "color": "rgba(0, 0, 0, 0)"
                },
                "type": "circle",
                "x0": 1.2,
                "x1": 1.4,
                "y0": -0.05,
                "y1": 1.05
               },
               {
                "fillcolor": "#0f7c89",
                "line": {
                 "color": "rgba(0, 0, 0, 0)"
                },
                "type": "circle",
                "x0": 2.2,
                "x1": 2.4,
                "y0": -0.05,
                "y1": 1.05
               },
               {
                "fillcolor": "#2f9150",
                "line": {
                 "color": "rgba(0, 0, 0, 0)"
                },
                "type": "rect",
                "x0": 2.5,
                "x1": 3.6,
                "y0": 0,
                "y1": 1
               },
               {
                "fillcolor": "#2f9150",
                "line": {
                 "color": "rgba(0, 0, 0, 0)"
                },
                "type": "circle",
                "x0": 2.45,
                "x1": 2.65,
                "y0": -0.05,
                "y1": 1.05
               },
               {
                "fillcolor": "#2f9150",
                "line": {
                 "color": "rgba(0, 0, 0, 0)"
                },
                "type": "circle",
                "x0": 3.45,
                "x1": 3.65,
                "y0": -0.05,
                "y1": 1.05
               },
               {
                "fillcolor": "#3352a3",
                "line": {
                 "color": "rgba(0, 0, 0, 0)"
                },
                "type": "rect",
                "x0": 3.75,
                "x1": 4.85,
                "y0": 0,
                "y1": 1
               },
               {
                "fillcolor": "#3352a3",
                "line": {
                 "color": "rgba(0, 0, 0, 0)"
                },
                "type": "circle",
                "x0": 3.7,
                "x1": 3.9,
                "y0": -0.05,
                "y1": 1.05
               },
               {
                "fillcolor": "#3352a3",
                "line": {
                 "color": "rgba(0, 0, 0, 0)"
                },
                "type": "circle",
                "x0": 4.7,
                "x1": 4.9,
                "y0": -0.05,
                "y1": 1.05
               },
               {
                "fillcolor": "#8a1a7a",
                "line": {
                 "color": "rgba(0, 0, 0, 0)"
                },
                "type": "rect",
                "x0": 5,
                "x1": 6.1,
                "y0": 0,
                "y1": 1
               },
               {
                "fillcolor": "#8a1a7a",
                "line": {
                 "color": "rgba(0, 0, 0, 0)"
                },
                "type": "circle",
                "x0": 4.95,
                "x1": 5.15,
                "y0": -0.05,
                "y1": 1.05
               },
               {
                "fillcolor": "#8a1a7a",
                "line": {
                 "color": "rgba(0, 0, 0, 0)"
                },
                "type": "circle",
                "x0": 5.95,
                "x1": 6.15,
                "y0": -0.05,
                "y1": 1.05
               }
              ],
              "title": {
               "text": "Committed electric school buses, by adoption status — IDAHO"
              }
             }
            ],
            "label": "IDAHO",
            "method": "update"
           },
           {
            "args": [
             {
              "visible": [
               true
              ]
             },
             {
              "annotations": [
               {
                "font": {
                 "color": "white",
                 "family": "Arial Black",
                 "size": 22
                },
                "showarrow": false,
                "text": "616",
                "x": 0.55,
                "y": 0.58
               },
               {
                "font": {
                 "color": "white",
                 "size": 12
                },
                "showarrow": false,
                "text": "Total committed ESBs",
                "x": 0.55,
                "y": 0.22
               },
               {
                "font": {
                 "color": "white",
                 "family": "Arial Black",
                 "size": 22
                },
                "showarrow": false,
                "text": "402",
                "x": 1.8,
                "y": 0.58
               },
               {
                "font": {
                 "color": "white",
                 "size": 12
                },
                "showarrow": false,
                "text": "Awarded ESBs",
                "x": 1.8,
                "y": 0.22
               },
               {
                "font": {
                 "color": "white",
                 "family": "Arial Black",
                 "size": 22
                },
                "showarrow": false,
                "text": "1",
                "x": 3.05,
                "y": 0.58
               },
               {
                "font": {
                 "color": "white",
                 "size": 12
                },
                "showarrow": false,
                "text": "Ordered ESBs",
                "x": 3.05,
                "y": 0.22
               },
               {
                "font": {
                 "color": "white",
                 "family": "Arial Black",
                 "size": 22
                },
                "showarrow": false,
                "text": "213",
                "x": 4.3,
                "y": 0.58
               },
               {
                "font": {
                 "color": "white",
                 "size": 12
                },
                "showarrow": false,
                "text": "Delivered or operating ESBs",
                "x": 4.3,
                "y": 0.22
               },
               {
                "font": {
                 "color": "white",
                 "family": "Arial Black",
                 "size": 22
                },
                "showarrow": false,
                "text": "12 582",
                "x": 5.55,
                "y": 0.58
               },
               {
                "font": {
                 "color": "white",
                 "size": 12
                },
                "showarrow": false,
                "text": "Students riding ESBs",
                "x": 5.55,
                "y": 0.22
               }
              ],
              "shapes": [
               {
                "fillcolor": "#9e1b1f",
                "line": {
                 "color": "rgba(0, 0, 0, 0)"
                },
                "type": "rect",
                "x0": 0,
                "x1": 1.1,
                "y0": 0,
                "y1": 1
               },
               {
                "fillcolor": "#9e1b1f",
                "line": {
                 "color": "rgba(0, 0, 0, 0)"
                },
                "type": "circle",
                "x0": -0.05,
                "x1": 0.15,
                "y0": -0.05,
                "y1": 1.05
               },
               {
                "fillcolor": "#9e1b1f",
                "line": {
                 "color": "rgba(0, 0, 0, 0)"
                },
                "type": "circle",
                "x0": 0.95,
                "x1": 1.15,
                "y0": -0.05,
                "y1": 1.05
               },
               {
                "fillcolor": "#0f7c89",
                "line": {
                 "color": "rgba(0, 0, 0, 0)"
                },
                "type": "rect",
                "x0": 1.25,
                "x1": 2.35,
                "y0": 0,
                "y1": 1
               },
               {
                "fillcolor": "#0f7c89",
                "line": {
                 "color": "rgba(0, 0, 0, 0)"
                },
                "type": "circle",
                "x0": 1.2,
                "x1": 1.4,
                "y0": -0.05,
                "y1": 1.05
               },
               {
                "fillcolor": "#0f7c89",
                "line": {
                 "color": "rgba(0, 0, 0, 0)"
                },
                "type": "circle",
                "x0": 2.2,
                "x1": 2.4,
                "y0": -0.05,
                "y1": 1.05
               },
               {
                "fillcolor": "#2f9150",
                "line": {
                 "color": "rgba(0, 0, 0, 0)"
                },
                "type": "rect",
                "x0": 2.5,
                "x1": 3.6,
                "y0": 0,
                "y1": 1
               },
               {
                "fillcolor": "#2f9150",
                "line": {
                 "color": "rgba(0, 0, 0, 0)"
                },
                "type": "circle",
                "x0": 2.45,
                "x1": 2.65,
                "y0": -0.05,
                "y1": 1.05
               },
               {
                "fillcolor": "#2f9150",
                "line": {
                 "color": "rgba(0, 0, 0, 0)"
                },
                "type": "circle",
                "x0": 3.45,
                "x1": 3.65,
                "y0": -0.05,
                "y1": 1.05
               },
               {
                "fillcolor": "#3352a3",
                "line": {
                 "color": "rgba(0, 0, 0, 0)"
                },
                "type": "rect",
                "x0": 3.75,
                "x1": 4.85,
                "y0": 0,
                "y1": 1
               },
               {
                "fillcolor": "#3352a3",
                "line": {
                 "color": "rgba(0, 0, 0, 0)"
                },
                "type": "circle",
                "x0": 3.7,
                "x1": 3.9,
                "y0": -0.05,
                "y1": 1.05
               },
               {
                "fillcolor": "#3352a3",
                "line": {
                 "color": "rgba(0, 0, 0, 0)"
                },
                "type": "circle",
                "x0": 4.7,
                "x1": 4.9,
                "y0": -0.05,
                "y1": 1.05
               },
               {
                "fillcolor": "#8a1a7a",
                "line": {
                 "color": "rgba(0, 0, 0, 0)"
                },
                "type": "rect",
                "x0": 5,
                "x1": 6.1,
                "y0": 0,
                "y1": 1
               },
               {
                "fillcolor": "#8a1a7a",
                "line": {
                 "color": "rgba(0, 0, 0, 0)"
                },
                "type": "circle",
                "x0": 4.95,
                "x1": 5.15,
                "y0": -0.05,
                "y1": 1.05
               },
               {
                "fillcolor": "#8a1a7a",
                "line": {
                 "color": "rgba(0, 0, 0, 0)"
                },
                "type": "circle",
                "x0": 5.95,
                "x1": 6.15,
                "y0": -0.05,
                "y1": 1.05
               }
              ],
              "title": {
               "text": "Committed electric school buses, by adoption status — ILLINOIS"
              }
             }
            ],
            "label": "ILLINOIS",
            "method": "update"
           },
           {
            "args": [
             {
              "visible": [
               true
              ]
             },
             {
              "annotations": [
               {
                "font": {
                 "color": "white",
                 "family": "Arial Black",
                 "size": 22
                },
                "showarrow": false,
                "text": "110",
                "x": 0.55,
                "y": 0.58
               },
               {
                "font": {
                 "color": "white",
                 "size": 12
                },
                "showarrow": false,
                "text": "Total committed ESBs",
                "x": 0.55,
                "y": 0.22
               },
               {
                "font": {
                 "color": "white",
                 "family": "Arial Black",
                 "size": 22
                },
                "showarrow": false,
                "text": "64",
                "x": 1.8,
                "y": 0.58
               },
               {
                "font": {
                 "color": "white",
                 "size": 12
                },
                "showarrow": false,
                "text": "Awarded ESBs",
                "x": 1.8,
                "y": 0.22
               },
               {
                "font": {
                 "color": "white",
                 "family": "Arial Black",
                 "size": 22
                },
                "showarrow": false,
                "text": "0",
                "x": 3.05,
                "y": 0.58
               },
               {
                "font": {
                 "color": "white",
                 "size": 12
                },
                "showarrow": false,
                "text": "Ordered ESBs",
                "x": 3.05,
                "y": 0.22
               },
               {
                "font": {
                 "color": "white",
                 "family": "Arial Black",
                 "size": 22
                },
                "showarrow": false,
                "text": "46",
                "x": 4.3,
                "y": 0.58
               },
               {
                "font": {
                 "color": "white",
                 "size": 12
                },
                "showarrow": false,
                "text": "Delivered or operating ESBs",
                "x": 4.3,
                "y": 0.22
               },
               {
                "font": {
                 "color": "white",
                 "family": "Arial Black",
                 "size": 22
                },
                "showarrow": false,
                "text": "3 138",
                "x": 5.55,
                "y": 0.58
               },
               {
                "font": {
                 "color": "white",
                 "size": 12
                },
                "showarrow": false,
                "text": "Students riding ESBs",
                "x": 5.55,
                "y": 0.22
               }
              ],
              "shapes": [
               {
                "fillcolor": "#9e1b1f",
                "line": {
                 "color": "rgba(0, 0, 0, 0)"
                },
                "type": "rect",
                "x0": 0,
                "x1": 1.1,
                "y0": 0,
                "y1": 1
               },
               {
                "fillcolor": "#9e1b1f",
                "line": {
                 "color": "rgba(0, 0, 0, 0)"
                },
                "type": "circle",
                "x0": -0.05,
                "x1": 0.15,
                "y0": -0.05,
                "y1": 1.05
               },
               {
                "fillcolor": "#9e1b1f",
                "line": {
                 "color": "rgba(0, 0, 0, 0)"
                },
                "type": "circle",
                "x0": 0.95,
                "x1": 1.15,
                "y0": -0.05,
                "y1": 1.05
               },
               {
                "fillcolor": "#0f7c89",
                "line": {
                 "color": "rgba(0, 0, 0, 0)"
                },
                "type": "rect",
                "x0": 1.25,
                "x1": 2.35,
                "y0": 0,
                "y1": 1
               },
               {
                "fillcolor": "#0f7c89",
                "line": {
                 "color": "rgba(0, 0, 0, 0)"
                },
                "type": "circle",
                "x0": 1.2,
                "x1": 1.4,
                "y0": -0.05,
                "y1": 1.05
               },
               {
                "fillcolor": "#0f7c89",
                "line": {
                 "color": "rgba(0, 0, 0, 0)"
                },
                "type": "circle",
                "x0": 2.2,
                "x1": 2.4,
                "y0": -0.05,
                "y1": 1.05
               },
               {
                "fillcolor": "#2f9150",
                "line": {
                 "color": "rgba(0, 0, 0, 0)"
                },
                "type": "rect",
                "x0": 2.5,
                "x1": 3.6,
                "y0": 0,
                "y1": 1
               },
               {
                "fillcolor": "#2f9150",
                "line": {
                 "color": "rgba(0, 0, 0, 0)"
                },
                "type": "circle",
                "x0": 2.45,
                "x1": 2.65,
                "y0": -0.05,
                "y1": 1.05
               },
               {
                "fillcolor": "#2f9150",
                "line": {
                 "color": "rgba(0, 0, 0, 0)"
                },
                "type": "circle",
                "x0": 3.45,
                "x1": 3.65,
                "y0": -0.05,
                "y1": 1.05
               },
               {
                "fillcolor": "#3352a3",
                "line": {
                 "color": "rgba(0, 0, 0, 0)"
                },
                "type": "rect",
                "x0": 3.75,
                "x1": 4.85,
                "y0": 0,
                "y1": 1
               },
               {
                "fillcolor": "#3352a3",
                "line": {
                 "color": "rgba(0, 0, 0, 0)"
                },
                "type": "circle",
                "x0": 3.7,
                "x1": 3.9,
                "y0": -0.05,
                "y1": 1.05
               },
               {
                "fillcolor": "#3352a3",
                "line": {
                 "color": "rgba(0, 0, 0, 0)"
                },
                "type": "circle",
                "x0": 4.7,
                "x1": 4.9,
                "y0": -0.05,
                "y1": 1.05
               },
               {
                "fillcolor": "#8a1a7a",
                "line": {
                 "color": "rgba(0, 0, 0, 0)"
                },
                "type": "rect",
                "x0": 5,
                "x1": 6.1,
                "y0": 0,
                "y1": 1
               },
               {
                "fillcolor": "#8a1a7a",
                "line": {
                 "color": "rgba(0, 0, 0, 0)"
                },
                "type": "circle",
                "x0": 4.95,
                "x1": 5.15,
                "y0": -0.05,
                "y1": 1.05
               },
               {
                "fillcolor": "#8a1a7a",
                "line": {
                 "color": "rgba(0, 0, 0, 0)"
                },
                "type": "circle",
                "x0": 5.95,
                "x1": 6.15,
                "y0": -0.05,
                "y1": 1.05
               }
              ],
              "title": {
               "text": "Committed electric school buses, by adoption status — INDIANA"
              }
             }
            ],
            "label": "INDIANA",
            "method": "update"
           },
           {
            "args": [
             {
              "visible": [
               true
              ]
             },
             {
              "annotations": [
               {
                "font": {
                 "color": "white",
                 "family": "Arial Black",
                 "size": 22
                },
                "showarrow": false,
                "text": "58",
                "x": 0.55,
                "y": 0.58
               },
               {
                "font": {
                 "color": "white",
                 "size": 12
                },
                "showarrow": false,
                "text": "Total committed ESBs",
                "x": 0.55,
                "y": 0.22
               },
               {
                "font": {
                 "color": "white",
                 "family": "Arial Black",
                 "size": 22
                },
                "showarrow": false,
                "text": "29",
                "x": 1.8,
                "y": 0.58
               },
               {
                "font": {
                 "color": "white",
                 "size": 12
                },
                "showarrow": false,
                "text": "Awarded ESBs",
                "x": 1.8,
                "y": 0.22
               },
               {
                "font": {
                 "color": "white",
                 "family": "Arial Black",
                 "size": 22
                },
                "showarrow": false,
                "text": "0",
                "x": 3.05,
                "y": 0.58
               },
               {
                "font": {
                 "color": "white",
                 "size": 12
                },
                "showarrow": false,
                "text": "Ordered ESBs",
                "x": 3.05,
                "y": 0.22
               },
               {
                "font": {
                 "color": "white",
                 "family": "Arial Black",
                 "size": 22
                },
                "showarrow": false,
                "text": "29",
                "x": 4.3,
                "y": 0.58
               },
               {
                "font": {
                 "color": "white",
                 "size": 12
                },
                "showarrow": false,
                "text": "Delivered or operating ESBs",
                "x": 4.3,
                "y": 0.22
               },
               {
                "font": {
                 "color": "white",
                 "family": "Arial Black",
                 "size": 22
                },
                "showarrow": false,
                "text": "1 540",
                "x": 5.55,
                "y": 0.58
               },
               {
                "font": {
                 "color": "white",
                 "size": 12
                },
                "showarrow": false,
                "text": "Students riding ESBs",
                "x": 5.55,
                "y": 0.22
               }
              ],
              "shapes": [
               {
                "fillcolor": "#9e1b1f",
                "line": {
                 "color": "rgba(0, 0, 0, 0)"
                },
                "type": "rect",
                "x0": 0,
                "x1": 1.1,
                "y0": 0,
                "y1": 1
               },
               {
                "fillcolor": "#9e1b1f",
                "line": {
                 "color": "rgba(0, 0, 0, 0)"
                },
                "type": "circle",
                "x0": -0.05,
                "x1": 0.15,
                "y0": -0.05,
                "y1": 1.05
               },
               {
                "fillcolor": "#9e1b1f",
                "line": {
                 "color": "rgba(0, 0, 0, 0)"
                },
                "type": "circle",
                "x0": 0.95,
                "x1": 1.15,
                "y0": -0.05,
                "y1": 1.05
               },
               {
                "fillcolor": "#0f7c89",
                "line": {
                 "color": "rgba(0, 0, 0, 0)"
                },
                "type": "rect",
                "x0": 1.25,
                "x1": 2.35,
                "y0": 0,
                "y1": 1
               },
               {
                "fillcolor": "#0f7c89",
                "line": {
                 "color": "rgba(0, 0, 0, 0)"
                },
                "type": "circle",
                "x0": 1.2,
                "x1": 1.4,
                "y0": -0.05,
                "y1": 1.05
               },
               {
                "fillcolor": "#0f7c89",
                "line": {
                 "color": "rgba(0, 0, 0, 0)"
                },
                "type": "circle",
                "x0": 2.2,
                "x1": 2.4,
                "y0": -0.05,
                "y1": 1.05
               },
               {
                "fillcolor": "#2f9150",
                "line": {
                 "color": "rgba(0, 0, 0, 0)"
                },
                "type": "rect",
                "x0": 2.5,
                "x1": 3.6,
                "y0": 0,
                "y1": 1
               },
               {
                "fillcolor": "#2f9150",
                "line": {
                 "color": "rgba(0, 0, 0, 0)"
                },
                "type": "circle",
                "x0": 2.45,
                "x1": 2.65,
                "y0": -0.05,
                "y1": 1.05
               },
               {
                "fillcolor": "#2f9150",
                "line": {
                 "color": "rgba(0, 0, 0, 0)"
                },
                "type": "circle",
                "x0": 3.45,
                "x1": 3.65,
                "y0": -0.05,
                "y1": 1.05
               },
               {
                "fillcolor": "#3352a3",
                "line": {
                 "color": "rgba(0, 0, 0, 0)"
                },
                "type": "rect",
                "x0": 3.75,
                "x1": 4.85,
                "y0": 0,
                "y1": 1
               },
               {
                "fillcolor": "#3352a3",
                "line": {
                 "color": "rgba(0, 0, 0, 0)"
                },
                "type": "circle",
                "x0": 3.7,
                "x1": 3.9,
                "y0": -0.05,
                "y1": 1.05
               },
               {
                "fillcolor": "#3352a3",
                "line": {
                 "color": "rgba(0, 0, 0, 0)"
                },
                "type": "circle",
                "x0": 4.7,
                "x1": 4.9,
                "y0": -0.05,
                "y1": 1.05
               },
               {
                "fillcolor": "#8a1a7a",
                "line": {
                 "color": "rgba(0, 0, 0, 0)"
                },
                "type": "rect",
                "x0": 5,
                "x1": 6.1,
                "y0": 0,
                "y1": 1
               },
               {
                "fillcolor": "#8a1a7a",
                "line": {
                 "color": "rgba(0, 0, 0, 0)"
                },
                "type": "circle",
                "x0": 4.95,
                "x1": 5.15,
                "y0": -0.05,
                "y1": 1.05
               },
               {
                "fillcolor": "#8a1a7a",
                "line": {
                 "color": "rgba(0, 0, 0, 0)"
                },
                "type": "circle",
                "x0": 5.95,
                "x1": 6.15,
                "y0": -0.05,
                "y1": 1.05
               }
              ],
              "title": {
               "text": "Committed electric school buses, by adoption status — IOWA"
              }
             }
            ],
            "label": "IOWA",
            "method": "update"
           },
           {
            "args": [
             {
              "visible": [
               true
              ]
             },
             {
              "annotations": [
               {
                "font": {
                 "color": "white",
                 "family": "Arial Black",
                 "size": 22
                },
                "showarrow": false,
                "text": "94",
                "x": 0.55,
                "y": 0.58
               },
               {
                "font": {
                 "color": "white",
                 "size": 12
                },
                "showarrow": false,
                "text": "Total committed ESBs",
                "x": 0.55,
                "y": 0.22
               },
               {
                "font": {
                 "color": "white",
                 "family": "Arial Black",
                 "size": 22
                },
                "showarrow": false,
                "text": "76",
                "x": 1.8,
                "y": 0.58
               },
               {
                "font": {
                 "color": "white",
                 "size": 12
                },
                "showarrow": false,
                "text": "Awarded ESBs",
                "x": 1.8,
                "y": 0.22
               },
               {
                "font": {
                 "color": "white",
                 "family": "Arial Black",
                 "size": 22
                },
                "showarrow": false,
                "text": "0",
                "x": 3.05,
                "y": 0.58
               },
               {
                "font": {
                 "color": "white",
                 "size": 12
                },
                "showarrow": false,
                "text": "Ordered ESBs",
                "x": 3.05,
                "y": 0.22
               },
               {
                "font": {
                 "color": "white",
                 "family": "Arial Black",
                 "size": 22
                },
                "showarrow": false,
                "text": "18",
                "x": 4.3,
                "y": 0.58
               },
               {
                "font": {
                 "color": "white",
                 "size": 12
                },
                "showarrow": false,
                "text": "Delivered or operating ESBs",
                "x": 4.3,
                "y": 0.22
               },
               {
                "font": {
                 "color": "white",
                 "family": "Arial Black",
                 "size": 22
                },
                "showarrow": false,
                "text": "862",
                "x": 5.55,
                "y": 0.58
               },
               {
                "font": {
                 "color": "white",
                 "size": 12
                },
                "showarrow": false,
                "text": "Students riding ESBs",
                "x": 5.55,
                "y": 0.22
               }
              ],
              "shapes": [
               {
                "fillcolor": "#9e1b1f",
                "line": {
                 "color": "rgba(0, 0, 0, 0)"
                },
                "type": "rect",
                "x0": 0,
                "x1": 1.1,
                "y0": 0,
                "y1": 1
               },
               {
                "fillcolor": "#9e1b1f",
                "line": {
                 "color": "rgba(0, 0, 0, 0)"
                },
                "type": "circle",
                "x0": -0.05,
                "x1": 0.15,
                "y0": -0.05,
                "y1": 1.05
               },
               {
                "fillcolor": "#9e1b1f",
                "line": {
                 "color": "rgba(0, 0, 0, 0)"
                },
                "type": "circle",
                "x0": 0.95,
                "x1": 1.15,
                "y0": -0.05,
                "y1": 1.05
               },
               {
                "fillcolor": "#0f7c89",
                "line": {
                 "color": "rgba(0, 0, 0, 0)"
                },
                "type": "rect",
                "x0": 1.25,
                "x1": 2.35,
                "y0": 0,
                "y1": 1
               },
               {
                "fillcolor": "#0f7c89",
                "line": {
                 "color": "rgba(0, 0, 0, 0)"
                },
                "type": "circle",
                "x0": 1.2,
                "x1": 1.4,
                "y0": -0.05,
                "y1": 1.05
               },
               {
                "fillcolor": "#0f7c89",
                "line": {
                 "color": "rgba(0, 0, 0, 0)"
                },
                "type": "circle",
                "x0": 2.2,
                "x1": 2.4,
                "y0": -0.05,
                "y1": 1.05
               },
               {
                "fillcolor": "#2f9150",
                "line": {
                 "color": "rgba(0, 0, 0, 0)"
                },
                "type": "rect",
                "x0": 2.5,
                "x1": 3.6,
                "y0": 0,
                "y1": 1
               },
               {
                "fillcolor": "#2f9150",
                "line": {
                 "color": "rgba(0, 0, 0, 0)"
                },
                "type": "circle",
                "x0": 2.45,
                "x1": 2.65,
                "y0": -0.05,
                "y1": 1.05
               },
               {
                "fillcolor": "#2f9150",
                "line": {
                 "color": "rgba(0, 0, 0, 0)"
                },
                "type": "circle",
                "x0": 3.45,
                "x1": 3.65,
                "y0": -0.05,
                "y1": 1.05
               },
               {
                "fillcolor": "#3352a3",
                "line": {
                 "color": "rgba(0, 0, 0, 0)"
                },
                "type": "rect",
                "x0": 3.75,
                "x1": 4.85,
                "y0": 0,
                "y1": 1
               },
               {
                "fillcolor": "#3352a3",
                "line": {
                 "color": "rgba(0, 0, 0, 0)"
                },
                "type": "circle",
                "x0": 3.7,
                "x1": 3.9,
                "y0": -0.05,
                "y1": 1.05
               },
               {
                "fillcolor": "#3352a3",
                "line": {
                 "color": "rgba(0, 0, 0, 0)"
                },
                "type": "circle",
                "x0": 4.7,
                "x1": 4.9,
                "y0": -0.05,
                "y1": 1.05
               },
               {
                "fillcolor": "#8a1a7a",
                "line": {
                 "color": "rgba(0, 0, 0, 0)"
                },
                "type": "rect",
                "x0": 5,
                "x1": 6.1,
                "y0": 0,
                "y1": 1
               },
               {
                "fillcolor": "#8a1a7a",
                "line": {
                 "color": "rgba(0, 0, 0, 0)"
                },
                "type": "circle",
                "x0": 4.95,
                "x1": 5.15,
                "y0": -0.05,
                "y1": 1.05
               },
               {
                "fillcolor": "#8a1a7a",
                "line": {
                 "color": "rgba(0, 0, 0, 0)"
                },
                "type": "circle",
                "x0": 5.95,
                "x1": 6.15,
                "y0": -0.05,
                "y1": 1.05
               }
              ],
              "title": {
               "text": "Committed electric school buses, by adoption status — KANSAS"
              }
             }
            ],
            "label": "KANSAS",
            "method": "update"
           },
           {
            "args": [
             {
              "visible": [
               true
              ]
             },
             {
              "annotations": [
               {
                "font": {
                 "color": "white",
                 "family": "Arial Black",
                 "size": 22
                },
                "showarrow": false,
                "text": "104",
                "x": 0.55,
                "y": 0.58
               },
               {
                "font": {
                 "color": "white",
                 "size": 12
                },
                "showarrow": false,
                "text": "Total committed ESBs",
                "x": 0.55,
                "y": 0.22
               },
               {
                "font": {
                 "color": "white",
                 "family": "Arial Black",
                 "size": 22
                },
                "showarrow": false,
                "text": "35",
                "x": 1.8,
                "y": 0.58
               },
               {
                "font": {
                 "color": "white",
                 "size": 12
                },
                "showarrow": false,
                "text": "Awarded ESBs",
                "x": 1.8,
                "y": 0.22
               },
               {
                "font": {
                 "color": "white",
                 "family": "Arial Black",
                 "size": 22
                },
                "showarrow": false,
                "text": "0",
                "x": 3.05,
                "y": 0.58
               },
               {
                "font": {
                 "color": "white",
                 "size": 12
                },
                "showarrow": false,
                "text": "Ordered ESBs",
                "x": 3.05,
                "y": 0.22
               },
               {
                "font": {
                 "color": "white",
                 "family": "Arial Black",
                 "size": 22
                },
                "showarrow": false,
                "text": "69",
                "x": 4.3,
                "y": 0.58
               },
               {
                "font": {
                 "color": "white",
                 "size": 12
                },
                "showarrow": false,
                "text": "Delivered or operating ESBs",
                "x": 4.3,
                "y": 0.22
               },
               {
                "font": {
                 "color": "white",
                 "family": "Arial Black",
                 "size": 22
                },
                "showarrow": false,
                "text": "4 056",
                "x": 5.55,
                "y": 0.58
               },
               {
                "font": {
                 "color": "white",
                 "size": 12
                },
                "showarrow": false,
                "text": "Students riding ESBs",
                "x": 5.55,
                "y": 0.22
               }
              ],
              "shapes": [
               {
                "fillcolor": "#9e1b1f",
                "line": {
                 "color": "rgba(0, 0, 0, 0)"
                },
                "type": "rect",
                "x0": 0,
                "x1": 1.1,
                "y0": 0,
                "y1": 1
               },
               {
                "fillcolor": "#9e1b1f",
                "line": {
                 "color": "rgba(0, 0, 0, 0)"
                },
                "type": "circle",
                "x0": -0.05,
                "x1": 0.15,
                "y0": -0.05,
                "y1": 1.05
               },
               {
                "fillcolor": "#9e1b1f",
                "line": {
                 "color": "rgba(0, 0, 0, 0)"
                },
                "type": "circle",
                "x0": 0.95,
                "x1": 1.15,
                "y0": -0.05,
                "y1": 1.05
               },
               {
                "fillcolor": "#0f7c89",
                "line": {
                 "color": "rgba(0, 0, 0, 0)"
                },
                "type": "rect",
                "x0": 1.25,
                "x1": 2.35,
                "y0": 0,
                "y1": 1
               },
               {
                "fillcolor": "#0f7c89",
                "line": {
                 "color": "rgba(0, 0, 0, 0)"
                },
                "type": "circle",
                "x0": 1.2,
                "x1": 1.4,
                "y0": -0.05,
                "y1": 1.05
               },
               {
                "fillcolor": "#0f7c89",
                "line": {
                 "color": "rgba(0, 0, 0, 0)"
                },
                "type": "circle",
                "x0": 2.2,
                "x1": 2.4,
                "y0": -0.05,
                "y1": 1.05
               },
               {
                "fillcolor": "#2f9150",
                "line": {
                 "color": "rgba(0, 0, 0, 0)"
                },
                "type": "rect",
                "x0": 2.5,
                "x1": 3.6,
                "y0": 0,
                "y1": 1
               },
               {
                "fillcolor": "#2f9150",
                "line": {
                 "color": "rgba(0, 0, 0, 0)"
                },
                "type": "circle",
                "x0": 2.45,
                "x1": 2.65,
                "y0": -0.05,
                "y1": 1.05
               },
               {
                "fillcolor": "#2f9150",
                "line": {
                 "color": "rgba(0, 0, 0, 0)"
                },
                "type": "circle",
                "x0": 3.45,
                "x1": 3.65,
                "y0": -0.05,
                "y1": 1.05
               },
               {
                "fillcolor": "#3352a3",
                "line": {
                 "color": "rgba(0, 0, 0, 0)"
                },
                "type": "rect",
                "x0": 3.75,
                "x1": 4.85,
                "y0": 0,
                "y1": 1
               },
               {
                "fillcolor": "#3352a3",
                "line": {
                 "color": "rgba(0, 0, 0, 0)"
                },
                "type": "circle",
                "x0": 3.7,
                "x1": 3.9,
                "y0": -0.05,
                "y1": 1.05
               },
               {
                "fillcolor": "#3352a3",
                "line": {
                 "color": "rgba(0, 0, 0, 0)"
                },
                "type": "circle",
                "x0": 4.7,
                "x1": 4.9,
                "y0": -0.05,
                "y1": 1.05
               },
               {
                "fillcolor": "#8a1a7a",
                "line": {
                 "color": "rgba(0, 0, 0, 0)"
                },
                "type": "rect",
                "x0": 5,
                "x1": 6.1,
                "y0": 0,
                "y1": 1
               },
               {
                "fillcolor": "#8a1a7a",
                "line": {
                 "color": "rgba(0, 0, 0, 0)"
                },
                "type": "circle",
                "x0": 4.95,
                "x1": 5.15,
                "y0": -0.05,
                "y1": 1.05
               },
               {
                "fillcolor": "#8a1a7a",
                "line": {
                 "color": "rgba(0, 0, 0, 0)"
                },
                "type": "circle",
                "x0": 5.95,
                "x1": 6.15,
                "y0": -0.05,
                "y1": 1.05
               }
              ],
              "title": {
               "text": "Committed electric school buses, by adoption status — KENTUCKY"
              }
             }
            ],
            "label": "KENTUCKY",
            "method": "update"
           },
           {
            "args": [
             {
              "visible": [
               true
              ]
             },
             {
              "annotations": [
               {
                "font": {
                 "color": "white",
                 "family": "Arial Black",
                 "size": 22
                },
                "showarrow": false,
                "text": "300",
                "x": 0.55,
                "y": 0.58
               },
               {
                "font": {
                 "color": "white",
                 "size": 12
                },
                "showarrow": false,
                "text": "Total committed ESBs",
                "x": 0.55,
                "y": 0.22
               },
               {
                "font": {
                 "color": "white",
                 "family": "Arial Black",
                 "size": 22
                },
                "showarrow": false,
                "text": "213",
                "x": 1.8,
                "y": 0.58
               },
               {
                "font": {
                 "color": "white",
                 "size": 12
                },
                "showarrow": false,
                "text": "Awarded ESBs",
                "x": 1.8,
                "y": 0.22
               },
               {
                "font": {
                 "color": "white",
                 "family": "Arial Black",
                 "size": 22
                },
                "showarrow": false,
                "text": "0",
                "x": 3.05,
                "y": 0.58
               },
               {
                "font": {
                 "color": "white",
                 "size": 12
                },
                "showarrow": false,
                "text": "Ordered ESBs",
                "x": 3.05,
                "y": 0.22
               },
               {
                "font": {
                 "color": "white",
                 "family": "Arial Black",
                 "size": 22
                },
                "showarrow": false,
                "text": "87",
                "x": 4.3,
                "y": 0.58
               },
               {
                "font": {
                 "color": "white",
                 "size": 12
                },
                "showarrow": false,
                "text": "Delivered or operating ESBs",
                "x": 4.3,
                "y": 0.22
               },
               {
                "font": {
                 "color": "white",
                 "family": "Arial Black",
                 "size": 22
                },
                "showarrow": false,
                "text": "5 670",
                "x": 5.55,
                "y": 0.58
               },
               {
                "font": {
                 "color": "white",
                 "size": 12
                },
                "showarrow": false,
                "text": "Students riding ESBs",
                "x": 5.55,
                "y": 0.22
               }
              ],
              "shapes": [
               {
                "fillcolor": "#9e1b1f",
                "line": {
                 "color": "rgba(0, 0, 0, 0)"
                },
                "type": "rect",
                "x0": 0,
                "x1": 1.1,
                "y0": 0,
                "y1": 1
               },
               {
                "fillcolor": "#9e1b1f",
                "line": {
                 "color": "rgba(0, 0, 0, 0)"
                },
                "type": "circle",
                "x0": -0.05,
                "x1": 0.15,
                "y0": -0.05,
                "y1": 1.05
               },
               {
                "fillcolor": "#9e1b1f",
                "line": {
                 "color": "rgba(0, 0, 0, 0)"
                },
                "type": "circle",
                "x0": 0.95,
                "x1": 1.15,
                "y0": -0.05,
                "y1": 1.05
               },
               {
                "fillcolor": "#0f7c89",
                "line": {
                 "color": "rgba(0, 0, 0, 0)"
                },
                "type": "rect",
                "x0": 1.25,
                "x1": 2.35,
                "y0": 0,
                "y1": 1
               },
               {
                "fillcolor": "#0f7c89",
                "line": {
                 "color": "rgba(0, 0, 0, 0)"
                },
                "type": "circle",
                "x0": 1.2,
                "x1": 1.4,
                "y0": -0.05,
                "y1": 1.05
               },
               {
                "fillcolor": "#0f7c89",
                "line": {
                 "color": "rgba(0, 0, 0, 0)"
                },
                "type": "circle",
                "x0": 2.2,
                "x1": 2.4,
                "y0": -0.05,
                "y1": 1.05
               },
               {
                "fillcolor": "#2f9150",
                "line": {
                 "color": "rgba(0, 0, 0, 0)"
                },
                "type": "rect",
                "x0": 2.5,
                "x1": 3.6,
                "y0": 0,
                "y1": 1
               },
               {
                "fillcolor": "#2f9150",
                "line": {
                 "color": "rgba(0, 0, 0, 0)"
                },
                "type": "circle",
                "x0": 2.45,
                "x1": 2.65,
                "y0": -0.05,
                "y1": 1.05
               },
               {
                "fillcolor": "#2f9150",
                "line": {
                 "color": "rgba(0, 0, 0, 0)"
                },
                "type": "circle",
                "x0": 3.45,
                "x1": 3.65,
                "y0": -0.05,
                "y1": 1.05
               },
               {
                "fillcolor": "#3352a3",
                "line": {
                 "color": "rgba(0, 0, 0, 0)"
                },
                "type": "rect",
                "x0": 3.75,
                "x1": 4.85,
                "y0": 0,
                "y1": 1
               },
               {
                "fillcolor": "#3352a3",
                "line": {
                 "color": "rgba(0, 0, 0, 0)"
                },
                "type": "circle",
                "x0": 3.7,
                "x1": 3.9,
                "y0": -0.05,
                "y1": 1.05
               },
               {
                "fillcolor": "#3352a3",
                "line": {
                 "color": "rgba(0, 0, 0, 0)"
                },
                "type": "circle",
                "x0": 4.7,
                "x1": 4.9,
                "y0": -0.05,
                "y1": 1.05
               },
               {
                "fillcolor": "#8a1a7a",
                "line": {
                 "color": "rgba(0, 0, 0, 0)"
                },
                "type": "rect",
                "x0": 5,
                "x1": 6.1,
                "y0": 0,
                "y1": 1
               },
               {
                "fillcolor": "#8a1a7a",
                "line": {
                 "color": "rgba(0, 0, 0, 0)"
                },
                "type": "circle",
                "x0": 4.95,
                "x1": 5.15,
                "y0": -0.05,
                "y1": 1.05
               },
               {
                "fillcolor": "#8a1a7a",
                "line": {
                 "color": "rgba(0, 0, 0, 0)"
                },
                "type": "circle",
                "x0": 5.95,
                "x1": 6.15,
                "y0": -0.05,
                "y1": 1.05
               }
              ],
              "title": {
               "text": "Committed electric school buses, by adoption status — LOUISIANA"
              }
             }
            ],
            "label": "LOUISIANA",
            "method": "update"
           },
           {
            "args": [
             {
              "visible": [
               true
              ]
             },
             {
              "annotations": [
               {
                "font": {
                 "color": "white",
                 "family": "Arial Black",
                 "size": 22
                },
                "showarrow": false,
                "text": "82",
                "x": 0.55,
                "y": 0.58
               },
               {
                "font": {
                 "color": "white",
                 "size": 12
                },
                "showarrow": false,
                "text": "Total committed ESBs",
                "x": 0.55,
                "y": 0.22
               },
               {
                "font": {
                 "color": "white",
                 "family": "Arial Black",
                 "size": 22
                },
                "showarrow": false,
                "text": "36",
                "x": 1.8,
                "y": 0.58
               },
               {
                "font": {
                 "color": "white",
                 "size": 12
                },
                "showarrow": false,
                "text": "Awarded ESBs",
                "x": 1.8,
                "y": 0.22
               },
               {
                "font": {
                 "color": "white",
                 "family": "Arial Black",
                 "size": 22
                },
                "showarrow": false,
                "text": "1",
                "x": 3.05,
                "y": 0.58
               },
               {
                "font": {
                 "color": "white",
                 "size": 12
                },
                "showarrow": false,
                "text": "Ordered ESBs",
                "x": 3.05,
                "y": 0.22
               },
               {
                "font": {
                 "color": "white",
                 "family": "Arial Black",
                 "size": 22
                },
                "showarrow": false,
                "text": "45",
                "x": 4.3,
                "y": 0.58
               },
               {
                "font": {
                 "color": "white",
                 "size": 12
                },
                "showarrow": false,
                "text": "Delivered or operating ESBs",
                "x": 4.3,
                "y": 0.22
               },
               {
                "font": {
                 "color": "white",
                 "family": "Arial Black",
                 "size": 22
                },
                "showarrow": false,
                "text": "2 763",
                "x": 5.55,
                "y": 0.58
               },
               {
                "font": {
                 "color": "white",
                 "size": 12
                },
                "showarrow": false,
                "text": "Students riding ESBs",
                "x": 5.55,
                "y": 0.22
               }
              ],
              "shapes": [
               {
                "fillcolor": "#9e1b1f",
                "line": {
                 "color": "rgba(0, 0, 0, 0)"
                },
                "type": "rect",
                "x0": 0,
                "x1": 1.1,
                "y0": 0,
                "y1": 1
               },
               {
                "fillcolor": "#9e1b1f",
                "line": {
                 "color": "rgba(0, 0, 0, 0)"
                },
                "type": "circle",
                "x0": -0.05,
                "x1": 0.15,
                "y0": -0.05,
                "y1": 1.05
               },
               {
                "fillcolor": "#9e1b1f",
                "line": {
                 "color": "rgba(0, 0, 0, 0)"
                },
                "type": "circle",
                "x0": 0.95,
                "x1": 1.15,
                "y0": -0.05,
                "y1": 1.05
               },
               {
                "fillcolor": "#0f7c89",
                "line": {
                 "color": "rgba(0, 0, 0, 0)"
                },
                "type": "rect",
                "x0": 1.25,
                "x1": 2.35,
                "y0": 0,
                "y1": 1
               },
               {
                "fillcolor": "#0f7c89",
                "line": {
                 "color": "rgba(0, 0, 0, 0)"
                },
                "type": "circle",
                "x0": 1.2,
                "x1": 1.4,
                "y0": -0.05,
                "y1": 1.05
               },
               {
                "fillcolor": "#0f7c89",
                "line": {
                 "color": "rgba(0, 0, 0, 0)"
                },
                "type": "circle",
                "x0": 2.2,
                "x1": 2.4,
                "y0": -0.05,
                "y1": 1.05
               },
               {
                "fillcolor": "#2f9150",
                "line": {
                 "color": "rgba(0, 0, 0, 0)"
                },
                "type": "rect",
                "x0": 2.5,
                "x1": 3.6,
                "y0": 0,
                "y1": 1
               },
               {
                "fillcolor": "#2f9150",
                "line": {
                 "color": "rgba(0, 0, 0, 0)"
                },
                "type": "circle",
                "x0": 2.45,
                "x1": 2.65,
                "y0": -0.05,
                "y1": 1.05
               },
               {
                "fillcolor": "#2f9150",
                "line": {
                 "color": "rgba(0, 0, 0, 0)"
                },
                "type": "circle",
                "x0": 3.45,
                "x1": 3.65,
                "y0": -0.05,
                "y1": 1.05
               },
               {
                "fillcolor": "#3352a3",
                "line": {
                 "color": "rgba(0, 0, 0, 0)"
                },
                "type": "rect",
                "x0": 3.75,
                "x1": 4.85,
                "y0": 0,
                "y1": 1
               },
               {
                "fillcolor": "#3352a3",
                "line": {
                 "color": "rgba(0, 0, 0, 0)"
                },
                "type": "circle",
                "x0": 3.7,
                "x1": 3.9,
                "y0": -0.05,
                "y1": 1.05
               },
               {
                "fillcolor": "#3352a3",
                "line": {
                 "color": "rgba(0, 0, 0, 0)"
                },
                "type": "circle",
                "x0": 4.7,
                "x1": 4.9,
                "y0": -0.05,
                "y1": 1.05
               },
               {
                "fillcolor": "#8a1a7a",
                "line": {
                 "color": "rgba(0, 0, 0, 0)"
                },
                "type": "rect",
                "x0": 5,
                "x1": 6.1,
                "y0": 0,
                "y1": 1
               },
               {
                "fillcolor": "#8a1a7a",
                "line": {
                 "color": "rgba(0, 0, 0, 0)"
                },
                "type": "circle",
                "x0": 4.95,
                "x1": 5.15,
                "y0": -0.05,
                "y1": 1.05
               },
               {
                "fillcolor": "#8a1a7a",
                "line": {
                 "color": "rgba(0, 0, 0, 0)"
                },
                "type": "circle",
                "x0": 5.95,
                "x1": 6.15,
                "y0": -0.05,
                "y1": 1.05
               }
              ],
              "title": {
               "text": "Committed electric school buses, by adoption status — MAINE"
              }
             }
            ],
            "label": "MAINE",
            "method": "update"
           },
           {
            "args": [
             {
              "visible": [
               true
              ]
             },
             {
              "annotations": [
               {
                "font": {
                 "color": "white",
                 "family": "Arial Black",
                 "size": 22
                },
                "showarrow": false,
                "text": "439",
                "x": 0.55,
                "y": 0.58
               },
               {
                "font": {
                 "color": "white",
                 "size": 12
                },
                "showarrow": false,
                "text": "Total committed ESBs",
                "x": 0.55,
                "y": 0.22
               },
               {
                "font": {
                 "color": "white",
                 "family": "Arial Black",
                 "size": 22
                },
                "showarrow": false,
                "text": "53",
                "x": 1.8,
                "y": 0.58
               },
               {
                "font": {
                 "color": "white",
                 "size": 12
                },
                "showarrow": false,
                "text": "Awarded ESBs",
                "x": 1.8,
                "y": 0.22
               },
               {
                "font": {
                 "color": "white",
                 "family": "Arial Black",
                 "size": 22
                },
                "showarrow": false,
                "text": "50",
                "x": 3.05,
                "y": 0.58
               },
               {
                "font": {
                 "color": "white",
                 "size": 12
                },
                "showarrow": false,
                "text": "Ordered ESBs",
                "x": 3.05,
                "y": 0.22
               },
               {
                "font": {
                 "color": "white",
                 "family": "Arial Black",
                 "size": 22
                },
                "showarrow": false,
                "text": "336",
                "x": 4.3,
                "y": 0.58
               },
               {
                "font": {
                 "color": "white",
                 "size": 12
                },
                "showarrow": false,
                "text": "Delivered or operating ESBs",
                "x": 4.3,
                "y": 0.22
               },
               {
                "font": {
                 "color": "white",
                 "family": "Arial Black",
                 "size": 22
                },
                "showarrow": false,
                "text": "26 865",
                "x": 5.55,
                "y": 0.58
               },
               {
                "font": {
                 "color": "white",
                 "size": 12
                },
                "showarrow": false,
                "text": "Students riding ESBs",
                "x": 5.55,
                "y": 0.22
               }
              ],
              "shapes": [
               {
                "fillcolor": "#9e1b1f",
                "line": {
                 "color": "rgba(0, 0, 0, 0)"
                },
                "type": "rect",
                "x0": 0,
                "x1": 1.1,
                "y0": 0,
                "y1": 1
               },
               {
                "fillcolor": "#9e1b1f",
                "line": {
                 "color": "rgba(0, 0, 0, 0)"
                },
                "type": "circle",
                "x0": -0.05,
                "x1": 0.15,
                "y0": -0.05,
                "y1": 1.05
               },
               {
                "fillcolor": "#9e1b1f",
                "line": {
                 "color": "rgba(0, 0, 0, 0)"
                },
                "type": "circle",
                "x0": 0.95,
                "x1": 1.15,
                "y0": -0.05,
                "y1": 1.05
               },
               {
                "fillcolor": "#0f7c89",
                "line": {
                 "color": "rgba(0, 0, 0, 0)"
                },
                "type": "rect",
                "x0": 1.25,
                "x1": 2.35,
                "y0": 0,
                "y1": 1
               },
               {
                "fillcolor": "#0f7c89",
                "line": {
                 "color": "rgba(0, 0, 0, 0)"
                },
                "type": "circle",
                "x0": 1.2,
                "x1": 1.4,
                "y0": -0.05,
                "y1": 1.05
               },
               {
                "fillcolor": "#0f7c89",
                "line": {
                 "color": "rgba(0, 0, 0, 0)"
                },
                "type": "circle",
                "x0": 2.2,
                "x1": 2.4,
                "y0": -0.05,
                "y1": 1.05
               },
               {
                "fillcolor": "#2f9150",
                "line": {
                 "color": "rgba(0, 0, 0, 0)"
                },
                "type": "rect",
                "x0": 2.5,
                "x1": 3.6,
                "y0": 0,
                "y1": 1
               },
               {
                "fillcolor": "#2f9150",
                "line": {
                 "color": "rgba(0, 0, 0, 0)"
                },
                "type": "circle",
                "x0": 2.45,
                "x1": 2.65,
                "y0": -0.05,
                "y1": 1.05
               },
               {
                "fillcolor": "#2f9150",
                "line": {
                 "color": "rgba(0, 0, 0, 0)"
                },
                "type": "circle",
                "x0": 3.45,
                "x1": 3.65,
                "y0": -0.05,
                "y1": 1.05
               },
               {
                "fillcolor": "#3352a3",
                "line": {
                 "color": "rgba(0, 0, 0, 0)"
                },
                "type": "rect",
                "x0": 3.75,
                "x1": 4.85,
                "y0": 0,
                "y1": 1
               },
               {
                "fillcolor": "#3352a3",
                "line": {
                 "color": "rgba(0, 0, 0, 0)"
                },
                "type": "circle",
                "x0": 3.7,
                "x1": 3.9,
                "y0": -0.05,
                "y1": 1.05
               },
               {
                "fillcolor": "#3352a3",
                "line": {
                 "color": "rgba(0, 0, 0, 0)"
                },
                "type": "circle",
                "x0": 4.7,
                "x1": 4.9,
                "y0": -0.05,
                "y1": 1.05
               },
               {
                "fillcolor": "#8a1a7a",
                "line": {
                 "color": "rgba(0, 0, 0, 0)"
                },
                "type": "rect",
                "x0": 5,
                "x1": 6.1,
                "y0": 0,
                "y1": 1
               },
               {
                "fillcolor": "#8a1a7a",
                "line": {
                 "color": "rgba(0, 0, 0, 0)"
                },
                "type": "circle",
                "x0": 4.95,
                "x1": 5.15,
                "y0": -0.05,
                "y1": 1.05
               },
               {
                "fillcolor": "#8a1a7a",
                "line": {
                 "color": "rgba(0, 0, 0, 0)"
                },
                "type": "circle",
                "x0": 5.95,
                "x1": 6.15,
                "y0": -0.05,
                "y1": 1.05
               }
              ],
              "title": {
               "text": "Committed electric school buses, by adoption status — MARYLAND"
              }
             }
            ],
            "label": "MARYLAND",
            "method": "update"
           },
           {
            "args": [
             {
              "visible": [
               true
              ]
             },
             {
              "annotations": [
               {
                "font": {
                 "color": "white",
                 "family": "Arial Black",
                 "size": 22
                },
                "showarrow": false,
                "text": "439",
                "x": 0.55,
                "y": 0.58
               },
               {
                "font": {
                 "color": "white",
                 "size": 12
                },
                "showarrow": false,
                "text": "Total committed ESBs",
                "x": 0.55,
                "y": 0.22
               },
               {
                "font": {
                 "color": "white",
                 "family": "Arial Black",
                 "size": 22
                },
                "showarrow": false,
                "text": "283",
                "x": 1.8,
                "y": 0.58
               },
               {
                "font": {
                 "color": "white",
                 "size": 12
                },
                "showarrow": false,
                "text": "Awarded ESBs",
                "x": 1.8,
                "y": 0.22
               },
               {
                "font": {
                 "color": "white",
                 "family": "Arial Black",
                 "size": 22
                },
                "showarrow": false,
                "text": "19",
                "x": 3.05,
                "y": 0.58
               },
               {
                "font": {
                 "color": "white",
                 "size": 12
                },
                "showarrow": false,
                "text": "Ordered ESBs",
                "x": 3.05,
                "y": 0.22
               },
               {
                "font": {
                 "color": "white",
                 "family": "Arial Black",
                 "size": 22
                },
                "showarrow": false,
                "text": "137",
                "x": 4.3,
                "y": 0.58
               },
               {
                "font": {
                 "color": "white",
                 "size": 12
                },
                "showarrow": false,
                "text": "Delivered or operating ESBs",
                "x": 4.3,
                "y": 0.22
               },
               {
                "font": {
                 "color": "white",
                 "family": "Arial Black",
                 "size": 22
                },
                "showarrow": false,
                "text": "9 489",
                "x": 5.55,
                "y": 0.58
               },
               {
                "font": {
                 "color": "white",
                 "size": 12
                },
                "showarrow": false,
                "text": "Students riding ESBs",
                "x": 5.55,
                "y": 0.22
               }
              ],
              "shapes": [
               {
                "fillcolor": "#9e1b1f",
                "line": {
                 "color": "rgba(0, 0, 0, 0)"
                },
                "type": "rect",
                "x0": 0,
                "x1": 1.1,
                "y0": 0,
                "y1": 1
               },
               {
                "fillcolor": "#9e1b1f",
                "line": {
                 "color": "rgba(0, 0, 0, 0)"
                },
                "type": "circle",
                "x0": -0.05,
                "x1": 0.15,
                "y0": -0.05,
                "y1": 1.05
               },
               {
                "fillcolor": "#9e1b1f",
                "line": {
                 "color": "rgba(0, 0, 0, 0)"
                },
                "type": "circle",
                "x0": 0.95,
                "x1": 1.15,
                "y0": -0.05,
                "y1": 1.05
               },
               {
                "fillcolor": "#0f7c89",
                "line": {
                 "color": "rgba(0, 0, 0, 0)"
                },
                "type": "rect",
                "x0": 1.25,
                "x1": 2.35,
                "y0": 0,
                "y1": 1
               },
               {
                "fillcolor": "#0f7c89",
                "line": {
                 "color": "rgba(0, 0, 0, 0)"
                },
                "type": "circle",
                "x0": 1.2,
                "x1": 1.4,
                "y0": -0.05,
                "y1": 1.05
               },
               {
                "fillcolor": "#0f7c89",
                "line": {
                 "color": "rgba(0, 0, 0, 0)"
                },
                "type": "circle",
                "x0": 2.2,
                "x1": 2.4,
                "y0": -0.05,
                "y1": 1.05
               },
               {
                "fillcolor": "#2f9150",
                "line": {
                 "color": "rgba(0, 0, 0, 0)"
                },
                "type": "rect",
                "x0": 2.5,
                "x1": 3.6,
                "y0": 0,
                "y1": 1
               },
               {
                "fillcolor": "#2f9150",
                "line": {
                 "color": "rgba(0, 0, 0, 0)"
                },
                "type": "circle",
                "x0": 2.45,
                "x1": 2.65,
                "y0": -0.05,
                "y1": 1.05
               },
               {
                "fillcolor": "#2f9150",
                "line": {
                 "color": "rgba(0, 0, 0, 0)"
                },
                "type": "circle",
                "x0": 3.45,
                "x1": 3.65,
                "y0": -0.05,
                "y1": 1.05
               },
               {
                "fillcolor": "#3352a3",
                "line": {
                 "color": "rgba(0, 0, 0, 0)"
                },
                "type": "rect",
                "x0": 3.75,
                "x1": 4.85,
                "y0": 0,
                "y1": 1
               },
               {
                "fillcolor": "#3352a3",
                "line": {
                 "color": "rgba(0, 0, 0, 0)"
                },
                "type": "circle",
                "x0": 3.7,
                "x1": 3.9,
                "y0": -0.05,
                "y1": 1.05
               },
               {
                "fillcolor": "#3352a3",
                "line": {
                 "color": "rgba(0, 0, 0, 0)"
                },
                "type": "circle",
                "x0": 4.7,
                "x1": 4.9,
                "y0": -0.05,
                "y1": 1.05
               },
               {
                "fillcolor": "#8a1a7a",
                "line": {
                 "color": "rgba(0, 0, 0, 0)"
                },
                "type": "rect",
                "x0": 5,
                "x1": 6.1,
                "y0": 0,
                "y1": 1
               },
               {
                "fillcolor": "#8a1a7a",
                "line": {
                 "color": "rgba(0, 0, 0, 0)"
                },
                "type": "circle",
                "x0": 4.95,
                "x1": 5.15,
                "y0": -0.05,
                "y1": 1.05
               },
               {
                "fillcolor": "#8a1a7a",
                "line": {
                 "color": "rgba(0, 0, 0, 0)"
                },
                "type": "circle",
                "x0": 5.95,
                "x1": 6.15,
                "y0": -0.05,
                "y1": 1.05
               }
              ],
              "title": {
               "text": "Committed electric school buses, by adoption status — MASSACHUSETTS"
              }
             }
            ],
            "label": "MASSACHUSETTS",
            "method": "update"
           },
           {
            "args": [
             {
              "visible": [
               true
              ]
             },
             {
              "annotations": [
               {
                "font": {
                 "color": "white",
                 "family": "Arial Black",
                 "size": 22
                },
                "showarrow": false,
                "text": "317",
                "x": 0.55,
                "y": 0.58
               },
               {
                "font": {
                 "color": "white",
                 "size": 12
                },
                "showarrow": false,
                "text": "Total committed ESBs",
                "x": 0.55,
                "y": 0.22
               },
               {
                "font": {
                 "color": "white",
                 "family": "Arial Black",
                 "size": 22
                },
                "showarrow": false,
                "text": "165",
                "x": 1.8,
                "y": 0.58
               },
               {
                "font": {
                 "color": "white",
                 "size": 12
                },
                "showarrow": false,
                "text": "Awarded ESBs",
                "x": 1.8,
                "y": 0.22
               },
               {
                "font": {
                 "color": "white",
                 "family": "Arial Black",
                 "size": 22
                },
                "showarrow": false,
                "text": "0",
                "x": 3.05,
                "y": 0.58
               },
               {
                "font": {
                 "color": "white",
                 "size": 12
                },
                "showarrow": false,
                "text": "Ordered ESBs",
                "x": 3.05,
                "y": 0.22
               },
               {
                "font": {
                 "color": "white",
                 "family": "Arial Black",
                 "size": 22
                },
                "showarrow": false,
                "text": "152",
                "x": 4.3,
                "y": 0.58
               },
               {
                "font": {
                 "color": "white",
                 "size": 12
                },
                "showarrow": false,
                "text": "Delivered or operating ESBs",
                "x": 4.3,
                "y": 0.22
               },
               {
                "font": {
                 "color": "white",
                 "family": "Arial Black",
                 "size": 22
                },
                "showarrow": false,
                "text": "9 374",
                "x": 5.55,
                "y": 0.58
               },
               {
                "font": {
                 "color": "white",
                 "size": 12
                },
                "showarrow": false,
                "text": "Students riding ESBs",
                "x": 5.55,
                "y": 0.22
               }
              ],
              "shapes": [
               {
                "fillcolor": "#9e1b1f",
                "line": {
                 "color": "rgba(0, 0, 0, 0)"
                },
                "type": "rect",
                "x0": 0,
                "x1": 1.1,
                "y0": 0,
                "y1": 1
               },
               {
                "fillcolor": "#9e1b1f",
                "line": {
                 "color": "rgba(0, 0, 0, 0)"
                },
                "type": "circle",
                "x0": -0.05,
                "x1": 0.15,
                "y0": -0.05,
                "y1": 1.05
               },
               {
                "fillcolor": "#9e1b1f",
                "line": {
                 "color": "rgba(0, 0, 0, 0)"
                },
                "type": "circle",
                "x0": 0.95,
                "x1": 1.15,
                "y0": -0.05,
                "y1": 1.05
               },
               {
                "fillcolor": "#0f7c89",
                "line": {
                 "color": "rgba(0, 0, 0, 0)"
                },
                "type": "rect",
                "x0": 1.25,
                "x1": 2.35,
                "y0": 0,
                "y1": 1
               },
               {
                "fillcolor": "#0f7c89",
                "line": {
                 "color": "rgba(0, 0, 0, 0)"
                },
                "type": "circle",
                "x0": 1.2,
                "x1": 1.4,
                "y0": -0.05,
                "y1": 1.05
               },
               {
                "fillcolor": "#0f7c89",
                "line": {
                 "color": "rgba(0, 0, 0, 0)"
                },
                "type": "circle",
                "x0": 2.2,
                "x1": 2.4,
                "y0": -0.05,
                "y1": 1.05
               },
               {
                "fillcolor": "#2f9150",
                "line": {
                 "color": "rgba(0, 0, 0, 0)"
                },
                "type": "rect",
                "x0": 2.5,
                "x1": 3.6,
                "y0": 0,
                "y1": 1
               },
               {
                "fillcolor": "#2f9150",
                "line": {
                 "color": "rgba(0, 0, 0, 0)"
                },
                "type": "circle",
                "x0": 2.45,
                "x1": 2.65,
                "y0": -0.05,
                "y1": 1.05
               },
               {
                "fillcolor": "#2f9150",
                "line": {
                 "color": "rgba(0, 0, 0, 0)"
                },
                "type": "circle",
                "x0": 3.45,
                "x1": 3.65,
                "y0": -0.05,
                "y1": 1.05
               },
               {
                "fillcolor": "#3352a3",
                "line": {
                 "color": "rgba(0, 0, 0, 0)"
                },
                "type": "rect",
                "x0": 3.75,
                "x1": 4.85,
                "y0": 0,
                "y1": 1
               },
               {
                "fillcolor": "#3352a3",
                "line": {
                 "color": "rgba(0, 0, 0, 0)"
                },
                "type": "circle",
                "x0": 3.7,
                "x1": 3.9,
                "y0": -0.05,
                "y1": 1.05
               },
               {
                "fillcolor": "#3352a3",
                "line": {
                 "color": "rgba(0, 0, 0, 0)"
                },
                "type": "circle",
                "x0": 4.7,
                "x1": 4.9,
                "y0": -0.05,
                "y1": 1.05
               },
               {
                "fillcolor": "#8a1a7a",
                "line": {
                 "color": "rgba(0, 0, 0, 0)"
                },
                "type": "rect",
                "x0": 5,
                "x1": 6.1,
                "y0": 0,
                "y1": 1
               },
               {
                "fillcolor": "#8a1a7a",
                "line": {
                 "color": "rgba(0, 0, 0, 0)"
                },
                "type": "circle",
                "x0": 4.95,
                "x1": 5.15,
                "y0": -0.05,
                "y1": 1.05
               },
               {
                "fillcolor": "#8a1a7a",
                "line": {
                 "color": "rgba(0, 0, 0, 0)"
                },
                "type": "circle",
                "x0": 5.95,
                "x1": 6.15,
                "y0": -0.05,
                "y1": 1.05
               }
              ],
              "title": {
               "text": "Committed electric school buses, by adoption status — MICHIGAN"
              }
             }
            ],
            "label": "MICHIGAN",
            "method": "update"
           },
           {
            "args": [
             {
              "visible": [
               true
              ]
             },
             {
              "annotations": [
               {
                "font": {
                 "color": "white",
                 "family": "Arial Black",
                 "size": 22
                },
                "showarrow": false,
                "text": "101",
                "x": 0.55,
                "y": 0.58
               },
               {
                "font": {
                 "color": "white",
                 "size": 12
                },
                "showarrow": false,
                "text": "Total committed ESBs",
                "x": 0.55,
                "y": 0.22
               },
               {
                "font": {
                 "color": "white",
                 "family": "Arial Black",
                 "size": 22
                },
                "showarrow": false,
                "text": "87",
                "x": 1.8,
                "y": 0.58
               },
               {
                "font": {
                 "color": "white",
                 "size": 12
                },
                "showarrow": false,
                "text": "Awarded ESBs",
                "x": 1.8,
                "y": 0.22
               },
               {
                "font": {
                 "color": "white",
                 "family": "Arial Black",
                 "size": 22
                },
                "showarrow": false,
                "text": "2",
                "x": 3.05,
                "y": 0.58
               },
               {
                "font": {
                 "color": "white",
                 "size": 12
                },
                "showarrow": false,
                "text": "Ordered ESBs",
                "x": 3.05,
                "y": 0.22
               },
               {
                "font": {
                 "color": "white",
                 "family": "Arial Black",
                 "size": 22
                },
                "showarrow": false,
                "text": "12",
                "x": 4.3,
                "y": 0.58
               },
               {
                "font": {
                 "color": "white",
                 "size": 12
                },
                "showarrow": false,
                "text": "Delivered or operating ESBs",
                "x": 4.3,
                "y": 0.22
               },
               {
                "font": {
                 "color": "white",
                 "family": "Arial Black",
                 "size": 22
                },
                "showarrow": false,
                "text": "851",
                "x": 5.55,
                "y": 0.58
               },
               {
                "font": {
                 "color": "white",
                 "size": 12
                },
                "showarrow": false,
                "text": "Students riding ESBs",
                "x": 5.55,
                "y": 0.22
               }
              ],
              "shapes": [
               {
                "fillcolor": "#9e1b1f",
                "line": {
                 "color": "rgba(0, 0, 0, 0)"
                },
                "type": "rect",
                "x0": 0,
                "x1": 1.1,
                "y0": 0,
                "y1": 1
               },
               {
                "fillcolor": "#9e1b1f",
                "line": {
                 "color": "rgba(0, 0, 0, 0)"
                },
                "type": "circle",
                "x0": -0.05,
                "x1": 0.15,
                "y0": -0.05,
                "y1": 1.05
               },
               {
                "fillcolor": "#9e1b1f",
                "line": {
                 "color": "rgba(0, 0, 0, 0)"
                },
                "type": "circle",
                "x0": 0.95,
                "x1": 1.15,
                "y0": -0.05,
                "y1": 1.05
               },
               {
                "fillcolor": "#0f7c89",
                "line": {
                 "color": "rgba(0, 0, 0, 0)"
                },
                "type": "rect",
                "x0": 1.25,
                "x1": 2.35,
                "y0": 0,
                "y1": 1
               },
               {
                "fillcolor": "#0f7c89",
                "line": {
                 "color": "rgba(0, 0, 0, 0)"
                },
                "type": "circle",
                "x0": 1.2,
                "x1": 1.4,
                "y0": -0.05,
                "y1": 1.05
               },
               {
                "fillcolor": "#0f7c89",
                "line": {
                 "color": "rgba(0, 0, 0, 0)"
                },
                "type": "circle",
                "x0": 2.2,
                "x1": 2.4,
                "y0": -0.05,
                "y1": 1.05
               },
               {
                "fillcolor": "#2f9150",
                "line": {
                 "color": "rgba(0, 0, 0, 0)"
                },
                "type": "rect",
                "x0": 2.5,
                "x1": 3.6,
                "y0": 0,
                "y1": 1
               },
               {
                "fillcolor": "#2f9150",
                "line": {
                 "color": "rgba(0, 0, 0, 0)"
                },
                "type": "circle",
                "x0": 2.45,
                "x1": 2.65,
                "y0": -0.05,
                "y1": 1.05
               },
               {
                "fillcolor": "#2f9150",
                "line": {
                 "color": "rgba(0, 0, 0, 0)"
                },
                "type": "circle",
                "x0": 3.45,
                "x1": 3.65,
                "y0": -0.05,
                "y1": 1.05
               },
               {
                "fillcolor": "#3352a3",
                "line": {
                 "color": "rgba(0, 0, 0, 0)"
                },
                "type": "rect",
                "x0": 3.75,
                "x1": 4.85,
                "y0": 0,
                "y1": 1
               },
               {
                "fillcolor": "#3352a3",
                "line": {
                 "color": "rgba(0, 0, 0, 0)"
                },
                "type": "circle",
                "x0": 3.7,
                "x1": 3.9,
                "y0": -0.05,
                "y1": 1.05
               },
               {
                "fillcolor": "#3352a3",
                "line": {
                 "color": "rgba(0, 0, 0, 0)"
                },
                "type": "circle",
                "x0": 4.7,
                "x1": 4.9,
                "y0": -0.05,
                "y1": 1.05
               },
               {
                "fillcolor": "#8a1a7a",
                "line": {
                 "color": "rgba(0, 0, 0, 0)"
                },
                "type": "rect",
                "x0": 5,
                "x1": 6.1,
                "y0": 0,
                "y1": 1
               },
               {
                "fillcolor": "#8a1a7a",
                "line": {
                 "color": "rgba(0, 0, 0, 0)"
                },
                "type": "circle",
                "x0": 4.95,
                "x1": 5.15,
                "y0": -0.05,
                "y1": 1.05
               },
               {
                "fillcolor": "#8a1a7a",
                "line": {
                 "color": "rgba(0, 0, 0, 0)"
                },
                "type": "circle",
                "x0": 5.95,
                "x1": 6.15,
                "y0": -0.05,
                "y1": 1.05
               }
              ],
              "title": {
               "text": "Committed electric school buses, by adoption status — MINNESOTA"
              }
             }
            ],
            "label": "MINNESOTA",
            "method": "update"
           },
           {
            "args": [
             {
              "visible": [
               true
              ]
             },
             {
              "annotations": [
               {
                "font": {
                 "color": "white",
                 "family": "Arial Black",
                 "size": 22
                },
                "showarrow": false,
                "text": "165",
                "x": 0.55,
                "y": 0.58
               },
               {
                "font": {
                 "color": "white",
                 "size": 12
                },
                "showarrow": false,
                "text": "Total committed ESBs",
                "x": 0.55,
                "y": 0.22
               },
               {
                "font": {
                 "color": "white",
                 "family": "Arial Black",
                 "size": 22
                },
                "showarrow": false,
                "text": "69",
                "x": 1.8,
                "y": 0.58
               },
               {
                "font": {
                 "color": "white",
                 "size": 12
                },
                "showarrow": false,
                "text": "Awarded ESBs",
                "x": 1.8,
                "y": 0.22
               },
               {
                "font": {
                 "color": "white",
                 "family": "Arial Black",
                 "size": 22
                },
                "showarrow": false,
                "text": "23",
                "x": 3.05,
                "y": 0.58
               },
               {
                "font": {
                 "color": "white",
                 "size": 12
                },
                "showarrow": false,
                "text": "Ordered ESBs",
                "x": 3.05,
                "y": 0.22
               },
               {
                "font": {
                 "color": "white",
                 "family": "Arial Black",
                 "size": 22
                },
                "showarrow": false,
                "text": "73",
                "x": 4.3,
                "y": 0.58
               },
               {
                "font": {
                 "color": "white",
                 "size": 12
                },
                "showarrow": false,
                "text": "Delivered or operating ESBs",
                "x": 4.3,
                "y": 0.22
               },
               {
                "font": {
                 "color": "white",
                 "family": "Arial Black",
                 "size": 22
                },
                "showarrow": false,
                "text": "4 529",
                "x": 5.55,
                "y": 0.58
               },
               {
                "font": {
                 "color": "white",
                 "size": 12
                },
                "showarrow": false,
                "text": "Students riding ESBs",
                "x": 5.55,
                "y": 0.22
               }
              ],
              "shapes": [
               {
                "fillcolor": "#9e1b1f",
                "line": {
                 "color": "rgba(0, 0, 0, 0)"
                },
                "type": "rect",
                "x0": 0,
                "x1": 1.1,
                "y0": 0,
                "y1": 1
               },
               {
                "fillcolor": "#9e1b1f",
                "line": {
                 "color": "rgba(0, 0, 0, 0)"
                },
                "type": "circle",
                "x0": -0.05,
                "x1": 0.15,
                "y0": -0.05,
                "y1": 1.05
               },
               {
                "fillcolor": "#9e1b1f",
                "line": {
                 "color": "rgba(0, 0, 0, 0)"
                },
                "type": "circle",
                "x0": 0.95,
                "x1": 1.15,
                "y0": -0.05,
                "y1": 1.05
               },
               {
                "fillcolor": "#0f7c89",
                "line": {
                 "color": "rgba(0, 0, 0, 0)"
                },
                "type": "rect",
                "x0": 1.25,
                "x1": 2.35,
                "y0": 0,
                "y1": 1
               },
               {
                "fillcolor": "#0f7c89",
                "line": {
                 "color": "rgba(0, 0, 0, 0)"
                },
                "type": "circle",
                "x0": 1.2,
                "x1": 1.4,
                "y0": -0.05,
                "y1": 1.05
               },
               {
                "fillcolor": "#0f7c89",
                "line": {
                 "color": "rgba(0, 0, 0, 0)"
                },
                "type": "circle",
                "x0": 2.2,
                "x1": 2.4,
                "y0": -0.05,
                "y1": 1.05
               },
               {
                "fillcolor": "#2f9150",
                "line": {
                 "color": "rgba(0, 0, 0, 0)"
                },
                "type": "rect",
                "x0": 2.5,
                "x1": 3.6,
                "y0": 0,
                "y1": 1
               },
               {
                "fillcolor": "#2f9150",
                "line": {
                 "color": "rgba(0, 0, 0, 0)"
                },
                "type": "circle",
                "x0": 2.45,
                "x1": 2.65,
                "y0": -0.05,
                "y1": 1.05
               },
               {
                "fillcolor": "#2f9150",
                "line": {
                 "color": "rgba(0, 0, 0, 0)"
                },
                "type": "circle",
                "x0": 3.45,
                "x1": 3.65,
                "y0": -0.05,
                "y1": 1.05
               },
               {
                "fillcolor": "#3352a3",
                "line": {
                 "color": "rgba(0, 0, 0, 0)"
                },
                "type": "rect",
                "x0": 3.75,
                "x1": 4.85,
                "y0": 0,
                "y1": 1
               },
               {
                "fillcolor": "#3352a3",
                "line": {
                 "color": "rgba(0, 0, 0, 0)"
                },
                "type": "circle",
                "x0": 3.7,
                "x1": 3.9,
                "y0": -0.05,
                "y1": 1.05
               },
               {
                "fillcolor": "#3352a3",
                "line": {
                 "color": "rgba(0, 0, 0, 0)"
                },
                "type": "circle",
                "x0": 4.7,
                "x1": 4.9,
                "y0": -0.05,
                "y1": 1.05
               },
               {
                "fillcolor": "#8a1a7a",
                "line": {
                 "color": "rgba(0, 0, 0, 0)"
                },
                "type": "rect",
                "x0": 5,
                "x1": 6.1,
                "y0": 0,
                "y1": 1
               },
               {
                "fillcolor": "#8a1a7a",
                "line": {
                 "color": "rgba(0, 0, 0, 0)"
                },
                "type": "circle",
                "x0": 4.95,
                "x1": 5.15,
                "y0": -0.05,
                "y1": 1.05
               },
               {
                "fillcolor": "#8a1a7a",
                "line": {
                 "color": "rgba(0, 0, 0, 0)"
                },
                "type": "circle",
                "x0": 5.95,
                "x1": 6.15,
                "y0": -0.05,
                "y1": 1.05
               }
              ],
              "title": {
               "text": "Committed electric school buses, by adoption status — MISSISSIPPI"
              }
             }
            ],
            "label": "MISSISSIPPI",
            "method": "update"
           },
           {
            "args": [
             {
              "visible": [
               true
              ]
             },
             {
              "annotations": [
               {
                "font": {
                 "color": "white",
                 "family": "Arial Black",
                 "size": 22
                },
                "showarrow": false,
                "text": "230",
                "x": 0.55,
                "y": 0.58
               },
               {
                "font": {
                 "color": "white",
                 "size": 12
                },
                "showarrow": false,
                "text": "Total committed ESBs",
                "x": 0.55,
                "y": 0.22
               },
               {
                "font": {
                 "color": "white",
                 "family": "Arial Black",
                 "size": 22
                },
                "showarrow": false,
                "text": "158",
                "x": 1.8,
                "y": 0.58
               },
               {
                "font": {
                 "color": "white",
                 "size": 12
                },
                "showarrow": false,
                "text": "Awarded ESBs",
                "x": 1.8,
                "y": 0.22
               },
               {
                "font": {
                 "color": "white",
                 "family": "Arial Black",
                 "size": 22
                },
                "showarrow": false,
                "text": "13",
                "x": 3.05,
                "y": 0.58
               },
               {
                "font": {
                 "color": "white",
                 "size": 12
                },
                "showarrow": false,
                "text": "Ordered ESBs",
                "x": 3.05,
                "y": 0.22
               },
               {
                "font": {
                 "color": "white",
                 "family": "Arial Black",
                 "size": 22
                },
                "showarrow": false,
                "text": "59",
                "x": 4.3,
                "y": 0.58
               },
               {
                "font": {
                 "color": "white",
                 "size": 12
                },
                "showarrow": false,
                "text": "Delivered or operating ESBs",
                "x": 4.3,
                "y": 0.22
               },
               {
                "font": {
                 "color": "white",
                 "family": "Arial Black",
                 "size": 22
                },
                "showarrow": false,
                "text": "2 896",
                "x": 5.55,
                "y": 0.58
               },
               {
                "font": {
                 "color": "white",
                 "size": 12
                },
                "showarrow": false,
                "text": "Students riding ESBs",
                "x": 5.55,
                "y": 0.22
               }
              ],
              "shapes": [
               {
                "fillcolor": "#9e1b1f",
                "line": {
                 "color": "rgba(0, 0, 0, 0)"
                },
                "type": "rect",
                "x0": 0,
                "x1": 1.1,
                "y0": 0,
                "y1": 1
               },
               {
                "fillcolor": "#9e1b1f",
                "line": {
                 "color": "rgba(0, 0, 0, 0)"
                },
                "type": "circle",
                "x0": -0.05,
                "x1": 0.15,
                "y0": -0.05,
                "y1": 1.05
               },
               {
                "fillcolor": "#9e1b1f",
                "line": {
                 "color": "rgba(0, 0, 0, 0)"
                },
                "type": "circle",
                "x0": 0.95,
                "x1": 1.15,
                "y0": -0.05,
                "y1": 1.05
               },
               {
                "fillcolor": "#0f7c89",
                "line": {
                 "color": "rgba(0, 0, 0, 0)"
                },
                "type": "rect",
                "x0": 1.25,
                "x1": 2.35,
                "y0": 0,
                "y1": 1
               },
               {
                "fillcolor": "#0f7c89",
                "line": {
                 "color": "rgba(0, 0, 0, 0)"
                },
                "type": "circle",
                "x0": 1.2,
                "x1": 1.4,
                "y0": -0.05,
                "y1": 1.05
               },
               {
                "fillcolor": "#0f7c89",
                "line": {
                 "color": "rgba(0, 0, 0, 0)"
                },
                "type": "circle",
                "x0": 2.2,
                "x1": 2.4,
                "y0": -0.05,
                "y1": 1.05
               },
               {
                "fillcolor": "#2f9150",
                "line": {
                 "color": "rgba(0, 0, 0, 0)"
                },
                "type": "rect",
                "x0": 2.5,
                "x1": 3.6,
                "y0": 0,
                "y1": 1
               },
               {
                "fillcolor": "#2f9150",
                "line": {
                 "color": "rgba(0, 0, 0, 0)"
                },
                "type": "circle",
                "x0": 2.45,
                "x1": 2.65,
                "y0": -0.05,
                "y1": 1.05
               },
               {
                "fillcolor": "#2f9150",
                "line": {
                 "color": "rgba(0, 0, 0, 0)"
                },
                "type": "circle",
                "x0": 3.45,
                "x1": 3.65,
                "y0": -0.05,
                "y1": 1.05
               },
               {
                "fillcolor": "#3352a3",
                "line": {
                 "color": "rgba(0, 0, 0, 0)"
                },
                "type": "rect",
                "x0": 3.75,
                "x1": 4.85,
                "y0": 0,
                "y1": 1
               },
               {
                "fillcolor": "#3352a3",
                "line": {
                 "color": "rgba(0, 0, 0, 0)"
                },
                "type": "circle",
                "x0": 3.7,
                "x1": 3.9,
                "y0": -0.05,
                "y1": 1.05
               },
               {
                "fillcolor": "#3352a3",
                "line": {
                 "color": "rgba(0, 0, 0, 0)"
                },
                "type": "circle",
                "x0": 4.7,
                "x1": 4.9,
                "y0": -0.05,
                "y1": 1.05
               },
               {
                "fillcolor": "#8a1a7a",
                "line": {
                 "color": "rgba(0, 0, 0, 0)"
                },
                "type": "rect",
                "x0": 5,
                "x1": 6.1,
                "y0": 0,
                "y1": 1
               },
               {
                "fillcolor": "#8a1a7a",
                "line": {
                 "color": "rgba(0, 0, 0, 0)"
                },
                "type": "circle",
                "x0": 4.95,
                "x1": 5.15,
                "y0": -0.05,
                "y1": 1.05
               },
               {
                "fillcolor": "#8a1a7a",
                "line": {
                 "color": "rgba(0, 0, 0, 0)"
                },
                "type": "circle",
                "x0": 5.95,
                "x1": 6.15,
                "y0": -0.05,
                "y1": 1.05
               }
              ],
              "title": {
               "text": "Committed electric school buses, by adoption status — MISSOURI"
              }
             }
            ],
            "label": "MISSOURI",
            "method": "update"
           },
           {
            "args": [
             {
              "visible": [
               true
              ]
             },
             {
              "annotations": [
               {
                "font": {
                 "color": "white",
                 "family": "Arial Black",
                 "size": 22
                },
                "showarrow": false,
                "text": "85",
                "x": 0.55,
                "y": 0.58
               },
               {
                "font": {
                 "color": "white",
                 "size": 12
                },
                "showarrow": false,
                "text": "Total committed ESBs",
                "x": 0.55,
                "y": 0.22
               },
               {
                "font": {
                 "color": "white",
                 "family": "Arial Black",
                 "size": 22
                },
                "showarrow": false,
                "text": "68",
                "x": 1.8,
                "y": 0.58
               },
               {
                "font": {
                 "color": "white",
                 "size": 12
                },
                "showarrow": false,
                "text": "Awarded ESBs",
                "x": 1.8,
                "y": 0.22
               },
               {
                "font": {
                 "color": "white",
                 "family": "Arial Black",
                 "size": 22
                },
                "showarrow": false,
                "text": "1",
                "x": 3.05,
                "y": 0.58
               },
               {
                "font": {
                 "color": "white",
                 "size": 12
                },
                "showarrow": false,
                "text": "Ordered ESBs",
                "x": 3.05,
                "y": 0.22
               },
               {
                "font": {
                 "color": "white",
                 "family": "Arial Black",
                 "size": 22
                },
                "showarrow": false,
                "text": "16",
                "x": 4.3,
                "y": 0.58
               },
               {
                "font": {
                 "color": "white",
                 "size": 12
                },
                "showarrow": false,
                "text": "Delivered or operating ESBs",
                "x": 4.3,
                "y": 0.22
               },
               {
                "font": {
                 "color": "white",
                 "family": "Arial Black",
                 "size": 22
                },
                "showarrow": false,
                "text": "834",
                "x": 5.55,
                "y": 0.58
               },
               {
                "font": {
                 "color": "white",
                 "size": 12
                },
                "showarrow": false,
                "text": "Students riding ESBs",
                "x": 5.55,
                "y": 0.22
               }
              ],
              "shapes": [
               {
                "fillcolor": "#9e1b1f",
                "line": {
                 "color": "rgba(0, 0, 0, 0)"
                },
                "type": "rect",
                "x0": 0,
                "x1": 1.1,
                "y0": 0,
                "y1": 1
               },
               {
                "fillcolor": "#9e1b1f",
                "line": {
                 "color": "rgba(0, 0, 0, 0)"
                },
                "type": "circle",
                "x0": -0.05,
                "x1": 0.15,
                "y0": -0.05,
                "y1": 1.05
               },
               {
                "fillcolor": "#9e1b1f",
                "line": {
                 "color": "rgba(0, 0, 0, 0)"
                },
                "type": "circle",
                "x0": 0.95,
                "x1": 1.15,
                "y0": -0.05,
                "y1": 1.05
               },
               {
                "fillcolor": "#0f7c89",
                "line": {
                 "color": "rgba(0, 0, 0, 0)"
                },
                "type": "rect",
                "x0": 1.25,
                "x1": 2.35,
                "y0": 0,
                "y1": 1
               },
               {
                "fillcolor": "#0f7c89",
                "line": {
                 "color": "rgba(0, 0, 0, 0)"
                },
                "type": "circle",
                "x0": 1.2,
                "x1": 1.4,
                "y0": -0.05,
                "y1": 1.05
               },
               {
                "fillcolor": "#0f7c89",
                "line": {
                 "color": "rgba(0, 0, 0, 0)"
                },
                "type": "circle",
                "x0": 2.2,
                "x1": 2.4,
                "y0": -0.05,
                "y1": 1.05
               },
               {
                "fillcolor": "#2f9150",
                "line": {
                 "color": "rgba(0, 0, 0, 0)"
                },
                "type": "rect",
                "x0": 2.5,
                "x1": 3.6,
                "y0": 0,
                "y1": 1
               },
               {
                "fillcolor": "#2f9150",
                "line": {
                 "color": "rgba(0, 0, 0, 0)"
                },
                "type": "circle",
                "x0": 2.45,
                "x1": 2.65,
                "y0": -0.05,
                "y1": 1.05
               },
               {
                "fillcolor": "#2f9150",
                "line": {
                 "color": "rgba(0, 0, 0, 0)"
                },
                "type": "circle",
                "x0": 3.45,
                "x1": 3.65,
                "y0": -0.05,
                "y1": 1.05
               },
               {
                "fillcolor": "#3352a3",
                "line": {
                 "color": "rgba(0, 0, 0, 0)"
                },
                "type": "rect",
                "x0": 3.75,
                "x1": 4.85,
                "y0": 0,
                "y1": 1
               },
               {
                "fillcolor": "#3352a3",
                "line": {
                 "color": "rgba(0, 0, 0, 0)"
                },
                "type": "circle",
                "x0": 3.7,
                "x1": 3.9,
                "y0": -0.05,
                "y1": 1.05
               },
               {
                "fillcolor": "#3352a3",
                "line": {
                 "color": "rgba(0, 0, 0, 0)"
                },
                "type": "circle",
                "x0": 4.7,
                "x1": 4.9,
                "y0": -0.05,
                "y1": 1.05
               },
               {
                "fillcolor": "#8a1a7a",
                "line": {
                 "color": "rgba(0, 0, 0, 0)"
                },
                "type": "rect",
                "x0": 5,
                "x1": 6.1,
                "y0": 0,
                "y1": 1
               },
               {
                "fillcolor": "#8a1a7a",
                "line": {
                 "color": "rgba(0, 0, 0, 0)"
                },
                "type": "circle",
                "x0": 4.95,
                "x1": 5.15,
                "y0": -0.05,
                "y1": 1.05
               },
               {
                "fillcolor": "#8a1a7a",
                "line": {
                 "color": "rgba(0, 0, 0, 0)"
                },
                "type": "circle",
                "x0": 5.95,
                "x1": 6.15,
                "y0": -0.05,
                "y1": 1.05
               }
              ],
              "title": {
               "text": "Committed electric school buses, by adoption status — MONTANA"
              }
             }
            ],
            "label": "MONTANA",
            "method": "update"
           },
           {
            "args": [
             {
              "visible": [
               true
              ]
             },
             {
              "annotations": [
               {
                "font": {
                 "color": "white",
                 "family": "Arial Black",
                 "size": 22
                },
                "showarrow": false,
                "text": "23",
                "x": 0.55,
                "y": 0.58
               },
               {
                "font": {
                 "color": "white",
                 "size": 12
                },
                "showarrow": false,
                "text": "Total committed ESBs",
                "x": 0.55,
                "y": 0.22
               },
               {
                "font": {
                 "color": "white",
                 "family": "Arial Black",
                 "size": 22
                },
                "showarrow": false,
                "text": "17",
                "x": 1.8,
                "y": 0.58
               },
               {
                "font": {
                 "color": "white",
                 "size": 12
                },
                "showarrow": false,
                "text": "Awarded ESBs",
                "x": 1.8,
                "y": 0.22
               },
               {
                "font": {
                 "color": "white",
                 "family": "Arial Black",
                 "size": 22
                },
                "showarrow": false,
                "text": "0",
                "x": 3.05,
                "y": 0.58
               },
               {
                "font": {
                 "color": "white",
                 "size": 12
                },
                "showarrow": false,
                "text": "Ordered ESBs",
                "x": 3.05,
                "y": 0.22
               },
               {
                "font": {
                 "color": "white",
                 "family": "Arial Black",
                 "size": 22
                },
                "showarrow": false,
                "text": "6",
                "x": 4.3,
                "y": 0.58
               },
               {
                "font": {
                 "color": "white",
                 "size": 12
                },
                "showarrow": false,
                "text": "Delivered or operating ESBs",
                "x": 4.3,
                "y": 0.22
               },
               {
                "font": {
                 "color": "white",
                 "family": "Arial Black",
                 "size": 22
                },
                "showarrow": false,
                "text": "390",
                "x": 5.55,
                "y": 0.58
               },
               {
                "font": {
                 "color": "white",
                 "size": 12
                },
                "showarrow": false,
                "text": "Students riding ESBs",
                "x": 5.55,
                "y": 0.22
               }
              ],
              "shapes": [
               {
                "fillcolor": "#9e1b1f",
                "line": {
                 "color": "rgba(0, 0, 0, 0)"
                },
                "type": "rect",
                "x0": 0,
                "x1": 1.1,
                "y0": 0,
                "y1": 1
               },
               {
                "fillcolor": "#9e1b1f",
                "line": {
                 "color": "rgba(0, 0, 0, 0)"
                },
                "type": "circle",
                "x0": -0.05,
                "x1": 0.15,
                "y0": -0.05,
                "y1": 1.05
               },
               {
                "fillcolor": "#9e1b1f",
                "line": {
                 "color": "rgba(0, 0, 0, 0)"
                },
                "type": "circle",
                "x0": 0.95,
                "x1": 1.15,
                "y0": -0.05,
                "y1": 1.05
               },
               {
                "fillcolor": "#0f7c89",
                "line": {
                 "color": "rgba(0, 0, 0, 0)"
                },
                "type": "rect",
                "x0": 1.25,
                "x1": 2.35,
                "y0": 0,
                "y1": 1
               },
               {
                "fillcolor": "#0f7c89",
                "line": {
                 "color": "rgba(0, 0, 0, 0)"
                },
                "type": "circle",
                "x0": 1.2,
                "x1": 1.4,
                "y0": -0.05,
                "y1": 1.05
               },
               {
                "fillcolor": "#0f7c89",
                "line": {
                 "color": "rgba(0, 0, 0, 0)"
                },
                "type": "circle",
                "x0": 2.2,
                "x1": 2.4,
                "y0": -0.05,
                "y1": 1.05
               },
               {
                "fillcolor": "#2f9150",
                "line": {
                 "color": "rgba(0, 0, 0, 0)"
                },
                "type": "rect",
                "x0": 2.5,
                "x1": 3.6,
                "y0": 0,
                "y1": 1
               },
               {
                "fillcolor": "#2f9150",
                "line": {
                 "color": "rgba(0, 0, 0, 0)"
                },
                "type": "circle",
                "x0": 2.45,
                "x1": 2.65,
                "y0": -0.05,
                "y1": 1.05
               },
               {
                "fillcolor": "#2f9150",
                "line": {
                 "color": "rgba(0, 0, 0, 0)"
                },
                "type": "circle",
                "x0": 3.45,
                "x1": 3.65,
                "y0": -0.05,
                "y1": 1.05
               },
               {
                "fillcolor": "#3352a3",
                "line": {
                 "color": "rgba(0, 0, 0, 0)"
                },
                "type": "rect",
                "x0": 3.75,
                "x1": 4.85,
                "y0": 0,
                "y1": 1
               },
               {
                "fillcolor": "#3352a3",
                "line": {
                 "color": "rgba(0, 0, 0, 0)"
                },
                "type": "circle",
                "x0": 3.7,
                "x1": 3.9,
                "y0": -0.05,
                "y1": 1.05
               },
               {
                "fillcolor": "#3352a3",
                "line": {
                 "color": "rgba(0, 0, 0, 0)"
                },
                "type": "circle",
                "x0": 4.7,
                "x1": 4.9,
                "y0": -0.05,
                "y1": 1.05
               },
               {
                "fillcolor": "#8a1a7a",
                "line": {
                 "color": "rgba(0, 0, 0, 0)"
                },
                "type": "rect",
                "x0": 5,
                "x1": 6.1,
                "y0": 0,
                "y1": 1
               },
               {
                "fillcolor": "#8a1a7a",
                "line": {
                 "color": "rgba(0, 0, 0, 0)"
                },
                "type": "circle",
                "x0": 4.95,
                "x1": 5.15,
                "y0": -0.05,
                "y1": 1.05
               },
               {
                "fillcolor": "#8a1a7a",
                "line": {
                 "color": "rgba(0, 0, 0, 0)"
                },
                "type": "circle",
                "x0": 5.95,
                "x1": 6.15,
                "y0": -0.05,
                "y1": 1.05
               }
              ],
              "title": {
               "text": "Committed electric school buses, by adoption status — NEBRASKA"
              }
             }
            ],
            "label": "NEBRASKA",
            "method": "update"
           },
           {
            "args": [
             {
              "visible": [
               true
              ]
             },
             {
              "annotations": [
               {
                "font": {
                 "color": "white",
                 "family": "Arial Black",
                 "size": 22
                },
                "showarrow": false,
                "text": "57",
                "x": 0.55,
                "y": 0.58
               },
               {
                "font": {
                 "color": "white",
                 "size": 12
                },
                "showarrow": false,
                "text": "Total committed ESBs",
                "x": 0.55,
                "y": 0.22
               },
               {
                "font": {
                 "color": "white",
                 "family": "Arial Black",
                 "size": 22
                },
                "showarrow": false,
                "text": "25",
                "x": 1.8,
                "y": 0.58
               },
               {
                "font": {
                 "color": "white",
                 "size": 12
                },
                "showarrow": false,
                "text": "Awarded ESBs",
                "x": 1.8,
                "y": 0.22
               },
               {
                "font": {
                 "color": "white",
                 "family": "Arial Black",
                 "size": 22
                },
                "showarrow": false,
                "text": "0",
                "x": 3.05,
                "y": 0.58
               },
               {
                "font": {
                 "color": "white",
                 "size": 12
                },
                "showarrow": false,
                "text": "Ordered ESBs",
                "x": 3.05,
                "y": 0.22
               },
               {
                "font": {
                 "color": "white",
                 "family": "Arial Black",
                 "size": 22
                },
                "showarrow": false,
                "text": "32",
                "x": 4.3,
                "y": 0.58
               },
               {
                "font": {
                 "color": "white",
                 "size": 12
                },
                "showarrow": false,
                "text": "Delivered or operating ESBs",
                "x": 4.3,
                "y": 0.22
               },
               {
                "font": {
                 "color": "white",
                 "family": "Arial Black",
                 "size": 22
                },
                "showarrow": false,
                "text": "2 560",
                "x": 5.55,
                "y": 0.58
               },
               {
                "font": {
                 "color": "white",
                 "size": 12
                },
                "showarrow": false,
                "text": "Students riding ESBs",
                "x": 5.55,
                "y": 0.22
               }
              ],
              "shapes": [
               {
                "fillcolor": "#9e1b1f",
                "line": {
                 "color": "rgba(0, 0, 0, 0)"
                },
                "type": "rect",
                "x0": 0,
                "x1": 1.1,
                "y0": 0,
                "y1": 1
               },
               {
                "fillcolor": "#9e1b1f",
                "line": {
                 "color": "rgba(0, 0, 0, 0)"
                },
                "type": "circle",
                "x0": -0.05,
                "x1": 0.15,
                "y0": -0.05,
                "y1": 1.05
               },
               {
                "fillcolor": "#9e1b1f",
                "line": {
                 "color": "rgba(0, 0, 0, 0)"
                },
                "type": "circle",
                "x0": 0.95,
                "x1": 1.15,
                "y0": -0.05,
                "y1": 1.05
               },
               {
                "fillcolor": "#0f7c89",
                "line": {
                 "color": "rgba(0, 0, 0, 0)"
                },
                "type": "rect",
                "x0": 1.25,
                "x1": 2.35,
                "y0": 0,
                "y1": 1
               },
               {
                "fillcolor": "#0f7c89",
                "line": {
                 "color": "rgba(0, 0, 0, 0)"
                },
                "type": "circle",
                "x0": 1.2,
                "x1": 1.4,
                "y0": -0.05,
                "y1": 1.05
               },
               {
                "fillcolor": "#0f7c89",
                "line": {
                 "color": "rgba(0, 0, 0, 0)"
                },
                "type": "circle",
                "x0": 2.2,
                "x1": 2.4,
                "y0": -0.05,
                "y1": 1.05
               },
               {
                "fillcolor": "#2f9150",
                "line": {
                 "color": "rgba(0, 0, 0, 0)"
                },
                "type": "rect",
                "x0": 2.5,
                "x1": 3.6,
                "y0": 0,
                "y1": 1
               },
               {
                "fillcolor": "#2f9150",
                "line": {
                 "color": "rgba(0, 0, 0, 0)"
                },
                "type": "circle",
                "x0": 2.45,
                "x1": 2.65,
                "y0": -0.05,
                "y1": 1.05
               },
               {
                "fillcolor": "#2f9150",
                "line": {
                 "color": "rgba(0, 0, 0, 0)"
                },
                "type": "circle",
                "x0": 3.45,
                "x1": 3.65,
                "y0": -0.05,
                "y1": 1.05
               },
               {
                "fillcolor": "#3352a3",
                "line": {
                 "color": "rgba(0, 0, 0, 0)"
                },
                "type": "rect",
                "x0": 3.75,
                "x1": 4.85,
                "y0": 0,
                "y1": 1
               },
               {
                "fillcolor": "#3352a3",
                "line": {
                 "color": "rgba(0, 0, 0, 0)"
                },
                "type": "circle",
                "x0": 3.7,
                "x1": 3.9,
                "y0": -0.05,
                "y1": 1.05
               },
               {
                "fillcolor": "#3352a3",
                "line": {
                 "color": "rgba(0, 0, 0, 0)"
                },
                "type": "circle",
                "x0": 4.7,
                "x1": 4.9,
                "y0": -0.05,
                "y1": 1.05
               },
               {
                "fillcolor": "#8a1a7a",
                "line": {
                 "color": "rgba(0, 0, 0, 0)"
                },
                "type": "rect",
                "x0": 5,
                "x1": 6.1,
                "y0": 0,
                "y1": 1
               },
               {
                "fillcolor": "#8a1a7a",
                "line": {
                 "color": "rgba(0, 0, 0, 0)"
                },
                "type": "circle",
                "x0": 4.95,
                "x1": 5.15,
                "y0": -0.05,
                "y1": 1.05
               },
               {
                "fillcolor": "#8a1a7a",
                "line": {
                 "color": "rgba(0, 0, 0, 0)"
                },
                "type": "circle",
                "x0": 5.95,
                "x1": 6.15,
                "y0": -0.05,
                "y1": 1.05
               }
              ],
              "title": {
               "text": "Committed electric school buses, by adoption status — NEVADA"
              }
             }
            ],
            "label": "NEVADA",
            "method": "update"
           },
           {
            "args": [
             {
              "visible": [
               true
              ]
             },
             {
              "annotations": [
               {
                "font": {
                 "color": "white",
                 "family": "Arial Black",
                 "size": 22
                },
                "showarrow": false,
                "text": "117",
                "x": 0.55,
                "y": 0.58
               },
               {
                "font": {
                 "color": "white",
                 "size": 12
                },
                "showarrow": false,
                "text": "Total committed ESBs",
                "x": 0.55,
                "y": 0.22
               },
               {
                "font": {
                 "color": "white",
                 "family": "Arial Black",
                 "size": 22
                },
                "showarrow": false,
                "text": "110",
                "x": 1.8,
                "y": 0.58
               },
               {
                "font": {
                 "color": "white",
                 "size": 12
                },
                "showarrow": false,
                "text": "Awarded ESBs",
                "x": 1.8,
                "y": 0.22
               },
               {
                "font": {
                 "color": "white",
                 "family": "Arial Black",
                 "size": 22
                },
                "showarrow": false,
                "text": "0",
                "x": 3.05,
                "y": 0.58
               },
               {
                "font": {
                 "color": "white",
                 "size": 12
                },
                "showarrow": false,
                "text": "Ordered ESBs",
                "x": 3.05,
                "y": 0.22
               },
               {
                "font": {
                 "color": "white",
                 "family": "Arial Black",
                 "size": 22
                },
                "showarrow": false,
                "text": "7",
                "x": 4.3,
                "y": 0.58
               },
               {
                "font": {
                 "color": "white",
                 "size": 12
                },
                "showarrow": false,
                "text": "Delivered or operating ESBs",
                "x": 4.3,
                "y": 0.22
               },
               {
                "font": {
                 "color": "white",
                 "family": "Arial Black",
                 "size": 22
                },
                "showarrow": false,
                "text": "457",
                "x": 5.55,
                "y": 0.58
               },
               {
                "font": {
                 "color": "white",
                 "size": 12
                },
                "showarrow": false,
                "text": "Students riding ESBs",
                "x": 5.55,
                "y": 0.22
               }
              ],
              "shapes": [
               {
                "fillcolor": "#9e1b1f",
                "line": {
                 "color": "rgba(0, 0, 0, 0)"
                },
                "type": "rect",
                "x0": 0,
                "x1": 1.1,
                "y0": 0,
                "y1": 1
               },
               {
                "fillcolor": "#9e1b1f",
                "line": {
                 "color": "rgba(0, 0, 0, 0)"
                },
                "type": "circle",
                "x0": -0.05,
                "x1": 0.15,
                "y0": -0.05,
                "y1": 1.05
               },
               {
                "fillcolor": "#9e1b1f",
                "line": {
                 "color": "rgba(0, 0, 0, 0)"
                },
                "type": "circle",
                "x0": 0.95,
                "x1": 1.15,
                "y0": -0.05,
                "y1": 1.05
               },
               {
                "fillcolor": "#0f7c89",
                "line": {
                 "color": "rgba(0, 0, 0, 0)"
                },
                "type": "rect",
                "x0": 1.25,
                "x1": 2.35,
                "y0": 0,
                "y1": 1
               },
               {
                "fillcolor": "#0f7c89",
                "line": {
                 "color": "rgba(0, 0, 0, 0)"
                },
                "type": "circle",
                "x0": 1.2,
                "x1": 1.4,
                "y0": -0.05,
                "y1": 1.05
               },
               {
                "fillcolor": "#0f7c89",
                "line": {
                 "color": "rgba(0, 0, 0, 0)"
                },
                "type": "circle",
                "x0": 2.2,
                "x1": 2.4,
                "y0": -0.05,
                "y1": 1.05
               },
               {
                "fillcolor": "#2f9150",
                "line": {
                 "color": "rgba(0, 0, 0, 0)"
                },
                "type": "rect",
                "x0": 2.5,
                "x1": 3.6,
                "y0": 0,
                "y1": 1
               },
               {
                "fillcolor": "#2f9150",
                "line": {
                 "color": "rgba(0, 0, 0, 0)"
                },
                "type": "circle",
                "x0": 2.45,
                "x1": 2.65,
                "y0": -0.05,
                "y1": 1.05
               },
               {
                "fillcolor": "#2f9150",
                "line": {
                 "color": "rgba(0, 0, 0, 0)"
                },
                "type": "circle",
                "x0": 3.45,
                "x1": 3.65,
                "y0": -0.05,
                "y1": 1.05
               },
               {
                "fillcolor": "#3352a3",
                "line": {
                 "color": "rgba(0, 0, 0, 0)"
                },
                "type": "rect",
                "x0": 3.75,
                "x1": 4.85,
                "y0": 0,
                "y1": 1
               },
               {
                "fillcolor": "#3352a3",
                "line": {
                 "color": "rgba(0, 0, 0, 0)"
                },
                "type": "circle",
                "x0": 3.7,
                "x1": 3.9,
                "y0": -0.05,
                "y1": 1.05
               },
               {
                "fillcolor": "#3352a3",
                "line": {
                 "color": "rgba(0, 0, 0, 0)"
                },
                "type": "circle",
                "x0": 4.7,
                "x1": 4.9,
                "y0": -0.05,
                "y1": 1.05
               },
               {
                "fillcolor": "#8a1a7a",
                "line": {
                 "color": "rgba(0, 0, 0, 0)"
                },
                "type": "rect",
                "x0": 5,
                "x1": 6.1,
                "y0": 0,
                "y1": 1
               },
               {
                "fillcolor": "#8a1a7a",
                "line": {
                 "color": "rgba(0, 0, 0, 0)"
                },
                "type": "circle",
                "x0": 4.95,
                "x1": 5.15,
                "y0": -0.05,
                "y1": 1.05
               },
               {
                "fillcolor": "#8a1a7a",
                "line": {
                 "color": "rgba(0, 0, 0, 0)"
                },
                "type": "circle",
                "x0": 5.95,
                "x1": 6.15,
                "y0": -0.05,
                "y1": 1.05
               }
              ],
              "title": {
               "text": "Committed electric school buses, by adoption status — NEW HAMPSHIRE"
              }
             }
            ],
            "label": "NEW HAMPSHIRE",
            "method": "update"
           },
           {
            "args": [
             {
              "visible": [
               true
              ]
             },
             {
              "annotations": [
               {
                "font": {
                 "color": "white",
                 "family": "Arial Black",
                 "size": 22
                },
                "showarrow": false,
                "text": "346",
                "x": 0.55,
                "y": 0.58
               },
               {
                "font": {
                 "color": "white",
                 "size": 12
                },
                "showarrow": false,
                "text": "Total committed ESBs",
                "x": 0.55,
                "y": 0.22
               },
               {
                "font": {
                 "color": "white",
                 "family": "Arial Black",
                 "size": 22
                },
                "showarrow": false,
                "text": "207",
                "x": 1.8,
                "y": 0.58
               },
               {
                "font": {
                 "color": "white",
                 "size": 12
                },
                "showarrow": false,
                "text": "Awarded ESBs",
                "x": 1.8,
                "y": 0.22
               },
               {
                "font": {
                 "color": "white",
                 "family": "Arial Black",
                 "size": 22
                },
                "showarrow": false,
                "text": "0",
                "x": 3.05,
                "y": 0.58
               },
               {
                "font": {
                 "color": "white",
                 "size": 12
                },
                "showarrow": false,
                "text": "Ordered ESBs",
                "x": 3.05,
                "y": 0.22
               },
               {
                "font": {
                 "color": "white",
                 "family": "Arial Black",
                 "size": 22
                },
                "showarrow": false,
                "text": "139",
                "x": 4.3,
                "y": 0.58
               },
               {
                "font": {
                 "color": "white",
                 "size": 12
                },
                "showarrow": false,
                "text": "Delivered or operating ESBs",
                "x": 4.3,
                "y": 0.22
               },
               {
                "font": {
                 "color": "white",
                 "family": "Arial Black",
                 "size": 22
                },
                "showarrow": false,
                "text": "8 448",
                "x": 5.55,
                "y": 0.58
               },
               {
                "font": {
                 "color": "white",
                 "size": 12
                },
                "showarrow": false,
                "text": "Students riding ESBs",
                "x": 5.55,
                "y": 0.22
               }
              ],
              "shapes": [
               {
                "fillcolor": "#9e1b1f",
                "line": {
                 "color": "rgba(0, 0, 0, 0)"
                },
                "type": "rect",
                "x0": 0,
                "x1": 1.1,
                "y0": 0,
                "y1": 1
               },
               {
                "fillcolor": "#9e1b1f",
                "line": {
                 "color": "rgba(0, 0, 0, 0)"
                },
                "type": "circle",
                "x0": -0.05,
                "x1": 0.15,
                "y0": -0.05,
                "y1": 1.05
               },
               {
                "fillcolor": "#9e1b1f",
                "line": {
                 "color": "rgba(0, 0, 0, 0)"
                },
                "type": "circle",
                "x0": 0.95,
                "x1": 1.15,
                "y0": -0.05,
                "y1": 1.05
               },
               {
                "fillcolor": "#0f7c89",
                "line": {
                 "color": "rgba(0, 0, 0, 0)"
                },
                "type": "rect",
                "x0": 1.25,
                "x1": 2.35,
                "y0": 0,
                "y1": 1
               },
               {
                "fillcolor": "#0f7c89",
                "line": {
                 "color": "rgba(0, 0, 0, 0)"
                },
                "type": "circle",
                "x0": 1.2,
                "x1": 1.4,
                "y0": -0.05,
                "y1": 1.05
               },
               {
                "fillcolor": "#0f7c89",
                "line": {
                 "color": "rgba(0, 0, 0, 0)"
                },
                "type": "circle",
                "x0": 2.2,
                "x1": 2.4,
                "y0": -0.05,
                "y1": 1.05
               },
               {
                "fillcolor": "#2f9150",
                "line": {
                 "color": "rgba(0, 0, 0, 0)"
                },
                "type": "rect",
                "x0": 2.5,
                "x1": 3.6,
                "y0": 0,
                "y1": 1
               },
               {
                "fillcolor": "#2f9150",
                "line": {
                 "color": "rgba(0, 0, 0, 0)"
                },
                "type": "circle",
                "x0": 2.45,
                "x1": 2.65,
                "y0": -0.05,
                "y1": 1.05
               },
               {
                "fillcolor": "#2f9150",
                "line": {
                 "color": "rgba(0, 0, 0, 0)"
                },
                "type": "circle",
                "x0": 3.45,
                "x1": 3.65,
                "y0": -0.05,
                "y1": 1.05
               },
               {
                "fillcolor": "#3352a3",
                "line": {
                 "color": "rgba(0, 0, 0, 0)"
                },
                "type": "rect",
                "x0": 3.75,
                "x1": 4.85,
                "y0": 0,
                "y1": 1
               },
               {
                "fillcolor": "#3352a3",
                "line": {
                 "color": "rgba(0, 0, 0, 0)"
                },
                "type": "circle",
                "x0": 3.7,
                "x1": 3.9,
                "y0": -0.05,
                "y1": 1.05
               },
               {
                "fillcolor": "#3352a3",
                "line": {
                 "color": "rgba(0, 0, 0, 0)"
                },
                "type": "circle",
                "x0": 4.7,
                "x1": 4.9,
                "y0": -0.05,
                "y1": 1.05
               },
               {
                "fillcolor": "#8a1a7a",
                "line": {
                 "color": "rgba(0, 0, 0, 0)"
                },
                "type": "rect",
                "x0": 5,
                "x1": 6.1,
                "y0": 0,
                "y1": 1
               },
               {
                "fillcolor": "#8a1a7a",
                "line": {
                 "color": "rgba(0, 0, 0, 0)"
                },
                "type": "circle",
                "x0": 4.95,
                "x1": 5.15,
                "y0": -0.05,
                "y1": 1.05
               },
               {
                "fillcolor": "#8a1a7a",
                "line": {
                 "color": "rgba(0, 0, 0, 0)"
                },
                "type": "circle",
                "x0": 5.95,
                "x1": 6.15,
                "y0": -0.05,
                "y1": 1.05
               }
              ],
              "title": {
               "text": "Committed electric school buses, by adoption status — NEW JERSEY"
              }
             }
            ],
            "label": "NEW JERSEY",
            "method": "update"
           },
           {
            "args": [
             {
              "visible": [
               true
              ]
             },
             {
              "annotations": [
               {
                "font": {
                 "color": "white",
                 "family": "Arial Black",
                 "size": 22
                },
                "showarrow": false,
                "text": "34",
                "x": 0.55,
                "y": 0.58
               },
               {
                "font": {
                 "color": "white",
                 "size": 12
                },
                "showarrow": false,
                "text": "Total committed ESBs",
                "x": 0.55,
                "y": 0.22
               },
               {
                "font": {
                 "color": "white",
                 "family": "Arial Black",
                 "size": 22
                },
                "showarrow": false,
                "text": "20",
                "x": 1.8,
                "y": 0.58
               },
               {
                "font": {
                 "color": "white",
                 "size": 12
                },
                "showarrow": false,
                "text": "Awarded ESBs",
                "x": 1.8,
                "y": 0.22
               },
               {
                "font": {
                 "color": "white",
                 "family": "Arial Black",
                 "size": 22
                },
                "showarrow": false,
                "text": "0",
                "x": 3.05,
                "y": 0.58
               },
               {
                "font": {
                 "color": "white",
                 "size": 12
                },
                "showarrow": false,
                "text": "Ordered ESBs",
                "x": 3.05,
                "y": 0.22
               },
               {
                "font": {
                 "color": "white",
                 "family": "Arial Black",
                 "size": 22
                },
                "showarrow": false,
                "text": "14",
                "x": 4.3,
                "y": 0.58
               },
               {
                "font": {
                 "color": "white",
                 "size": 12
                },
                "showarrow": false,
                "text": "Delivered or operating ESBs",
                "x": 4.3,
                "y": 0.22
               },
               {
                "font": {
                 "color": "white",
                 "family": "Arial Black",
                 "size": 22
                },
                "showarrow": false,
                "text": "1 089",
                "x": 5.55,
                "y": 0.58
               },
               {
                "font": {
                 "color": "white",
                 "size": 12
                },
                "showarrow": false,
                "text": "Students riding ESBs",
                "x": 5.55,
                "y": 0.22
               }
              ],
              "shapes": [
               {
                "fillcolor": "#9e1b1f",
                "line": {
                 "color": "rgba(0, 0, 0, 0)"
                },
                "type": "rect",
                "x0": 0,
                "x1": 1.1,
                "y0": 0,
                "y1": 1
               },
               {
                "fillcolor": "#9e1b1f",
                "line": {
                 "color": "rgba(0, 0, 0, 0)"
                },
                "type": "circle",
                "x0": -0.05,
                "x1": 0.15,
                "y0": -0.05,
                "y1": 1.05
               },
               {
                "fillcolor": "#9e1b1f",
                "line": {
                 "color": "rgba(0, 0, 0, 0)"
                },
                "type": "circle",
                "x0": 0.95,
                "x1": 1.15,
                "y0": -0.05,
                "y1": 1.05
               },
               {
                "fillcolor": "#0f7c89",
                "line": {
                 "color": "rgba(0, 0, 0, 0)"
                },
                "type": "rect",
                "x0": 1.25,
                "x1": 2.35,
                "y0": 0,
                "y1": 1
               },
               {
                "fillcolor": "#0f7c89",
                "line": {
                 "color": "rgba(0, 0, 0, 0)"
                },
                "type": "circle",
                "x0": 1.2,
                "x1": 1.4,
                "y0": -0.05,
                "y1": 1.05
               },
               {
                "fillcolor": "#0f7c89",
                "line": {
                 "color": "rgba(0, 0, 0, 0)"
                },
                "type": "circle",
                "x0": 2.2,
                "x1": 2.4,
                "y0": -0.05,
                "y1": 1.05
               },
               {
                "fillcolor": "#2f9150",
                "line": {
                 "color": "rgba(0, 0, 0, 0)"
                },
                "type": "rect",
                "x0": 2.5,
                "x1": 3.6,
                "y0": 0,
                "y1": 1
               },
               {
                "fillcolor": "#2f9150",
                "line": {
                 "color": "rgba(0, 0, 0, 0)"
                },
                "type": "circle",
                "x0": 2.45,
                "x1": 2.65,
                "y0": -0.05,
                "y1": 1.05
               },
               {
                "fillcolor": "#2f9150",
                "line": {
                 "color": "rgba(0, 0, 0, 0)"
                },
                "type": "circle",
                "x0": 3.45,
                "x1": 3.65,
                "y0": -0.05,
                "y1": 1.05
               },
               {
                "fillcolor": "#3352a3",
                "line": {
                 "color": "rgba(0, 0, 0, 0)"
                },
                "type": "rect",
                "x0": 3.75,
                "x1": 4.85,
                "y0": 0,
                "y1": 1
               },
               {
                "fillcolor": "#3352a3",
                "line": {
                 "color": "rgba(0, 0, 0, 0)"
                },
                "type": "circle",
                "x0": 3.7,
                "x1": 3.9,
                "y0": -0.05,
                "y1": 1.05
               },
               {
                "fillcolor": "#3352a3",
                "line": {
                 "color": "rgba(0, 0, 0, 0)"
                },
                "type": "circle",
                "x0": 4.7,
                "x1": 4.9,
                "y0": -0.05,
                "y1": 1.05
               },
               {
                "fillcolor": "#8a1a7a",
                "line": {
                 "color": "rgba(0, 0, 0, 0)"
                },
                "type": "rect",
                "x0": 5,
                "x1": 6.1,
                "y0": 0,
                "y1": 1
               },
               {
                "fillcolor": "#8a1a7a",
                "line": {
                 "color": "rgba(0, 0, 0, 0)"
                },
                "type": "circle",
                "x0": 4.95,
                "x1": 5.15,
                "y0": -0.05,
                "y1": 1.05
               },
               {
                "fillcolor": "#8a1a7a",
                "line": {
                 "color": "rgba(0, 0, 0, 0)"
                },
                "type": "circle",
                "x0": 5.95,
                "x1": 6.15,
                "y0": -0.05,
                "y1": 1.05
               }
              ],
              "title": {
               "text": "Committed electric school buses, by adoption status — NEW MEXICO"
              }
             }
            ],
            "label": "NEW MEXICO",
            "method": "update"
           },
           {
            "args": [
             {
              "visible": [
               true
              ]
             },
             {
              "annotations": [
               {
                "font": {
                 "color": "white",
                 "family": "Arial Black",
                 "size": 22
                },
                "showarrow": false,
                "text": "766",
                "x": 0.55,
                "y": 0.58
               },
               {
                "font": {
                 "color": "white",
                 "size": 12
                },
                "showarrow": false,
                "text": "Total committed ESBs",
                "x": 0.55,
                "y": 0.22
               },
               {
                "font": {
                 "color": "white",
                 "family": "Arial Black",
                 "size": 22
                },
                "showarrow": false,
                "text": "557",
                "x": 1.8,
                "y": 0.58
               },
               {
                "font": {
                 "color": "white",
                 "size": 12
                },
                "showarrow": false,
                "text": "Awarded ESBs",
                "x": 1.8,
                "y": 0.22
               },
               {
                "font": {
                 "color": "white",
                 "family": "Arial Black",
                 "size": 22
                },
                "showarrow": false,
                "text": "2",
                "x": 3.05,
                "y": 0.58
               },
               {
                "font": {
                 "color": "white",
                 "size": 12
                },
                "showarrow": false,
                "text": "Ordered ESBs",
                "x": 3.05,
                "y": 0.22
               },
               {
                "font": {
                 "color": "white",
                 "family": "Arial Black",
                 "size": 22
                },
                "showarrow": false,
                "text": "207",
                "x": 4.3,
                "y": 0.58
               },
               {
                "font": {
                 "color": "white",
                 "size": 12
                },
                "showarrow": false,
                "text": "Delivered or operating ESBs",
                "x": 4.3,
                "y": 0.22
               },
               {
                "font": {
                 "color": "white",
                 "family": "Arial Black",
                 "size": 22
                },
                "showarrow": false,
                "text": "11 455",
                "x": 5.55,
                "y": 0.58
               },
               {
                "font": {
                 "color": "white",
                 "size": 12
                },
                "showarrow": false,
                "text": "Students riding ESBs",
                "x": 5.55,
                "y": 0.22
               }
              ],
              "shapes": [
               {
                "fillcolor": "#9e1b1f",
                "line": {
                 "color": "rgba(0, 0, 0, 0)"
                },
                "type": "rect",
                "x0": 0,
                "x1": 1.1,
                "y0": 0,
                "y1": 1
               },
               {
                "fillcolor": "#9e1b1f",
                "line": {
                 "color": "rgba(0, 0, 0, 0)"
                },
                "type": "circle",
                "x0": -0.05,
                "x1": 0.15,
                "y0": -0.05,
                "y1": 1.05
               },
               {
                "fillcolor": "#9e1b1f",
                "line": {
                 "color": "rgba(0, 0, 0, 0)"
                },
                "type": "circle",
                "x0": 0.95,
                "x1": 1.15,
                "y0": -0.05,
                "y1": 1.05
               },
               {
                "fillcolor": "#0f7c89",
                "line": {
                 "color": "rgba(0, 0, 0, 0)"
                },
                "type": "rect",
                "x0": 1.25,
                "x1": 2.35,
                "y0": 0,
                "y1": 1
               },
               {
                "fillcolor": "#0f7c89",
                "line": {
                 "color": "rgba(0, 0, 0, 0)"
                },
                "type": "circle",
                "x0": 1.2,
                "x1": 1.4,
                "y0": -0.05,
                "y1": 1.05
               },
               {
                "fillcolor": "#0f7c89",
                "line": {
                 "color": "rgba(0, 0, 0, 0)"
                },
                "type": "circle",
                "x0": 2.2,
                "x1": 2.4,
                "y0": -0.05,
                "y1": 1.05
               },
               {
                "fillcolor": "#2f9150",
                "line": {
                 "color": "rgba(0, 0, 0, 0)"
                },
                "type": "rect",
                "x0": 2.5,
                "x1": 3.6,
                "y0": 0,
                "y1": 1
               },
               {
                "fillcolor": "#2f9150",
                "line": {
                 "color": "rgba(0, 0, 0, 0)"
                },
                "type": "circle",
                "x0": 2.45,
                "x1": 2.65,
                "y0": -0.05,
                "y1": 1.05
               },
               {
                "fillcolor": "#2f9150",
                "line": {
                 "color": "rgba(0, 0, 0, 0)"
                },
                "type": "circle",
                "x0": 3.45,
                "x1": 3.65,
                "y0": -0.05,
                "y1": 1.05
               },
               {
                "fillcolor": "#3352a3",
                "line": {
                 "color": "rgba(0, 0, 0, 0)"
                },
                "type": "rect",
                "x0": 3.75,
                "x1": 4.85,
                "y0": 0,
                "y1": 1
               },
               {
                "fillcolor": "#3352a3",
                "line": {
                 "color": "rgba(0, 0, 0, 0)"
                },
                "type": "circle",
                "x0": 3.7,
                "x1": 3.9,
                "y0": -0.05,
                "y1": 1.05
               },
               {
                "fillcolor": "#3352a3",
                "line": {
                 "color": "rgba(0, 0, 0, 0)"
                },
                "type": "circle",
                "x0": 4.7,
                "x1": 4.9,
                "y0": -0.05,
                "y1": 1.05
               },
               {
                "fillcolor": "#8a1a7a",
                "line": {
                 "color": "rgba(0, 0, 0, 0)"
                },
                "type": "rect",
                "x0": 5,
                "x1": 6.1,
                "y0": 0,
                "y1": 1
               },
               {
                "fillcolor": "#8a1a7a",
                "line": {
                 "color": "rgba(0, 0, 0, 0)"
                },
                "type": "circle",
                "x0": 4.95,
                "x1": 5.15,
                "y0": -0.05,
                "y1": 1.05
               },
               {
                "fillcolor": "#8a1a7a",
                "line": {
                 "color": "rgba(0, 0, 0, 0)"
                },
                "type": "circle",
                "x0": 5.95,
                "x1": 6.15,
                "y0": -0.05,
                "y1": 1.05
               }
              ],
              "title": {
               "text": "Committed electric school buses, by adoption status — NEW YORK"
              }
             }
            ],
            "label": "NEW YORK",
            "method": "update"
           },
           {
            "args": [
             {
              "visible": [
               true
              ]
             },
             {
              "annotations": [
               {
                "font": {
                 "color": "white",
                 "family": "Arial Black",
                 "size": 22
                },
                "showarrow": false,
                "text": "269",
                "x": 0.55,
                "y": 0.58
               },
               {
                "font": {
                 "color": "white",
                 "size": 12
                },
                "showarrow": false,
                "text": "Total committed ESBs",
                "x": 0.55,
                "y": 0.22
               },
               {
                "font": {
                 "color": "white",
                 "family": "Arial Black",
                 "size": 22
                },
                "showarrow": false,
                "text": "180",
                "x": 1.8,
                "y": 0.58
               },
               {
                "font": {
                 "color": "white",
                 "size": 12
                },
                "showarrow": false,
                "text": "Awarded ESBs",
                "x": 1.8,
                "y": 0.22
               },
               {
                "font": {
                 "color": "white",
                 "family": "Arial Black",
                 "size": 22
                },
                "showarrow": false,
                "text": "0",
                "x": 3.05,
                "y": 0.58
               },
               {
                "font": {
                 "color": "white",
                 "size": 12
                },
                "showarrow": false,
                "text": "Ordered ESBs",
                "x": 3.05,
                "y": 0.22
               },
               {
                "font": {
                 "color": "white",
                 "family": "Arial Black",
                 "size": 22
                },
                "showarrow": false,
                "text": "89",
                "x": 4.3,
                "y": 0.58
               },
               {
                "font": {
                 "color": "white",
                 "size": 12
                },
                "showarrow": false,
                "text": "Delivered or operating ESBs",
                "x": 4.3,
                "y": 0.22
               },
               {
                "font": {
                 "color": "white",
                 "family": "Arial Black",
                 "size": 22
                },
                "showarrow": false,
                "text": "5 791",
                "x": 5.55,
                "y": 0.58
               },
               {
                "font": {
                 "color": "white",
                 "size": 12
                },
                "showarrow": false,
                "text": "Students riding ESBs",
                "x": 5.55,
                "y": 0.22
               }
              ],
              "shapes": [
               {
                "fillcolor": "#9e1b1f",
                "line": {
                 "color": "rgba(0, 0, 0, 0)"
                },
                "type": "rect",
                "x0": 0,
                "x1": 1.1,
                "y0": 0,
                "y1": 1
               },
               {
                "fillcolor": "#9e1b1f",
                "line": {
                 "color": "rgba(0, 0, 0, 0)"
                },
                "type": "circle",
                "x0": -0.05,
                "x1": 0.15,
                "y0": -0.05,
                "y1": 1.05
               },
               {
                "fillcolor": "#9e1b1f",
                "line": {
                 "color": "rgba(0, 0, 0, 0)"
                },
                "type": "circle",
                "x0": 0.95,
                "x1": 1.15,
                "y0": -0.05,
                "y1": 1.05
               },
               {
                "fillcolor": "#0f7c89",
                "line": {
                 "color": "rgba(0, 0, 0, 0)"
                },
                "type": "rect",
                "x0": 1.25,
                "x1": 2.35,
                "y0": 0,
                "y1": 1
               },
               {
                "fillcolor": "#0f7c89",
                "line": {
                 "color": "rgba(0, 0, 0, 0)"
                },
                "type": "circle",
                "x0": 1.2,
                "x1": 1.4,
                "y0": -0.05,
                "y1": 1.05
               },
               {
                "fillcolor": "#0f7c89",
                "line": {
                 "color": "rgba(0, 0, 0, 0)"
                },
                "type": "circle",
                "x0": 2.2,
                "x1": 2.4,
                "y0": -0.05,
                "y1": 1.05
               },
               {
                "fillcolor": "#2f9150",
                "line": {
                 "color": "rgba(0, 0, 0, 0)"
                },
                "type": "rect",
                "x0": 2.5,
                "x1": 3.6,
                "y0": 0,
                "y1": 1
               },
               {
                "fillcolor": "#2f9150",
                "line": {
                 "color": "rgba(0, 0, 0, 0)"
                },
                "type": "circle",
                "x0": 2.45,
                "x1": 2.65,
                "y0": -0.05,
                "y1": 1.05
               },
               {
                "fillcolor": "#2f9150",
                "line": {
                 "color": "rgba(0, 0, 0, 0)"
                },
                "type": "circle",
                "x0": 3.45,
                "x1": 3.65,
                "y0": -0.05,
                "y1": 1.05
               },
               {
                "fillcolor": "#3352a3",
                "line": {
                 "color": "rgba(0, 0, 0, 0)"
                },
                "type": "rect",
                "x0": 3.75,
                "x1": 4.85,
                "y0": 0,
                "y1": 1
               },
               {
                "fillcolor": "#3352a3",
                "line": {
                 "color": "rgba(0, 0, 0, 0)"
                },
                "type": "circle",
                "x0": 3.7,
                "x1": 3.9,
                "y0": -0.05,
                "y1": 1.05
               },
               {
                "fillcolor": "#3352a3",
                "line": {
                 "color": "rgba(0, 0, 0, 0)"
                },
                "type": "circle",
                "x0": 4.7,
                "x1": 4.9,
                "y0": -0.05,
                "y1": 1.05
               },
               {
                "fillcolor": "#8a1a7a",
                "line": {
                 "color": "rgba(0, 0, 0, 0)"
                },
                "type": "rect",
                "x0": 5,
                "x1": 6.1,
                "y0": 0,
                "y1": 1
               },
               {
                "fillcolor": "#8a1a7a",
                "line": {
                 "color": "rgba(0, 0, 0, 0)"
                },
                "type": "circle",
                "x0": 4.95,
                "x1": 5.15,
                "y0": -0.05,
                "y1": 1.05
               },
               {
                "fillcolor": "#8a1a7a",
                "line": {
                 "color": "rgba(0, 0, 0, 0)"
                },
                "type": "circle",
                "x0": 5.95,
                "x1": 6.15,
                "y0": -0.05,
                "y1": 1.05
               }
              ],
              "title": {
               "text": "Committed electric school buses, by adoption status — NORTH CAROLINA"
              }
             }
            ],
            "label": "NORTH CAROLINA",
            "method": "update"
           },
           {
            "args": [
             {
              "visible": [
               true
              ]
             },
             {
              "annotations": [
               {
                "font": {
                 "color": "white",
                 "family": "Arial Black",
                 "size": 22
                },
                "showarrow": false,
                "text": "18",
                "x": 0.55,
                "y": 0.58
               },
               {
                "font": {
                 "color": "white",
                 "size": 12
                },
                "showarrow": false,
                "text": "Total committed ESBs",
                "x": 0.55,
                "y": 0.22
               },
               {
                "font": {
                 "color": "white",
                 "family": "Arial Black",
                 "size": 22
                },
                "showarrow": false,
                "text": "11",
                "x": 1.8,
                "y": 0.58
               },
               {
                "font": {
                 "color": "white",
                 "size": 12
                },
                "showarrow": false,
                "text": "Awarded ESBs",
                "x": 1.8,
                "y": 0.22
               },
               {
                "font": {
                 "color": "white",
                 "family": "Arial Black",
                 "size": 22
                },
                "showarrow": false,
                "text": "0",
                "x": 3.05,
                "y": 0.58
               },
               {
                "font": {
                 "color": "white",
                 "size": 12
                },
                "showarrow": false,
                "text": "Ordered ESBs",
                "x": 3.05,
                "y": 0.22
               },
               {
                "font": {
                 "color": "white",
                 "family": "Arial Black",
                 "size": 22
                },
                "showarrow": false,
                "text": "7",
                "x": 4.3,
                "y": 0.58
               },
               {
                "font": {
                 "color": "white",
                 "size": 12
                },
                "showarrow": false,
                "text": "Delivered or operating ESBs",
                "x": 4.3,
                "y": 0.22
               },
               {
                "font": {
                 "color": "white",
                 "family": "Arial Black",
                 "size": 22
                },
                "showarrow": false,
                "text": "282",
                "x": 5.55,
                "y": 0.58
               },
               {
                "font": {
                 "color": "white",
                 "size": 12
                },
                "showarrow": false,
                "text": "Students riding ESBs",
                "x": 5.55,
                "y": 0.22
               }
              ],
              "shapes": [
               {
                "fillcolor": "#9e1b1f",
                "line": {
                 "color": "rgba(0, 0, 0, 0)"
                },
                "type": "rect",
                "x0": 0,
                "x1": 1.1,
                "y0": 0,
                "y1": 1
               },
               {
                "fillcolor": "#9e1b1f",
                "line": {
                 "color": "rgba(0, 0, 0, 0)"
                },
                "type": "circle",
                "x0": -0.05,
                "x1": 0.15,
                "y0": -0.05,
                "y1": 1.05
               },
               {
                "fillcolor": "#9e1b1f",
                "line": {
                 "color": "rgba(0, 0, 0, 0)"
                },
                "type": "circle",
                "x0": 0.95,
                "x1": 1.15,
                "y0": -0.05,
                "y1": 1.05
               },
               {
                "fillcolor": "#0f7c89",
                "line": {
                 "color": "rgba(0, 0, 0, 0)"
                },
                "type": "rect",
                "x0": 1.25,
                "x1": 2.35,
                "y0": 0,
                "y1": 1
               },
               {
                "fillcolor": "#0f7c89",
                "line": {
                 "color": "rgba(0, 0, 0, 0)"
                },
                "type": "circle",
                "x0": 1.2,
                "x1": 1.4,
                "y0": -0.05,
                "y1": 1.05
               },
               {
                "fillcolor": "#0f7c89",
                "line": {
                 "color": "rgba(0, 0, 0, 0)"
                },
                "type": "circle",
                "x0": 2.2,
                "x1": 2.4,
                "y0": -0.05,
                "y1": 1.05
               },
               {
                "fillcolor": "#2f9150",
                "line": {
                 "color": "rgba(0, 0, 0, 0)"
                },
                "type": "rect",
                "x0": 2.5,
                "x1": 3.6,
                "y0": 0,
                "y1": 1
               },
               {
                "fillcolor": "#2f9150",
                "line": {
                 "color": "rgba(0, 0, 0, 0)"
                },
                "type": "circle",
                "x0": 2.45,
                "x1": 2.65,
                "y0": -0.05,
                "y1": 1.05
               },
               {
                "fillcolor": "#2f9150",
                "line": {
                 "color": "rgba(0, 0, 0, 0)"
                },
                "type": "circle",
                "x0": 3.45,
                "x1": 3.65,
                "y0": -0.05,
                "y1": 1.05
               },
               {
                "fillcolor": "#3352a3",
                "line": {
                 "color": "rgba(0, 0, 0, 0)"
                },
                "type": "rect",
                "x0": 3.75,
                "x1": 4.85,
                "y0": 0,
                "y1": 1
               },
               {
                "fillcolor": "#3352a3",
                "line": {
                 "color": "rgba(0, 0, 0, 0)"
                },
                "type": "circle",
                "x0": 3.7,
                "x1": 3.9,
                "y0": -0.05,
                "y1": 1.05
               },
               {
                "fillcolor": "#3352a3",
                "line": {
                 "color": "rgba(0, 0, 0, 0)"
                },
                "type": "circle",
                "x0": 4.7,
                "x1": 4.9,
                "y0": -0.05,
                "y1": 1.05
               },
               {
                "fillcolor": "#8a1a7a",
                "line": {
                 "color": "rgba(0, 0, 0, 0)"
                },
                "type": "rect",
                "x0": 5,
                "x1": 6.1,
                "y0": 0,
                "y1": 1
               },
               {
                "fillcolor": "#8a1a7a",
                "line": {
                 "color": "rgba(0, 0, 0, 0)"
                },
                "type": "circle",
                "x0": 4.95,
                "x1": 5.15,
                "y0": -0.05,
                "y1": 1.05
               },
               {
                "fillcolor": "#8a1a7a",
                "line": {
                 "color": "rgba(0, 0, 0, 0)"
                },
                "type": "circle",
                "x0": 5.95,
                "x1": 6.15,
                "y0": -0.05,
                "y1": 1.05
               }
              ],
              "title": {
               "text": "Committed electric school buses, by adoption status — NORTH DAKOTA"
              }
             }
            ],
            "label": "NORTH DAKOTA",
            "method": "update"
           },
           {
            "args": [
             {
              "visible": [
               true
              ]
             },
             {
              "annotations": [
               {
                "font": {
                 "color": "white",
                 "family": "Arial Black",
                 "size": 22
                },
                "showarrow": false,
                "text": "0",
                "x": 0.55,
                "y": 0.58
               },
               {
                "font": {
                 "color": "white",
                 "size": 12
                },
                "showarrow": false,
                "text": "Total committed ESBs",
                "x": 0.55,
                "y": 0.22
               },
               {
                "font": {
                 "color": "white",
                 "family": "Arial Black",
                 "size": 22
                },
                "showarrow": false,
                "text": "0",
                "x": 1.8,
                "y": 0.58
               },
               {
                "font": {
                 "color": "white",
                 "size": 12
                },
                "showarrow": false,
                "text": "Awarded ESBs",
                "x": 1.8,
                "y": 0.22
               },
               {
                "font": {
                 "color": "white",
                 "family": "Arial Black",
                 "size": 22
                },
                "showarrow": false,
                "text": "0",
                "x": 3.05,
                "y": 0.58
               },
               {
                "font": {
                 "color": "white",
                 "size": 12
                },
                "showarrow": false,
                "text": "Ordered ESBs",
                "x": 3.05,
                "y": 0.22
               },
               {
                "font": {
                 "color": "white",
                 "family": "Arial Black",
                 "size": 22
                },
                "showarrow": false,
                "text": "0",
                "x": 4.3,
                "y": 0.58
               },
               {
                "font": {
                 "color": "white",
                 "size": 12
                },
                "showarrow": false,
                "text": "Delivered or operating ESBs",
                "x": 4.3,
                "y": 0.22
               },
               {
                "font": {
                 "color": "white",
                 "family": "Arial Black",
                 "size": 22
                },
                "showarrow": false,
                "text": "0",
                "x": 5.55,
                "y": 0.58
               },
               {
                "font": {
                 "color": "white",
                 "size": 12
                },
                "showarrow": false,
                "text": "Students riding ESBs",
                "x": 5.55,
                "y": 0.22
               }
              ],
              "shapes": [
               {
                "fillcolor": "#9e1b1f",
                "line": {
                 "color": "rgba(0, 0, 0, 0)"
                },
                "type": "rect",
                "x0": 0,
                "x1": 1.1,
                "y0": 0,
                "y1": 1
               },
               {
                "fillcolor": "#9e1b1f",
                "line": {
                 "color": "rgba(0, 0, 0, 0)"
                },
                "type": "circle",
                "x0": -0.05,
                "x1": 0.15,
                "y0": -0.05,
                "y1": 1.05
               },
               {
                "fillcolor": "#9e1b1f",
                "line": {
                 "color": "rgba(0, 0, 0, 0)"
                },
                "type": "circle",
                "x0": 0.95,
                "x1": 1.15,
                "y0": -0.05,
                "y1": 1.05
               },
               {
                "fillcolor": "#0f7c89",
                "line": {
                 "color": "rgba(0, 0, 0, 0)"
                },
                "type": "rect",
                "x0": 1.25,
                "x1": 2.35,
                "y0": 0,
                "y1": 1
               },
               {
                "fillcolor": "#0f7c89",
                "line": {
                 "color": "rgba(0, 0, 0, 0)"
                },
                "type": "circle",
                "x0": 1.2,
                "x1": 1.4,
                "y0": -0.05,
                "y1": 1.05
               },
               {
                "fillcolor": "#0f7c89",
                "line": {
                 "color": "rgba(0, 0, 0, 0)"
                },
                "type": "circle",
                "x0": 2.2,
                "x1": 2.4,
                "y0": -0.05,
                "y1": 1.05
               },
               {
                "fillcolor": "#2f9150",
                "line": {
                 "color": "rgba(0, 0, 0, 0)"
                },
                "type": "rect",
                "x0": 2.5,
                "x1": 3.6,
                "y0": 0,
                "y1": 1
               },
               {
                "fillcolor": "#2f9150",
                "line": {
                 "color": "rgba(0, 0, 0, 0)"
                },
                "type": "circle",
                "x0": 2.45,
                "x1": 2.65,
                "y0": -0.05,
                "y1": 1.05
               },
               {
                "fillcolor": "#2f9150",
                "line": {
                 "color": "rgba(0, 0, 0, 0)"
                },
                "type": "circle",
                "x0": 3.45,
                "x1": 3.65,
                "y0": -0.05,
                "y1": 1.05
               },
               {
                "fillcolor": "#3352a3",
                "line": {
                 "color": "rgba(0, 0, 0, 0)"
                },
                "type": "rect",
                "x0": 3.75,
                "x1": 4.85,
                "y0": 0,
                "y1": 1
               },
               {
                "fillcolor": "#3352a3",
                "line": {
                 "color": "rgba(0, 0, 0, 0)"
                },
                "type": "circle",
                "x0": 3.7,
                "x1": 3.9,
                "y0": -0.05,
                "y1": 1.05
               },
               {
                "fillcolor": "#3352a3",
                "line": {
                 "color": "rgba(0, 0, 0, 0)"
                },
                "type": "circle",
                "x0": 4.7,
                "x1": 4.9,
                "y0": -0.05,
                "y1": 1.05
               },
               {
                "fillcolor": "#8a1a7a",
                "line": {
                 "color": "rgba(0, 0, 0, 0)"
                },
                "type": "rect",
                "x0": 5,
                "x1": 6.1,
                "y0": 0,
                "y1": 1
               },
               {
                "fillcolor": "#8a1a7a",
                "line": {
                 "color": "rgba(0, 0, 0, 0)"
                },
                "type": "circle",
                "x0": 4.95,
                "x1": 5.15,
                "y0": -0.05,
                "y1": 1.05
               },
               {
                "fillcolor": "#8a1a7a",
                "line": {
                 "color": "rgba(0, 0, 0, 0)"
                },
                "type": "circle",
                "x0": 5.95,
                "x1": 6.15,
                "y0": -0.05,
                "y1": 1.05
               }
              ],
              "title": {
               "text": "Committed electric school buses, by adoption status — NORTHERN MARIANAS"
              }
             }
            ],
            "label": "NORTHERN MARIANAS",
            "method": "update"
           },
           {
            "args": [
             {
              "visible": [
               true
              ]
             },
             {
              "annotations": [
               {
                "font": {
                 "color": "white",
                 "family": "Arial Black",
                 "size": 22
                },
                "showarrow": false,
                "text": "167",
                "x": 0.55,
                "y": 0.58
               },
               {
                "font": {
                 "color": "white",
                 "size": 12
                },
                "showarrow": false,
                "text": "Total committed ESBs",
                "x": 0.55,
                "y": 0.22
               },
               {
                "font": {
                 "color": "white",
                 "family": "Arial Black",
                 "size": 22
                },
                "showarrow": false,
                "text": "148",
                "x": 1.8,
                "y": 0.58
               },
               {
                "font": {
                 "color": "white",
                 "size": 12
                },
                "showarrow": false,
                "text": "Awarded ESBs",
                "x": 1.8,
                "y": 0.22
               },
               {
                "font": {
                 "color": "white",
                 "family": "Arial Black",
                 "size": 22
                },
                "showarrow": false,
                "text": "3",
                "x": 3.05,
                "y": 0.58
               },
               {
                "font": {
                 "color": "white",
                 "size": 12
                },
                "showarrow": false,
                "text": "Ordered ESBs",
                "x": 3.05,
                "y": 0.22
               },
               {
                "font": {
                 "color": "white",
                 "family": "Arial Black",
                 "size": 22
                },
                "showarrow": false,
                "text": "16",
                "x": 4.3,
                "y": 0.58
               },
               {
                "font": {
                 "color": "white",
                 "size": 12
                },
                "showarrow": false,
                "text": "Delivered or operating ESBs",
                "x": 4.3,
                "y": 0.22
               },
               {
                "font": {
                 "color": "white",
                 "family": "Arial Black",
                 "size": 22
                },
                "showarrow": false,
                "text": "1 031",
                "x": 5.55,
                "y": 0.58
               },
               {
                "font": {
                 "color": "white",
                 "size": 12
                },
                "showarrow": false,
                "text": "Students riding ESBs",
                "x": 5.55,
                "y": 0.22
               }
              ],
              "shapes": [
               {
                "fillcolor": "#9e1b1f",
                "line": {
                 "color": "rgba(0, 0, 0, 0)"
                },
                "type": "rect",
                "x0": 0,
                "x1": 1.1,
                "y0": 0,
                "y1": 1
               },
               {
                "fillcolor": "#9e1b1f",
                "line": {
                 "color": "rgba(0, 0, 0, 0)"
                },
                "type": "circle",
                "x0": -0.05,
                "x1": 0.15,
                "y0": -0.05,
                "y1": 1.05
               },
               {
                "fillcolor": "#9e1b1f",
                "line": {
                 "color": "rgba(0, 0, 0, 0)"
                },
                "type": "circle",
                "x0": 0.95,
                "x1": 1.15,
                "y0": -0.05,
                "y1": 1.05
               },
               {
                "fillcolor": "#0f7c89",
                "line": {
                 "color": "rgba(0, 0, 0, 0)"
                },
                "type": "rect",
                "x0": 1.25,
                "x1": 2.35,
                "y0": 0,
                "y1": 1
               },
               {
                "fillcolor": "#0f7c89",
                "line": {
                 "color": "rgba(0, 0, 0, 0)"
                },
                "type": "circle",
                "x0": 1.2,
                "x1": 1.4,
                "y0": -0.05,
                "y1": 1.05
               },
               {
                "fillcolor": "#0f7c89",
                "line": {
                 "color": "rgba(0, 0, 0, 0)"
                },
                "type": "circle",
                "x0": 2.2,
                "x1": 2.4,
                "y0": -0.05,
                "y1": 1.05
               },
               {
                "fillcolor": "#2f9150",
                "line": {
                 "color": "rgba(0, 0, 0, 0)"
                },
                "type": "rect",
                "x0": 2.5,
                "x1": 3.6,
                "y0": 0,
                "y1": 1
               },
               {
                "fillcolor": "#2f9150",
                "line": {
                 "color": "rgba(0, 0, 0, 0)"
                },
                "type": "circle",
                "x0": 2.45,
                "x1": 2.65,
                "y0": -0.05,
                "y1": 1.05
               },
               {
                "fillcolor": "#2f9150",
                "line": {
                 "color": "rgba(0, 0, 0, 0)"
                },
                "type": "circle",
                "x0": 3.45,
                "x1": 3.65,
                "y0": -0.05,
                "y1": 1.05
               },
               {
                "fillcolor": "#3352a3",
                "line": {
                 "color": "rgba(0, 0, 0, 0)"
                },
                "type": "rect",
                "x0": 3.75,
                "x1": 4.85,
                "y0": 0,
                "y1": 1
               },
               {
                "fillcolor": "#3352a3",
                "line": {
                 "color": "rgba(0, 0, 0, 0)"
                },
                "type": "circle",
                "x0": 3.7,
                "x1": 3.9,
                "y0": -0.05,
                "y1": 1.05
               },
               {
                "fillcolor": "#3352a3",
                "line": {
                 "color": "rgba(0, 0, 0, 0)"
                },
                "type": "circle",
                "x0": 4.7,
                "x1": 4.9,
                "y0": -0.05,
                "y1": 1.05
               },
               {
                "fillcolor": "#8a1a7a",
                "line": {
                 "color": "rgba(0, 0, 0, 0)"
                },
                "type": "rect",
                "x0": 5,
                "x1": 6.1,
                "y0": 0,
                "y1": 1
               },
               {
                "fillcolor": "#8a1a7a",
                "line": {
                 "color": "rgba(0, 0, 0, 0)"
                },
                "type": "circle",
                "x0": 4.95,
                "x1": 5.15,
                "y0": -0.05,
                "y1": 1.05
               },
               {
                "fillcolor": "#8a1a7a",
                "line": {
                 "color": "rgba(0, 0, 0, 0)"
                },
                "type": "circle",
                "x0": 5.95,
                "x1": 6.15,
                "y0": -0.05,
                "y1": 1.05
               }
              ],
              "title": {
               "text": "Committed electric school buses, by adoption status — OHIO"
              }
             }
            ],
            "label": "OHIO",
            "method": "update"
           },
           {
            "args": [
             {
              "visible": [
               true
              ]
             },
             {
              "annotations": [
               {
                "font": {
                 "color": "white",
                 "family": "Arial Black",
                 "size": 22
                },
                "showarrow": false,
                "text": "148",
                "x": 0.55,
                "y": 0.58
               },
               {
                "font": {
                 "color": "white",
                 "size": 12
                },
                "showarrow": false,
                "text": "Total committed ESBs",
                "x": 0.55,
                "y": 0.22
               },
               {
                "font": {
                 "color": "white",
                 "family": "Arial Black",
                 "size": 22
                },
                "showarrow": false,
                "text": "72",
                "x": 1.8,
                "y": 0.58
               },
               {
                "font": {
                 "color": "white",
                 "size": 12
                },
                "showarrow": false,
                "text": "Awarded ESBs",
                "x": 1.8,
                "y": 0.22
               },
               {
                "font": {
                 "color": "white",
                 "family": "Arial Black",
                 "size": 22
                },
                "showarrow": false,
                "text": "0",
                "x": 3.05,
                "y": 0.58
               },
               {
                "font": {
                 "color": "white",
                 "size": 12
                },
                "showarrow": false,
                "text": "Ordered ESBs",
                "x": 3.05,
                "y": 0.22
               },
               {
                "font": {
                 "color": "white",
                 "family": "Arial Black",
                 "size": 22
                },
                "showarrow": false,
                "text": "76",
                "x": 4.3,
                "y": 0.58
               },
               {
                "font": {
                 "color": "white",
                 "size": 12
                },
                "showarrow": false,
                "text": "Delivered or operating ESBs",
                "x": 4.3,
                "y": 0.22
               },
               {
                "font": {
                 "color": "white",
                 "family": "Arial Black",
                 "size": 22
                },
                "showarrow": false,
                "text": "4 952",
                "x": 5.55,
                "y": 0.58
               },
               {
                "font": {
                 "color": "white",
                 "size": 12
                },
                "showarrow": false,
                "text": "Students riding ESBs",
                "x": 5.55,
                "y": 0.22
               }
              ],
              "shapes": [
               {
                "fillcolor": "#9e1b1f",
                "line": {
                 "color": "rgba(0, 0, 0, 0)"
                },
                "type": "rect",
                "x0": 0,
                "x1": 1.1,
                "y0": 0,
                "y1": 1
               },
               {
                "fillcolor": "#9e1b1f",
                "line": {
                 "color": "rgba(0, 0, 0, 0)"
                },
                "type": "circle",
                "x0": -0.05,
                "x1": 0.15,
                "y0": -0.05,
                "y1": 1.05
               },
               {
                "fillcolor": "#9e1b1f",
                "line": {
                 "color": "rgba(0, 0, 0, 0)"
                },
                "type": "circle",
                "x0": 0.95,
                "x1": 1.15,
                "y0": -0.05,
                "y1": 1.05
               },
               {
                "fillcolor": "#0f7c89",
                "line": {
                 "color": "rgba(0, 0, 0, 0)"
                },
                "type": "rect",
                "x0": 1.25,
                "x1": 2.35,
                "y0": 0,
                "y1": 1
               },
               {
                "fillcolor": "#0f7c89",
                "line": {
                 "color": "rgba(0, 0, 0, 0)"
                },
                "type": "circle",
                "x0": 1.2,
                "x1": 1.4,
                "y0": -0.05,
                "y1": 1.05
               },
               {
                "fillcolor": "#0f7c89",
                "line": {
                 "color": "rgba(0, 0, 0, 0)"
                },
                "type": "circle",
                "x0": 2.2,
                "x1": 2.4,
                "y0": -0.05,
                "y1": 1.05
               },
               {
                "fillcolor": "#2f9150",
                "line": {
                 "color": "rgba(0, 0, 0, 0)"
                },
                "type": "rect",
                "x0": 2.5,
                "x1": 3.6,
                "y0": 0,
                "y1": 1
               },
               {
                "fillcolor": "#2f9150",
                "line": {
                 "color": "rgba(0, 0, 0, 0)"
                },
                "type": "circle",
                "x0": 2.45,
                "x1": 2.65,
                "y0": -0.05,
                "y1": 1.05
               },
               {
                "fillcolor": "#2f9150",
                "line": {
                 "color": "rgba(0, 0, 0, 0)"
                },
                "type": "circle",
                "x0": 3.45,
                "x1": 3.65,
                "y0": -0.05,
                "y1": 1.05
               },
               {
                "fillcolor": "#3352a3",
                "line": {
                 "color": "rgba(0, 0, 0, 0)"
                },
                "type": "rect",
                "x0": 3.75,
                "x1": 4.85,
                "y0": 0,
                "y1": 1
               },
               {
                "fillcolor": "#3352a3",
                "line": {
                 "color": "rgba(0, 0, 0, 0)"
                },
                "type": "circle",
                "x0": 3.7,
                "x1": 3.9,
                "y0": -0.05,
                "y1": 1.05
               },
               {
                "fillcolor": "#3352a3",
                "line": {
                 "color": "rgba(0, 0, 0, 0)"
                },
                "type": "circle",
                "x0": 4.7,
                "x1": 4.9,
                "y0": -0.05,
                "y1": 1.05
               },
               {
                "fillcolor": "#8a1a7a",
                "line": {
                 "color": "rgba(0, 0, 0, 0)"
                },
                "type": "rect",
                "x0": 5,
                "x1": 6.1,
                "y0": 0,
                "y1": 1
               },
               {
                "fillcolor": "#8a1a7a",
                "line": {
                 "color": "rgba(0, 0, 0, 0)"
                },
                "type": "circle",
                "x0": 4.95,
                "x1": 5.15,
                "y0": -0.05,
                "y1": 1.05
               },
               {
                "fillcolor": "#8a1a7a",
                "line": {
                 "color": "rgba(0, 0, 0, 0)"
                },
                "type": "circle",
                "x0": 5.95,
                "x1": 6.15,
                "y0": -0.05,
                "y1": 1.05
               }
              ],
              "title": {
               "text": "Committed electric school buses, by adoption status — OKLAHOMA"
              }
             }
            ],
            "label": "OKLAHOMA",
            "method": "update"
           },
           {
            "args": [
             {
              "visible": [
               true
              ]
             },
             {
              "annotations": [
               {
                "font": {
                 "color": "white",
                 "family": "Arial Black",
                 "size": 22
                },
                "showarrow": false,
                "text": "282",
                "x": 0.55,
                "y": 0.58
               },
               {
                "font": {
                 "color": "white",
                 "size": 12
                },
                "showarrow": false,
                "text": "Total committed ESBs",
                "x": 0.55,
                "y": 0.22
               },
               {
                "font": {
                 "color": "white",
                 "family": "Arial Black",
                 "size": 22
                },
                "showarrow": false,
                "text": "225",
                "x": 1.8,
                "y": 0.58
               },
               {
                "font": {
                 "color": "white",
                 "size": 12
                },
                "showarrow": false,
                "text": "Awarded ESBs",
                "x": 1.8,
                "y": 0.22
               },
               {
                "font": {
                 "color": "white",
                 "family": "Arial Black",
                 "size": 22
                },
                "showarrow": false,
                "text": "3",
                "x": 3.05,
                "y": 0.58
               },
               {
                "font": {
                 "color": "white",
                 "size": 12
                },
                "showarrow": false,
                "text": "Ordered ESBs",
                "x": 3.05,
                "y": 0.22
               },
               {
                "font": {
                 "color": "white",
                 "family": "Arial Black",
                 "size": 22
                },
                "showarrow": false,
                "text": "54",
                "x": 4.3,
                "y": 0.58
               },
               {
                "font": {
                 "color": "white",
                 "size": 12
                },
                "showarrow": false,
                "text": "Delivered or operating ESBs",
                "x": 4.3,
                "y": 0.22
               },
               {
                "font": {
                 "color": "white",
                 "family": "Arial Black",
                 "size": 22
                },
                "showarrow": false,
                "text": "4 301",
                "x": 5.55,
                "y": 0.58
               },
               {
                "font": {
                 "color": "white",
                 "size": 12
                },
                "showarrow": false,
                "text": "Students riding ESBs",
                "x": 5.55,
                "y": 0.22
               }
              ],
              "shapes": [
               {
                "fillcolor": "#9e1b1f",
                "line": {
                 "color": "rgba(0, 0, 0, 0)"
                },
                "type": "rect",
                "x0": 0,
                "x1": 1.1,
                "y0": 0,
                "y1": 1
               },
               {
                "fillcolor": "#9e1b1f",
                "line": {
                 "color": "rgba(0, 0, 0, 0)"
                },
                "type": "circle",
                "x0": -0.05,
                "x1": 0.15,
                "y0": -0.05,
                "y1": 1.05
               },
               {
                "fillcolor": "#9e1b1f",
                "line": {
                 "color": "rgba(0, 0, 0, 0)"
                },
                "type": "circle",
                "x0": 0.95,
                "x1": 1.15,
                "y0": -0.05,
                "y1": 1.05
               },
               {
                "fillcolor": "#0f7c89",
                "line": {
                 "color": "rgba(0, 0, 0, 0)"
                },
                "type": "rect",
                "x0": 1.25,
                "x1": 2.35,
                "y0": 0,
                "y1": 1
               },
               {
                "fillcolor": "#0f7c89",
                "line": {
                 "color": "rgba(0, 0, 0, 0)"
                },
                "type": "circle",
                "x0": 1.2,
                "x1": 1.4,
                "y0": -0.05,
                "y1": 1.05
               },
               {
                "fillcolor": "#0f7c89",
                "line": {
                 "color": "rgba(0, 0, 0, 0)"
                },
                "type": "circle",
                "x0": 2.2,
                "x1": 2.4,
                "y0": -0.05,
                "y1": 1.05
               },
               {
                "fillcolor": "#2f9150",
                "line": {
                 "color": "rgba(0, 0, 0, 0)"
                },
                "type": "rect",
                "x0": 2.5,
                "x1": 3.6,
                "y0": 0,
                "y1": 1
               },
               {
                "fillcolor": "#2f9150",
                "line": {
                 "color": "rgba(0, 0, 0, 0)"
                },
                "type": "circle",
                "x0": 2.45,
                "x1": 2.65,
                "y0": -0.05,
                "y1": 1.05
               },
               {
                "fillcolor": "#2f9150",
                "line": {
                 "color": "rgba(0, 0, 0, 0)"
                },
                "type": "circle",
                "x0": 3.45,
                "x1": 3.65,
                "y0": -0.05,
                "y1": 1.05
               },
               {
                "fillcolor": "#3352a3",
                "line": {
                 "color": "rgba(0, 0, 0, 0)"
                },
                "type": "rect",
                "x0": 3.75,
                "x1": 4.85,
                "y0": 0,
                "y1": 1
               },
               {
                "fillcolor": "#3352a3",
                "line": {
                 "color": "rgba(0, 0, 0, 0)"
                },
                "type": "circle",
                "x0": 3.7,
                "x1": 3.9,
                "y0": -0.05,
                "y1": 1.05
               },
               {
                "fillcolor": "#3352a3",
                "line": {
                 "color": "rgba(0, 0, 0, 0)"
                },
                "type": "circle",
                "x0": 4.7,
                "x1": 4.9,
                "y0": -0.05,
                "y1": 1.05
               },
               {
                "fillcolor": "#8a1a7a",
                "line": {
                 "color": "rgba(0, 0, 0, 0)"
                },
                "type": "rect",
                "x0": 5,
                "x1": 6.1,
                "y0": 0,
                "y1": 1
               },
               {
                "fillcolor": "#8a1a7a",
                "line": {
                 "color": "rgba(0, 0, 0, 0)"
                },
                "type": "circle",
                "x0": 4.95,
                "x1": 5.15,
                "y0": -0.05,
                "y1": 1.05
               },
               {
                "fillcolor": "#8a1a7a",
                "line": {
                 "color": "rgba(0, 0, 0, 0)"
                },
                "type": "circle",
                "x0": 5.95,
                "x1": 6.15,
                "y0": -0.05,
                "y1": 1.05
               }
              ],
              "title": {
               "text": "Committed electric school buses, by adoption status — OREGON"
              }
             }
            ],
            "label": "OREGON",
            "method": "update"
           },
           {
            "args": [
             {
              "visible": [
               true
              ]
             },
             {
              "annotations": [
               {
                "font": {
                 "color": "white",
                 "family": "Arial Black",
                 "size": 22
                },
                "showarrow": false,
                "text": "473",
                "x": 0.55,
                "y": 0.58
               },
               {
                "font": {
                 "color": "white",
                 "size": 12
                },
                "showarrow": false,
                "text": "Total committed ESBs",
                "x": 0.55,
                "y": 0.22
               },
               {
                "font": {
                 "color": "white",
                 "family": "Arial Black",
                 "size": 22
                },
                "showarrow": false,
                "text": "328",
                "x": 1.8,
                "y": 0.58
               },
               {
                "font": {
                 "color": "white",
                 "size": 12
                },
                "showarrow": false,
                "text": "Awarded ESBs",
                "x": 1.8,
                "y": 0.22
               },
               {
                "font": {
                 "color": "white",
                 "family": "Arial Black",
                 "size": 22
                },
                "showarrow": false,
                "text": "1",
                "x": 3.05,
                "y": 0.58
               },
               {
                "font": {
                 "color": "white",
                 "size": 12
                },
                "showarrow": false,
                "text": "Ordered ESBs",
                "x": 3.05,
                "y": 0.22
               },
               {
                "font": {
                 "color": "white",
                 "family": "Arial Black",
                 "size": 22
                },
                "showarrow": false,
                "text": "144",
                "x": 4.3,
                "y": 0.58
               },
               {
                "font": {
                 "color": "white",
                 "size": 12
                },
                "showarrow": false,
                "text": "Delivered or operating ESBs",
                "x": 4.3,
                "y": 0.22
               },
               {
                "font": {
                 "color": "white",
                 "family": "Arial Black",
                 "size": 22
                },
                "showarrow": false,
                "text": "8 383",
                "x": 5.55,
                "y": 0.58
               },
               {
                "font": {
                 "color": "white",
                 "size": 12
                },
                "showarrow": false,
                "text": "Students riding ESBs",
                "x": 5.55,
                "y": 0.22
               }
              ],
              "shapes": [
               {
                "fillcolor": "#9e1b1f",
                "line": {
                 "color": "rgba(0, 0, 0, 0)"
                },
                "type": "rect",
                "x0": 0,
                "x1": 1.1,
                "y0": 0,
                "y1": 1
               },
               {
                "fillcolor": "#9e1b1f",
                "line": {
                 "color": "rgba(0, 0, 0, 0)"
                },
                "type": "circle",
                "x0": -0.05,
                "x1": 0.15,
                "y0": -0.05,
                "y1": 1.05
               },
               {
                "fillcolor": "#9e1b1f",
                "line": {
                 "color": "rgba(0, 0, 0, 0)"
                },
                "type": "circle",
                "x0": 0.95,
                "x1": 1.15,
                "y0": -0.05,
                "y1": 1.05
               },
               {
                "fillcolor": "#0f7c89",
                "line": {
                 "color": "rgba(0, 0, 0, 0)"
                },
                "type": "rect",
                "x0": 1.25,
                "x1": 2.35,
                "y0": 0,
                "y1": 1
               },
               {
                "fillcolor": "#0f7c89",
                "line": {
                 "color": "rgba(0, 0, 0, 0)"
                },
                "type": "circle",
                "x0": 1.2,
                "x1": 1.4,
                "y0": -0.05,
                "y1": 1.05
               },
               {
                "fillcolor": "#0f7c89",
                "line": {
                 "color": "rgba(0, 0, 0, 0)"
                },
                "type": "circle",
                "x0": 2.2,
                "x1": 2.4,
                "y0": -0.05,
                "y1": 1.05
               },
               {
                "fillcolor": "#2f9150",
                "line": {
                 "color": "rgba(0, 0, 0, 0)"
                },
                "type": "rect",
                "x0": 2.5,
                "x1": 3.6,
                "y0": 0,
                "y1": 1
               },
               {
                "fillcolor": "#2f9150",
                "line": {
                 "color": "rgba(0, 0, 0, 0)"
                },
                "type": "circle",
                "x0": 2.45,
                "x1": 2.65,
                "y0": -0.05,
                "y1": 1.05
               },
               {
                "fillcolor": "#2f9150",
                "line": {
                 "color": "rgba(0, 0, 0, 0)"
                },
                "type": "circle",
                "x0": 3.45,
                "x1": 3.65,
                "y0": -0.05,
                "y1": 1.05
               },
               {
                "fillcolor": "#3352a3",
                "line": {
                 "color": "rgba(0, 0, 0, 0)"
                },
                "type": "rect",
                "x0": 3.75,
                "x1": 4.85,
                "y0": 0,
                "y1": 1
               },
               {
                "fillcolor": "#3352a3",
                "line": {
                 "color": "rgba(0, 0, 0, 0)"
                },
                "type": "circle",
                "x0": 3.7,
                "x1": 3.9,
                "y0": -0.05,
                "y1": 1.05
               },
               {
                "fillcolor": "#3352a3",
                "line": {
                 "color": "rgba(0, 0, 0, 0)"
                },
                "type": "circle",
                "x0": 4.7,
                "x1": 4.9,
                "y0": -0.05,
                "y1": 1.05
               },
               {
                "fillcolor": "#8a1a7a",
                "line": {
                 "color": "rgba(0, 0, 0, 0)"
                },
                "type": "rect",
                "x0": 5,
                "x1": 6.1,
                "y0": 0,
                "y1": 1
               },
               {
                "fillcolor": "#8a1a7a",
                "line": {
                 "color": "rgba(0, 0, 0, 0)"
                },
                "type": "circle",
                "x0": 4.95,
                "x1": 5.15,
                "y0": -0.05,
                "y1": 1.05
               },
               {
                "fillcolor": "#8a1a7a",
                "line": {
                 "color": "rgba(0, 0, 0, 0)"
                },
                "type": "circle",
                "x0": 5.95,
                "x1": 6.15,
                "y0": -0.05,
                "y1": 1.05
               }
              ],
              "title": {
               "text": "Committed electric school buses, by adoption status — PENNSYLVANIA"
              }
             }
            ],
            "label": "PENNSYLVANIA",
            "method": "update"
           },
           {
            "args": [
             {
              "visible": [
               true
              ]
             },
             {
              "annotations": [
               {
                "font": {
                 "color": "white",
                 "family": "Arial Black",
                 "size": 22
                },
                "showarrow": false,
                "text": "50",
                "x": 0.55,
                "y": 0.58
               },
               {
                "font": {
                 "color": "white",
                 "size": 12
                },
                "showarrow": false,
                "text": "Total committed ESBs",
                "x": 0.55,
                "y": 0.22
               },
               {
                "font": {
                 "color": "white",
                 "family": "Arial Black",
                 "size": 22
                },
                "showarrow": false,
                "text": "25",
                "x": 1.8,
                "y": 0.58
               },
               {
                "font": {
                 "color": "white",
                 "size": 12
                },
                "showarrow": false,
                "text": "Awarded ESBs",
                "x": 1.8,
                "y": 0.22
               },
               {
                "font": {
                 "color": "white",
                 "family": "Arial Black",
                 "size": 22
                },
                "showarrow": false,
                "text": "0",
                "x": 3.05,
                "y": 0.58
               },
               {
                "font": {
                 "color": "white",
                 "size": 12
                },
                "showarrow": false,
                "text": "Ordered ESBs",
                "x": 3.05,
                "y": 0.22
               },
               {
                "font": {
                 "color": "white",
                 "family": "Arial Black",
                 "size": 22
                },
                "showarrow": false,
                "text": "25",
                "x": 4.3,
                "y": 0.58
               },
               {
                "font": {
                 "color": "white",
                 "size": 12
                },
                "showarrow": false,
                "text": "Delivered or operating ESBs",
                "x": 4.3,
                "y": 0.22
               },
               {
                "font": {
                 "color": "white",
                 "family": "Arial Black",
                 "size": 22
                },
                "showarrow": false,
                "text": "1 629",
                "x": 5.55,
                "y": 0.58
               },
               {
                "font": {
                 "color": "white",
                 "size": 12
                },
                "showarrow": false,
                "text": "Students riding ESBs",
                "x": 5.55,
                "y": 0.22
               }
              ],
              "shapes": [
               {
                "fillcolor": "#9e1b1f",
                "line": {
                 "color": "rgba(0, 0, 0, 0)"
                },
                "type": "rect",
                "x0": 0,
                "x1": 1.1,
                "y0": 0,
                "y1": 1
               },
               {
                "fillcolor": "#9e1b1f",
                "line": {
                 "color": "rgba(0, 0, 0, 0)"
                },
                "type": "circle",
                "x0": -0.05,
                "x1": 0.15,
                "y0": -0.05,
                "y1": 1.05
               },
               {
                "fillcolor": "#9e1b1f",
                "line": {
                 "color": "rgba(0, 0, 0, 0)"
                },
                "type": "circle",
                "x0": 0.95,
                "x1": 1.15,
                "y0": -0.05,
                "y1": 1.05
               },
               {
                "fillcolor": "#0f7c89",
                "line": {
                 "color": "rgba(0, 0, 0, 0)"
                },
                "type": "rect",
                "x0": 1.25,
                "x1": 2.35,
                "y0": 0,
                "y1": 1
               },
               {
                "fillcolor": "#0f7c89",
                "line": {
                 "color": "rgba(0, 0, 0, 0)"
                },
                "type": "circle",
                "x0": 1.2,
                "x1": 1.4,
                "y0": -0.05,
                "y1": 1.05
               },
               {
                "fillcolor": "#0f7c89",
                "line": {
                 "color": "rgba(0, 0, 0, 0)"
                },
                "type": "circle",
                "x0": 2.2,
                "x1": 2.4,
                "y0": -0.05,
                "y1": 1.05
               },
               {
                "fillcolor": "#2f9150",
                "line": {
                 "color": "rgba(0, 0, 0, 0)"
                },
                "type": "rect",
                "x0": 2.5,
                "x1": 3.6,
                "y0": 0,
                "y1": 1
               },
               {
                "fillcolor": "#2f9150",
                "line": {
                 "color": "rgba(0, 0, 0, 0)"
                },
                "type": "circle",
                "x0": 2.45,
                "x1": 2.65,
                "y0": -0.05,
                "y1": 1.05
               },
               {
                "fillcolor": "#2f9150",
                "line": {
                 "color": "rgba(0, 0, 0, 0)"
                },
                "type": "circle",
                "x0": 3.45,
                "x1": 3.65,
                "y0": -0.05,
                "y1": 1.05
               },
               {
                "fillcolor": "#3352a3",
                "line": {
                 "color": "rgba(0, 0, 0, 0)"
                },
                "type": "rect",
                "x0": 3.75,
                "x1": 4.85,
                "y0": 0,
                "y1": 1
               },
               {
                "fillcolor": "#3352a3",
                "line": {
                 "color": "rgba(0, 0, 0, 0)"
                },
                "type": "circle",
                "x0": 3.7,
                "x1": 3.9,
                "y0": -0.05,
                "y1": 1.05
               },
               {
                "fillcolor": "#3352a3",
                "line": {
                 "color": "rgba(0, 0, 0, 0)"
                },
                "type": "circle",
                "x0": 4.7,
                "x1": 4.9,
                "y0": -0.05,
                "y1": 1.05
               },
               {
                "fillcolor": "#8a1a7a",
                "line": {
                 "color": "rgba(0, 0, 0, 0)"
                },
                "type": "rect",
                "x0": 5,
                "x1": 6.1,
                "y0": 0,
                "y1": 1
               },
               {
                "fillcolor": "#8a1a7a",
                "line": {
                 "color": "rgba(0, 0, 0, 0)"
                },
                "type": "circle",
                "x0": 4.95,
                "x1": 5.15,
                "y0": -0.05,
                "y1": 1.05
               },
               {
                "fillcolor": "#8a1a7a",
                "line": {
                 "color": "rgba(0, 0, 0, 0)"
                },
                "type": "circle",
                "x0": 5.95,
                "x1": 6.15,
                "y0": -0.05,
                "y1": 1.05
               }
              ],
              "title": {
               "text": "Committed electric school buses, by adoption status — PUERTO RICO"
              }
             }
            ],
            "label": "PUERTO RICO",
            "method": "update"
           },
           {
            "args": [
             {
              "visible": [
               true
              ]
             },
             {
              "annotations": [
               {
                "font": {
                 "color": "white",
                 "family": "Arial Black",
                 "size": 22
                },
                "showarrow": false,
                "text": "79",
                "x": 0.55,
                "y": 0.58
               },
               {
                "font": {
                 "color": "white",
                 "size": 12
                },
                "showarrow": false,
                "text": "Total committed ESBs",
                "x": 0.55,
                "y": 0.22
               },
               {
                "font": {
                 "color": "white",
                 "family": "Arial Black",
                 "size": 22
                },
                "showarrow": false,
                "text": "45",
                "x": 1.8,
                "y": 0.58
               },
               {
                "font": {
                 "color": "white",
                 "size": 12
                },
                "showarrow": false,
                "text": "Awarded ESBs",
                "x": 1.8,
                "y": 0.22
               },
               {
                "font": {
                 "color": "white",
                 "family": "Arial Black",
                 "size": 22
                },
                "showarrow": false,
                "text": "0",
                "x": 3.05,
                "y": 0.58
               },
               {
                "font": {
                 "color": "white",
                 "size": 12
                },
                "showarrow": false,
                "text": "Ordered ESBs",
                "x": 3.05,
                "y": 0.22
               },
               {
                "font": {
                 "color": "white",
                 "family": "Arial Black",
                 "size": 22
                },
                "showarrow": false,
                "text": "34",
                "x": 4.3,
                "y": 0.58
               },
               {
                "font": {
                 "color": "white",
                 "size": 12
                },
                "showarrow": false,
                "text": "Delivered or operating ESBs",
                "x": 4.3,
                "y": 0.22
               },
               {
                "font": {
                 "color": "white",
                 "family": "Arial Black",
                 "size": 22
                },
                "showarrow": false,
                "text": "2 217",
                "x": 5.55,
                "y": 0.58
               },
               {
                "font": {
                 "color": "white",
                 "size": 12
                },
                "showarrow": false,
                "text": "Students riding ESBs",
                "x": 5.55,
                "y": 0.22
               }
              ],
              "shapes": [
               {
                "fillcolor": "#9e1b1f",
                "line": {
                 "color": "rgba(0, 0, 0, 0)"
                },
                "type": "rect",
                "x0": 0,
                "x1": 1.1,
                "y0": 0,
                "y1": 1
               },
               {
                "fillcolor": "#9e1b1f",
                "line": {
                 "color": "rgba(0, 0, 0, 0)"
                },
                "type": "circle",
                "x0": -0.05,
                "x1": 0.15,
                "y0": -0.05,
                "y1": 1.05
               },
               {
                "fillcolor": "#9e1b1f",
                "line": {
                 "color": "rgba(0, 0, 0, 0)"
                },
                "type": "circle",
                "x0": 0.95,
                "x1": 1.15,
                "y0": -0.05,
                "y1": 1.05
               },
               {
                "fillcolor": "#0f7c89",
                "line": {
                 "color": "rgba(0, 0, 0, 0)"
                },
                "type": "rect",
                "x0": 1.25,
                "x1": 2.35,
                "y0": 0,
                "y1": 1
               },
               {
                "fillcolor": "#0f7c89",
                "line": {
                 "color": "rgba(0, 0, 0, 0)"
                },
                "type": "circle",
                "x0": 1.2,
                "x1": 1.4,
                "y0": -0.05,
                "y1": 1.05
               },
               {
                "fillcolor": "#0f7c89",
                "line": {
                 "color": "rgba(0, 0, 0, 0)"
                },
                "type": "circle",
                "x0": 2.2,
                "x1": 2.4,
                "y0": -0.05,
                "y1": 1.05
               },
               {
                "fillcolor": "#2f9150",
                "line": {
                 "color": "rgba(0, 0, 0, 0)"
                },
                "type": "rect",
                "x0": 2.5,
                "x1": 3.6,
                "y0": 0,
                "y1": 1
               },
               {
                "fillcolor": "#2f9150",
                "line": {
                 "color": "rgba(0, 0, 0, 0)"
                },
                "type": "circle",
                "x0": 2.45,
                "x1": 2.65,
                "y0": -0.05,
                "y1": 1.05
               },
               {
                "fillcolor": "#2f9150",
                "line": {
                 "color": "rgba(0, 0, 0, 0)"
                },
                "type": "circle",
                "x0": 3.45,
                "x1": 3.65,
                "y0": -0.05,
                "y1": 1.05
               },
               {
                "fillcolor": "#3352a3",
                "line": {
                 "color": "rgba(0, 0, 0, 0)"
                },
                "type": "rect",
                "x0": 3.75,
                "x1": 4.85,
                "y0": 0,
                "y1": 1
               },
               {
                "fillcolor": "#3352a3",
                "line": {
                 "color": "rgba(0, 0, 0, 0)"
                },
                "type": "circle",
                "x0": 3.7,
                "x1": 3.9,
                "y0": -0.05,
                "y1": 1.05
               },
               {
                "fillcolor": "#3352a3",
                "line": {
                 "color": "rgba(0, 0, 0, 0)"
                },
                "type": "circle",
                "x0": 4.7,
                "x1": 4.9,
                "y0": -0.05,
                "y1": 1.05
               },
               {
                "fillcolor": "#8a1a7a",
                "line": {
                 "color": "rgba(0, 0, 0, 0)"
                },
                "type": "rect",
                "x0": 5,
                "x1": 6.1,
                "y0": 0,
                "y1": 1
               },
               {
                "fillcolor": "#8a1a7a",
                "line": {
                 "color": "rgba(0, 0, 0, 0)"
                },
                "type": "circle",
                "x0": 4.95,
                "x1": 5.15,
                "y0": -0.05,
                "y1": 1.05
               },
               {
                "fillcolor": "#8a1a7a",
                "line": {
                 "color": "rgba(0, 0, 0, 0)"
                },
                "type": "circle",
                "x0": 5.95,
                "x1": 6.15,
                "y0": -0.05,
                "y1": 1.05
               }
              ],
              "title": {
               "text": "Committed electric school buses, by adoption status — RHODE ISLAND"
              }
             }
            ],
            "label": "RHODE ISLAND",
            "method": "update"
           },
           {
            "args": [
             {
              "visible": [
               true
              ]
             },
             {
              "annotations": [
               {
                "font": {
                 "color": "white",
                 "family": "Arial Black",
                 "size": 22
                },
                "showarrow": false,
                "text": "199",
                "x": 0.55,
                "y": 0.58
               },
               {
                "font": {
                 "color": "white",
                 "size": 12
                },
                "showarrow": false,
                "text": "Total committed ESBs",
                "x": 0.55,
                "y": 0.22
               },
               {
                "font": {
                 "color": "white",
                 "family": "Arial Black",
                 "size": 22
                },
                "showarrow": false,
                "text": "27",
                "x": 1.8,
                "y": 0.58
               },
               {
                "font": {
                 "color": "white",
                 "size": 12
                },
                "showarrow": false,
                "text": "Awarded ESBs",
                "x": 1.8,
                "y": 0.22
               },
               {
                "font": {
                 "color": "white",
                 "family": "Arial Black",
                 "size": 22
                },
                "showarrow": false,
                "text": "0",
                "x": 3.05,
                "y": 0.58
               },
               {
                "font": {
                 "color": "white",
                 "size": 12
                },
                "showarrow": false,
                "text": "Ordered ESBs",
                "x": 3.05,
                "y": 0.22
               },
               {
                "font": {
                 "color": "white",
                 "family": "Arial Black",
                 "size": 22
                },
                "showarrow": false,
                "text": "172",
                "x": 4.3,
                "y": 0.58
               },
               {
                "font": {
                 "color": "white",
                 "size": 12
                },
                "showarrow": false,
                "text": "Delivered or operating ESBs",
                "x": 4.3,
                "y": 0.22
               },
               {
                "font": {
                 "color": "white",
                 "family": "Arial Black",
                 "size": 22
                },
                "showarrow": false,
                "text": "12 284",
                "x": 5.55,
                "y": 0.58
               },
               {
                "font": {
                 "color": "white",
                 "size": 12
                },
                "showarrow": false,
                "text": "Students riding ESBs",
                "x": 5.55,
                "y": 0.22
               }
              ],
              "shapes": [
               {
                "fillcolor": "#9e1b1f",
                "line": {
                 "color": "rgba(0, 0, 0, 0)"
                },
                "type": "rect",
                "x0": 0,
                "x1": 1.1,
                "y0": 0,
                "y1": 1
               },
               {
                "fillcolor": "#9e1b1f",
                "line": {
                 "color": "rgba(0, 0, 0, 0)"
                },
                "type": "circle",
                "x0": -0.05,
                "x1": 0.15,
                "y0": -0.05,
                "y1": 1.05
               },
               {
                "fillcolor": "#9e1b1f",
                "line": {
                 "color": "rgba(0, 0, 0, 0)"
                },
                "type": "circle",
                "x0": 0.95,
                "x1": 1.15,
                "y0": -0.05,
                "y1": 1.05
               },
               {
                "fillcolor": "#0f7c89",
                "line": {
                 "color": "rgba(0, 0, 0, 0)"
                },
                "type": "rect",
                "x0": 1.25,
                "x1": 2.35,
                "y0": 0,
                "y1": 1
               },
               {
                "fillcolor": "#0f7c89",
                "line": {
                 "color": "rgba(0, 0, 0, 0)"
                },
                "type": "circle",
                "x0": 1.2,
                "x1": 1.4,
                "y0": -0.05,
                "y1": 1.05
               },
               {
                "fillcolor": "#0f7c89",
                "line": {
                 "color": "rgba(0, 0, 0, 0)"
                },
                "type": "circle",
                "x0": 2.2,
                "x1": 2.4,
                "y0": -0.05,
                "y1": 1.05
               },
               {
                "fillcolor": "#2f9150",
                "line": {
                 "color": "rgba(0, 0, 0, 0)"
                },
                "type": "rect",
                "x0": 2.5,
                "x1": 3.6,
                "y0": 0,
                "y1": 1
               },
               {
                "fillcolor": "#2f9150",
                "line": {
                 "color": "rgba(0, 0, 0, 0)"
                },
                "type": "circle",
                "x0": 2.45,
                "x1": 2.65,
                "y0": -0.05,
                "y1": 1.05
               },
               {
                "fillcolor": "#2f9150",
                "line": {
                 "color": "rgba(0, 0, 0, 0)"
                },
                "type": "circle",
                "x0": 3.45,
                "x1": 3.65,
                "y0": -0.05,
                "y1": 1.05
               },
               {
                "fillcolor": "#3352a3",
                "line": {
                 "color": "rgba(0, 0, 0, 0)"
                },
                "type": "rect",
                "x0": 3.75,
                "x1": 4.85,
                "y0": 0,
                "y1": 1
               },
               {
                "fillcolor": "#3352a3",
                "line": {
                 "color": "rgba(0, 0, 0, 0)"
                },
                "type": "circle",
                "x0": 3.7,
                "x1": 3.9,
                "y0": -0.05,
                "y1": 1.05
               },
               {
                "fillcolor": "#3352a3",
                "line": {
                 "color": "rgba(0, 0, 0, 0)"
                },
                "type": "circle",
                "x0": 4.7,
                "x1": 4.9,
                "y0": -0.05,
                "y1": 1.05
               },
               {
                "fillcolor": "#8a1a7a",
                "line": {
                 "color": "rgba(0, 0, 0, 0)"
                },
                "type": "rect",
                "x0": 5,
                "x1": 6.1,
                "y0": 0,
                "y1": 1
               },
               {
                "fillcolor": "#8a1a7a",
                "line": {
                 "color": "rgba(0, 0, 0, 0)"
                },
                "type": "circle",
                "x0": 4.95,
                "x1": 5.15,
                "y0": -0.05,
                "y1": 1.05
               },
               {
                "fillcolor": "#8a1a7a",
                "line": {
                 "color": "rgba(0, 0, 0, 0)"
                },
                "type": "circle",
                "x0": 5.95,
                "x1": 6.15,
                "y0": -0.05,
                "y1": 1.05
               }
              ],
              "title": {
               "text": "Committed electric school buses, by adoption status — SOUTH CAROLINA"
              }
             }
            ],
            "label": "SOUTH CAROLINA",
            "method": "update"
           },
           {
            "args": [
             {
              "visible": [
               true
              ]
             },
             {
              "annotations": [
               {
                "font": {
                 "color": "white",
                 "family": "Arial Black",
                 "size": 22
                },
                "showarrow": false,
                "text": "8",
                "x": 0.55,
                "y": 0.58
               },
               {
                "font": {
                 "color": "white",
                 "size": 12
                },
                "showarrow": false,
                "text": "Total committed ESBs",
                "x": 0.55,
                "y": 0.22
               },
               {
                "font": {
                 "color": "white",
                 "family": "Arial Black",
                 "size": 22
                },
                "showarrow": false,
                "text": "1",
                "x": 1.8,
                "y": 0.58
               },
               {
                "font": {
                 "color": "white",
                 "size": 12
                },
                "showarrow": false,
                "text": "Awarded ESBs",
                "x": 1.8,
                "y": 0.22
               },
               {
                "font": {
                 "color": "white",
                 "family": "Arial Black",
                 "size": 22
                },
                "showarrow": false,
                "text": "0",
                "x": 3.05,
                "y": 0.58
               },
               {
                "font": {
                 "color": "white",
                 "size": 12
                },
                "showarrow": false,
                "text": "Ordered ESBs",
                "x": 3.05,
                "y": 0.22
               },
               {
                "font": {
                 "color": "white",
                 "family": "Arial Black",
                 "size": 22
                },
                "showarrow": false,
                "text": "7",
                "x": 4.3,
                "y": 0.58
               },
               {
                "font": {
                 "color": "white",
                 "size": 12
                },
                "showarrow": false,
                "text": "Delivered or operating ESBs",
                "x": 4.3,
                "y": 0.22
               },
               {
                "font": {
                 "color": "white",
                 "family": "Arial Black",
                 "size": 22
                },
                "showarrow": false,
                "text": "456",
                "x": 5.55,
                "y": 0.58
               },
               {
                "font": {
                 "color": "white",
                 "size": 12
                },
                "showarrow": false,
                "text": "Students riding ESBs",
                "x": 5.55,
                "y": 0.22
               }
              ],
              "shapes": [
               {
                "fillcolor": "#9e1b1f",
                "line": {
                 "color": "rgba(0, 0, 0, 0)"
                },
                "type": "rect",
                "x0": 0,
                "x1": 1.1,
                "y0": 0,
                "y1": 1
               },
               {
                "fillcolor": "#9e1b1f",
                "line": {
                 "color": "rgba(0, 0, 0, 0)"
                },
                "type": "circle",
                "x0": -0.05,
                "x1": 0.15,
                "y0": -0.05,
                "y1": 1.05
               },
               {
                "fillcolor": "#9e1b1f",
                "line": {
                 "color": "rgba(0, 0, 0, 0)"
                },
                "type": "circle",
                "x0": 0.95,
                "x1": 1.15,
                "y0": -0.05,
                "y1": 1.05
               },
               {
                "fillcolor": "#0f7c89",
                "line": {
                 "color": "rgba(0, 0, 0, 0)"
                },
                "type": "rect",
                "x0": 1.25,
                "x1": 2.35,
                "y0": 0,
                "y1": 1
               },
               {
                "fillcolor": "#0f7c89",
                "line": {
                 "color": "rgba(0, 0, 0, 0)"
                },
                "type": "circle",
                "x0": 1.2,
                "x1": 1.4,
                "y0": -0.05,
                "y1": 1.05
               },
               {
                "fillcolor": "#0f7c89",
                "line": {
                 "color": "rgba(0, 0, 0, 0)"
                },
                "type": "circle",
                "x0": 2.2,
                "x1": 2.4,
                "y0": -0.05,
                "y1": 1.05
               },
               {
                "fillcolor": "#2f9150",
                "line": {
                 "color": "rgba(0, 0, 0, 0)"
                },
                "type": "rect",
                "x0": 2.5,
                "x1": 3.6,
                "y0": 0,
                "y1": 1
               },
               {
                "fillcolor": "#2f9150",
                "line": {
                 "color": "rgba(0, 0, 0, 0)"
                },
                "type": "circle",
                "x0": 2.45,
                "x1": 2.65,
                "y0": -0.05,
                "y1": 1.05
               },
               {
                "fillcolor": "#2f9150",
                "line": {
                 "color": "rgba(0, 0, 0, 0)"
                },
                "type": "circle",
                "x0": 3.45,
                "x1": 3.65,
                "y0": -0.05,
                "y1": 1.05
               },
               {
                "fillcolor": "#3352a3",
                "line": {
                 "color": "rgba(0, 0, 0, 0)"
                },
                "type": "rect",
                "x0": 3.75,
                "x1": 4.85,
                "y0": 0,
                "y1": 1
               },
               {
                "fillcolor": "#3352a3",
                "line": {
                 "color": "rgba(0, 0, 0, 0)"
                },
                "type": "circle",
                "x0": 3.7,
                "x1": 3.9,
                "y0": -0.05,
                "y1": 1.05
               },
               {
                "fillcolor": "#3352a3",
                "line": {
                 "color": "rgba(0, 0, 0, 0)"
                },
                "type": "circle",
                "x0": 4.7,
                "x1": 4.9,
                "y0": -0.05,
                "y1": 1.05
               },
               {
                "fillcolor": "#8a1a7a",
                "line": {
                 "color": "rgba(0, 0, 0, 0)"
                },
                "type": "rect",
                "x0": 5,
                "x1": 6.1,
                "y0": 0,
                "y1": 1
               },
               {
                "fillcolor": "#8a1a7a",
                "line": {
                 "color": "rgba(0, 0, 0, 0)"
                },
                "type": "circle",
                "x0": 4.95,
                "x1": 5.15,
                "y0": -0.05,
                "y1": 1.05
               },
               {
                "fillcolor": "#8a1a7a",
                "line": {
                 "color": "rgba(0, 0, 0, 0)"
                },
                "type": "circle",
                "x0": 5.95,
                "x1": 6.15,
                "y0": -0.05,
                "y1": 1.05
               }
              ],
              "title": {
               "text": "Committed electric school buses, by adoption status — SOUTH DAKOTA"
              }
             }
            ],
            "label": "SOUTH DAKOTA",
            "method": "update"
           },
           {
            "args": [
             {
              "visible": [
               true
              ]
             },
             {
              "annotations": [
               {
                "font": {
                 "color": "white",
                 "family": "Arial Black",
                 "size": 22
                },
                "showarrow": false,
                "text": "93",
                "x": 0.55,
                "y": 0.58
               },
               {
                "font": {
                 "color": "white",
                 "size": 12
                },
                "showarrow": false,
                "text": "Total committed ESBs",
                "x": 0.55,
                "y": 0.22
               },
               {
                "font": {
                 "color": "white",
                 "family": "Arial Black",
                 "size": 22
                },
                "showarrow": false,
                "text": "48",
                "x": 1.8,
                "y": 0.58
               },
               {
                "font": {
                 "color": "white",
                 "size": 12
                },
                "showarrow": false,
                "text": "Awarded ESBs",
                "x": 1.8,
                "y": 0.22
               },
               {
                "font": {
                 "color": "white",
                 "family": "Arial Black",
                 "size": 22
                },
                "showarrow": false,
                "text": "0",
                "x": 3.05,
                "y": 0.58
               },
               {
                "font": {
                 "color": "white",
                 "size": 12
                },
                "showarrow": false,
                "text": "Ordered ESBs",
                "x": 3.05,
                "y": 0.22
               },
               {
                "font": {
                 "color": "white",
                 "family": "Arial Black",
                 "size": 22
                },
                "showarrow": false,
                "text": "45",
                "x": 4.3,
                "y": 0.58
               },
               {
                "font": {
                 "color": "white",
                 "size": 12
                },
                "showarrow": false,
                "text": "Delivered or operating ESBs",
                "x": 4.3,
                "y": 0.22
               },
               {
                "font": {
                 "color": "white",
                 "family": "Arial Black",
                 "size": 22
                },
                "showarrow": false,
                "text": "3 258",
                "x": 5.55,
                "y": 0.58
               },
               {
                "font": {
                 "color": "white",
                 "size": 12
                },
                "showarrow": false,
                "text": "Students riding ESBs",
                "x": 5.55,
                "y": 0.22
               }
              ],
              "shapes": [
               {
                "fillcolor": "#9e1b1f",
                "line": {
                 "color": "rgba(0, 0, 0, 0)"
                },
                "type": "rect",
                "x0": 0,
                "x1": 1.1,
                "y0": 0,
                "y1": 1
               },
               {
                "fillcolor": "#9e1b1f",
                "line": {
                 "color": "rgba(0, 0, 0, 0)"
                },
                "type": "circle",
                "x0": -0.05,
                "x1": 0.15,
                "y0": -0.05,
                "y1": 1.05
               },
               {
                "fillcolor": "#9e1b1f",
                "line": {
                 "color": "rgba(0, 0, 0, 0)"
                },
                "type": "circle",
                "x0": 0.95,
                "x1": 1.15,
                "y0": -0.05,
                "y1": 1.05
               },
               {
                "fillcolor": "#0f7c89",
                "line": {
                 "color": "rgba(0, 0, 0, 0)"
                },
                "type": "rect",
                "x0": 1.25,
                "x1": 2.35,
                "y0": 0,
                "y1": 1
               },
               {
                "fillcolor": "#0f7c89",
                "line": {
                 "color": "rgba(0, 0, 0, 0)"
                },
                "type": "circle",
                "x0": 1.2,
                "x1": 1.4,
                "y0": -0.05,
                "y1": 1.05
               },
               {
                "fillcolor": "#0f7c89",
                "line": {
                 "color": "rgba(0, 0, 0, 0)"
                },
                "type": "circle",
                "x0": 2.2,
                "x1": 2.4,
                "y0": -0.05,
                "y1": 1.05
               },
               {
                "fillcolor": "#2f9150",
                "line": {
                 "color": "rgba(0, 0, 0, 0)"
                },
                "type": "rect",
                "x0": 2.5,
                "x1": 3.6,
                "y0": 0,
                "y1": 1
               },
               {
                "fillcolor": "#2f9150",
                "line": {
                 "color": "rgba(0, 0, 0, 0)"
                },
                "type": "circle",
                "x0": 2.45,
                "x1": 2.65,
                "y0": -0.05,
                "y1": 1.05
               },
               {
                "fillcolor": "#2f9150",
                "line": {
                 "color": "rgba(0, 0, 0, 0)"
                },
                "type": "circle",
                "x0": 3.45,
                "x1": 3.65,
                "y0": -0.05,
                "y1": 1.05
               },
               {
                "fillcolor": "#3352a3",
                "line": {
                 "color": "rgba(0, 0, 0, 0)"
                },
                "type": "rect",
                "x0": 3.75,
                "x1": 4.85,
                "y0": 0,
                "y1": 1
               },
               {
                "fillcolor": "#3352a3",
                "line": {
                 "color": "rgba(0, 0, 0, 0)"
                },
                "type": "circle",
                "x0": 3.7,
                "x1": 3.9,
                "y0": -0.05,
                "y1": 1.05
               },
               {
                "fillcolor": "#3352a3",
                "line": {
                 "color": "rgba(0, 0, 0, 0)"
                },
                "type": "circle",
                "x0": 4.7,
                "x1": 4.9,
                "y0": -0.05,
                "y1": 1.05
               },
               {
                "fillcolor": "#8a1a7a",
                "line": {
                 "color": "rgba(0, 0, 0, 0)"
                },
                "type": "rect",
                "x0": 5,
                "x1": 6.1,
                "y0": 0,
                "y1": 1
               },
               {
                "fillcolor": "#8a1a7a",
                "line": {
                 "color": "rgba(0, 0, 0, 0)"
                },
                "type": "circle",
                "x0": 4.95,
                "x1": 5.15,
                "y0": -0.05,
                "y1": 1.05
               },
               {
                "fillcolor": "#8a1a7a",
                "line": {
                 "color": "rgba(0, 0, 0, 0)"
                },
                "type": "circle",
                "x0": 5.95,
                "x1": 6.15,
                "y0": -0.05,
                "y1": 1.05
               }
              ],
              "title": {
               "text": "Committed electric school buses, by adoption status — TENNESSEE"
              }
             }
            ],
            "label": "TENNESSEE",
            "method": "update"
           },
           {
            "args": [
             {
              "visible": [
               true
              ]
             },
             {
              "annotations": [
               {
                "font": {
                 "color": "white",
                 "family": "Arial Black",
                 "size": 22
                },
                "showarrow": false,
                "text": "451",
                "x": 0.55,
                "y": 0.58
               },
               {
                "font": {
                 "color": "white",
                 "size": 12
                },
                "showarrow": false,
                "text": "Total committed ESBs",
                "x": 0.55,
                "y": 0.22
               },
               {
                "font": {
                 "color": "white",
                 "family": "Arial Black",
                 "size": 22
                },
                "showarrow": false,
                "text": "313",
                "x": 1.8,
                "y": 0.58
               },
               {
                "font": {
                 "color": "white",
                 "size": 12
                },
                "showarrow": false,
                "text": "Awarded ESBs",
                "x": 1.8,
                "y": 0.22
               },
               {
                "font": {
                 "color": "white",
                 "family": "Arial Black",
                 "size": 22
                },
                "showarrow": false,
                "text": "0",
                "x": 3.05,
                "y": 0.58
               },
               {
                "font": {
                 "color": "white",
                 "size": 12
                },
                "showarrow": false,
                "text": "Ordered ESBs",
                "x": 3.05,
                "y": 0.22
               },
               {
                "font": {
                 "color": "white",
                 "family": "Arial Black",
                 "size": 22
                },
                "showarrow": false,
                "text": "138",
                "x": 4.3,
                "y": 0.58
               },
               {
                "font": {
                 "color": "white",
                 "size": 12
                },
                "showarrow": false,
                "text": "Delivered or operating ESBs",
                "x": 4.3,
                "y": 0.22
               },
               {
                "font": {
                 "color": "white",
                 "family": "Arial Black",
                 "size": 22
                },
                "showarrow": false,
                "text": "9 326",
                "x": 5.55,
                "y": 0.58
               },
               {
                "font": {
                 "color": "white",
                 "size": 12
                },
                "showarrow": false,
                "text": "Students riding ESBs",
                "x": 5.55,
                "y": 0.22
               }
              ],
              "shapes": [
               {
                "fillcolor": "#9e1b1f",
                "line": {
                 "color": "rgba(0, 0, 0, 0)"
                },
                "type": "rect",
                "x0": 0,
                "x1": 1.1,
                "y0": 0,
                "y1": 1
               },
               {
                "fillcolor": "#9e1b1f",
                "line": {
                 "color": "rgba(0, 0, 0, 0)"
                },
                "type": "circle",
                "x0": -0.05,
                "x1": 0.15,
                "y0": -0.05,
                "y1": 1.05
               },
               {
                "fillcolor": "#9e1b1f",
                "line": {
                 "color": "rgba(0, 0, 0, 0)"
                },
                "type": "circle",
                "x0": 0.95,
                "x1": 1.15,
                "y0": -0.05,
                "y1": 1.05
               },
               {
                "fillcolor": "#0f7c89",
                "line": {
                 "color": "rgba(0, 0, 0, 0)"
                },
                "type": "rect",
                "x0": 1.25,
                "x1": 2.35,
                "y0": 0,
                "y1": 1
               },
               {
                "fillcolor": "#0f7c89",
                "line": {
                 "color": "rgba(0, 0, 0, 0)"
                },
                "type": "circle",
                "x0": 1.2,
                "x1": 1.4,
                "y0": -0.05,
                "y1": 1.05
               },
               {
                "fillcolor": "#0f7c89",
                "line": {
                 "color": "rgba(0, 0, 0, 0)"
                },
                "type": "circle",
                "x0": 2.2,
                "x1": 2.4,
                "y0": -0.05,
                "y1": 1.05
               },
               {
                "fillcolor": "#2f9150",
                "line": {
                 "color": "rgba(0, 0, 0, 0)"
                },
                "type": "rect",
                "x0": 2.5,
                "x1": 3.6,
                "y0": 0,
                "y1": 1
               },
               {
                "fillcolor": "#2f9150",
                "line": {
                 "color": "rgba(0, 0, 0, 0)"
                },
                "type": "circle",
                "x0": 2.45,
                "x1": 2.65,
                "y0": -0.05,
                "y1": 1.05
               },
               {
                "fillcolor": "#2f9150",
                "line": {
                 "color": "rgba(0, 0, 0, 0)"
                },
                "type": "circle",
                "x0": 3.45,
                "x1": 3.65,
                "y0": -0.05,
                "y1": 1.05
               },
               {
                "fillcolor": "#3352a3",
                "line": {
                 "color": "rgba(0, 0, 0, 0)"
                },
                "type": "rect",
                "x0": 3.75,
                "x1": 4.85,
                "y0": 0,
                "y1": 1
               },
               {
                "fillcolor": "#3352a3",
                "line": {
                 "color": "rgba(0, 0, 0, 0)"
                },
                "type": "circle",
                "x0": 3.7,
                "x1": 3.9,
                "y0": -0.05,
                "y1": 1.05
               },
               {
                "fillcolor": "#3352a3",
                "line": {
                 "color": "rgba(0, 0, 0, 0)"
                },
                "type": "circle",
                "x0": 4.7,
                "x1": 4.9,
                "y0": -0.05,
                "y1": 1.05
               },
               {
                "fillcolor": "#8a1a7a",
                "line": {
                 "color": "rgba(0, 0, 0, 0)"
                },
                "type": "rect",
                "x0": 5,
                "x1": 6.1,
                "y0": 0,
                "y1": 1
               },
               {
                "fillcolor": "#8a1a7a",
                "line": {
                 "color": "rgba(0, 0, 0, 0)"
                },
                "type": "circle",
                "x0": 4.95,
                "x1": 5.15,
                "y0": -0.05,
                "y1": 1.05
               },
               {
                "fillcolor": "#8a1a7a",
                "line": {
                 "color": "rgba(0, 0, 0, 0)"
                },
                "type": "circle",
                "x0": 5.95,
                "x1": 6.15,
                "y0": -0.05,
                "y1": 1.05
               }
              ],
              "title": {
               "text": "Committed electric school buses, by adoption status — TEXAS"
              }
             }
            ],
            "label": "TEXAS",
            "method": "update"
           },
           {
            "args": [
             {
              "visible": [
               true
              ]
             },
             {
              "annotations": [
               {
                "font": {
                 "color": "white",
                 "family": "Arial Black",
                 "size": 22
                },
                "showarrow": false,
                "text": "10",
                "x": 0.55,
                "y": 0.58
               },
               {
                "font": {
                 "color": "white",
                 "size": 12
                },
                "showarrow": false,
                "text": "Total committed ESBs",
                "x": 0.55,
                "y": 0.22
               },
               {
                "font": {
                 "color": "white",
                 "family": "Arial Black",
                 "size": 22
                },
                "showarrow": false,
                "text": "10",
                "x": 1.8,
                "y": 0.58
               },
               {
                "font": {
                 "color": "white",
                 "size": 12
                },
                "showarrow": false,
                "text": "Awarded ESBs",
                "x": 1.8,
                "y": 0.22
               },
               {
                "font": {
                 "color": "white",
                 "family": "Arial Black",
                 "size": 22
                },
                "showarrow": false,
                "text": "0",
                "x": 3.05,
                "y": 0.58
               },
               {
                "font": {
                 "color": "white",
                 "size": 12
                },
                "showarrow": false,
                "text": "Ordered ESBs",
                "x": 3.05,
                "y": 0.22
               },
               {
                "font": {
                 "color": "white",
                 "family": "Arial Black",
                 "size": 22
                },
                "showarrow": false,
                "text": "0",
                "x": 4.3,
                "y": 0.58
               },
               {
                "font": {
                 "color": "white",
                 "size": 12
                },
                "showarrow": false,
                "text": "Delivered or operating ESBs",
                "x": 4.3,
                "y": 0.22
               },
               {
                "font": {
                 "color": "white",
                 "family": "Arial Black",
                 "size": 22
                },
                "showarrow": false,
                "text": "0",
                "x": 5.55,
                "y": 0.58
               },
               {
                "font": {
                 "color": "white",
                 "size": 12
                },
                "showarrow": false,
                "text": "Students riding ESBs",
                "x": 5.55,
                "y": 0.22
               }
              ],
              "shapes": [
               {
                "fillcolor": "#9e1b1f",
                "line": {
                 "color": "rgba(0, 0, 0, 0)"
                },
                "type": "rect",
                "x0": 0,
                "x1": 1.1,
                "y0": 0,
                "y1": 1
               },
               {
                "fillcolor": "#9e1b1f",
                "line": {
                 "color": "rgba(0, 0, 0, 0)"
                },
                "type": "circle",
                "x0": -0.05,
                "x1": 0.15,
                "y0": -0.05,
                "y1": 1.05
               },
               {
                "fillcolor": "#9e1b1f",
                "line": {
                 "color": "rgba(0, 0, 0, 0)"
                },
                "type": "circle",
                "x0": 0.95,
                "x1": 1.15,
                "y0": -0.05,
                "y1": 1.05
               },
               {
                "fillcolor": "#0f7c89",
                "line": {
                 "color": "rgba(0, 0, 0, 0)"
                },
                "type": "rect",
                "x0": 1.25,
                "x1": 2.35,
                "y0": 0,
                "y1": 1
               },
               {
                "fillcolor": "#0f7c89",
                "line": {
                 "color": "rgba(0, 0, 0, 0)"
                },
                "type": "circle",
                "x0": 1.2,
                "x1": 1.4,
                "y0": -0.05,
                "y1": 1.05
               },
               {
                "fillcolor": "#0f7c89",
                "line": {
                 "color": "rgba(0, 0, 0, 0)"
                },
                "type": "circle",
                "x0": 2.2,
                "x1": 2.4,
                "y0": -0.05,
                "y1": 1.05
               },
               {
                "fillcolor": "#2f9150",
                "line": {
                 "color": "rgba(0, 0, 0, 0)"
                },
                "type": "rect",
                "x0": 2.5,
                "x1": 3.6,
                "y0": 0,
                "y1": 1
               },
               {
                "fillcolor": "#2f9150",
                "line": {
                 "color": "rgba(0, 0, 0, 0)"
                },
                "type": "circle",
                "x0": 2.45,
                "x1": 2.65,
                "y0": -0.05,
                "y1": 1.05
               },
               {
                "fillcolor": "#2f9150",
                "line": {
                 "color": "rgba(0, 0, 0, 0)"
                },
                "type": "circle",
                "x0": 3.45,
                "x1": 3.65,
                "y0": -0.05,
                "y1": 1.05
               },
               {
                "fillcolor": "#3352a3",
                "line": {
                 "color": "rgba(0, 0, 0, 0)"
                },
                "type": "rect",
                "x0": 3.75,
                "x1": 4.85,
                "y0": 0,
                "y1": 1
               },
               {
                "fillcolor": "#3352a3",
                "line": {
                 "color": "rgba(0, 0, 0, 0)"
                },
                "type": "circle",
                "x0": 3.7,
                "x1": 3.9,
                "y0": -0.05,
                "y1": 1.05
               },
               {
                "fillcolor": "#3352a3",
                "line": {
                 "color": "rgba(0, 0, 0, 0)"
                },
                "type": "circle",
                "x0": 4.7,
                "x1": 4.9,
                "y0": -0.05,
                "y1": 1.05
               },
               {
                "fillcolor": "#8a1a7a",
                "line": {
                 "color": "rgba(0, 0, 0, 0)"
                },
                "type": "rect",
                "x0": 5,
                "x1": 6.1,
                "y0": 0,
                "y1": 1
               },
               {
                "fillcolor": "#8a1a7a",
                "line": {
                 "color": "rgba(0, 0, 0, 0)"
                },
                "type": "circle",
                "x0": 4.95,
                "x1": 5.15,
                "y0": -0.05,
                "y1": 1.05
               },
               {
                "fillcolor": "#8a1a7a",
                "line": {
                 "color": "rgba(0, 0, 0, 0)"
                },
                "type": "circle",
                "x0": 5.95,
                "x1": 6.15,
                "y0": -0.05,
                "y1": 1.05
               }
              ],
              "title": {
               "text": "Committed electric school buses, by adoption status — U.S. VIRGIN ISLANDS"
              }
             }
            ],
            "label": "U.S. VIRGIN ISLANDS",
            "method": "update"
           },
           {
            "args": [
             {
              "visible": [
               true
              ]
             },
             {
              "annotations": [
               {
                "font": {
                 "color": "white",
                 "family": "Arial Black",
                 "size": 22
                },
                "showarrow": false,
                "text": "36",
                "x": 0.55,
                "y": 0.58
               },
               {
                "font": {
                 "color": "white",
                 "size": 12
                },
                "showarrow": false,
                "text": "Total committed ESBs",
                "x": 0.55,
                "y": 0.22
               },
               {
                "font": {
                 "color": "white",
                 "family": "Arial Black",
                 "size": 22
                },
                "showarrow": false,
                "text": "6",
                "x": 1.8,
                "y": 0.58
               },
               {
                "font": {
                 "color": "white",
                 "size": 12
                },
                "showarrow": false,
                "text": "Awarded ESBs",
                "x": 1.8,
                "y": 0.22
               },
               {
                "font": {
                 "color": "white",
                 "family": "Arial Black",
                 "size": 22
                },
                "showarrow": false,
                "text": "0",
                "x": 3.05,
                "y": 0.58
               },
               {
                "font": {
                 "color": "white",
                 "size": 12
                },
                "showarrow": false,
                "text": "Ordered ESBs",
                "x": 3.05,
                "y": 0.22
               },
               {
                "font": {
                 "color": "white",
                 "family": "Arial Black",
                 "size": 22
                },
                "showarrow": false,
                "text": "30",
                "x": 4.3,
                "y": 0.58
               },
               {
                "font": {
                 "color": "white",
                 "size": 12
                },
                "showarrow": false,
                "text": "Delivered or operating ESBs",
                "x": 4.3,
                "y": 0.22
               },
               {
                "font": {
                 "color": "white",
                 "family": "Arial Black",
                 "size": 22
                },
                "showarrow": false,
                "text": "2 214",
                "x": 5.55,
                "y": 0.58
               },
               {
                "font": {
                 "color": "white",
                 "size": 12
                },
                "showarrow": false,
                "text": "Students riding ESBs",
                "x": 5.55,
                "y": 0.22
               }
              ],
              "shapes": [
               {
                "fillcolor": "#9e1b1f",
                "line": {
                 "color": "rgba(0, 0, 0, 0)"
                },
                "type": "rect",
                "x0": 0,
                "x1": 1.1,
                "y0": 0,
                "y1": 1
               },
               {
                "fillcolor": "#9e1b1f",
                "line": {
                 "color": "rgba(0, 0, 0, 0)"
                },
                "type": "circle",
                "x0": -0.05,
                "x1": 0.15,
                "y0": -0.05,
                "y1": 1.05
               },
               {
                "fillcolor": "#9e1b1f",
                "line": {
                 "color": "rgba(0, 0, 0, 0)"
                },
                "type": "circle",
                "x0": 0.95,
                "x1": 1.15,
                "y0": -0.05,
                "y1": 1.05
               },
               {
                "fillcolor": "#0f7c89",
                "line": {
                 "color": "rgba(0, 0, 0, 0)"
                },
                "type": "rect",
                "x0": 1.25,
                "x1": 2.35,
                "y0": 0,
                "y1": 1
               },
               {
                "fillcolor": "#0f7c89",
                "line": {
                 "color": "rgba(0, 0, 0, 0)"
                },
                "type": "circle",
                "x0": 1.2,
                "x1": 1.4,
                "y0": -0.05,
                "y1": 1.05
               },
               {
                "fillcolor": "#0f7c89",
                "line": {
                 "color": "rgba(0, 0, 0, 0)"
                },
                "type": "circle",
                "x0": 2.2,
                "x1": 2.4,
                "y0": -0.05,
                "y1": 1.05
               },
               {
                "fillcolor": "#2f9150",
                "line": {
                 "color": "rgba(0, 0, 0, 0)"
                },
                "type": "rect",
                "x0": 2.5,
                "x1": 3.6,
                "y0": 0,
                "y1": 1
               },
               {
                "fillcolor": "#2f9150",
                "line": {
                 "color": "rgba(0, 0, 0, 0)"
                },
                "type": "circle",
                "x0": 2.45,
                "x1": 2.65,
                "y0": -0.05,
                "y1": 1.05
               },
               {
                "fillcolor": "#2f9150",
                "line": {
                 "color": "rgba(0, 0, 0, 0)"
                },
                "type": "circle",
                "x0": 3.45,
                "x1": 3.65,
                "y0": -0.05,
                "y1": 1.05
               },
               {
                "fillcolor": "#3352a3",
                "line": {
                 "color": "rgba(0, 0, 0, 0)"
                },
                "type": "rect",
                "x0": 3.75,
                "x1": 4.85,
                "y0": 0,
                "y1": 1
               },
               {
                "fillcolor": "#3352a3",
                "line": {
                 "color": "rgba(0, 0, 0, 0)"
                },
                "type": "circle",
                "x0": 3.7,
                "x1": 3.9,
                "y0": -0.05,
                "y1": 1.05
               },
               {
                "fillcolor": "#3352a3",
                "line": {
                 "color": "rgba(0, 0, 0, 0)"
                },
                "type": "circle",
                "x0": 4.7,
                "x1": 4.9,
                "y0": -0.05,
                "y1": 1.05
               },
               {
                "fillcolor": "#8a1a7a",
                "line": {
                 "color": "rgba(0, 0, 0, 0)"
                },
                "type": "rect",
                "x0": 5,
                "x1": 6.1,
                "y0": 0,
                "y1": 1
               },
               {
                "fillcolor": "#8a1a7a",
                "line": {
                 "color": "rgba(0, 0, 0, 0)"
                },
                "type": "circle",
                "x0": 4.95,
                "x1": 5.15,
                "y0": -0.05,
                "y1": 1.05
               },
               {
                "fillcolor": "#8a1a7a",
                "line": {
                 "color": "rgba(0, 0, 0, 0)"
                },
                "type": "circle",
                "x0": 5.95,
                "x1": 6.15,
                "y0": -0.05,
                "y1": 1.05
               }
              ],
              "title": {
               "text": "Committed electric school buses, by adoption status — UTAH"
              }
             }
            ],
            "label": "UTAH",
            "method": "update"
           },
           {
            "args": [
             {
              "visible": [
               true
              ]
             },
             {
              "annotations": [
               {
                "font": {
                 "color": "white",
                 "family": "Arial Black",
                 "size": 22
                },
                "showarrow": false,
                "text": "39",
                "x": 0.55,
                "y": 0.58
               },
               {
                "font": {
                 "color": "white",
                 "size": 12
                },
                "showarrow": false,
                "text": "Total committed ESBs",
                "x": 0.55,
                "y": 0.22
               },
               {
                "font": {
                 "color": "white",
                 "family": "Arial Black",
                 "size": 22
                },
                "showarrow": false,
                "text": "21",
                "x": 1.8,
                "y": 0.58
               },
               {
                "font": {
                 "color": "white",
                 "size": 12
                },
                "showarrow": false,
                "text": "Awarded ESBs",
                "x": 1.8,
                "y": 0.22
               },
               {
                "font": {
                 "color": "white",
                 "family": "Arial Black",
                 "size": 22
                },
                "showarrow": false,
                "text": "0",
                "x": 3.05,
                "y": 0.58
               },
               {
                "font": {
                 "color": "white",
                 "size": 12
                },
                "showarrow": false,
                "text": "Ordered ESBs",
                "x": 3.05,
                "y": 0.22
               },
               {
                "font": {
                 "color": "white",
                 "family": "Arial Black",
                 "size": 22
                },
                "showarrow": false,
                "text": "18",
                "x": 4.3,
                "y": 0.58
               },
               {
                "font": {
                 "color": "white",
                 "size": 12
                },
                "showarrow": false,
                "text": "Delivered or operating ESBs",
                "x": 4.3,
                "y": 0.22
               },
               {
                "font": {
                 "color": "white",
                 "family": "Arial Black",
                 "size": 22
                },
                "showarrow": false,
                "text": "1 249",
                "x": 5.55,
                "y": 0.58
               },
               {
                "font": {
                 "color": "white",
                 "size": 12
                },
                "showarrow": false,
                "text": "Students riding ESBs",
                "x": 5.55,
                "y": 0.22
               }
              ],
              "shapes": [
               {
                "fillcolor": "#9e1b1f",
                "line": {
                 "color": "rgba(0, 0, 0, 0)"
                },
                "type": "rect",
                "x0": 0,
                "x1": 1.1,
                "y0": 0,
                "y1": 1
               },
               {
                "fillcolor": "#9e1b1f",
                "line": {
                 "color": "rgba(0, 0, 0, 0)"
                },
                "type": "circle",
                "x0": -0.05,
                "x1": 0.15,
                "y0": -0.05,
                "y1": 1.05
               },
               {
                "fillcolor": "#9e1b1f",
                "line": {
                 "color": "rgba(0, 0, 0, 0)"
                },
                "type": "circle",
                "x0": 0.95,
                "x1": 1.15,
                "y0": -0.05,
                "y1": 1.05
               },
               {
                "fillcolor": "#0f7c89",
                "line": {
                 "color": "rgba(0, 0, 0, 0)"
                },
                "type": "rect",
                "x0": 1.25,
                "x1": 2.35,
                "y0": 0,
                "y1": 1
               },
               {
                "fillcolor": "#0f7c89",
                "line": {
                 "color": "rgba(0, 0, 0, 0)"
                },
                "type": "circle",
                "x0": 1.2,
                "x1": 1.4,
                "y0": -0.05,
                "y1": 1.05
               },
               {
                "fillcolor": "#0f7c89",
                "line": {
                 "color": "rgba(0, 0, 0, 0)"
                },
                "type": "circle",
                "x0": 2.2,
                "x1": 2.4,
                "y0": -0.05,
                "y1": 1.05
               },
               {
                "fillcolor": "#2f9150",
                "line": {
                 "color": "rgba(0, 0, 0, 0)"
                },
                "type": "rect",
                "x0": 2.5,
                "x1": 3.6,
                "y0": 0,
                "y1": 1
               },
               {
                "fillcolor": "#2f9150",
                "line": {
                 "color": "rgba(0, 0, 0, 0)"
                },
                "type": "circle",
                "x0": 2.45,
                "x1": 2.65,
                "y0": -0.05,
                "y1": 1.05
               },
               {
                "fillcolor": "#2f9150",
                "line": {
                 "color": "rgba(0, 0, 0, 0)"
                },
                "type": "circle",
                "x0": 3.45,
                "x1": 3.65,
                "y0": -0.05,
                "y1": 1.05
               },
               {
                "fillcolor": "#3352a3",
                "line": {
                 "color": "rgba(0, 0, 0, 0)"
                },
                "type": "rect",
                "x0": 3.75,
                "x1": 4.85,
                "y0": 0,
                "y1": 1
               },
               {
                "fillcolor": "#3352a3",
                "line": {
                 "color": "rgba(0, 0, 0, 0)"
                },
                "type": "circle",
                "x0": 3.7,
                "x1": 3.9,
                "y0": -0.05,
                "y1": 1.05
               },
               {
                "fillcolor": "#3352a3",
                "line": {
                 "color": "rgba(0, 0, 0, 0)"
                },
                "type": "circle",
                "x0": 4.7,
                "x1": 4.9,
                "y0": -0.05,
                "y1": 1.05
               },
               {
                "fillcolor": "#8a1a7a",
                "line": {
                 "color": "rgba(0, 0, 0, 0)"
                },
                "type": "rect",
                "x0": 5,
                "x1": 6.1,
                "y0": 0,
                "y1": 1
               },
               {
                "fillcolor": "#8a1a7a",
                "line": {
                 "color": "rgba(0, 0, 0, 0)"
                },
                "type": "circle",
                "x0": 4.95,
                "x1": 5.15,
                "y0": -0.05,
                "y1": 1.05
               },
               {
                "fillcolor": "#8a1a7a",
                "line": {
                 "color": "rgba(0, 0, 0, 0)"
                },
                "type": "circle",
                "x0": 5.95,
                "x1": 6.15,
                "y0": -0.05,
                "y1": 1.05
               }
              ],
              "title": {
               "text": "Committed electric school buses, by adoption status — VERMONT"
              }
             }
            ],
            "label": "VERMONT",
            "method": "update"
           },
           {
            "args": [
             {
              "visible": [
               true
              ]
             },
             {
              "annotations": [
               {
                "font": {
                 "color": "white",
                 "family": "Arial Black",
                 "size": 22
                },
                "showarrow": false,
                "text": "383",
                "x": 0.55,
                "y": 0.58
               },
               {
                "font": {
                 "color": "white",
                 "size": 12
                },
                "showarrow": false,
                "text": "Total committed ESBs",
                "x": 0.55,
                "y": 0.22
               },
               {
                "font": {
                 "color": "white",
                 "family": "Arial Black",
                 "size": 22
                },
                "showarrow": false,
                "text": "81",
                "x": 1.8,
                "y": 0.58
               },
               {
                "font": {
                 "color": "white",
                 "size": 12
                },
                "showarrow": false,
                "text": "Awarded ESBs",
                "x": 1.8,
                "y": 0.22
               },
               {
                "font": {
                 "color": "white",
                 "family": "Arial Black",
                 "size": 22
                },
                "showarrow": false,
                "text": "22",
                "x": 3.05,
                "y": 0.58
               },
               {
                "font": {
                 "color": "white",
                 "size": 12
                },
                "showarrow": false,
                "text": "Ordered ESBs",
                "x": 3.05,
                "y": 0.22
               },
               {
                "font": {
                 "color": "white",
                 "family": "Arial Black",
                 "size": 22
                },
                "showarrow": false,
                "text": "280",
                "x": 4.3,
                "y": 0.58
               },
               {
                "font": {
                 "color": "white",
                 "size": 12
                },
                "showarrow": false,
                "text": "Delivered or operating ESBs",
                "x": 4.3,
                "y": 0.22
               },
               {
                "font": {
                 "color": "white",
                 "family": "Arial Black",
                 "size": 22
                },
                "showarrow": false,
                "text": "15 290",
                "x": 5.55,
                "y": 0.58
               },
               {
                "font": {
                 "color": "white",
                 "size": 12
                },
                "showarrow": false,
                "text": "Students riding ESBs",
                "x": 5.55,
                "y": 0.22
               }
              ],
              "shapes": [
               {
                "fillcolor": "#9e1b1f",
                "line": {
                 "color": "rgba(0, 0, 0, 0)"
                },
                "type": "rect",
                "x0": 0,
                "x1": 1.1,
                "y0": 0,
                "y1": 1
               },
               {
                "fillcolor": "#9e1b1f",
                "line": {
                 "color": "rgba(0, 0, 0, 0)"
                },
                "type": "circle",
                "x0": -0.05,
                "x1": 0.15,
                "y0": -0.05,
                "y1": 1.05
               },
               {
                "fillcolor": "#9e1b1f",
                "line": {
                 "color": "rgba(0, 0, 0, 0)"
                },
                "type": "circle",
                "x0": 0.95,
                "x1": 1.15,
                "y0": -0.05,
                "y1": 1.05
               },
               {
                "fillcolor": "#0f7c89",
                "line": {
                 "color": "rgba(0, 0, 0, 0)"
                },
                "type": "rect",
                "x0": 1.25,
                "x1": 2.35,
                "y0": 0,
                "y1": 1
               },
               {
                "fillcolor": "#0f7c89",
                "line": {
                 "color": "rgba(0, 0, 0, 0)"
                },
                "type": "circle",
                "x0": 1.2,
                "x1": 1.4,
                "y0": -0.05,
                "y1": 1.05
               },
               {
                "fillcolor": "#0f7c89",
                "line": {
                 "color": "rgba(0, 0, 0, 0)"
                },
                "type": "circle",
                "x0": 2.2,
                "x1": 2.4,
                "y0": -0.05,
                "y1": 1.05
               },
               {
                "fillcolor": "#2f9150",
                "line": {
                 "color": "rgba(0, 0, 0, 0)"
                },
                "type": "rect",
                "x0": 2.5,
                "x1": 3.6,
                "y0": 0,
                "y1": 1
               },
               {
                "fillcolor": "#2f9150",
                "line": {
                 "color": "rgba(0, 0, 0, 0)"
                },
                "type": "circle",
                "x0": 2.45,
                "x1": 2.65,
                "y0": -0.05,
                "y1": 1.05
               },
               {
                "fillcolor": "#2f9150",
                "line": {
                 "color": "rgba(0, 0, 0, 0)"
                },
                "type": "circle",
                "x0": 3.45,
                "x1": 3.65,
                "y0": -0.05,
                "y1": 1.05
               },
               {
                "fillcolor": "#3352a3",
                "line": {
                 "color": "rgba(0, 0, 0, 0)"
                },
                "type": "rect",
                "x0": 3.75,
                "x1": 4.85,
                "y0": 0,
                "y1": 1
               },
               {
                "fillcolor": "#3352a3",
                "line": {
                 "color": "rgba(0, 0, 0, 0)"
                },
                "type": "circle",
                "x0": 3.7,
                "x1": 3.9,
                "y0": -0.05,
                "y1": 1.05
               },
               {
                "fillcolor": "#3352a3",
                "line": {
                 "color": "rgba(0, 0, 0, 0)"
                },
                "type": "circle",
                "x0": 4.7,
                "x1": 4.9,
                "y0": -0.05,
                "y1": 1.05
               },
               {
                "fillcolor": "#8a1a7a",
                "line": {
                 "color": "rgba(0, 0, 0, 0)"
                },
                "type": "rect",
                "x0": 5,
                "x1": 6.1,
                "y0": 0,
                "y1": 1
               },
               {
                "fillcolor": "#8a1a7a",
                "line": {
                 "color": "rgba(0, 0, 0, 0)"
                },
                "type": "circle",
                "x0": 4.95,
                "x1": 5.15,
                "y0": -0.05,
                "y1": 1.05
               },
               {
                "fillcolor": "#8a1a7a",
                "line": {
                 "color": "rgba(0, 0, 0, 0)"
                },
                "type": "circle",
                "x0": 5.95,
                "x1": 6.15,
                "y0": -0.05,
                "y1": 1.05
               }
              ],
              "title": {
               "text": "Committed electric school buses, by adoption status — VIRGINIA"
              }
             }
            ],
            "label": "VIRGINIA",
            "method": "update"
           },
           {
            "args": [
             {
              "visible": [
               true
              ]
             },
             {
              "annotations": [
               {
                "font": {
                 "color": "white",
                 "family": "Arial Black",
                 "size": 22
                },
                "showarrow": false,
                "text": "263",
                "x": 0.55,
                "y": 0.58
               },
               {
                "font": {
                 "color": "white",
                 "size": 12
                },
                "showarrow": false,
                "text": "Total committed ESBs",
                "x": 0.55,
                "y": 0.22
               },
               {
                "font": {
                 "color": "white",
                 "family": "Arial Black",
                 "size": 22
                },
                "showarrow": false,
                "text": "166",
                "x": 1.8,
                "y": 0.58
               },
               {
                "font": {
                 "color": "white",
                 "size": 12
                },
                "showarrow": false,
                "text": "Awarded ESBs",
                "x": 1.8,
                "y": 0.22
               },
               {
                "font": {
                 "color": "white",
                 "family": "Arial Black",
                 "size": 22
                },
                "showarrow": false,
                "text": "15",
                "x": 3.05,
                "y": 0.58
               },
               {
                "font": {
                 "color": "white",
                 "size": 12
                },
                "showarrow": false,
                "text": "Ordered ESBs",
                "x": 3.05,
                "y": 0.22
               },
               {
                "font": {
                 "color": "white",
                 "family": "Arial Black",
                 "size": 22
                },
                "showarrow": false,
                "text": "82",
                "x": 4.3,
                "y": 0.58
               },
               {
                "font": {
                 "color": "white",
                 "size": 12
                },
                "showarrow": false,
                "text": "Delivered or operating ESBs",
                "x": 4.3,
                "y": 0.22
               },
               {
                "font": {
                 "color": "white",
                 "family": "Arial Black",
                 "size": 22
                },
                "showarrow": false,
                "text": "6 013",
                "x": 5.55,
                "y": 0.58
               },
               {
                "font": {
                 "color": "white",
                 "size": 12
                },
                "showarrow": false,
                "text": "Students riding ESBs",
                "x": 5.55,
                "y": 0.22
               }
              ],
              "shapes": [
               {
                "fillcolor": "#9e1b1f",
                "line": {
                 "color": "rgba(0, 0, 0, 0)"
                },
                "type": "rect",
                "x0": 0,
                "x1": 1.1,
                "y0": 0,
                "y1": 1
               },
               {
                "fillcolor": "#9e1b1f",
                "line": {
                 "color": "rgba(0, 0, 0, 0)"
                },
                "type": "circle",
                "x0": -0.05,
                "x1": 0.15,
                "y0": -0.05,
                "y1": 1.05
               },
               {
                "fillcolor": "#9e1b1f",
                "line": {
                 "color": "rgba(0, 0, 0, 0)"
                },
                "type": "circle",
                "x0": 0.95,
                "x1": 1.15,
                "y0": -0.05,
                "y1": 1.05
               },
               {
                "fillcolor": "#0f7c89",
                "line": {
                 "color": "rgba(0, 0, 0, 0)"
                },
                "type": "rect",
                "x0": 1.25,
                "x1": 2.35,
                "y0": 0,
                "y1": 1
               },
               {
                "fillcolor": "#0f7c89",
                "line": {
                 "color": "rgba(0, 0, 0, 0)"
                },
                "type": "circle",
                "x0": 1.2,
                "x1": 1.4,
                "y0": -0.05,
                "y1": 1.05
               },
               {
                "fillcolor": "#0f7c89",
                "line": {
                 "color": "rgba(0, 0, 0, 0)"
                },
                "type": "circle",
                "x0": 2.2,
                "x1": 2.4,
                "y0": -0.05,
                "y1": 1.05
               },
               {
                "fillcolor": "#2f9150",
                "line": {
                 "color": "rgba(0, 0, 0, 0)"
                },
                "type": "rect",
                "x0": 2.5,
                "x1": 3.6,
                "y0": 0,
                "y1": 1
               },
               {
                "fillcolor": "#2f9150",
                "line": {
                 "color": "rgba(0, 0, 0, 0)"
                },
                "type": "circle",
                "x0": 2.45,
                "x1": 2.65,
                "y0": -0.05,
                "y1": 1.05
               },
               {
                "fillcolor": "#2f9150",
                "line": {
                 "color": "rgba(0, 0, 0, 0)"
                },
                "type": "circle",
                "x0": 3.45,
                "x1": 3.65,
                "y0": -0.05,
                "y1": 1.05
               },
               {
                "fillcolor": "#3352a3",
                "line": {
                 "color": "rgba(0, 0, 0, 0)"
                },
                "type": "rect",
                "x0": 3.75,
                "x1": 4.85,
                "y0": 0,
                "y1": 1
               },
               {
                "fillcolor": "#3352a3",
                "line": {
                 "color": "rgba(0, 0, 0, 0)"
                },
                "type": "circle",
                "x0": 3.7,
                "x1": 3.9,
                "y0": -0.05,
                "y1": 1.05
               },
               {
                "fillcolor": "#3352a3",
                "line": {
                 "color": "rgba(0, 0, 0, 0)"
                },
                "type": "circle",
                "x0": 4.7,
                "x1": 4.9,
                "y0": -0.05,
                "y1": 1.05
               },
               {
                "fillcolor": "#8a1a7a",
                "line": {
                 "color": "rgba(0, 0, 0, 0)"
                },
                "type": "rect",
                "x0": 5,
                "x1": 6.1,
                "y0": 0,
                "y1": 1
               },
               {
                "fillcolor": "#8a1a7a",
                "line": {
                 "color": "rgba(0, 0, 0, 0)"
                },
                "type": "circle",
                "x0": 4.95,
                "x1": 5.15,
                "y0": -0.05,
                "y1": 1.05
               },
               {
                "fillcolor": "#8a1a7a",
                "line": {
                 "color": "rgba(0, 0, 0, 0)"
                },
                "type": "circle",
                "x0": 5.95,
                "x1": 6.15,
                "y0": -0.05,
                "y1": 1.05
               }
              ],
              "title": {
               "text": "Committed electric school buses, by adoption status — WASHINGTON"
              }
             }
            ],
            "label": "WASHINGTON",
            "method": "update"
           },
           {
            "args": [
             {
              "visible": [
               true
              ]
             },
             {
              "annotations": [
               {
                "font": {
                 "color": "white",
                 "family": "Arial Black",
                 "size": 22
                },
                "showarrow": false,
                "text": "109",
                "x": 0.55,
                "y": 0.58
               },
               {
                "font": {
                 "color": "white",
                 "size": 12
                },
                "showarrow": false,
                "text": "Total committed ESBs",
                "x": 0.55,
                "y": 0.22
               },
               {
                "font": {
                 "color": "white",
                 "family": "Arial Black",
                 "size": 22
                },
                "showarrow": false,
                "text": "25",
                "x": 1.8,
                "y": 0.58
               },
               {
                "font": {
                 "color": "white",
                 "size": 12
                },
                "showarrow": false,
                "text": "Awarded ESBs",
                "x": 1.8,
                "y": 0.22
               },
               {
                "font": {
                 "color": "white",
                 "family": "Arial Black",
                 "size": 22
                },
                "showarrow": false,
                "text": "69",
                "x": 3.05,
                "y": 0.58
               },
               {
                "font": {
                 "color": "white",
                 "size": 12
                },
                "showarrow": false,
                "text": "Ordered ESBs",
                "x": 3.05,
                "y": 0.22
               },
               {
                "font": {
                 "color": "white",
                 "family": "Arial Black",
                 "size": 22
                },
                "showarrow": false,
                "text": "15",
                "x": 4.3,
                "y": 0.58
               },
               {
                "font": {
                 "color": "white",
                 "size": 12
                },
                "showarrow": false,
                "text": "Delivered or operating ESBs",
                "x": 4.3,
                "y": 0.22
               },
               {
                "font": {
                 "color": "white",
                 "family": "Arial Black",
                 "size": 22
                },
                "showarrow": false,
                "text": "916",
                "x": 5.55,
                "y": 0.58
               },
               {
                "font": {
                 "color": "white",
                 "size": 12
                },
                "showarrow": false,
                "text": "Students riding ESBs",
                "x": 5.55,
                "y": 0.22
               }
              ],
              "shapes": [
               {
                "fillcolor": "#9e1b1f",
                "line": {
                 "color": "rgba(0, 0, 0, 0)"
                },
                "type": "rect",
                "x0": 0,
                "x1": 1.1,
                "y0": 0,
                "y1": 1
               },
               {
                "fillcolor": "#9e1b1f",
                "line": {
                 "color": "rgba(0, 0, 0, 0)"
                },
                "type": "circle",
                "x0": -0.05,
                "x1": 0.15,
                "y0": -0.05,
                "y1": 1.05
               },
               {
                "fillcolor": "#9e1b1f",
                "line": {
                 "color": "rgba(0, 0, 0, 0)"
                },
                "type": "circle",
                "x0": 0.95,
                "x1": 1.15,
                "y0": -0.05,
                "y1": 1.05
               },
               {
                "fillcolor": "#0f7c89",
                "line": {
                 "color": "rgba(0, 0, 0, 0)"
                },
                "type": "rect",
                "x0": 1.25,
                "x1": 2.35,
                "y0": 0,
                "y1": 1
               },
               {
                "fillcolor": "#0f7c89",
                "line": {
                 "color": "rgba(0, 0, 0, 0)"
                },
                "type": "circle",
                "x0": 1.2,
                "x1": 1.4,
                "y0": -0.05,
                "y1": 1.05
               },
               {
                "fillcolor": "#0f7c89",
                "line": {
                 "color": "rgba(0, 0, 0, 0)"
                },
                "type": "circle",
                "x0": 2.2,
                "x1": 2.4,
                "y0": -0.05,
                "y1": 1.05
               },
               {
                "fillcolor": "#2f9150",
                "line": {
                 "color": "rgba(0, 0, 0, 0)"
                },
                "type": "rect",
                "x0": 2.5,
                "x1": 3.6,
                "y0": 0,
                "y1": 1
               },
               {
                "fillcolor": "#2f9150",
                "line": {
                 "color": "rgba(0, 0, 0, 0)"
                },
                "type": "circle",
                "x0": 2.45,
                "x1": 2.65,
                "y0": -0.05,
                "y1": 1.05
               },
               {
                "fillcolor": "#2f9150",
                "line": {
                 "color": "rgba(0, 0, 0, 0)"
                },
                "type": "circle",
                "x0": 3.45,
                "x1": 3.65,
                "y0": -0.05,
                "y1": 1.05
               },
               {
                "fillcolor": "#3352a3",
                "line": {
                 "color": "rgba(0, 0, 0, 0)"
                },
                "type": "rect",
                "x0": 3.75,
                "x1": 4.85,
                "y0": 0,
                "y1": 1
               },
               {
                "fillcolor": "#3352a3",
                "line": {
                 "color": "rgba(0, 0, 0, 0)"
                },
                "type": "circle",
                "x0": 3.7,
                "x1": 3.9,
                "y0": -0.05,
                "y1": 1.05
               },
               {
                "fillcolor": "#3352a3",
                "line": {
                 "color": "rgba(0, 0, 0, 0)"
                },
                "type": "circle",
                "x0": 4.7,
                "x1": 4.9,
                "y0": -0.05,
                "y1": 1.05
               },
               {
                "fillcolor": "#8a1a7a",
                "line": {
                 "color": "rgba(0, 0, 0, 0)"
                },
                "type": "rect",
                "x0": 5,
                "x1": 6.1,
                "y0": 0,
                "y1": 1
               },
               {
                "fillcolor": "#8a1a7a",
                "line": {
                 "color": "rgba(0, 0, 0, 0)"
                },
                "type": "circle",
                "x0": 4.95,
                "x1": 5.15,
                "y0": -0.05,
                "y1": 1.05
               },
               {
                "fillcolor": "#8a1a7a",
                "line": {
                 "color": "rgba(0, 0, 0, 0)"
                },
                "type": "circle",
                "x0": 5.95,
                "x1": 6.15,
                "y0": -0.05,
                "y1": 1.05
               }
              ],
              "title": {
               "text": "Committed electric school buses, by adoption status — WEST VIRGINIA"
              }
             }
            ],
            "label": "WEST VIRGINIA",
            "method": "update"
           },
           {
            "args": [
             {
              "visible": [
               true
              ]
             },
             {
              "annotations": [
               {
                "font": {
                 "color": "white",
                 "family": "Arial Black",
                 "size": 22
                },
                "showarrow": false,
                "text": "141",
                "x": 0.55,
                "y": 0.58
               },
               {
                "font": {
                 "color": "white",
                 "size": 12
                },
                "showarrow": false,
                "text": "Total committed ESBs",
                "x": 0.55,
                "y": 0.22
               },
               {
                "font": {
                 "color": "white",
                 "family": "Arial Black",
                 "size": 22
                },
                "showarrow": false,
                "text": "111",
                "x": 1.8,
                "y": 0.58
               },
               {
                "font": {
                 "color": "white",
                 "size": 12
                },
                "showarrow": false,
                "text": "Awarded ESBs",
                "x": 1.8,
                "y": 0.22
               },
               {
                "font": {
                 "color": "white",
                 "family": "Arial Black",
                 "size": 22
                },
                "showarrow": false,
                "text": "0",
                "x": 3.05,
                "y": 0.58
               },
               {
                "font": {
                 "color": "white",
                 "size": 12
                },
                "showarrow": false,
                "text": "Ordered ESBs",
                "x": 3.05,
                "y": 0.22
               },
               {
                "font": {
                 "color": "white",
                 "family": "Arial Black",
                 "size": 22
                },
                "showarrow": false,
                "text": "30",
                "x": 4.3,
                "y": 0.58
               },
               {
                "font": {
                 "color": "white",
                 "size": 12
                },
                "showarrow": false,
                "text": "Delivered or operating ESBs",
                "x": 4.3,
                "y": 0.22
               },
               {
                "font": {
                 "color": "white",
                 "family": "Arial Black",
                 "size": 22
                },
                "showarrow": false,
                "text": "1 519",
                "x": 5.55,
                "y": 0.58
               },
               {
                "font": {
                 "color": "white",
                 "size": 12
                },
                "showarrow": false,
                "text": "Students riding ESBs",
                "x": 5.55,
                "y": 0.22
               }
              ],
              "shapes": [
               {
                "fillcolor": "#9e1b1f",
                "line": {
                 "color": "rgba(0, 0, 0, 0)"
                },
                "type": "rect",
                "x0": 0,
                "x1": 1.1,
                "y0": 0,
                "y1": 1
               },
               {
                "fillcolor": "#9e1b1f",
                "line": {
                 "color": "rgba(0, 0, 0, 0)"
                },
                "type": "circle",
                "x0": -0.05,
                "x1": 0.15,
                "y0": -0.05,
                "y1": 1.05
               },
               {
                "fillcolor": "#9e1b1f",
                "line": {
                 "color": "rgba(0, 0, 0, 0)"
                },
                "type": "circle",
                "x0": 0.95,
                "x1": 1.15,
                "y0": -0.05,
                "y1": 1.05
               },
               {
                "fillcolor": "#0f7c89",
                "line": {
                 "color": "rgba(0, 0, 0, 0)"
                },
                "type": "rect",
                "x0": 1.25,
                "x1": 2.35,
                "y0": 0,
                "y1": 1
               },
               {
                "fillcolor": "#0f7c89",
                "line": {
                 "color": "rgba(0, 0, 0, 0)"
                },
                "type": "circle",
                "x0": 1.2,
                "x1": 1.4,
                "y0": -0.05,
                "y1": 1.05
               },
               {
                "fillcolor": "#0f7c89",
                "line": {
                 "color": "rgba(0, 0, 0, 0)"
                },
                "type": "circle",
                "x0": 2.2,
                "x1": 2.4,
                "y0": -0.05,
                "y1": 1.05
               },
               {
                "fillcolor": "#2f9150",
                "line": {
                 "color": "rgba(0, 0, 0, 0)"
                },
                "type": "rect",
                "x0": 2.5,
                "x1": 3.6,
                "y0": 0,
                "y1": 1
               },
               {
                "fillcolor": "#2f9150",
                "line": {
                 "color": "rgba(0, 0, 0, 0)"
                },
                "type": "circle",
                "x0": 2.45,
                "x1": 2.65,
                "y0": -0.05,
                "y1": 1.05
               },
               {
                "fillcolor": "#2f9150",
                "line": {
                 "color": "rgba(0, 0, 0, 0)"
                },
                "type": "circle",
                "x0": 3.45,
                "x1": 3.65,
                "y0": -0.05,
                "y1": 1.05
               },
               {
                "fillcolor": "#3352a3",
                "line": {
                 "color": "rgba(0, 0, 0, 0)"
                },
                "type": "rect",
                "x0": 3.75,
                "x1": 4.85,
                "y0": 0,
                "y1": 1
               },
               {
                "fillcolor": "#3352a3",
                "line": {
                 "color": "rgba(0, 0, 0, 0)"
                },
                "type": "circle",
                "x0": 3.7,
                "x1": 3.9,
                "y0": -0.05,
                "y1": 1.05
               },
               {
                "fillcolor": "#3352a3",
                "line": {
                 "color": "rgba(0, 0, 0, 0)"
                },
                "type": "circle",
                "x0": 4.7,
                "x1": 4.9,
                "y0": -0.05,
                "y1": 1.05
               },
               {
                "fillcolor": "#8a1a7a",
                "line": {
                 "color": "rgba(0, 0, 0, 0)"
                },
                "type": "rect",
                "x0": 5,
                "x1": 6.1,
                "y0": 0,
                "y1": 1
               },
               {
                "fillcolor": "#8a1a7a",
                "line": {
                 "color": "rgba(0, 0, 0, 0)"
                },
                "type": "circle",
                "x0": 4.95,
                "x1": 5.15,
                "y0": -0.05,
                "y1": 1.05
               },
               {
                "fillcolor": "#8a1a7a",
                "line": {
                 "color": "rgba(0, 0, 0, 0)"
                },
                "type": "circle",
                "x0": 5.95,
                "x1": 6.15,
                "y0": -0.05,
                "y1": 1.05
               }
              ],
              "title": {
               "text": "Committed electric school buses, by adoption status — WISCONSIN"
              }
             }
            ],
            "label": "WISCONSIN",
            "method": "update"
           },
           {
            "args": [
             {
              "visible": [
               true
              ]
             },
             {
              "annotations": [
               {
                "font": {
                 "color": "white",
                 "family": "Arial Black",
                 "size": 22
                },
                "showarrow": false,
                "text": "0",
                "x": 0.55,
                "y": 0.58
               },
               {
                "font": {
                 "color": "white",
                 "size": 12
                },
                "showarrow": false,
                "text": "Total committed ESBs",
                "x": 0.55,
                "y": 0.22
               },
               {
                "font": {
                 "color": "white",
                 "family": "Arial Black",
                 "size": 22
                },
                "showarrow": false,
                "text": "0",
                "x": 1.8,
                "y": 0.58
               },
               {
                "font": {
                 "color": "white",
                 "size": 12
                },
                "showarrow": false,
                "text": "Awarded ESBs",
                "x": 1.8,
                "y": 0.22
               },
               {
                "font": {
                 "color": "white",
                 "family": "Arial Black",
                 "size": 22
                },
                "showarrow": false,
                "text": "0",
                "x": 3.05,
                "y": 0.58
               },
               {
                "font": {
                 "color": "white",
                 "size": 12
                },
                "showarrow": false,
                "text": "Ordered ESBs",
                "x": 3.05,
                "y": 0.22
               },
               {
                "font": {
                 "color": "white",
                 "family": "Arial Black",
                 "size": 22
                },
                "showarrow": false,
                "text": "0",
                "x": 4.3,
                "y": 0.58
               },
               {
                "font": {
                 "color": "white",
                 "size": 12
                },
                "showarrow": false,
                "text": "Delivered or operating ESBs",
                "x": 4.3,
                "y": 0.22
               },
               {
                "font": {
                 "color": "white",
                 "family": "Arial Black",
                 "size": 22
                },
                "showarrow": false,
                "text": "0",
                "x": 5.55,
                "y": 0.58
               },
               {
                "font": {
                 "color": "white",
                 "size": 12
                },
                "showarrow": false,
                "text": "Students riding ESBs",
                "x": 5.55,
                "y": 0.22
               }
              ],
              "shapes": [
               {
                "fillcolor": "#9e1b1f",
                "line": {
                 "color": "rgba(0, 0, 0, 0)"
                },
                "type": "rect",
                "x0": 0,
                "x1": 1.1,
                "y0": 0,
                "y1": 1
               },
               {
                "fillcolor": "#9e1b1f",
                "line": {
                 "color": "rgba(0, 0, 0, 0)"
                },
                "type": "circle",
                "x0": -0.05,
                "x1": 0.15,
                "y0": -0.05,
                "y1": 1.05
               },
               {
                "fillcolor": "#9e1b1f",
                "line": {
                 "color": "rgba(0, 0, 0, 0)"
                },
                "type": "circle",
                "x0": 0.95,
                "x1": 1.15,
                "y0": -0.05,
                "y1": 1.05
               },
               {
                "fillcolor": "#0f7c89",
                "line": {
                 "color": "rgba(0, 0, 0, 0)"
                },
                "type": "rect",
                "x0": 1.25,
                "x1": 2.35,
                "y0": 0,
                "y1": 1
               },
               {
                "fillcolor": "#0f7c89",
                "line": {
                 "color": "rgba(0, 0, 0, 0)"
                },
                "type": "circle",
                "x0": 1.2,
                "x1": 1.4,
                "y0": -0.05,
                "y1": 1.05
               },
               {
                "fillcolor": "#0f7c89",
                "line": {
                 "color": "rgba(0, 0, 0, 0)"
                },
                "type": "circle",
                "x0": 2.2,
                "x1": 2.4,
                "y0": -0.05,
                "y1": 1.05
               },
               {
                "fillcolor": "#2f9150",
                "line": {
                 "color": "rgba(0, 0, 0, 0)"
                },
                "type": "rect",
                "x0": 2.5,
                "x1": 3.6,
                "y0": 0,
                "y1": 1
               },
               {
                "fillcolor": "#2f9150",
                "line": {
                 "color": "rgba(0, 0, 0, 0)"
                },
                "type": "circle",
                "x0": 2.45,
                "x1": 2.65,
                "y0": -0.05,
                "y1": 1.05
               },
               {
                "fillcolor": "#2f9150",
                "line": {
                 "color": "rgba(0, 0, 0, 0)"
                },
                "type": "circle",
                "x0": 3.45,
                "x1": 3.65,
                "y0": -0.05,
                "y1": 1.05
               },
               {
                "fillcolor": "#3352a3",
                "line": {
                 "color": "rgba(0, 0, 0, 0)"
                },
                "type": "rect",
                "x0": 3.75,
                "x1": 4.85,
                "y0": 0,
                "y1": 1
               },
               {
                "fillcolor": "#3352a3",
                "line": {
                 "color": "rgba(0, 0, 0, 0)"
                },
                "type": "circle",
                "x0": 3.7,
                "x1": 3.9,
                "y0": -0.05,
                "y1": 1.05
               },
               {
                "fillcolor": "#3352a3",
                "line": {
                 "color": "rgba(0, 0, 0, 0)"
                },
                "type": "circle",
                "x0": 4.7,
                "x1": 4.9,
                "y0": -0.05,
                "y1": 1.05
               },
               {
                "fillcolor": "#8a1a7a",
                "line": {
                 "color": "rgba(0, 0, 0, 0)"
                },
                "type": "rect",
                "x0": 5,
                "x1": 6.1,
                "y0": 0,
                "y1": 1
               },
               {
                "fillcolor": "#8a1a7a",
                "line": {
                 "color": "rgba(0, 0, 0, 0)"
                },
                "type": "circle",
                "x0": 4.95,
                "x1": 5.15,
                "y0": -0.05,
                "y1": 1.05
               },
               {
                "fillcolor": "#8a1a7a",
                "line": {
                 "color": "rgba(0, 0, 0, 0)"
                },
                "type": "circle",
                "x0": 5.95,
                "x1": 6.15,
                "y0": -0.05,
                "y1": 1.05
               }
              ],
              "title": {
               "text": "Committed electric school buses, by adoption status — WYOMING"
              }
             }
            ],
            "label": "WYOMING",
            "method": "update"
           }
          ],
          "direction": "down",
          "showactive": true,
          "type": "dropdown",
          "x": 0.02,
          "xanchor": "left",
          "y": 1.22
         }
        ],
        "xaxis": {
         "range": [
          -0.3,
          6.2
         ],
         "type": "linear",
         "visible": false
        },
        "yaxis": {
         "range": [
          -0.2,
          1.2
         ],
         "type": "linear",
         "visible": false
        }
       }
      },
      "image/png": "[encoded data removed]"
     },
     "metadata": {},
     "output_type": "display_data"
    }
   ],
   "source": [
    "# ================================\n",
    "# ESB badges avec filtre par État (State)\n",
    "# ================================\n",
    "import pandas as pd\n",
    "import numpy as np\n",
    "import plotly.graph_objects as go\n",
    "\n",
    "# --- Charger les données ---\n",
    "path = \"ESB_adoption_dataset_v9_update_june_2025.xlsx\"\n",
    "df_district = pd.read_excel(path, sheet_name=\"1. District-level data\")\n",
    "\n",
    "# --- Noms de colonnes utiles ---\n",
    "COL_STATE          = \"1a. State\"\n",
    "COL_TOTAL_BUSES    = \"2a. Total number of buses\"\n",
    "COL_COMMITTED      = \"3a. Number of ESBs committed \"   # (note : espace en fin)\n",
    "COL_AWARDED        = \"3c. Number of ESBs awarded\"\n",
    "COL_ORDERED        = \"3d. Number of ESBs ordered\"\n",
    "COL_DELIV_OR_OP    = \"3b. Number of delivered or operating ESBs\"\n",
    "COL_OPERATING      = \"3f. Number of ESBs operating\"\n",
    "COL_STUDENTS_DIST  = \"4b. Number of students in district\"\n",
    "\n",
    "# --- Convertir en numérique ---\n",
    "for c in [COL_TOTAL_BUSES, COL_COMMITTED, COL_AWARDED, COL_ORDERED, COL_DELIV_OR_OP, COL_OPERATING, COL_STUDENTS_DIST]:\n",
    "    df_district[c] = pd.to_numeric(df_district[c], errors=\"coerce\")\n",
    "\n",
    "# --- Préparer estimation \"Students riding ESBs\" ---\n",
    "esb_in_service = df_district[COL_OPERATING].fillna(0)\n",
    "esb_in_service = np.where(esb_in_service > 0, esb_in_service, df_district[COL_DELIV_OR_OP].fillna(0))\n",
    "\n",
    "students_per_bus = df_district[COL_STUDENTS_DIST] / df_district[COL_TOTAL_BUSES].replace({0: np.nan})\n",
    "students_per_bus = students_per_bus.fillna(students_per_bus.median()).clip(10, 80)\n",
    "\n",
    "df_district[\"Students riding ESBs (est.)\"] = np.round(esb_in_service * students_per_bus)\n",
    "\n",
    "# --- Couleurs des badges ---\n",
    "COLORS = [\"#9e1b1f\", \"#0f7c89\", \"#2f9150\", \"#3352a3\", \"#8a1a7a\"]\n",
    "\n",
    "LABELS = [\n",
    "    \"Total committed ESBs\",\n",
    "    \"Awarded ESBs\",\n",
    "    \"Ordered ESBs\",\n",
    "    \"Delivered or operating ESBs\",\n",
    "    \"Students riding ESBs\",\n",
    "]\n",
    "VALUE_COLS = [\n",
    "    COL_COMMITTED,\n",
    "    COL_AWARDED,\n",
    "    COL_ORDERED,\n",
    "    COL_DELIV_OR_OP,\n",
    "    \"Students riding ESBs (est.)\",\n",
    "]\n",
    "\n",
    "# --- Fonction de calcul des totaux par État ---\n",
    "def compute_totals(state=None):\n",
    "    if state is None or state == \"All states\":\n",
    "        dff = df_district\n",
    "    else:\n",
    "        dff = df_district[df_district[COL_STATE] == state]\n",
    "    vals = [int(dff[c].fillna(0).sum()) for c in VALUE_COLS]\n",
    "    return vals\n",
    "\n",
    "states = [\"All states\"] + sorted([s for s in df_district[COL_STATE].dropna().unique()])\n",
    "\n",
    "# --- Création des badges ---\n",
    "def make_badge_row(values):\n",
    "    x_positions = [0, 1.25, 2.5, 3.75, 5.0]\n",
    "    shapes, annots = [], []\n",
    "    for i, (x, val, label, color) in enumerate(zip(x_positions, values, LABELS, COLORS)):\n",
    "        shapes.append(dict(type=\"rect\", x0=x, x1=x+1.1, y0=0, y1=1,\n",
    "                           line=dict(color=\"rgba(0,0,0,0)\"), fillcolor=color))\n",
    "        shapes.append(dict(type=\"circle\", x0=x-0.05, x1=x+0.15, y0=-0.05, y1=1.05,\n",
    "                           line=dict(color=\"rgba(0,0,0,0)\"), fillcolor=color))\n",
    "        shapes.append(dict(type=\"circle\", x0=x+0.95, x1=x+1.15, y0=-0.05, y1=1.05,\n",
    "                           line=dict(color=\"rgba(0,0,0,0)\"), fillcolor=color))\n",
    "        annots.append(dict(x=x+0.55, y=0.58, text=f\"{val:,.0f}\".replace(\",\", \" \"),\n",
    "                           showarrow=False, font=dict(color=\"white\", size=22, family=\"Arial Black\")))\n",
    "        annots.append(dict(x=x+0.55, y=0.22, text=label, showarrow=False,\n",
    "                           font=dict(color=\"white\", size=12)))\n",
    "    return shapes, annots\n",
    "\n",
    "# --- Données initiales : tous les États ---\n",
    "init_values = compute_totals(\"All states\")\n",
    "shapes, annots = make_badge_row(init_values)\n",
    "\n",
    "fig = go.Figure()\n",
    "fig.add_trace(go.Scatter(x=[0], y=[0], mode=\"markers\", marker_opacity=0))\n",
    "fig.update_layout(\n",
    "    title=dict(text=\"Committed electric school buses, by adoption status (by State)\", x=0.02, y=0.97),\n",
    "    shapes=shapes,\n",
    "    annotations=annots,\n",
    "    xaxis=dict(visible=False, range=[-0.3, 6.2]),\n",
    "    yaxis=dict(visible=False, range=[-0.2, 1.2]),\n",
    "    height=200,\n",
    "    margin=dict(l=20, r=20, t=50, b=20),\n",
    "    plot_bgcolor=\"white\",\n",
    "    paper_bgcolor=\"white\",\n",
    ")\n",
    "\n",
    "# --- Dropdown pour filtrer par État ---\n",
    "updatemenus = [\n",
    "    dict(\n",
    "        type=\"dropdown\",\n",
    "        x=0.02, y=1.22, xanchor=\"left\",\n",
    "        buttons=[\n",
    "            dict(\n",
    "                label=state,\n",
    "                method=\"update\",\n",
    "                args=(\n",
    "                    {\"visible\": [True]},\n",
    "                    dict(\n",
    "                        shapes=make_badge_row(compute_totals(state))[0],\n",
    "                        annotations=make_badge_row(compute_totals(state))[1],\n",
    "                        title=dict(text=f\"Committed electric school buses, by adoption status — {state}\")\n",
    "                    )\n",
    "                )\n",
    "            ) for state in states\n",
    "        ],\n",
    "        direction=\"down\",\n",
    "        showactive=True,\n",
    "        bgcolor=\"white\",\n",
    "        bordercolor=\"#ddd\"\n",
    "    )\n",
    "]\n",
    "fig.update_layout(updatemenus=updatemenus)\n",
    "\n",
    "fig.show()\n",
    "\n"
   ]
  },
  {
   "cell_type": "code",
   "execution_count": 6,
   "id": "70e289e6f7f8f719",
   "metadata": {
    "ExecuteTime": {
     "end_time": "2025-10-17T12:23:08.586186Z",
     "start_time": "2025-10-17T12:23:08.136344Z"
    },
    "collapsed": false,
    "jupyter": {
     "outputs_hidden": false
    }
   },
   "outputs": [
    {
     "name": "stdout",
     "output_type": "stream",
     "text": [
      "\n",
      "Distribution par tranche de diversité raciale (%):\n",
      "       Bin  All school buses  Committed ESBs\n",
      "0    0–10%              18.0            10.1\n",
      "1   10–20%              17.6             8.9\n",
      "2   20–30%              14.2            10.3\n",
      "3   30–50%              22.7            21.9\n",
      "4  50–100%              27.6            48.7\n"
     ]
    },
    {
     "name": "stderr",
     "output_type": "stream",
     "text": [
      "C:\\Users\\samda\\AppData\\Local\\Temp\\ipykernel_13764\\498071006.py:27: SettingWithCopyWarning: \n",
      "A value is trying to be set on a copy of a slice from a DataFrame.\n",
      "Try using .loc[row_indexer,col_indexer] = value instead\n",
      "\n",
      "See the caveats in the documentation: https://pandas.pydata.org/pandas-docs/stable/user_guide/indexing.html#returning-a-view-versus-a-copy\n",
      "  df_district[\"Race bin\"] = pd.cut(\n",
      "C:\\Users\\samda\\AppData\\Local\\Temp\\ipykernel_13764\\498071006.py:41: FutureWarning: The default of observed=False is deprecated and will be changed to True in a future version of pandas. Pass observed=False to retain current behavior or observed=True to adopt the future default and silence this warning.\n",
      "  g = df_district.groupby(\"Race bin\")[weight_col].sum().reindex(labels).fillna(0.0)\n",
      "C:\\Users\\samda\\AppData\\Local\\Temp\\ipykernel_13764\\498071006.py:41: FutureWarning: The default of observed=False is deprecated and will be changed to True in a future version of pandas. Pass observed=False to retain current behavior or observed=True to adopt the future default and silence this warning.\n",
      "  g = df_district.groupby(\"Race bin\")[weight_col].sum().reindex(labels).fillna(0.0)\n"
     ]
    },
    {
     "data": {
      "image/png": "[encoded data removed]",
      "text/plain": [
       "<Figure size 500x600 with 1 Axes>"
      ]
     },
     "metadata": {},
     "output_type": "display_data"
    }
   ],
   "source": [
    "\n",
    "import numpy as np\n",
    "import matplotlib.pyplot as plt\n",
    "\n",
    "# --- Charger les données ---\n",
    "\n",
    "\n",
    "# --- Colonnes utiles ---\n",
    "col_race = \"5b. Percent non-white and/or Hispanic\"\n",
    "col_total_buses = \"2a. Total number of buses\"\n",
    "col_committed = \"3a. Number of ESBs committed \"  # attention : espace à la fin\n",
    "\n",
    "# --- Nettoyage et conversion ---\n",
    "for c in [col_race, col_total_buses, col_committed]:\n",
    "    df_district[c] = pd.to_numeric(df_district[c], errors=\"coerce\")\n",
    "\n",
    "# Si les pourcentages sont sous forme décimale (ex: 0.45), on les remet en % (ex: 45)\n",
    "if df_district[col_race].dropna().median() <= 1.0:\n",
    "    df_district[col_race] = df_district[col_race] * 100.0\n",
    "\n",
    "# Supprimer les lignes sans données raciales\n",
    "df_district = df_district.dropna(subset=[col_race])\n",
    "\n",
    "# --- Définir les tranches de diversité (bins) ---\n",
    "bins = [0, 10, 20, 30, 50, 100]\n",
    "labels = [\"0–10%\", \"10–20%\", \"20–30%\", \"30–50%\", \"50–100%\"]\n",
    "\n",
    "df_district[\"Race bin\"] = pd.cut(\n",
    "    df_district[col_race].clip(0, 100),\n",
    "    bins=bins,\n",
    "    labels=labels,\n",
    "    include_lowest=True,\n",
    "    right=True\n",
    ")\n",
    "\n",
    "# --- Fonction pour calculer la part pondérée ---\n",
    "def weighted_share(weight_col):\n",
    "    \"\"\"\n",
    "    Calcule la distribution (%) des bus selon les tranches de diversité raciale,\n",
    "    pondérée par le nombre de bus (ou ESB) dans chaque district.\n",
    "    \"\"\"\n",
    "    g = df_district.groupby(\"Race bin\")[weight_col].sum().reindex(labels).fillna(0.0)\n",
    "    total = g.sum()\n",
    "    return (g / total * 100.0) if total > 0 else g\n",
    "\n",
    "share_all_buses = weighted_share(col_total_buses)\n",
    "share_committed = weighted_share(col_committed)\n",
    "\n",
    "# --- Vérifier la distribution dans la console ---\n",
    "print(\"\\nDistribution par tranche de diversité raciale (%):\")\n",
    "print(pd.DataFrame({\n",
    "    \"Bin\": labels,\n",
    "    \"All school buses\": share_all_buses.round(1).values,\n",
    "    \"Committed ESBs\": share_committed.round(1).values\n",
    "}))\n",
    "\n",
    "# --- Création du graphique ---\n",
    "fig, ax = plt.subplots(figsize=(5, 6))\n",
    "\n",
    "def draw_stacked(x, shares, label):\n",
    "    bottom = 0\n",
    "    for s in shares:\n",
    "        ax.bar(x, s, bottom=bottom, width=0.5)\n",
    "        if s >= 3:  # afficher le % si le bloc est assez grand\n",
    "            ax.text(x, bottom + s/2, f\"{round(s):.0f}%\", ha=\"center\", va=\"center\", fontsize=9)\n",
    "        bottom += s\n",
    "    ax.text(x, 105, label, ha=\"center\", va=\"bottom\", fontsize=10, fontweight=\"bold\")\n",
    "\n",
    "# Dessiner les deux colonnes\n",
    "draw_stacked(0, share_all_buses.values, \"All school buses\")\n",
    "draw_stacked(1, share_committed.values, \"Committed ESBs\")\n",
    "\n",
    "# Titres et style\n",
    "ax.set_title(\"Race\", fontsize=16, pad=15)\n",
    "ax.text(\n",
    "    0.5, 1.04,\n",
    "    \"Percent of school district residents who identify as\\nnon-white and/or Hispanic (Percent people of color)\",\n",
    "    ha=\"center\", va=\"bottom\", transform=ax.transAxes, fontsize=9\n",
    ")\n",
    "ax.set_xlim(-0.6, 1.6)\n",
    "ax.set_ylim(0, 112)\n",
    "ax.set_xticks([]); ax.set_yticks([])\n",
    "for side in [\"top\", \"right\", \"left\", \"bottom\"]:\n",
    "    ax.spines[side].set_visible(False)\n",
    "\n",
    "plt.tight_layout()\n",
    "\n",
    "# --- Enregistrer le graphique ---\n",
    "plt.savefig(\"kpi2_race_stacked.png\", dpi=200, bbox_inches=\"tight\")\n",
    "plt.show()\n"
   ]
  },
  {
   "cell_type": "code",
   "execution_count": 7,
   "id": "9e0474a5def753ea",
   "metadata": {
    "ExecuteTime": {
     "end_time": "2025-10-17T12:23:08.917529Z",
     "start_time": "2025-10-17T12:23:08.588187Z"
    },
    "collapsed": false,
    "jupyter": {
     "outputs_hidden": false
    }
   },
   "outputs": [
    {
     "name": "stderr",
     "output_type": "stream",
     "text": [
      "C:\\Users\\samda\\AppData\\Local\\Temp\\ipykernel_13764\\1664398076.py:12: SettingWithCopyWarning: \n",
      "A value is trying to be set on a copy of a slice from a DataFrame.\n",
      "Try using .loc[row_indexer,col_indexer] = value instead\n",
      "\n",
      "See the caveats in the documentation: https://pandas.pydata.org/pandas-docs/stable/user_guide/indexing.html#returning-a-view-versus-a-copy\n",
      "  df_district[c] = pd.to_numeric(df_district[c], errors=\"coerce\")\n",
      "C:\\Users\\samda\\AppData\\Local\\Temp\\ipykernel_13764\\1664398076.py:38: FutureWarning: The default of observed=False is deprecated and will be changed to True in a future version of pandas. Pass observed=False to retain current behavior or observed=True to adopt the future default and silence this warning.\n",
      "  g = df_district.groupby(\"Race bin\")[weight_col].sum().reindex(labels).fillna(0.0)\n",
      "C:\\Users\\samda\\AppData\\Local\\Temp\\ipykernel_13764\\1664398076.py:38: FutureWarning: The default of observed=False is deprecated and will be changed to True in a future version of pandas. Pass observed=False to retain current behavior or observed=True to adopt the future default and silence this warning.\n",
      "  g = df_district.groupby(\"Race bin\")[weight_col].sum().reindex(labels).fillna(0.0)\n"
     ]
    },
    {
     "name": "stdout",
     "output_type": "stream",
     "text": [
      "\n",
      "Distribution par tranche de diversité raciale (%):\n",
      "       Bin  All school buses  Committed ESBs\n",
      "0    0–10%              18.0            10.1\n",
      "1   10–20%              17.6             8.9\n",
      "2   20–30%              14.2            10.3\n",
      "3   30–50%              22.7            21.9\n",
      "4  50–100%              27.6            48.7\n"
     ]
    },
    {
     "data": {
      "image/png": "[encoded data removed]",
      "text/plain": [
       "<Figure size 500x600 with 1 Axes>"
      ]
     },
     "metadata": {},
     "output_type": "display_data"
    }
   ],
   "source": [
    "# === KPI 2 : Race Equity Chart (avec df_district) ===\n",
    "\n",
    "\n",
    "\n",
    "# --- Colonnes utiles ---\n",
    "col_race = \"5b. Percent non-white and/or Hispanic\"\n",
    "col_total_buses = \"2a. Total number of buses\"\n",
    "col_committed = \"3a. Number of ESBs committed \"  # attention : espace à la fin\n",
    "\n",
    "# --- Nettoyage ---\n",
    "for c in [col_race, col_total_buses, col_committed]:\n",
    "    df_district[c] = pd.to_numeric(df_district[c], errors=\"coerce\")\n",
    "\n",
    "# Si les % sont exprimés entre 0 et 1, on les remet sur 0–100\n",
    "if df_district[col_race].dropna().median() <= 1.0:\n",
    "    df_district[col_race] = df_district[col_race] * 100.0\n",
    "\n",
    "# Supprimer les lignes sans données raciales\n",
    "df_district = df_district.dropna(subset=[col_race])\n",
    "\n",
    "# --- Tranches de diversité raciale ---\n",
    "bins = [0, 10, 20, 30, 50, 100]\n",
    "labels = [\"0–10%\", \"10–20%\", \"20–30%\", \"30–50%\", \"50–100%\"]\n",
    "df_district[\"Race bin\"] = pd.cut(\n",
    "    df_district[col_race].clip(0, 100),\n",
    "    bins=bins,\n",
    "    labels=labels,\n",
    "    include_lowest=True,\n",
    "    right=True\n",
    ")\n",
    "\n",
    "# --- Fonction pour le calcul pondéré ---\n",
    "def weighted_share(weight_col):\n",
    "    \"\"\"\n",
    "    Calcule la distribution (%) des bus selon les tranches de diversité raciale,\n",
    "    pondérée par le nombre de bus (ou ESB) dans chaque district.\n",
    "    \"\"\"\n",
    "    g = df_district.groupby(\"Race bin\")[weight_col].sum().reindex(labels).fillna(0.0)\n",
    "    total = g.sum()\n",
    "    return (g / total * 100.0) if total > 0 else g\n",
    "\n",
    "share_all_buses = weighted_share(col_total_buses)\n",
    "share_committed = weighted_share(col_committed)\n",
    "\n",
    "# --- Palette de couleurs (du bas vers le haut) ---\n",
    "colors = [\"#f9b233\", \"#c9302c\", \"#2e5aa7\", \"#2c974b\", \"#cccccc\"]\n",
    "# jaune, rouge, bleu, vert, gris clair\n",
    "\n",
    "# --- Vérification console ---\n",
    "print(\"\\nDistribution par tranche de diversité raciale (%):\")\n",
    "print(pd.DataFrame({\n",
    "    \"Bin\": labels,\n",
    "    \"All school buses\": share_all_buses.round(1).values,\n",
    "    \"Committed ESBs\": share_committed.round(1).values\n",
    "}))\n",
    "\n",
    "# --- Création du graphique ---\n",
    "fig, ax = plt.subplots(figsize=(5, 6))\n",
    "\n",
    "def draw_stacked(x, shares, label, colors):\n",
    "    bottom = 0\n",
    "    for s, color in zip(shares, colors):\n",
    "        ax.bar(x, s, bottom=bottom, width=0.5, color=color, edgecolor=\"white\")\n",
    "        if s >= 3:\n",
    "            ax.text(x, bottom + s/2, f\"{round(s):.0f}%\", ha=\"center\", va=\"center\", fontsize=9, color=\"white\")\n",
    "        bottom += s\n",
    "    ax.text(x, 105, label, ha=\"center\", va=\"bottom\", fontsize=10, fontweight=\"bold\")\n",
    "\n",
    "# Dessiner les deux colonnes\n",
    "draw_stacked(0, share_all_buses.values, \"All school buses\", colors)\n",
    "draw_stacked(1, share_committed.values, \"Committed ESBs\", colors)\n",
    "\n",
    "# --- Titre et style ---\n",
    "ax.set_title(\"Race\", fontsize=16, pad=15)\n",
    "ax.text(\n",
    "    0.5, 1.04,\n",
    "    \"Percent of school district residents who identify as\\nnon-white and/or Hispanic (Percent people of color)\",\n",
    "    ha=\"center\", va=\"bottom\", transform=ax.transAxes, fontsize=9\n",
    ")\n",
    "ax.set_xlim(-0.6, 1.6)\n",
    "ax.set_ylim(0, 112)\n",
    "ax.set_xticks([]); ax.set_yticks([])\n",
    "for side in [\"top\", \"right\", \"left\", \"bottom\"]:\n",
    "    ax.spines[side].set_visible(False)\n",
    "\n",
    "plt.tight_layout()\n",
    "\n",
    "# --- Enregistrer ---\n",
    "plt.savefig(\"kpi2_race_stacked_df_district.png\", dpi=200, bbox_inches=\"tight\")\n",
    "plt.show()\n"
   ]
  },
  {
   "cell_type": "code",
   "execution_count": 8,
   "id": "1d84c847325e6d6a",
   "metadata": {
    "ExecuteTime": {
     "end_time": "2025-10-17T12:23:09.181589Z",
     "start_time": "2025-10-17T12:23:08.919531Z"
    },
    "collapsed": false,
    "jupyter": {
     "outputs_hidden": false
    }
   },
   "outputs": [
    {
     "name": "stderr",
     "output_type": "stream",
     "text": [
      "C:\\Users\\samda\\AppData\\Local\\Temp\\ipykernel_13764\\2890329037.py:24: FutureWarning: The default of observed=False is deprecated and will be changed to True in a future version of pandas. Pass observed=False to retain current behavior or observed=True to adopt the future default and silence this warning.\n",
      "  g = df_district.groupby(\"PM2.5 bin\")[weight_col].sum().reindex(labels).fillna(0.0)\n",
      "C:\\Users\\samda\\AppData\\Local\\Temp\\ipykernel_13764\\2890329037.py:24: FutureWarning: The default of observed=False is deprecated and will be changed to True in a future version of pandas. Pass observed=False to retain current behavior or observed=True to adopt the future default and silence this warning.\n",
      "  g = df_district.groupby(\"PM2.5 bin\")[weight_col].sum().reindex(labels).fillna(0.0)\n"
     ]
    },
    {
     "name": "stdout",
     "output_type": "stream",
     "text": [
      "\n",
      "Distribution par tranches PM2.5 (%):\n",
      "  Tranche  All school buses  Committed ESBs\n",
      "0     0–5               4.0             3.9\n",
      "1     5–7              15.9            17.0\n",
      "2     7–9              53.9            51.2\n",
      "3    9–12              26.2            27.9\n",
      "4     12+               0.0             0.0\n"
     ]
    },
    {
     "data": {
      "image/png": "[encoded data removed]",
      "text/plain": [
       "<Figure size 500x600 with 1 Axes>"
      ]
     },
     "metadata": {},
     "output_type": "display_data"
    }
   ],
   "source": [
    "# --- Colonnes utiles dans df_district ---\n",
    "col_pm25         = \"5f. PM2.5 concentration\"\n",
    "col_total_buses  = \"2a. Total number of buses\"\n",
    "col_committed    = \"3a. Number of ESBs committed \"  # (il y a un espace à la fin)\n",
    "\n",
    "# --- Sélection / nettoyage ---\n",
    "for c in [col_pm25, col_total_buses, col_committed]:\n",
    "    df_district[c] = pd.to_numeric(df_district[c], errors=\"coerce\")\n",
    "\n",
    "df_district = df_district.dropna(subset=[col_pm25])\n",
    "\n",
    "# --- Définir les tranches PM2.5 (adapte si tu veux d'autres bornes) ---\n",
    "# Exemple proche du rendu fourni : très faible, faible, modérée, élevée, très élevée\n",
    "bins   = [0, 5, 7, 9, 12, np.inf]\n",
    "labels = [\"0–5\", \"5–7\", \"7–9\", \"9–12\", \"12+\"]\n",
    "\n",
    "df_district[\"PM2.5 bin\"] = pd.cut(\n",
    "    df_district[col_pm25].clip(lower=0),\n",
    "    bins=bins, labels=labels, include_lowest=True, right=False\n",
    ")\n",
    "\n",
    "# --- Fonction de distribution pondérée (% des bus par tranche) ---\n",
    "def weighted_share(weight_col):\n",
    "    g = df_district.groupby(\"PM2.5 bin\")[weight_col].sum().reindex(labels).fillna(0.0)\n",
    "    total = g.sum()\n",
    "    return (g / total * 100.0) if total > 0 else g\n",
    "\n",
    "share_all_buses = weighted_share(col_total_buses)\n",
    "share_committed = weighted_share(col_committed)\n",
    "\n",
    "# --- (Optionnel) Afficher la table de contrôle ---\n",
    "print(\"\\nDistribution par tranches PM2.5 (%):\")\n",
    "print(pd.DataFrame({\n",
    "    \"Tranche\": labels,\n",
    "    \"All school buses\": share_all_buses.round(1).values,\n",
    "    \"Committed ESBs\": share_committed.round(1).values\n",
    "}))\n",
    "\n",
    "# --- Palette (bas -> haut) pour rappeler ton visuel ---\n",
    "# jaune (faible), rouge, bleu, vert, gris (très élevée)\n",
    "colors = [\"#f9b233\", \"#c9302c\", \"#2e5aa7\", \"#2c974b\", \"#cccccc\"]\n",
    "\n",
    "# --- Tracé ---\n",
    "fig, ax = plt.subplots(figsize=(5, 6))\n",
    "\n",
    "def draw_stacked(x, shares, label, colors):\n",
    "    bottom = 0\n",
    "    for s, color in zip(shares, colors):\n",
    "        ax.bar(x, s, bottom=bottom, width=0.5, color=color, edgecolor=\"white\")\n",
    "        if s >= 3:\n",
    "            ax.text(x, bottom + s/2, f\"{round(s):.0f}%\", ha=\"center\", va=\"center\", fontsize=9, color=\"white\")\n",
    "        bottom += s\n",
    "    ax.text(x, 105, label, ha=\"center\", va=\"bottom\", fontsize=10, fontweight=\"bold\")\n",
    "\n",
    "draw_stacked(0, share_all_buses.values, \"All school buses\", colors)\n",
    "draw_stacked(1, share_committed.values, \"Committed ESBs\", colors)\n",
    "\n",
    "# Titres / style (reprend la mise en page du KPI 3)\n",
    "ax.set_title(\"Air Pollution\", fontsize=16, pad=15)\n",
    "ax.text(\n",
    "    0.5, 1.04,\n",
    "    \"School district average annual\\nPM2.5 concentration\",\n",
    "    ha=\"center\", va=\"bottom\", transform=ax.transAxes, fontsize=9\n",
    ")\n",
    "ax.set_xlim(-0.6, 1.6)\n",
    "ax.set_ylim(0, 112)\n",
    "ax.set_xticks([]); ax.set_yticks([])\n",
    "for side in [\"top\", \"right\", \"left\", \"bottom\"]:\n",
    "    ax.spines[side].set_visible(False)\n",
    "\n",
    "plt.tight_layout()\n",
    "plt.savefig(\"kpi3_pm25_stacked_df_district.png\", dpi=200, bbox_inches=\"tight\")\n",
    "plt.show()"
   ]
  },
  {
   "cell_type": "code",
   "execution_count": 9,
   "id": "497d7a62a68f199a",
   "metadata": {
    "ExecuteTime": {
     "end_time": "2025-10-17T12:23:09.479404Z",
     "start_time": "2025-10-17T12:23:09.184602Z"
    },
    "collapsed": false,
    "jupyter": {
     "outputs_hidden": false
    }
   },
   "outputs": [
    {
     "name": "stderr",
     "output_type": "stream",
     "text": [
      "C:\\Users\\samda\\AppData\\Local\\Temp\\ipykernel_13764\\735010008.py:27: FutureWarning: The default of observed=False is deprecated and will be changed to True in a future version of pandas. Pass observed=False to retain current behavior or observed=True to adopt the future default and silence this warning.\n",
      "  g = df_district.groupby(\"Low-income bin\")[weight_col].sum().reindex(labels).fillna(0.0)\n",
      "C:\\Users\\samda\\AppData\\Local\\Temp\\ipykernel_13764\\735010008.py:27: FutureWarning: The default of observed=False is deprecated and will be changed to True in a future version of pandas. Pass observed=False to retain current behavior or observed=True to adopt the future default and silence this warning.\n",
      "  g = df_district.groupby(\"Low-income bin\")[weight_col].sum().reindex(labels).fillna(0.0)\n"
     ]
    },
    {
     "name": "stdout",
     "output_type": "stream",
     "text": [
      "\n",
      "Distribution par tranches de bas revenus (%):\n",
      "   Tranche  All school buses  Committed ESBs\n",
      "0    0–10%               2.1             1.6\n",
      "1   10–20%              19.1            18.2\n",
      "2   20–30%              31.8            24.3\n",
      "3   30–50%              43.9            51.7\n",
      "4  50–100%               3.1             4.3\n"
     ]
    },
    {
     "data": {
      "image/png": "[encoded data removed]",
      "text/plain": [
       "<Figure size 500x600 with 1 Axes>"
      ]
     },
     "metadata": {},
     "output_type": "display_data"
    }
   ],
   "source": [
    "col_low_income   = \"5d. Percent low-income (200% of federal poverty level)\"\n",
    "col_total_buses  = \"2a. Total number of buses\"\n",
    "col_committed    = \"3a. Number of ESBs committed \"   # (attention : espace final)\n",
    "\n",
    "# --- Nettoyage ---\n",
    "for c in [col_low_income, col_total_buses, col_committed]:\n",
    "    df_district[c] = pd.to_numeric(df_district[c], errors=\"coerce\")\n",
    "\n",
    "# Si la variable est sur 0–1, on la remet en pourcentage\n",
    "if df_district[col_low_income].dropna().median() <= 1.0:\n",
    "    df_district[col_low_income] = df_district[col_low_income] * 100.0\n",
    "\n",
    "# On garde les lignes avec info de revenu\n",
    "df_district = df_district.dropna(subset=[col_low_income])\n",
    "\n",
    "# --- Tranches (% de ménages bas revenus) ---\n",
    "bins   = [0, 10, 20, 30, 50, 100]\n",
    "labels = [\"0–10%\", \"10–20%\", \"20–30%\", \"30–50%\", \"50–100%\"]\n",
    "\n",
    "df_district[\"Low-income bin\"] = pd.cut(\n",
    "    df_district[col_low_income].clip(0, 100),\n",
    "    bins=bins, labels=labels, include_lowest=True, right=True\n",
    ")\n",
    "\n",
    "# --- Fonction de distribution pondérée (% des bus par tranche) ---\n",
    "def weighted_share(weight_col):\n",
    "    g = df_district.groupby(\"Low-income bin\")[weight_col].sum().reindex(labels).fillna(0.0)\n",
    "    total = g.sum()\n",
    "    return (g / total * 100.0) if total > 0 else g\n",
    "\n",
    "share_all_buses = weighted_share(col_total_buses)\n",
    "share_committed = weighted_share(col_committed)\n",
    "\n",
    "# --- Palette (bas -> haut), pour matcher tes KPI précédents ---\n",
    "colors = [\"#f9b233\", \"#c9302c\", \"#2e5aa7\", \"#2c974b\", \"#cccccc\"]\n",
    "# jaune, rouge, bleu, vert, gris clair\n",
    "\n",
    "# (Optionnel) Aperçu console\n",
    "print(\"\\nDistribution par tranches de bas revenus (%):\")\n",
    "print(pd.DataFrame({\n",
    "    \"Tranche\": labels,\n",
    "    \"All school buses\": share_all_buses.round(1).values,\n",
    "    \"Committed ESBs\": share_committed.round(1).values\n",
    "}))\n",
    "\n",
    "# --- Tracé ---\n",
    "fig, ax = plt.subplots(figsize=(5, 6))\n",
    "\n",
    "def draw_stacked(x, shares, label, colors):\n",
    "    bottom = 0\n",
    "    for s, color in zip(shares, colors):\n",
    "        ax.bar(x, s, bottom=bottom, width=0.5, color=color, edgecolor=\"white\")\n",
    "        if s >= 3:\n",
    "            ax.text(x, bottom + s/2, f\"{round(s):.0f}%\", ha=\"center\", va=\"center\", fontsize=9, color=\"white\")\n",
    "        bottom += s\n",
    "    ax.text(x, 105, label, ha=\"center\", va=\"bottom\", fontsize=10, fontweight=\"bold\")\n",
    "\n",
    "draw_stacked(0, share_all_buses.values, \"All school buses\", colors)\n",
    "draw_stacked(1, share_committed.values, \"Committed ESBs\", colors)\n",
    "\n",
    "# Titres & style (comme ton exemple)\n",
    "ax.set_title(\"Income\", fontsize=16, pad=15)\n",
    "ax.text(\n",
    "    0.5, 1.04,\n",
    "    \"Percent of school district households that are low-\\nincome (up to twice the federal poverty level)\",\n",
    "    ha=\"center\", va=\"bottom\", transform=ax.transAxes, fontsize=9\n",
    ")\n",
    "ax.set_xlim(-0.6, 1.6)\n",
    "ax.set_ylim(0, 112)\n",
    "ax.set_xticks([]); ax.set_yticks([])\n",
    "for side in [\"top\",\"right\",\"left\",\"bottom\"]:\n",
    "    ax.spines[side].set_visible(False)\n",
    "\n",
    "plt.tight_layout()\n",
    "plt.savefig(\"kpi4_income_lowincome_stacked_df_district.png\", dpi=200, bbox_inches=\"tight\")\n",
    "plt.show()"
   ]
  }
 ],
 "metadata": {
  "kernelspec": {
   "display_name": "Python (cuml_env)",
   "language": "python",
   "name": "cuml_env"
  },
  "language_info": {
   "codemirror_mode": {
    "name": "ipython",
    "version": 3
   },
   "file_extension": ".py",
   "mimetype": "text/x-python",
   "name": "python",
   "nbconvert_exporter": "python",
   "pygments_lexer": "ipython3",
   "version": "3.8.20"
  }
 },
 "nbformat": 4,
 "nbformat_minor": 5
}
